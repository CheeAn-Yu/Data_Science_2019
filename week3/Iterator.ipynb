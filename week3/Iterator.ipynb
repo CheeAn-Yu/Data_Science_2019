{
 "cells": [
  {
   "cell_type": "markdown",
   "metadata": {
    "colab_type": "text",
    "id": "Id3X5sNHft3Y"
   },
   "source": [
    "## Iterator and Iterables\n",
    "\n",
    "Iterators and Interables are:\n",
    "* Very important feature of Python.\n",
    "* Foundation of for loops in Python.\n"
   ]
  },
  {
   "cell_type": "markdown",
   "metadata": {
    "colab_type": "text",
    "id": "bM33I4hH8Ufy"
   },
   "source": [
    "### Definition of Iterable\n",
    "Iterable:\n",
    "A class is an Iterable class if:\n",
    "* It implements a method called `__iter__()`.\n",
    "* When one calls the `__iter__()` on an object of that class, it returns an **iterator**. \n",
    "* Most of built-in containers in Python like: list, tuple, string etc. are iterables.\n",
    "\n",
    "Python has a builtin function iter().\n",
    "* `iter(some_iterable) == some_iterable.__iter__()`\n"
   ]
  },
  {
   "cell_type": "markdown",
   "metadata": {
    "colab_type": "text",
    "id": "MCrB9-mV8fMU"
   },
   "source": [
    "### Definition of Iterator\n",
    "Iterator: A class is an Iterator calss if \n",
    "* It implements iterator two special methods, `__iter__()` and `__next__()`\n",
    "  * These two methods are collectively called the iterator protocol.\n",
    "* When one calls `__iter__()`, the iterator returns itself\n",
    "* When one calls `__next__()`, the iterator returns an object\n",
    "* When one calls `__next__()` and the object decides it is time to end, it raises StopIteration.\n",
    "\n",
    "Python has built-in function iter() and next()\n",
    "* which is just a thin wrapper and call `__iter__()` and `__next__()` directly"
   ]
  },
  {
   "cell_type": "code",
   "execution_count": 0,
   "metadata": {
    "colab": {
     "base_uri": "https://localhost:8080/",
     "height": 86
    },
    "colab_type": "code",
    "executionInfo": {
     "elapsed": 697,
     "status": "ok",
     "timestamp": 1568635702657,
     "user": {
      "displayName": "ML Lo",
      "photoUrl": "",
      "userId": "11511065297651515564"
     },
     "user_tz": -480
    },
    "id": "unm4mXOf8eM8",
    "outputId": "7a69fadf-c926-429f-bfd0-fe3fd191a996"
   },
   "outputs": [
    {
     "name": "stdout",
     "output_type": "stream",
     "text": [
      "3\n",
      "6\n",
      "8\n",
      "9\n"
     ]
    }
   ],
   "source": [
    "# Lists are iterables\n",
    "my_list = [3, 6, 8, 9]\n",
    "for i in my_list:\n",
    "  print(i)\n"
   ]
  },
  {
   "cell_type": "code",
   "execution_count": 1,
   "metadata": {
    "colab": {
     "base_uri": "https://localhost:8080/",
     "height": 87
    },
    "colab_type": "code",
    "executionInfo": {
     "elapsed": 803,
     "status": "ok",
     "timestamp": 1569380929317,
     "user": {
      "displayName": "ML Lo",
      "photoUrl": "",
      "userId": "11511065297651515564"
     },
     "user_tz": -480
    },
    "id": "j683v9zABNI0",
    "outputId": "fb2d8782-666e-4a9d-af8f-a585c666bcc4"
   },
   "outputs": [
    {
     "name": "stdout",
     "output_type": "stream",
     "text": [
      "3\n",
      "6\n",
      "rest of my_iter 8\n",
      "rest of my_iter 9\n"
     ]
    }
   ],
   "source": [
    "my_list = [3, 6, 8, 9]\n",
    "my_iter = my_list.__iter__()\n",
    "print(my_iter.__next__())\n",
    "print(my_iter.__next__())\n",
    "for i in my_iter:\n",
    "  print(\"rest of my_iter\", i)"
   ]
  },
  {
   "cell_type": "code",
   "execution_count": 4,
   "metadata": {
    "colab": {
     "base_uri": "https://localhost:8080/",
     "height": 158
    },
    "colab_type": "code",
    "executionInfo": {
     "elapsed": 745,
     "status": "ok",
     "timestamp": 1569381179359,
     "user": {
      "displayName": "ML Lo",
      "photoUrl": "",
      "userId": "11511065297651515564"
     },
     "user_tz": -480
    },
    "id": "f4MfHIlKfo59",
    "outputId": "49d4f9f7-a64e-44b7-bd7c-097b3d8c02dc"
   },
   "outputs": [
    {
     "name": "stdout",
     "output_type": "stream",
     "text": [
      "The next value from my_iterator is: 3\n",
      "Inside the loop: 6\n",
      "Inside the loop: 9\n",
      "Inside the loop: 12\n",
      "Inside 2nd loop: 3\n",
      "Inside 2nd loop: 6\n",
      "Inside 2nd loop: 9\n",
      "Inside 2nd loop: 12\n"
     ]
    }
   ],
   "source": [
    "my_list = [3, 6, 9, 12]\n",
    "my_iterator = iter(my_list)\n",
    "my_iterator2 = iter(my_list)\n",
    "print(\"The next value from my_iterator is:\", next(my_iterator))\n",
    "\n",
    "for i in my_iterator:\n",
    "  print(\"Inside the loop:\", i)\n",
    "\n",
    "for i in my_iterator2:\n",
    "  print(\"Inside 2nd loop:\", i)"
   ]
  },
  {
   "cell_type": "code",
   "execution_count": 5,
   "metadata": {
    "colab": {
     "base_uri": "https://localhost:8080/",
     "height": 167
    },
    "colab_type": "code",
    "executionInfo": {
     "elapsed": 987,
     "status": "error",
     "timestamp": 1569381413672,
     "user": {
      "displayName": "ML Lo",
      "photoUrl": "",
      "userId": "11511065297651515564"
     },
     "user_tz": -480
    },
    "id": "NvqdJKfQ-wD8",
    "outputId": "143c287b-cbbb-405c-d405-59a87a1644a2"
   },
   "outputs": [
    {
     "ename": "StopIteration",
     "evalue": "ignored",
     "output_type": "error",
     "traceback": [
      "\u001b[0;31m---------------------------------------------------------------------------\u001b[0m",
      "\u001b[0;31mStopIteration\u001b[0m                             Traceback (most recent call last)",
      "\u001b[0;32m<ipython-input-5-26be35a80dc3>\u001b[0m in \u001b[0;36m<module>\u001b[0;34m()\u001b[0m\n\u001b[0;32m----> 1\u001b[0;31m \u001b[0mnext\u001b[0m\u001b[0;34m(\u001b[0m\u001b[0mmy_iterator\u001b[0m\u001b[0;34m)\u001b[0m\u001b[0;34m\u001b[0m\u001b[0;34m\u001b[0m\u001b[0m\n\u001b[0m",
      "\u001b[0;31mStopIteration\u001b[0m: "
     ]
    }
   ],
   "source": [
    "# You will get an StopIteration condition if you call next() again.\n",
    "next(my_iterator)"
   ]
  },
  {
   "cell_type": "markdown",
   "metadata": {
    "colab_type": "text",
    "id": "fi11AXk99I5D"
   },
   "source": [
    "### The real for loop\n",
    "\n",
    "In fact, the for loop in Python\n",
    "```\n",
    "for element in iterable:\n",
    "    # do something with element\n",
    "```\n",
    "Is actually implemented as\n",
    "```\n",
    "# create an iterator object from that iterable\n",
    "iter_obj = iter(iterable)\n",
    "# infinite loop\n",
    "while True:\n",
    "    try:\n",
    "        # get the next item\n",
    "        element = next(iter_obj)\n",
    "        # do something with element\n",
    "    except StopIteration:\n",
    "        # if StopIteration is raised, break from loop\n",
    "        break\n",
    "```\n"
   ]
  },
  {
   "cell_type": "code",
   "execution_count": 6,
   "metadata": {
    "colab": {
     "base_uri": "https://localhost:8080/",
     "height": 123
    },
    "colab_type": "code",
    "executionInfo": {
     "elapsed": 833,
     "status": "ok",
     "timestamp": 1569381516886,
     "user": {
      "displayName": "ML Lo",
      "photoUrl": "",
      "userId": "11511065297651515564"
     },
     "user_tz": -480
    },
    "id": "_EecW0mLAds0",
    "outputId": "697a2129-1ec1-4e43-d1d0-728219a47681"
   },
   "outputs": [
    {
     "name": "stdout",
     "output_type": "stream",
     "text": [
      "Before the loop: 3\n",
      "Inside the loop: 6\n",
      "Inside the loop: 9\n",
      "Inside the loop: 12\n",
      "We have reached the last element of the iterator\n",
      "And we received a StopIteration exception se we terminate\n"
     ]
    }
   ],
   "source": [
    "my_list = [3, 6, 9, 12]\n",
    "\n",
    "my_iterator = iter(my_list)\n",
    "print(\"Before the loop:\", next(my_iterator))\n",
    "\n",
    "while True:\n",
    "  try:\n",
    "    print(\"Inside the loop:\", next(my_iterator))\n",
    "  except StopIteration:\n",
    "    print(\"We have reached the last element of the iterator\")\n",
    "    print(\"And we received a StopIteration exception se we terminate\")\n",
    "    break;\n"
   ]
  },
  {
   "cell_type": "markdown",
   "metadata": {
    "colab_type": "text",
    "id": "7ZUBA-PB_8Dt"
   },
   "source": [
    "## Build your own Iterators/Iterables\n",
    "\n",
    "This is very useful!"
   ]
  },
  {
   "cell_type": "code",
   "execution_count": 9,
   "metadata": {
    "colab": {},
    "colab_type": "code",
    "id": "V7wsh1XgADSP"
   },
   "outputs": [],
   "source": [
    "class FloatLooper:\n",
    "    \"\"\"This class implements an iterator \n",
    "    It returns a floating point number from \"base\" to \"max\", \n",
    "    each time increment by \"inc\"\n",
    "    \"\"\"\n",
    "    def __init__(self, base = 0, inc = 0.1, max = 1):\n",
    "        self.base = base\n",
    "        self.inc = inc\n",
    "        self.max = max\n",
    "\n",
    "    def __iter__(self):\n",
    "#         self.n = 0\n",
    "        return self\n",
    "\n",
    "    def __next__(self):\n",
    "        if self.base <= self.max:\n",
    "            self.base += self.inc\n",
    "            return self.base\n",
    "        else:\n",
    "            raise StopIteration"
   ]
  },
  {
   "cell_type": "code",
   "execution_count": 10,
   "metadata": {
    "colab": {
     "base_uri": "https://localhost:8080/",
     "height": 299
    },
    "colab_type": "code",
    "executionInfo": {
     "elapsed": 850,
     "status": "ok",
     "timestamp": 1569381634980,
     "user": {
      "displayName": "ML Lo",
      "photoUrl": "",
      "userId": "11511065297651515564"
     },
     "user_tz": -480
    },
    "id": "6V6Bv-KpA39-",
    "outputId": "db3f1294-a211-4da3-8249-1d32bf60f996"
   },
   "outputs": [
    {
     "name": "stdout",
     "output_type": "stream",
     "text": [
      "1.5\n",
      "2.0\n",
      "2.5\n",
      "3.0\n",
      "3.5\n",
      "4.0\n",
      "4.5\n",
      "5.0\n",
      "5.5\n",
      "6.0\n",
      "6.5\n",
      "7.0\n",
      "7.5\n",
      "8.0\n",
      "8.5\n",
      "9.0\n",
      "9.5\n"
     ]
    }
   ],
   "source": [
    "for a in FloatLooper(1,0.5,9):\n",
    "  print(a)"
   ]
  },
  {
   "cell_type": "code",
   "execution_count": 11,
   "metadata": {},
   "outputs": [],
   "source": [
    "import random"
   ]
  },
  {
   "cell_type": "code",
   "execution_count": 16,
   "metadata": {},
   "outputs": [
    {
     "name": "stdout",
     "output_type": "stream",
     "text": [
      "8\n"
     ]
    }
   ],
   "source": [
    "a = random.randint(1,10)\n",
    "print(a)"
   ]
  },
  {
   "cell_type": "code",
   "execution_count": 18,
   "metadata": {},
   "outputs": [],
   "source": [
    "def abc():\n",
    "    return 0\n",
    "    print(\"hihihi\")"
   ]
  },
  {
   "cell_type": "code",
   "execution_count": 20,
   "metadata": {},
   "outputs": [
    {
     "data": {
      "text/plain": [
       "0"
      ]
     },
     "execution_count": 20,
     "metadata": {},
     "output_type": "execute_result"
    }
   ],
   "source": [
    "abc()"
   ]
  },
  {
   "cell_type": "code",
   "execution_count": null,
   "metadata": {},
   "outputs": [],
   "source": []
  }
 ],
 "metadata": {
  "colab": {
   "collapsed_sections": [],
   "name": "PyAdvanced2_Iterators.ipynb",
   "provenance": []
  },
  "kernelspec": {
   "display_name": "Python 3",
   "language": "python",
   "name": "python3"
  },
  "language_info": {
   "codemirror_mode": {
    "name": "ipython",
    "version": 3
   },
   "file_extension": ".py",
   "mimetype": "text/x-python",
   "name": "python",
   "nbconvert_exporter": "python",
   "pygments_lexer": "ipython3",
   "version": "3.7.3"
  }
 },
 "nbformat": 4,
 "nbformat_minor": 1
}
