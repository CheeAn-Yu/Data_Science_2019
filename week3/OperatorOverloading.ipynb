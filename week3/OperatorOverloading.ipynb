{
 "cells": [
  {
   "cell_type": "markdown",
   "metadata": {
    "colab_type": "text",
    "id": "fb7M7IQ77VLo"
   },
   "source": [
    "# Operator Overload in Python\n",
    "\n",
    "One of the most interesting feature of Python!\n",
    "\n",
    "The same operator (builtin operator) can behave differently with different types. \n",
    "* For example, the + operator will, perform arithmetic addition on two numbers, merge two lists and concatenate two strings.\n",
    "* For user defined classes, you can define how \"+\", \"-\", \"*\", \"/\", etc. or built-in functions such as print()  behaves for your  own class."
   ]
  },
  {
   "cell_type": "code",
   "execution_count": 4,
   "metadata": {
    "colab": {
     "base_uri": "https://localhost:8080/",
     "height": 55
    },
    "colab_type": "code",
    "executionInfo": {
     "elapsed": 898,
     "status": "ok",
     "timestamp": 1569378756046,
     "user": {
      "displayName": "ML Lo",
      "photoUrl": "",
      "userId": "11511065297651515564"
     },
     "user_tz": -480
    },
    "id": "L6bASJjP7Jrs",
    "outputId": "53befb88-9ce0-467f-8cc0-ae56ed55274f"
   },
   "outputs": [
    {
     "name": "stdout",
     "output_type": "stream",
     "text": [
      "<__main__.Vector object at 0x0000019844F55438> <__main__.Vector object at 0x0000019844F554A8>\n"
     ]
    },
    {
     "data": {
      "text/plain": [
       "True"
      ]
     },
     "execution_count": 4,
     "metadata": {},
     "output_type": "execute_result"
    }
   ],
   "source": [
    "# Operator Overload in Python\n",
    "class Vector:\n",
    "  def __init__(self, x = 0, y = 0):\n",
    "        self.x = x\n",
    "        self.y = y\n",
    "        \n",
    "p1 = Vector(1, 2)\n",
    "p2 = Vector(3, 4)\n",
    "print(p1, p2)\n",
    "a = list()\n",
    "type(a)==list"
   ]
  },
  {
   "cell_type": "code",
   "execution_count": 3,
   "metadata": {
    "colab": {
     "base_uri": "https://localhost:8080/",
     "height": 35
    },
    "colab_type": "code",
    "executionInfo": {
     "elapsed": 732,
     "status": "ok",
     "timestamp": 1569378877047,
     "user": {
      "displayName": "ML Lo",
      "photoUrl": "",
      "userId": "11511065297651515564"
     },
     "user_tz": -480
    },
    "id": "JNA_fasZ86gE",
    "outputId": "ecf0f616-2a0b-44e1-aba3-2ad639cd61de"
   },
   "outputs": [
    {
     "name": "stdout",
     "output_type": "stream",
     "text": [
      "vec(1,2) vec(3,4)\n"
     ]
    }
   ],
   "source": [
    "class Vector:\n",
    "    def __init__(self, x = 0, y = 0):\n",
    "        self.x = x\n",
    "        self.y = y\n",
    "    \n",
    "    def __str__(self):\n",
    "        return \"vec({0},{1})\".format(self.x,self.y)\n",
    "      \n",
    "p1 = Vector(1, 2)\n",
    "p2 = Vector(3, 4)\n",
    "\n",
    "print(p1, p2)"
   ]
  },
  {
   "cell_type": "code",
   "execution_count": 4,
   "metadata": {
    "colab": {
     "base_uri": "https://localhost:8080/",
     "height": 167
    },
    "colab_type": "code",
    "executionInfo": {
     "elapsed": 763,
     "status": "error",
     "timestamp": 1569378953077,
     "user": {
      "displayName": "ML Lo",
      "photoUrl": "",
      "userId": "11511065297651515564"
     },
     "user_tz": -480
    },
    "id": "vJy_YGT69VGn",
    "outputId": "14155cb2-b633-4b72-8e71-45a73971e970"
   },
   "outputs": [
    {
     "ename": "TypeError",
     "evalue": "ignored",
     "output_type": "error",
     "traceback": [
      "\u001b[0;31m---------------------------------------------------------------------------\u001b[0m",
      "\u001b[0;31mTypeError\u001b[0m                                 Traceback (most recent call last)",
      "\u001b[0;32m<ipython-input-4-146b176181fd>\u001b[0m in \u001b[0;36m<module>\u001b[0;34m()\u001b[0m\n\u001b[0;32m----> 1\u001b[0;31m \u001b[0mp3\u001b[0m \u001b[0;34m=\u001b[0m \u001b[0mp1\u001b[0m \u001b[0;34m+\u001b[0m \u001b[0mp2\u001b[0m\u001b[0;34m\u001b[0m\u001b[0;34m\u001b[0m\u001b[0m\n\u001b[0m",
      "\u001b[0;31mTypeError\u001b[0m: unsupported operand type(s) for +: 'Vector' and 'Vector'"
     ]
    }
   ],
   "source": [
    "# Now, let's try to add two vectors\n",
    "p3 = p1 + p2"
   ]
  },
  {
   "cell_type": "code",
   "execution_count": 5,
   "metadata": {
    "colab": {
     "base_uri": "https://localhost:8080/",
     "height": 52
    },
    "colab_type": "code",
    "executionInfo": {
     "elapsed": 712,
     "status": "ok",
     "timestamp": 1569379104608,
     "user": {
      "displayName": "ML Lo",
      "photoUrl": "",
      "userId": "11511065297651515564"
     },
     "user_tz": -480
    },
    "id": "igAX1iAp9dAH",
    "outputId": "83ff424e-7643-4732-e39d-89c1db5c51d3"
   },
   "outputs": [
    {
     "name": "stdout",
     "output_type": "stream",
     "text": [
      "v(1,2) v(3,4)\n",
      "v(4,6)\n"
     ]
    }
   ],
   "source": [
    "# We can re-define the __add__() to overload the \"+\" function\n",
    "class Vector:\n",
    "    def __init__(self, x = 0, y = 0):\n",
    "        self.x = x\n",
    "        self.y = y\n",
    "    \n",
    "    def __str__(self):\n",
    "        return \"v({0},{1})\".format(self.x,self.y)\n",
    "    \n",
    "    def __add__(self,other):\n",
    "        x = self.x + other.x\n",
    "        y = self.y + other.y\n",
    "        return Vector(x,y)\n",
    "      \n",
    "p1 = Vector(1, 2)\n",
    "p2 = Vector(3, 4)\n",
    "print(p1, p2)\n",
    "\n",
    "p3 = p1 + p2\n",
    "print(p3)\n"
   ]
  },
  {
   "cell_type": "code",
   "execution_count": 6,
   "metadata": {
    "colab": {
     "base_uri": "https://localhost:8080/",
     "height": 70
    },
    "colab_type": "code",
    "executionInfo": {
     "elapsed": 501,
     "status": "ok",
     "timestamp": 1569379406272,
     "user": {
      "displayName": "ML Lo",
      "photoUrl": "",
      "userId": "11511065297651515564"
     },
     "user_tz": -480
    },
    "id": "OQtlkVb898tE",
    "outputId": "fbc0878b-bde8-40c7-d3f3-d4c39c57052e"
   },
   "outputs": [
    {
     "name": "stdout",
     "output_type": "stream",
     "text": [
      "v(1,2) v(3,4)\n",
      "v(4,6)\n",
      "11\n"
     ]
    }
   ],
   "source": [
    "# We can also define inner product of vectors\n",
    "class Vector:\n",
    "    def __init__(self, x = 0, y = 0):\n",
    "      self.x = x\n",
    "      self.y = y\n",
    "    \n",
    "    def __str__(self):\n",
    "        return \"v({0},{1})\".format(self.x,self.y)\n",
    "    \n",
    "    def __add__(self,other):\n",
    "      x = self.x + other.x\n",
    "      y = self.y + other.y\n",
    "      return Vector(x,y)\n",
    "      \n",
    "    def __mul__(self, other):\n",
    "      return self.x*other.x + self.y*other.y    \n",
    "      \n",
    "p1 = Vector(1, 2)\n",
    "p2 = Vector(3, 4)\n",
    "print(p1, p2)\n",
    "\n",
    "p3 = p1 + p2\n",
    "iprod = p1*p2\n",
    "print(p3)\n",
    "print(iprod)"
   ]
  },
  {
   "cell_type": "code",
   "execution_count": 7,
   "metadata": {
    "colab": {
     "base_uri": "https://localhost:8080/",
     "height": 52
    },
    "colab_type": "code",
    "executionInfo": {
     "elapsed": 667,
     "status": "ok",
     "timestamp": 1569379556606,
     "user": {
      "displayName": "ML Lo",
      "photoUrl": "",
      "userId": "11511065297651515564"
     },
     "user_tz": -480
    },
    "id": "qWXiLKrF-6fX",
    "outputId": "bceafd20-889b-4612-d347-b06486170066"
   },
   "outputs": [
    {
     "name": "stdout",
     "output_type": "stream",
     "text": [
      "True\n",
      "False\n"
     ]
    }
   ],
   "source": [
    "# Suppose we want to overload the \"<\" comparison with the suitable meaning for vectors\n",
    "# We want to define it as a comparison of the lengths of vectors\n",
    "\n",
    "class Vector:\n",
    "    def __init__(self, x = 0, y = 0):\n",
    "      self.x = x\n",
    "      self.y = y\n",
    "    \n",
    "    def __str__(self):\n",
    "        return \"v({0},{1})\".format(self.x,self.y)\n",
    "    \n",
    "    def __add__(self,other):\n",
    "      x = self.x + other.x\n",
    "      y = self.y + other.y\n",
    "      return Vector(x,y)\n",
    "      \n",
    "    def __mul__(self, other):\n",
    "      return self.x*other.x + self.y*other.y  \n",
    "    \n",
    "    def __lt__(self, other):\n",
    "      #slen = self.x**2 + self.y**2\n",
    "      #olen = other.x**2 + other.y**2\n",
    "      #return slen < olen\n",
    "      return self.x < other.x\n",
    "    \n",
    "p1 = Vector(1, 2)\n",
    "p2 = Vector(3, 4)\n",
    "print(p1 < p2)\n",
    "print(Vector(3,6) < Vector(-5,-7))"
   ]
  },
  {
   "cell_type": "markdown",
   "metadata": {
    "colab_type": "text",
    "id": "r2ASirp8AG3S"
   },
   "source": [
    "Special Functions for Overloading of Arithmetic Operators in Python\n",
    "\n",
    "Operator\t| Expression\t| Internally\n",
    "--- | --- | ---\n",
    "Addition\t| p1 + p2\t| p1.\\__add__(p2)\n",
    "Subtraction |\tp1 - p2\t| p1.\\__sub__(p2)\n",
    "Multiplication |\tp1 * p2\t| p1.\\__mul__(p2)\n",
    "Power\t| p1 ** p2\t| p1.\\__pow__(p2)\n",
    "Division\t| p1 / p2\t| p1.\\__truediv__(p2)\n",
    "Floor Division\t| p1 // p2\t| p1.\\__floordiv__(p2)\n",
    "Remainder (modulo)\t| p1 % p2\t| p1.\\__mod__(p2)\n",
    "Bitwise Left Shift\t| p1 << p2\t| p1.\\__lshift__(p2)\n",
    "Bitwise Right Shift\t| p1 >> p2\t| p1.\\__rshift__(p2)\n",
    "Bitwise AND\t| p1 & p2\t| p1.\\__and__(p2)\n",
    "Bitwise OR\t| p1 (bar) p2\t| p1.\\__or__(p2)\n",
    "Bitwise XOR\t| p1 ^ p2\t| p1.\\__xor__(p2)\n",
    "Bitwise NOT\t| ~p1\t| p1.\\__invert__()"
   ]
  },
  {
   "cell_type": "markdown",
   "metadata": {
    "colab_type": "text",
    "id": "HY4pDrDaDG7X"
   },
   "source": [
    "Special Functions for Overloading of Comparision Operators in Python\n",
    "\n",
    "Operator\t| Expression |\tInternally\n",
    "--- | --- | ---\n",
    "Less than\t|p1 < p2\t| p1.\\__lt__(p2)\n",
    "Less than or equal to\t| p1 <= p2\t| p1.\\__le__(p2)\n",
    "Equal to | p1 == p2\t|p1.\\__eq__(p2)\n",
    "Not equal to\t| p1 != p2\t| p1.\\__ne__(p2)\n",
    "Greater than\t| p1 > p2\t| p1.\\__gt__(p2)\n",
    "Greater than or equal to\t| p1 >= p2\t| p1.\\__ge__(p2)"
   ]
  }
 ],
 "metadata": {
  "colab": {
   "collapsed_sections": [],
   "name": "PyAdvanced1_OperatorOverload.ipynb",
   "provenance": []
  },
  "kernelspec": {
   "display_name": "Python 3",
   "language": "python",
   "name": "python3"
  },
  "language_info": {
   "codemirror_mode": {
    "name": "ipython",
    "version": 3
   },
   "file_extension": ".py",
   "mimetype": "text/x-python",
   "name": "python",
   "nbconvert_exporter": "python",
   "pygments_lexer": "ipython3",
   "version": "3.7.3"
  }
 },
 "nbformat": 4,
 "nbformat_minor": 1
}
