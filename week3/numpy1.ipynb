{
 "cells": [
  {
   "cell_type": "markdown",
   "metadata": {
    "colab_type": "text",
    "id": "-11Fl8JWJAAo"
   },
   "source": [
    "# Numpy\n",
    "\n",
    "* One of the most important package in Python.\n",
    "* Almost become part of the standard Python language, if you want to do scientific and data computing in Python.\n",
    "\n",
    "\n",
    "## What is NumPy\n",
    "\\[ Excerpted From NumPy Website\\]\n",
    "\n",
    "NumPy librariy:\n",
    "* the fundamental package for scientific computing in Python. \n",
    "* provides \n",
    "    * a multidimensional array object, \n",
    "    * various derived objects (such as masked arrays and matrices), and \n",
    "* provides routines for fast operations on arrays, including:\n",
    "    * mathematical, logical, shape manipulation, \n",
    "    * sorting, selecting, \n",
    "    * I/O, \n",
    "    * discrete Fourier transforms, \n",
    "    * basic linear algebra, \n",
    "    * basic statistical operations, \n",
    "    * random simulation \n",
    "    * and much more.\n",
    "  \n",
    "  \n",
    "## Key features\n",
    "* Core of the NumPy package:  **ndarray** object. \n",
    "* **ndarray** features:\n",
    "  * Size fixed at creation\n",
    "    * Unlike Python lists (which can grow dynamically). \n",
    "    * Changing the size of an ndarray will create a new array and delete the original.\n",
    "  * The elements must be of the same data type \n",
    "    * Thus the same size in memory.\n",
    "  * The exception: \n",
    "    * One can have arrays of objects, thereby allowing for arrays of different sized elements.\n",
    "  \n",
    "* **Numpy operations**\n",
    "  * Support advanced mathematical operations, and other types of operations on large numbers of data. \n",
    "  * Such operations typically are executed **more efficiently and with less code** than is possible using Python�䏭 built-in sequences.\n",
    "\n",
    "* **Numpy applications**\n",
    "  * A growing number of scientific and mathematical Python-based packages are using NumPy arrays.  These packages typically:\n",
    "    * support Python-sequence input, and convert such input to NumPy arrays before processing, \n",
    "    * output NumPy arrays. \n",
    "\n",
    "\n",
    "In order to efficiently use much (perhaps even most) of today�䏭 scientific/mathematical Python-based software, just knowing how to use Python�䏭 built-in sequence types is insufficient - one also needs to know how to use NumPy arrays."
   ]
  },
  {
   "cell_type": "markdown",
   "metadata": {
    "colab_type": "text",
    "id": "TU1F4kylZS7u"
   },
   "source": [
    "## Installing numpy\n",
    "\n",
    "You can install numpy by using:\n",
    "* **pip install numpy**\n",
    "\n",
    "Or, you can install a lot of useful packages at once, by typing (this is recomended by scipy.org, theofficial site for numpy.)\n",
    "* **pip install numpy scipy matplotlib ipython jupyter pandas sympy nose**"
   ]
  },
  {
   "cell_type": "markdown",
   "metadata": {
    "colab_type": "text",
    "id": "M5D3q4L8bKMi"
   },
   "source": [
    "## Quick demonstration of NumPy"
   ]
  },
  {
   "cell_type": "code",
   "execution_count": 0,
   "metadata": {
    "colab": {
     "base_uri": "https://localhost:8080/",
     "height": 33
    },
    "colab_type": "code",
    "executionInfo": {
     "elapsed": 631,
     "status": "ok",
     "timestamp": 1568883945286,
     "user": {
      "displayName": "ML Lo",
      "photoUrl": "",
      "userId": "11511065297651515564"
     },
     "user_tz": -480
    },
    "id": "QP8mz1w3I_RG",
    "outputId": "da328223-b074-4f09-d055-da4262d8629b"
   },
   "outputs": [
    {
     "name": "stdout",
     "output_type": "stream",
     "text": [
      "[3, 6, 6, 8, 30]\n"
     ]
    }
   ],
   "source": [
    "# Comparison of plain Python and NumPy\n",
    "\n",
    "# Multiplication of two vectors in plain Python (inner product)\n",
    "a = [1, 2, 3, 4, 5]\n",
    "b = [3, 3, 2, 2, 6]\n",
    "c = []\n",
    "\n",
    "for i in range(len(a)):\n",
    "    c.append(a[i]*b[i])\n",
    "print(c)\n"
   ]
  },
  {
   "cell_type": "code",
   "execution_count": 0,
   "metadata": {
    "colab": {
     "base_uri": "https://localhost:8080/",
     "height": 67
    },
    "colab_type": "code",
    "executionInfo": {
     "elapsed": 618,
     "status": "ok",
     "timestamp": 1568883955892,
     "user": {
      "displayName": "ML Lo",
      "photoUrl": "",
      "userId": "11511065297651515564"
     },
     "user_tz": -480
    },
    "id": "UVdI75DdxTeD",
    "outputId": "b963a482-00c1-4443-a84e-a8e971005777"
   },
   "outputs": [
    {
     "name": "stdout",
     "output_type": "stream",
     "text": [
      "[ 4  5  5  6 11]\n",
      "[-2 -1  1  2 -1]\n",
      "[ 3  6  6  8 30]\n"
     ]
    }
   ],
   "source": [
    "# Multiplication of two vector in NumPy\n",
    "import numpy as np\n",
    "npa = np.array([1, 2, 3, 4, 5])\n",
    "npb = np.array([3, 3, 2, 2, 6])\n",
    "\n",
    "npsum = npa + npb\n",
    "npdiff = npa - npb\n",
    "nppairprod = npa * npb\n",
    "print(npsum)\n",
    "print(npdiff)\n",
    "print(nppairprod)"
   ]
  },
  {
   "cell_type": "code",
   "execution_count": 0,
   "metadata": {
    "colab": {
     "base_uri": "https://localhost:8080/",
     "height": 67
    },
    "colab_type": "code",
    "executionInfo": {
     "elapsed": 596,
     "status": "ok",
     "timestamp": 1568884141521,
     "user": {
      "displayName": "ML Lo",
      "photoUrl": "",
      "userId": "11511065297651515564"
     },
     "user_tz": -480
    },
    "id": "Ov0a-KiGxY_k",
    "outputId": "a1403ef4-1193-4ec2-9c6a-f1ecce3b4e36"
   },
   "outputs": [
    {
     "name": "stdout",
     "output_type": "stream",
     "text": [
      "[ 1  4  9 16 25]\n",
      "[11 12 13 14 15]\n",
      "[ 0.84147098  0.90929743  0.14112001 -0.7568025  -0.95892427]\n"
     ]
    }
   ],
   "source": [
    "print(npa**2)\n",
    "print(npa + 10)\n",
    "print(np.sin(npa))"
   ]
  },
  {
   "cell_type": "markdown",
   "metadata": {
    "colab_type": "text",
    "id": "pRboAZbW4DsJ"
   },
   "source": [
    "## NumPy's Power\n",
    "1. **Vectorization**\n",
    "  * Directly operate in vectors.  No need to write for loops.\n",
    "    * Vectorized code --> more concise and easier to read\n",
    "    * Fewer lines of code --> fewer bugs\n",
    "    * The code more closely resembles standard mathematical notation --> easier to correctly code mathematical constructs\n",
    "  \n",
    "2. **Broadcasting**\n",
    "  * In an operation \"a op b\", numpy automatically extend the operand which is a scalar or an array of smaller size or lower dimension to much the operand of larger size or higher dimension, so as to make the operation making sense.\n",
    "    * Broadcasting is the term used to describe the implicit element-by-element behavior of operations; \n",
    "    * In NumPy, broadcast occurs in all operations, not just arithmetic operations, but logical, bit-wise, functional, etc. \n",
    "    * Moreover, in the example above, a and b could be \n",
    "      * multidimensional arrays of the same shape, \n",
    "      * one scalar and one array, \n",
    "      * two arrays of with different shapes, provided that the smaller array is �𩃀xpandable�� to the shape of the larger in such a way that the resulting broadcast is unambiguous. \n",
    "  * For detailed �禃ules�� of broadcasting see numpy.doc.broadcasting.\n",
    "3. **Indexing**\n",
    "  * Naming or address a particular element, or a segment of data, in a numpy array.\n",
    "    * NumPy�䏭 complete indexing schematics\n",
    "      * Extend Python�䏭 slicing syntax\n",
    "      * Are complicated (their own beast.) \n",
    "    * If you�胩e looking to read more on NumPy indexing, grab some coffee and head to the Indexing section in the NumPy docs."
   ]
  },
  {
   "cell_type": "markdown",
   "metadata": {
    "colab_type": "text",
    "id": "BqQu6Ci86shg"
   },
   "source": [
    "## Getting started with NumPy\n",
    "\n",
    "* NumPy�䏭 array class is called ndarray. \n",
    "  * It is also known by the alias array. \n",
    "  * Note that numpy.array is not the same as the Standard Python Library class array.array, which only handles one-dimensional arrays and offers less functionality. \n",
    "  \n",
    "The more important attributes of an ndarray object are:\n",
    "* ndarray.ndim\n",
    "  * the number of axes (dimensions) of the array.\n",
    "* ndarray.shape\n",
    "  * the dimensions of the array. \n",
    "    * This is a tuple of integers indicating the size of the array in each dimension.\n",
    "    * For a matrix with n rows and m columns, shape will be (n,m). \n",
    "    * The length of the shape tuple is therefore the number of axes, ndim.\n",
    "* ndarray.size\n",
    "  * the total number of elements of the array. \n",
    "  * This is equal to the product of the elements of shape.\n",
    "* ndarray.dtype\n",
    "  * an object describing the type of the elements in the array. \n",
    "  * One can create or specify dtype�䏭 using standard Python types. \n",
    "  * Additionally NumPy provides types of its own. numpy.int32, numpy.int16, and numpy.float64 are some examples.\n",
    "* ndarray.itemsize\n",
    "  * the size in bytes of each element of the array. \n",
    "  * For example, an array of elements of type float64 has itemsize 8 (=64/8), while one of type complex32 has itemsize 4 (=32/8). \n",
    "  * It is equivalent to ndarray.dtype.itemsize.\n",
    "* ndarray.data\n",
    "  * the buffer containing the actual elements of the array. \n",
    "  * Normally, we won�脌 need to use this attribute because we will access the elements in an array using indexing facilities."
   ]
  },
  {
   "cell_type": "code",
   "execution_count": 8,
   "metadata": {
    "colab": {
     "base_uri": "https://localhost:8080/",
     "height": 175
    },
    "colab_type": "code",
    "executionInfo": {
     "elapsed": 682,
     "status": "ok",
     "timestamp": 1569383347663,
     "user": {
      "displayName": "ML Lo",
      "photoUrl": "",
      "userId": "11511065297651515564"
     },
     "user_tz": -480
    },
    "id": "Ptr6OcCwd-aI",
    "outputId": "e86aebea-3ffe-48d2-9236-fade17c570c6"
   },
   "outputs": [
    {
     "name": "stdout",
     "output_type": "stream",
     "text": [
      "The array is:  [[ 0  1  2  3  4]\n",
      " [ 5  6  7  8  9]\n",
      " [10 11 12 13 14]]\n",
      "The shape of the array is:  (3, 5)\n",
      "The number of dimension of the array is:  2\n",
      "The type of array element is:  int64\n",
      "The size of each elements of the array is:  8\n",
      "The size of the array is:  15\n",
      "The type of the array is:  <class 'numpy.ndarray'>\n"
     ]
    }
   ],
   "source": [
    "# Example numpy arrary, and the attributes of the array\n",
    "import numpy as np\n",
    "\n",
    "a = np.arange(15).reshape(3, 5)    # create a 3 x 5 2dimensional array (matrix)\n",
    "print(\"The array is: \", a)\n",
    "print(\"The shape of the array is: \", a.shape)\n",
    "print(\"The number of dimension of the array is: \", a.ndim)\n",
    "print(\"The type of array element is: \", a.dtype.name)\n",
    "print(\"The size of each elements of the array is: \", a.itemsize)\n",
    "print(\"The size of the array is: \", a.size)\n",
    "print(\"The type of the array is: \", type(a))\n"
   ]
  },
  {
   "cell_type": "markdown",
   "metadata": {
    "colab_type": "text",
    "id": "CTjjE9e6fO8T"
   },
   "source": [
    "## Creating numpy arrays\n",
    "\n",
    "numpy.array(): create an array with users specified the elements values"
   ]
  },
  {
   "cell_type": "markdown",
   "metadata": {
    "colab_type": "text",
    "id": "dP6SdCBxy7Bi"
   },
   "source": [
    "### array()\n",
    "Write array elements directly."
   ]
  },
  {
   "cell_type": "code",
   "execution_count": 0,
   "metadata": {
    "colab": {
     "base_uri": "https://localhost:8080/",
     "height": 102
    },
    "colab_type": "code",
    "executionInfo": {
     "elapsed": 765,
     "status": "ok",
     "timestamp": 1556782782351,
     "user": {
      "displayName": "ML Lo",
      "photoUrl": "",
      "userId": "11511065297651515564"
     },
     "user_tz": -480
    },
    "id": "mO_COht-fNwE",
    "outputId": "8732f59d-60cf-46d7-acec-3e06dd6f504d"
   },
   "outputs": [
    {
     "name": "stdout",
     "output_type": "stream",
     "text": [
      "[6 7 8]\n",
      "['apple' 'orange' 'banana']\n",
      "[2.3 3.6 4.7]\n",
      "[[1 3 5]\n",
      " [2 4 6]]\n"
     ]
    }
   ],
   "source": [
    "# Example of numpy array creation\n",
    "import numpy as np\n",
    "\n",
    "b = np.array([6,7,8]) # create an array with values 6, 7, 8\n",
    "c = np.array([\"apple\", \"orange\", \"banana\"])  # you can even create arrays whose values are not numbers\n",
    "af = np.array([2.3, 3.6, 4.7]) # you create floating arrays, too, of course\n",
    "print(b)\n",
    "print(c)\n",
    "print(af)\n",
    "\n",
    "# you can create a new multi-dimensional array by specifying the values directly\n",
    "f = np.array([[1, 3, 5],\n",
    "             [2, 4, 6]])\n",
    "print(f)\n"
   ]
  },
  {
   "cell_type": "markdown",
   "metadata": {
    "colab_type": "text",
    "id": "scR3N0H0hpm5"
   },
   "source": [
    "Specify element data type:\n",
    "\n",
    "You can specify the data type of array element at creation time\n"
   ]
  },
  {
   "cell_type": "code",
   "execution_count": 0,
   "metadata": {
    "colab": {
     "base_uri": "https://localhost:8080/",
     "height": 51
    },
    "colab_type": "code",
    "executionInfo": {
     "elapsed": 798,
     "status": "ok",
     "timestamp": 1556782845356,
     "user": {
      "displayName": "ML Lo",
      "photoUrl": "",
      "userId": "11511065297651515564"
     },
     "user_tz": -480
    },
    "id": "4yniWotlhw90",
    "outputId": "43f910af-e326-4a60-ffaf-135418447616"
   },
   "outputs": [
    {
     "name": "stdout",
     "output_type": "stream",
     "text": [
      "[2. 4. 6.]\n",
      "[2.+0.j 4.+0.j 6.+0.j]\n"
     ]
    }
   ],
   "source": [
    "a = np.array([2, 4, 6], dtype=float)\n",
    "b = np.array([2, 4, 6], dtype=complex) # numpy supports complex numbers\n",
    "\n",
    "print(a)\n",
    "print(b)"
   ]
  },
  {
   "cell_type": "markdown",
   "metadata": {
    "colab_type": "text",
    "id": "j8vIQoZxi6zp"
   },
   "source": [
    "### zeros(), ones(), empty()\n",
    "\n",
    "In data processing, often the values of an array are unknown when the array is created, but its size is known. The values of the array will be filled in later.  NumPy offers several functions to create arrays with initial placeholder content:\n",
    "* numpy.zeros() creates an array full of zeros\n",
    "* numpy.ones() creates an array full of ones\n",
    "* numpy.empty() creates an array whose initial content is random and depends on the state of the memory. \n",
    "* The argument is the shape and dtype(optionaal) of the array.\n",
    "\n",
    "Notes:\n",
    "  * These minimize the necessity of growing arrays, which is an expensive operation.\n",
    "   * By default, the dtype of the created array is float64."
   ]
  },
  {
   "cell_type": "code",
   "execution_count": 9,
   "metadata": {
    "colab": {
     "base_uri": "https://localhost:8080/",
     "height": 228
    },
    "colab_type": "code",
    "executionInfo": {
     "elapsed": 930,
     "status": "ok",
     "timestamp": 1569383455102,
     "user": {
      "displayName": "ML Lo",
      "photoUrl": "",
      "userId": "11511065297651515564"
     },
     "user_tz": -480
    },
    "id": "ikuZRY8FjJso",
    "outputId": "936ef905-fc56-430b-b869-fe10e1325eb4"
   },
   "outputs": [
    {
     "name": "stdout",
     "output_type": "stream",
     "text": [
      "[[0. 0. 0. 0.]\n",
      " [0. 0. 0. 0.]\n",
      " [0. 0. 0. 0.]]\n",
      "[[[1 1 1 1]\n",
      "  [1 1 1 1]\n",
      "  [1 1 1 1]]\n",
      "\n",
      " [[1 1 1 1]\n",
      "  [1 1 1 1]\n",
      "  [1 1 1 1]]]\n",
      "[[2.46331250e-316 8.39911598e-323 2.90250257e+127]\n",
      " [6.19362300e+175 7.50189709e+247 5.38891779e+228]]\n"
     ]
    }
   ],
   "source": [
    "a = np.zeros( (3,4) )\n",
    "b = np.ones( (2,3,4), dtype=np.int16 ) \n",
    "c = np.empty( (2,3) ) \n",
    "\n",
    "print(a)\n",
    "print(b)\n",
    "print(c)"
   ]
  },
  {
   "cell_type": "markdown",
   "metadata": {
    "colab_type": "text",
    "id": "Hbjj1kTykJAw"
   },
   "source": [
    "### arange()\n",
    "numpy.arange(): \n",
    "* create an array and initialize it with sequential numbers\n",
    "* Usually the arange() call is followed by a reshape() call.\n"
   ]
  },
  {
   "cell_type": "code",
   "execution_count": 10,
   "metadata": {
    "colab": {
     "base_uri": "https://localhost:8080/",
     "height": 123
    },
    "colab_type": "code",
    "executionInfo": {
     "elapsed": 668,
     "status": "ok",
     "timestamp": 1569383487425,
     "user": {
      "displayName": "ML Lo",
      "photoUrl": "",
      "userId": "11511065297651515564"
     },
     "user_tz": -480
    },
    "id": "kFvES_GB30DD",
    "outputId": "91d943e4-64d7-4ac1-c43f-14ba49001796"
   },
   "outputs": [
    {
     "name": "stdout",
     "output_type": "stream",
     "text": [
      "[ 0  1  2  3  4  5  6  7  8  9 10 11]\n",
      "[[ 0  1  2  3]\n",
      " [ 4  5  6  7]\n",
      " [ 8  9 10 11]]\n",
      "[[ 0  1  2  3  4  5]\n",
      " [ 6  7  8  9 10 11]]\n"
     ]
    }
   ],
   "source": [
    "a = np.arange(12)  # create an array with 12 elements\n",
    "print(a)\n",
    "\n",
    "# you can also create multi-dimensional arrays\n",
    "d = np.arange(12).reshape(3,4)\n",
    "# you can create a new multi-dimensional array by reshaping an old array\n",
    "e = d.reshape(2,6)\n",
    "print(d)\n",
    "print(e)"
   ]
  },
  {
   "cell_type": "code",
   "execution_count": 0,
   "metadata": {
    "colab": {
     "base_uri": "https://localhost:8080/",
     "height": 272
    },
    "colab_type": "code",
    "executionInfo": {
     "elapsed": 707,
     "status": "ok",
     "timestamp": 1556783014028,
     "user": {
      "displayName": "ML Lo",
      "photoUrl": "",
      "userId": "11511065297651515564"
     },
     "user_tz": -480
    },
    "id": "VvFGXIfw3F7W",
    "outputId": "ebdc8164-7c21-4321-df88-1a958ea4c70e"
   },
   "outputs": [
    {
     "name": "stdout",
     "output_type": "stream",
     "text": [
      "[[[ 0  1  2]\n",
      "  [ 3  4  5]\n",
      "  [ 6  7  8]\n",
      "  [ 9 10 11]]\n",
      "\n",
      " [[12 13 14]\n",
      "  [15 16 17]\n",
      "  [18 19 20]\n",
      "  [21 22 23]]\n",
      "\n",
      " [[24 25 26]\n",
      "  [27 28 29]\n",
      "  [30 31 32]\n",
      "  [33 34 35]]]\n",
      "(3, 4, 3)\n"
     ]
    }
   ],
   "source": [
    "# Example of NumPy ndarray\n",
    "# forming a 3-dimensional array with 36 elements\n",
    "arr = np.arange(36).reshape(3, 4, 3)\n",
    "print(arr)\n",
    "\n",
    "# describe the array's shape\n",
    "print(arr.shape)"
   ]
  },
  {
   "cell_type": "markdown",
   "metadata": {
    "colab_type": "text",
    "id": "XLcvILWg3sq1"
   },
   "source": [
    "####Advanced use of numpy.arange()\n",
    "numpy.arange() behaves like the array version of the range() function.  You can supply 1, 2, or 3 arguments."
   ]
  },
  {
   "cell_type": "code",
   "execution_count": 11,
   "metadata": {
    "colab": {
     "base_uri": "https://localhost:8080/",
     "height": 70
    },
    "colab_type": "code",
    "executionInfo": {
     "elapsed": 652,
     "status": "ok",
     "timestamp": 1569383522717,
     "user": {
      "displayName": "ML Lo",
      "photoUrl": "",
      "userId": "11511065297651515564"
     },
     "user_tz": -480
    },
    "id": "RfN4GtWVkN48",
    "outputId": "e6a37ae2-5a56-4657-8fbb-50892cb3af35"
   },
   "outputs": [
    {
     "name": "stdout",
     "output_type": "stream",
     "text": [
      "[2 3 4 5 6 7]\n",
      "[10 16 22 28 34]\n",
      "[0.  0.4 0.8 1.2 1.6]\n"
     ]
    }
   ],
   "source": [
    "q = np.arange(2,8)\n",
    "print(q)\n",
    "\n",
    "a = np.arange( 10, 40, 6 )  # create an array from 10 to \"before 30\", with a distance of 5\n",
    "print(a)\n",
    "\n",
    "b = np.arange( 0, 2, 0.4 )\n",
    "print(b)"
   ]
  },
  {
   "cell_type": "markdown",
   "metadata": {
    "colab_type": "text",
    "id": "n5zKztyhlXbh"
   },
   "source": [
    "### linespace()\n",
    "numpy.arange()\n",
    "* create an array of numbers with equal space\n",
    "* Input: start number, end number, number of end-points\n",
    "* o do that, we can use numpy.linespace()"
   ]
  },
  {
   "cell_type": "code",
   "execution_count": 0,
   "metadata": {
    "colab": {
     "base_uri": "https://localhost:8080/",
     "height": 84
    },
    "colab_type": "code",
    "executionInfo": {
     "elapsed": 1458,
     "status": "ok",
     "timestamp": 1568883470024,
     "user": {
      "displayName": "ML Lo",
      "photoUrl": "",
      "userId": "11511065297651515564"
     },
     "user_tz": -480
    },
    "id": "pVOtqrr-lq3T",
    "outputId": "cdc20f1a-41a9-454d-a96f-d81ff42e5b9e"
   },
   "outputs": [
    {
     "name": "stdout",
     "output_type": "stream",
     "text": [
      "[3.  3.2 3.4 3.6 3.8 4.  4.2 4.4 4.6 4.8 5.  5.2 5.4 5.6 5.8 6. ]\n",
      "[0.         0.62831853 1.25663706 1.88495559 2.51327412 3.14159265\n",
      " 3.76991118 4.39822972 5.02654825 5.65486678 6.28318531]\n",
      "[0.   0.25 0.5  0.75 1.  ]\n"
     ]
    }
   ],
   "source": [
    "import numpy as np\n",
    "\n",
    "a = np.linspace( 3, 6, 16 )    # from 3 to 6, create 16 element with equal space in between elements\n",
    "b = np.linspace(0, 2*np.pi, 11)  # from 0 to 2*pi, create 11 element with equal space in between elements\n",
    "c = np.linspace(0, 1, 5)\n",
    "print(a)\n",
    "print(b)\n",
    "print(c)"
   ]
  },
  {
   "cell_type": "markdown",
   "metadata": {
    "colab_type": "text",
    "id": "C9h1QnxHnzJq"
   },
   "source": [
    "### The random family of function\n",
    "create array usig numpy.random class\n",
    "  * numpy.random.choice(): for labeled data and other data\n",
    "  * numpy.random.randit(): for integers\n",
    "  * numpy.random.random(): for floating points"
   ]
  },
  {
   "cell_type": "code",
   "execution_count": 12,
   "metadata": {
    "colab": {
     "base_uri": "https://localhost:8080/",
     "height": 158
    },
    "colab_type": "code",
    "executionInfo": {
     "elapsed": 682,
     "status": "ok",
     "timestamp": 1569383582176,
     "user": {
      "displayName": "ML Lo",
      "photoUrl": "",
      "userId": "11511065297651515564"
     },
     "user_tz": -480
    },
    "id": "OyDt8AyX8nwe",
    "outputId": "564b46e7-77f1-4245-df92-b248c9cd717c"
   },
   "outputs": [
    {
     "name": "stdout",
     "output_type": "stream",
     "text": [
      "['sad' 'happy' 'sad' 'happy' 'sad' 'happy' 'sad' 'happy' 'happy' 'sad'\n",
      " 'happy' 'sad' 'happy' 'happy' 'happy' 'sad' 'happy' 'happy' 'happy' 'sad']\n",
      "['apple' 'orange' 'apple' 'apple' 'apple' 'orange' 'orange' 'apple'\n",
      " 'orange' 'apple']\n",
      "[ True  True False  True False]\n",
      "[8 7 5 8 7 9 6 7 6 5]\n",
      "[[0.56915293 0.64959807 0.94676303]\n",
      " [0.07810691 0.07490824 0.99666366]]\n"
     ]
    }
   ],
   "source": [
    "import numpy as np\n",
    "\n",
    "np.random.seed(444)\n",
    "\n",
    "x = np.random.choice([\"happy\",\"sad\"], size=20)\n",
    "y = np.random.choice([\"apple\", \"banana\", \"orange\"], size=10)\n",
    "z = np.random.choice([True, False], size=5)\n",
    "w = np.random.randint(5, 10, 10)  # between 5 and \"before 10\", create 10 random numbers\n",
    "v = np.random.random((2,3))  # create random floating number in [0, 1) to fill the shape (2,3)\n",
    "print(x)\n",
    "print(y)\n",
    "print(z)\n",
    "print(w)\n",
    "print(v)"
   ]
  },
  {
   "cell_type": "markdown",
   "metadata": {
    "colab_type": "text",
    "id": "Kp4-q2A8qec3"
   },
   "source": []
  },
  {
   "cell_type": "markdown",
   "metadata": {
    "colab_type": "text",
    "id": "yWh1LiwNzeDJ"
   },
   "source": [
    "## ndarray operations"
   ]
  },
  {
   "cell_type": "markdown",
   "metadata": {
    "colab_type": "text",
    "id": "xuKtFuQvqegW"
   },
   "source": [
    "### Basic arithmetic operations\n",
    "\n",
    "When **applying** arithmetic operators on two arrays, numpy applies the operation on each pair of corresponding elements (elementwise,) and creates a new array to hold the result array."
   ]
  },
  {
   "cell_type": "code",
   "execution_count": 13,
   "metadata": {
    "colab": {
     "base_uri": "https://localhost:8080/",
     "height": 87
    },
    "colab_type": "code",
    "executionInfo": {
     "elapsed": 662,
     "status": "ok",
     "timestamp": 1569383619769,
     "user": {
      "displayName": "ML Lo",
      "photoUrl": "",
      "userId": "11511065297651515564"
     },
     "user_tz": -480
    },
    "id": "FZWhX2FB7rgn",
    "outputId": "3f855c5a-68e1-41f7-9bc7-e913c7756345"
   },
   "outputs": [
    {
     "name": "stdout",
     "output_type": "stream",
     "text": [
      "[11 22 33 44]\n",
      "[ 9 18 27 36]\n",
      "[ 10  40  90 160]\n",
      "[10. 10. 10. 10.]\n"
     ]
    }
   ],
   "source": [
    "import numpy as np\n",
    "\n",
    "# two arrays\n",
    "a = np.array( [10, 20, 30, 40] )\n",
    "b = np.array( [1, 2, 3, 4] )\n",
    "\n",
    "c = a + b\n",
    "d = a - b\n",
    "e = a * b\n",
    "f = a / b\n",
    "\n",
    "print(c)\n",
    "print(d)\n",
    "print(e)\n",
    "print(f)"
   ]
  },
  {
   "cell_type": "code",
   "execution_count": 15,
   "metadata": {
    "colab": {
     "base_uri": "https://localhost:8080/",
     "height": 87
    },
    "colab_type": "code",
    "executionInfo": {
     "elapsed": 652,
     "status": "ok",
     "timestamp": 1569383793907,
     "user": {
      "displayName": "ML Lo",
      "photoUrl": "",
      "userId": "11511065297651515564"
     },
     "user_tz": -480
    },
    "id": "UrOp8Xby8P9p",
    "outputId": "1b0603c2-8aee-4d97-8967-e400422070f9"
   },
   "outputs": [
    {
     "name": "stdout",
     "output_type": "stream",
     "text": [
      "[ 1  4  9 16]\n",
      "[4 5 6 7]\n",
      "[False  True False  True]\n",
      "[False False  True  True]\n"
     ]
    }
   ],
   "source": [
    "# an array and a constant\n",
    "\n",
    "a = np.array([1,2,3,4])\n",
    "b = a**2\n",
    "c = a + 3\n",
    "print(b)\n",
    "print(c)\n",
    "\n",
    "d = np.array([2,2,4,4])\n",
    "e = (a==d)\n",
    "print(e)\n",
    "\n",
    "f = a > 2.5\n",
    "print(f)"
   ]
  },
  {
   "cell_type": "markdown",
   "metadata": {
    "colab_type": "text",
    "id": "tPKyR-Lt-K4W"
   },
   "source": [
    "#### += and \\*= operators\n",
    "Operations like  += and \\*= modify arrays in place rather than create a new ones.\n",
    "\n",
    "However, the value must be integer.   An error will be occur if the value is not integer."
   ]
  },
  {
   "cell_type": "code",
   "execution_count": 16,
   "metadata": {
    "colab": {
     "base_uri": "https://localhost:8080/",
     "height": 52
    },
    "colab_type": "code",
    "executionInfo": {
     "elapsed": 760,
     "status": "ok",
     "timestamp": 1569383842360,
     "user": {
      "displayName": "ML Lo",
      "photoUrl": "",
      "userId": "11511065297651515564"
     },
     "user_tz": -480
    },
    "id": "3qw4UZLvSLmY",
    "outputId": "a3cc75f9-39df-4544-a043-d27da14fe49d"
   },
   "outputs": [
    {
     "name": "stdout",
     "output_type": "stream",
     "text": [
      "[5 7 9]\n",
      "[12 15 18]\n"
     ]
    }
   ],
   "source": [
    "import numpy as np\n",
    "a = np.array([1,2,3])\n",
    "b = np.array([4,5,6])\n",
    "\n",
    "a += b\n",
    "print(a)\n",
    "\n",
    "b *= 3\n",
    "print(b)"
   ]
  },
  {
   "cell_type": "code",
   "execution_count": 0,
   "metadata": {
    "colab": {},
    "colab_type": "code",
    "id": "ycmr4w8hSso6"
   },
   "outputs": [],
   "source": [
    "b = np.array([1.5,2.5,3.5])\n",
    "a += b  # The value used by \"+=\", etc. must be an integer.  This will cause TypeError"
   ]
  },
  {
   "cell_type": "markdown",
   "metadata": {
    "colab_type": "text",
    "id": "xszsjwO-TQOt"
   },
   "source": [
    "When operating with arrays of different types, the type of the resulting array corresponds to the more general or precise one (a behavior known as upcasting).\n",
    "\n",
    "This is similar in most programming languages."
   ]
  },
  {
   "cell_type": "markdown",
   "metadata": {
    "colab_type": "text",
    "id": "dZ0iLk-x9CC7"
   },
   "source": [
    "### Element pair product vs. matrix product\n",
    "Unlike in many matrix languages, the product operator * operates elementwise in NumPy arrays. The matrix product can be performed using the @ operator (in python >=3.5) or the dot function or method:\n"
   ]
  },
  {
   "cell_type": "code",
   "execution_count": 0,
   "metadata": {
    "colab": {
     "base_uri": "https://localhost:8080/",
     "height": 119
    },
    "colab_type": "code",
    "executionInfo": {
     "elapsed": 682,
     "status": "ok",
     "timestamp": 1556783838452,
     "user": {
      "displayName": "ML Lo",
      "photoUrl": "",
      "userId": "11511065297651515564"
     },
     "user_tz": -480
    },
    "id": "sGCPsjlr9ARd",
    "outputId": "494c06d1-7bf5-4c20-a439-4c69090a4cf0"
   },
   "outputs": [
    {
     "name": "stdout",
     "output_type": "stream",
     "text": [
      "[[2 0]\n",
      " [0 4]]\n",
      "[[5 4]\n",
      " [3 4]]\n",
      "[[5 4]\n",
      " [3 4]]\n"
     ]
    }
   ],
   "source": [
    "A = np.array([[1,1],\n",
    "             [0,1]])\n",
    "B = np.array([[2,0],\n",
    "             [3,4]])\n",
    "C = A * B      # eementwise product\n",
    "D = A @ B      # matrix product\n",
    "E = A.dot(B)   # matrix product\n",
    "\n",
    "print(C)\n",
    "print(D)\n",
    "print(E)"
   ]
  },
  {
   "cell_type": "markdown",
   "metadata": {
    "colab_type": "text",
    "id": "B_d3ymA4Tynu"
   },
   "source": [
    "### Numpy built-in unary functions\n",
    "\n",
    "* sum()\n",
    "* max()\n",
    "* min()\n",
    "\n",
    "They can work on specific \"axis\"!"
   ]
  },
  {
   "cell_type": "code",
   "execution_count": 5,
   "metadata": {
    "colab": {
     "base_uri": "https://localhost:8080/",
     "height": 68
    },
    "colab_type": "code",
    "executionInfo": {
     "elapsed": 719,
     "status": "ok",
     "timestamp": 1556783951044,
     "user": {
      "displayName": "ML Lo",
      "photoUrl": "",
      "userId": "11511065297651515564"
     },
     "user_tz": -480
    },
    "id": "2tnYNdyUUBYD",
    "outputId": "b2a4f2d9-6afc-48aa-fb92-d16705931478"
   },
   "outputs": [
    {
     "name": "stdout",
     "output_type": "stream",
     "text": [
      "37.4\n",
      "[ 7.3  7.7 15.6  6.8]\n",
      "12.6\n",
      "1.0\n"
     ]
    }
   ],
   "source": [
    "import numpy as np\n",
    "a = np.array([[6.3, 5.7, 12.6, 2.8],[1,2,3,4]])\n",
    "\n",
    "# very convenient and power funtions\n",
    "print(a.sum())\n",
    "print(sum(a))\n",
    "print(a.max())\n",
    "print(a.min())"
   ]
  },
  {
   "cell_type": "code",
   "execution_count": 0,
   "metadata": {
    "colab": {
     "base_uri": "https://localhost:8080/",
     "height": 201
    },
    "colab_type": "code",
    "executionInfo": {
     "elapsed": 841,
     "status": "ok",
     "timestamp": 1555639536164,
     "user": {
      "displayName": "ML Lo",
      "photoUrl": "",
      "userId": "11511065297651515564"
     },
     "user_tz": -480
    },
    "id": "vKwU-erbUSlW",
    "outputId": "ef37206c-6c5e-49e2-cf8a-007b4dd77015"
   },
   "outputs": [
    {
     "name": "stdout",
     "output_type": "stream",
     "text": [
      "[[ 0  1  2  3]\n",
      " [ 4  5  6  7]\n",
      " [ 8  9 10 11]]\n",
      "66\n",
      "[12 15 18 21]\n",
      "[ 6 22 38]\n",
      "[ 3  7 11]\n",
      "Cumulative sum along each row ---\n",
      " [[ 0  1  3  6]\n",
      " [ 4  9 15 22]\n",
      " [ 8 17 27 38]]\n"
     ]
    }
   ],
   "source": [
    "b = np.arange(12).reshape(3,4)\n",
    "print(b)\n",
    "\n",
    "print(b.sum())\n",
    "\n",
    "print(b.sum(axis=0))\n",
    "print(b.sum(axis=1))\n",
    "\n",
    "print(b.max(axis=1))\n",
    "\n",
    "\n",
    "print(\"Cumulative sum along each row ---\\n\", b.cumsum(axis=1))   "
   ]
  },
  {
   "cell_type": "markdown",
   "metadata": {
    "colab_type": "text",
    "id": "ysfuK7X2WGPH"
   },
   "source": [
    "## Numpy universal functions\n",
    "\n",
    "NumPy provides familiar mathematical functions such as sin, cos, and exp. In NumPy, these are called �崬niversal functions��(ufunc). Within NumPy, these functions operate elementwise on an array, producing an array as output.\n",
    "\n"
   ]
  },
  {
   "cell_type": "code",
   "execution_count": 13,
   "metadata": {
    "colab": {
     "base_uri": "https://localhost:8080/",
     "height": 87
    },
    "colab_type": "code",
    "executionInfo": {
     "elapsed": 691,
     "status": "ok",
     "timestamp": 1569384068745,
     "user": {
      "displayName": "ML Lo",
      "photoUrl": "",
      "userId": "11511065297651515564"
     },
     "user_tz": -480
    },
    "id": "WebCzUe2WSyA",
    "outputId": "eb5407bc-460f-483f-83e3-7163ca78af60"
   },
   "outputs": [
    {
     "name": "stdout",
     "output_type": "stream",
     "text": [
      "[ 2.71828183  7.3890561  20.08553692 54.59815003]\n",
      "[1.         1.41421356 1.73205081 2.        ]\n",
      "[ 0.84147098  0.90929743  0.14112001 -0.7568025 ]\n",
      "[2 3 5 6]\n",
      "[2 3 5 6]\n"
     ]
    }
   ],
   "source": [
    "a = np.array([1,2,3,4])\n",
    "print(np.exp(a))\n",
    "print(np.sqrt(a))\n",
    "print(np.sin(a))\n",
    "\n",
    "b = np.array([1,1,2,2])\n",
    "print(np.add(a,b))\n",
    "print(a+b)\n"
   ]
  },
  {
   "cell_type": "markdown",
   "metadata": {
    "colab_type": "text",
    "id": "dpyEuFSfXJtA"
   },
   "source": [
    "## Indexing and slicing\n",
    "\n",
    "One-dimensional numpy arrays:  similar to python lists.\n",
    "\n",
    "Multi-dimensional indexing and slicing is powerful."
   ]
  },
  {
   "cell_type": "code",
   "execution_count": 14,
   "metadata": {
    "colab": {
     "base_uri": "https://localhost:8080/",
     "height": 100
    },
    "colab_type": "code",
    "executionInfo": {
     "elapsed": 578,
     "status": "ok",
     "timestamp": 1568885263661,
     "user": {
      "displayName": "ML Lo",
      "photoUrl": "",
      "userId": "11511065297651515564"
     },
     "user_tz": -480
    },
    "id": "_fTUkAz7YTWa",
    "outputId": "0cadbbc3-eb30-4e33-88ac-f843ed57aba0"
   },
   "outputs": [
    {
     "name": "stdout",
     "output_type": "stream",
     "text": [
      "[[ 0  1  2  3]\n",
      " [10 11 12 13]\n",
      " [20 21 22 23]\n",
      " [30 31 32 33]\n",
      " [40 41 42 43]]\n"
     ]
    }
   ],
   "source": [
    "import numpy as np\n",
    "# Let's first create a 2-d array that is easy to see\n",
    "# function f() will used in 2-d array creation.\n",
    "def f(x,y):\n",
    "  return 10*x+y\n",
    "\n",
    "# the position of each cell will be given to f(), return value will be put in the cell\n",
    "b = np.fromfunction(f,(5,4), dtype=int)  \n",
    "print(b)\n"
   ]
  },
  {
   "cell_type": "code",
   "execution_count": 0,
   "metadata": {
    "colab": {
     "base_uri": "https://localhost:8080/",
     "height": 117
    },
    "colab_type": "code",
    "executionInfo": {
     "elapsed": 610,
     "status": "ok",
     "timestamp": 1568885385779,
     "user": {
      "displayName": "ML Lo",
      "photoUrl": "",
      "userId": "11511065297651515564"
     },
     "user_tz": -480
    },
    "id": "h4Ucs3PF2TpH",
    "outputId": "9d365a45-71f3-499f-8d7f-46b9e33a237a"
   },
   "outputs": [
    {
     "name": "stdout",
     "output_type": "stream",
     "text": [
      "32\n",
      "[ 1 11 21 31 41]\n",
      "[ 1 11 21 31 41]\n",
      "[20 21 22 23]\n",
      "[[12 13]\n",
      " [22 23]]\n"
     ]
    }
   ],
   "source": [
    "# Index scheme similar to regular python\n",
    "print(b[3,2])  # cell at row 3 and column 2\n",
    "print(b[0:5, 1])  # all of column 1\n",
    "print(b[:, 1])    # same as above, \n",
    "print(b[2, :])    # all of row 2\n",
    "print(b[1:3, 2:4])   # a sub-matrix consisting of the intersection of row 1, 2 and column 2, 3\n"
   ]
  },
  {
   "cell_type": "code",
   "execution_count": 0,
   "metadata": {
    "colab": {},
    "colab_type": "code",
    "id": "JQcHMjjC2rgY"
   },
   "outputs": [],
   "source": [
    "# numpy indexing\n",
    "print(b[0])       # when only 1 index, it means the whole row.  The first row\n",
    "print(b[-1])      # The last row \n",
    "# \"...\" means filling in as many colons \":\" as needed.\n",
    "print(b[-1,...])  # Same as above, the last rwo\n",
    "print(b[...,0])   # The first column \n",
    "print(b[...,1])   # The 2nd column"
   ]
  },
  {
   "cell_type": "markdown",
   "metadata": {
    "colab_type": "text",
    "id": "NPTedQwIcF9R"
   },
   "source": [
    "## Iterating over numpy arrays\n",
    "\n",
    "Iterate over a multi-dimensional array:\n",
    "* One rows at a time.\n",
    "* One element at a time."
   ]
  },
  {
   "cell_type": "code",
   "execution_count": 0,
   "metadata": {
    "colab": {
     "base_uri": "https://localhost:8080/",
     "height": 100
    },
    "colab_type": "code",
    "executionInfo": {
     "elapsed": 587,
     "status": "ok",
     "timestamp": 1568885529814,
     "user": {
      "displayName": "ML Lo",
      "photoUrl": "",
      "userId": "11511065297651515564"
     },
     "user_tz": -480
    },
    "id": "5Sh2E1EU3Re5",
    "outputId": "5f7f5193-17d1-4547-fd42-89f42ecf6506"
   },
   "outputs": [
    {
     "name": "stdout",
     "output_type": "stream",
     "text": [
      "[[ 0  1  2  3]\n",
      " [10 11 12 13]\n",
      " [20 21 22 23]\n",
      " [30 31 32 33]\n",
      " [40 41 42 43]]\n"
     ]
    }
   ],
   "source": [
    "import numpy as np\n",
    "# Let's first create a 2-d array that is easy to see\n",
    "# function f() will used in 2-d array creation.\n",
    "def f(x,y):\n",
    "  return 10*x+y\n",
    "\n",
    "# the position of each cell will be given to f(), return value will be put in the cell\n",
    "b = np.fromfunction(f,(5,4), dtype=int)  \n",
    "print(b)"
   ]
  },
  {
   "cell_type": "code",
   "execution_count": 0,
   "metadata": {
    "colab": {
     "base_uri": "https://localhost:8080/",
     "height": 100
    },
    "colab_type": "code",
    "executionInfo": {
     "elapsed": 579,
     "status": "ok",
     "timestamp": 1568885557788,
     "user": {
      "displayName": "ML Lo",
      "photoUrl": "",
      "userId": "11511065297651515564"
     },
     "user_tz": -480
    },
    "id": "rFlziZXqTQAn",
    "outputId": "543510b7-546c-4f6f-b24a-347d9aedc042"
   },
   "outputs": [
    {
     "name": "stdout",
     "output_type": "stream",
     "text": [
      "get one row: [0 1 2 3]\n",
      "get one row: [10 11 12 13]\n",
      "get one row: [20 21 22 23]\n",
      "get one row: [30 31 32 33]\n",
      "get one row: [40 41 42 43]\n"
     ]
    }
   ],
   "source": [
    "# One row at a time\n",
    "for row in b:\n",
    "  print(\"Get one row:\", row)"
   ]
  },
  {
   "cell_type": "code",
   "execution_count": 0,
   "metadata": {
    "colab": {
     "base_uri": "https://localhost:8080/",
     "height": 368
    },
    "colab_type": "code",
    "executionInfo": {
     "elapsed": 1843,
     "status": "ok",
     "timestamp": 1568885682626,
     "user": {
      "displayName": "ML Lo",
      "photoUrl": "",
      "userId": "11511065297651515564"
     },
     "user_tz": -480
    },
    "id": "3jRJ0EcUTa9d",
    "outputId": "c75da9f9-f5c8-4328-9e18-7d7d676ba59b"
   },
   "outputs": [
    {
     "name": "stdout",
     "output_type": "stream",
     "text": [
      "type of b.flat is: <class 'numpy.flatiter'>\n",
      "Get one element: 0\n",
      "Get one element: 1\n",
      "Get one element: 2\n",
      "Get one element: 3\n",
      "Get one element: 10\n",
      "Get one element: 11\n",
      "Get one element: 12\n",
      "Get one element: 13\n",
      "Get one element: 20\n",
      "Get one element: 21\n",
      "Get one element: 22\n",
      "Get one element: 23\n",
      "Get one element: 30\n",
      "Get one element: 31\n",
      "Get one element: 32\n",
      "Get one element: 33\n",
      "Get one element: 40\n",
      "Get one element: 41\n",
      "Get one element: 42\n",
      "Get one element: 43\n"
     ]
    }
   ],
   "source": [
    "# To iterate one element at a time, we must use the \"flat\" attribute.\n",
    "print(\"type of b.flat is:\", type(b.flat))\n",
    "for element in b.flat:\n",
    "  print(\"Get one element:\", element)"
   ]
  },
  {
   "cell_type": "markdown",
   "metadata": {
    "colab_type": "text",
    "id": "_Is4DFzyULgo"
   },
   "source": [
    "## Change shape\n",
    "\n",
    "the following three commands all return a modified array, but do not change the original array:\n",
    "* ravel()\n",
    "* reshape()\n",
    "* T"
   ]
  },
  {
   "cell_type": "code",
   "execution_count": 20,
   "metadata": {
    "colab": {
     "base_uri": "https://localhost:8080/",
     "height": 251
    },
    "colab_type": "code",
    "executionInfo": {
     "elapsed": 603,
     "status": "ok",
     "timestamp": 1568886029201,
     "user": {
      "displayName": "ML Lo",
      "photoUrl": "",
      "userId": "11511065297651515564"
     },
     "user_tz": -480
    },
    "id": "CdcApVtrUcqn",
    "outputId": "da42ef5b-4925-4b0e-8ffd-821b7d7a5c8f"
   },
   "outputs": [
    {
     "name": "stdout",
     "output_type": "stream",
     "text": [
      "[[7. 9. 8. 7.]\n",
      " [1. 5. 1. 5.]\n",
      " [4. 4. 6. 4.]]\n",
      "[7. 9. 8. 7. 1. 5. 1. 5. 4. 4. 6. 4.]\n",
      "[7. 9. 8. 7. 1. 5. 1. 5. 4. 4. 6. 4.]\n",
      "[[7. 9.]\n",
      " [8. 7.]\n",
      " [1. 5.]\n",
      " [1. 5.]\n",
      " [4. 4.]\n",
      " [6. 4.]]\n",
      "[[7. 1. 4.]\n",
      " [9. 5. 4.]\n",
      " [8. 1. 6.]\n",
      " [7. 5. 4.]]\n"
     ]
    }
   ],
   "source": [
    "# build a 3 by 4 array\n",
    "a = np.floor(10*np.random.random((3,4)))\n",
    "print(a)\n",
    "a.shape\n",
    "print(a.flatten())\n",
    "print(a.ravel())\n",
    "\n",
    "print(a.reshape(6,2))\n",
    "print(a.T)"
   ]
  },
  {
   "cell_type": "markdown",
   "metadata": {
    "colab_type": "text",
    "id": "-bEYRXLDW1mx"
   },
   "source": [
    "#### reshape() vs resize()\n",
    "reshape() and resize() perform similar task.\n",
    " reshape() returns a new array with the specified shape.\n",
    " resize() changes the original array itself"
   ]
  },
  {
   "cell_type": "code",
   "execution_count": 0,
   "metadata": {
    "colab": {
     "base_uri": "https://localhost:8080/",
     "height": 150
    },
    "colab_type": "code",
    "executionInfo": {
     "elapsed": 592,
     "status": "ok",
     "timestamp": 1568886053937,
     "user": {
      "displayName": "ML Lo",
      "photoUrl": "",
      "userId": "11511065297651515564"
     },
     "user_tz": -480
    },
    "id": "LtLJTIKOXLVR",
    "outputId": "75999845-68f0-4e14-be2b-5b3ce816556f"
   },
   "outputs": [
    {
     "name": "stdout",
     "output_type": "stream",
     "text": [
      "[[1. 1. 9. 0. 3. 5.]\n",
      " [7. 0. 6. 7. 6. 6.]]\n",
      "[[1. 1. 9. 0.]\n",
      " [3. 5. 7. 0.]\n",
      " [6. 7. 6. 6.]]\n",
      "None\n",
      "[[1. 1. 9. 0. 3. 5.]\n",
      " [7. 0. 6. 7. 6. 6.]]\n"
     ]
    }
   ],
   "source": [
    "print(a.reshape(2,6))  # reshape() returns a new array, but \"a\" is not change.\n",
    "print(a)\n",
    "print(a.resize(2,6))  # resize() returns none, but \"a\" is changed.\n",
    "print(a)"
   ]
  },
  {
   "cell_type": "markdown",
   "metadata": {
    "colab_type": "text",
    "id": "0DjEVqaKYa59"
   },
   "source": [
    "## Stakcing arrays together"
   ]
  },
  {
   "cell_type": "code",
   "execution_count": 21,
   "metadata": {
    "colab": {
     "base_uri": "https://localhost:8080/",
     "height": 117
    },
    "colab_type": "code",
    "executionInfo": {
     "elapsed": 774,
     "status": "ok",
     "timestamp": 1555657114639,
     "user": {
      "displayName": "ML Lo",
      "photoUrl": "",
      "userId": "11511065297651515564"
     },
     "user_tz": -480
    },
    "id": "O7lvheb7YgEg",
    "outputId": "1a01b15c-6704-442f-a98f-6ef026fae87c"
   },
   "outputs": [
    {
     "name": "stdout",
     "output_type": "stream",
     "text": [
      "[[1 2]\n",
      " [3 4]\n",
      " [5 6]\n",
      " [7 8]] (4, 2)\n",
      "[[1 2 5 6]\n",
      " [3 4 7 8]]\n"
     ]
    }
   ],
   "source": [
    "import numpy as np\n",
    "a = np.array([[1,2],\n",
    "             [3,4]])\n",
    "b = np.array([[5,6],\n",
    "             [7,8]])\n",
    "c = np.vstack((a,b))\n",
    "d = np.hstack((a,b))\n",
    "\n",
    "print(c, c.shape)\n",
    "print(d)"
   ]
  },
  {
   "cell_type": "markdown",
   "metadata": {
    "colab_type": "text",
    "id": "vqM5avoVZgGr"
   },
   "source": [
    "The function **column_stack()** stacks 1D arrays as columns into a 2D array. It is equivalent to hstack only for 2D arrays.\n",
    "\n",
    "The function **row_stack()** is equivalent to vstack() in any case."
   ]
  },
  {
   "cell_type": "code",
   "execution_count": 0,
   "metadata": {
    "colab": {
     "base_uri": "https://localhost:8080/",
     "height": 150
    },
    "colab_type": "code",
    "executionInfo": {
     "elapsed": 787,
     "status": "ok",
     "timestamp": 1555657427902,
     "user": {
      "displayName": "ML Lo",
      "photoUrl": "",
      "userId": "11511065297651515564"
     },
     "user_tz": -480
    },
    "id": "FYX4yveFZfhL",
    "outputId": "9a00a5fc-17bb-42b6-db01-6c765e8d6d9e"
   },
   "outputs": [
    {
     "name": "stdout",
     "output_type": "stream",
     "text": [
      "[[1 5]\n",
      " [2 6]\n",
      " [3 7]\n",
      " [4 8]]\n",
      "[[ 1  5  9]\n",
      " [ 2  6 10]\n",
      " [ 3  7 11]\n",
      " [ 4  8 12]]\n"
     ]
    }
   ],
   "source": [
    "c = np.column_stack((a,b)) # for 2D arrays, it's the same hstack()\n",
    "print(c)\n",
    "\n",
    "a1 = np.array([1,2,3,4])\n",
    "a2 = np.array([5,6,7,8])\n",
    "a3 = np.array([9,10,11,12])\n",
    "d = np.column_stack((a1,a2,a3))\n",
    "print(d)\n"
   ]
  },
  {
   "cell_type": "markdown",
   "metadata": {
    "colab_type": "text",
    "id": "XXvw-0SHahm-"
   },
   "source": [
    "### newaxis\n",
    "\n",
    "We can force a 1-d row into a 1-d column by using \"newaxis\""
   ]
  },
  {
   "cell_type": "code",
   "execution_count": 0,
   "metadata": {
    "colab": {
     "base_uri": "https://localhost:8080/",
     "height": 100
    },
    "colab_type": "code",
    "executionInfo": {
     "elapsed": 914,
     "status": "ok",
     "timestamp": 1555657661170,
     "user": {
      "displayName": "ML Lo",
      "photoUrl": "",
      "userId": "11511065297651515564"
     },
     "user_tz": -480
    },
    "id": "Duqbf7kcae88",
    "outputId": "2388db45-35d0-416f-93e0-18d12de76e67"
   },
   "outputs": [
    {
     "name": "stdout",
     "output_type": "stream",
     "text": [
      "[1 2 3 4]\n",
      "[[1]\n",
      " [2]\n",
      " [3]\n",
      " [4]]\n"
     ]
    }
   ],
   "source": [
    "import numpy as np\n",
    "from numpy import newaxis\n",
    "\n",
    "a = np.array([1,2,3,4])\n",
    "print(a)\n",
    "b = a[:,newaxis]\n",
    "print(b)"
   ]
  },
  {
   "cell_type": "markdown",
   "metadata": {
    "colab_type": "text",
    "id": "1sYLzRjab2D2"
   },
   "source": [
    "### r_ and c_\n",
    "You can consider r_ and c_ as shorthand in the row direction and column direction"
   ]
  },
  {
   "cell_type": "code",
   "execution_count": 0,
   "metadata": {
    "colab": {
     "base_uri": "https://localhost:8080/",
     "height": 50
    },
    "colab_type": "code",
    "executionInfo": {
     "elapsed": 747,
     "status": "ok",
     "timestamp": 1555658225763,
     "user": {
      "displayName": "ML Lo",
      "photoUrl": "",
      "userId": "11511065297651515564"
     },
     "user_tz": -480
    },
    "id": "1RWqym-tcBfa",
    "outputId": "40aa9a86-15b7-4e73-c66b-e69c76ab0f2d"
   },
   "outputs": [
    {
     "name": "stdout",
     "output_type": "stream",
     "text": [
      "[1 2 3 0 4]\n",
      "[ 2  3  4 11 12]\n"
     ]
    }
   ],
   "source": [
    "print(np.r_[1:4,0, 4])\n",
    "print(np.r_[2:5, 11:13])\n"
   ]
  },
  {
   "cell_type": "markdown",
   "metadata": {
    "colab_type": "text",
    "id": "QFQwXgfrdr4m"
   },
   "source": [
    "## Split an array into several \n",
    "\n",
    "Using hsplit, you can split an array along its horizontal axis, either by specifying the number of equally shaped arrays to return, or by specifying the columns after which the division should occur:"
   ]
  },
  {
   "cell_type": "code",
   "execution_count": 0,
   "metadata": {
    "colab": {
     "base_uri": "https://localhost:8080/",
     "height": 184
    },
    "colab_type": "code",
    "executionInfo": {
     "elapsed": 738,
     "status": "ok",
     "timestamp": 1555658767117,
     "user": {
      "displayName": "ML Lo",
      "photoUrl": "",
      "userId": "11511065297651515564"
     },
     "user_tz": -480
    },
    "id": "oIxs3IIbd4Vj",
    "outputId": "1bac6acd-db43-42e0-bca9-1567bee47336"
   },
   "outputs": [
    {
     "name": "stdout",
     "output_type": "stream",
     "text": [
      "[[ 0  1  2  3  4  5  6  7  8]\n",
      " [ 9 10 11 12 13 14 15 16 17]]\n",
      "[array([[ 0,  1,  2],\n",
      "       [ 9, 10, 11]]), array([[ 3,  4,  5],\n",
      "       [12, 13, 14]]), array([[ 6,  7,  8],\n",
      "       [15, 16, 17]])]\n",
      "[array([[ 0,  1],\n",
      "       [ 9, 10]]), array([[ 2,  3,  4],\n",
      "       [11, 12, 13]]), array([[ 5,  6,  7,  8],\n",
      "       [14, 15, 16, 17]])]\n"
     ]
    }
   ],
   "source": [
    "import numpy as np\n",
    "# build a 2X9 array\n",
    "a = np.r_[0:9]\n",
    "b = np.r_[9:18]\n",
    "c = np.vstack((a,b))\n",
    "print(c)\n",
    "\n",
    "# split c horizontally into 3 equal parts\n",
    "d = np.hsplit(c,3)\n",
    "print(d)\n",
    "\n",
    "# split c into 3 parts, using column 2 and column 5 as bundary\n",
    "d = np.hsplit(c,(2,5))\n",
    "print(d)"
   ]
  },
  {
   "cell_type": "markdown",
   "metadata": {
    "colab_type": "text",
    "id": "3E1T9uZGg9Ad"
   },
   "source": [
    "## Depth of copy\n",
    "\n",
    "When we create one numpy array from another, there can be thre kinds of relationship between the two arrays:\n",
    "* No copy: own a new name is create.  New name and old name refer to the same array.\n",
    "* Shallow copy: a new array container is created, but the data is the same.\n",
    "* Deep copy: a new array container and a new copy of data is created.\n",
    "\n",
    "\n",
    "\n"
   ]
  },
  {
   "cell_type": "code",
   "execution_count": 0,
   "metadata": {
    "colab": {
     "base_uri": "https://localhost:8080/",
     "height": 100
    },
    "colab_type": "code",
    "executionInfo": {
     "elapsed": 814,
     "status": "ok",
     "timestamp": 1568886287115,
     "user": {
      "displayName": "ML Lo",
      "photoUrl": "",
      "userId": "11511065297651515564"
     },
     "user_tz": -480
    },
    "id": "bp35yqLvhhsL",
    "outputId": "19793957-ae07-477a-ba33-bd46b067a523"
   },
   "outputs": [
    {
     "name": "stdout",
     "output_type": "stream",
     "text": [
      "[[ 0  1  2  3  4  5  6  7  8]\n",
      " [ 9 10 11 12 13 14 15 16 17]]\n",
      "True\n",
      "(2, 9)\n",
      "(3, 6)\n"
     ]
    }
   ],
   "source": [
    "# Demonstration of no copy\n",
    "c = np.arange(18).reshape(2,9)\n",
    "print(c)\n",
    "d = c\n",
    "print(d is c)\n",
    "\n",
    "print(c.shape)\n",
    "d.shape = (3,6)\n",
    "print(c.shape)"
   ]
  },
  {
   "cell_type": "code",
   "execution_count": 0,
   "metadata": {
    "colab": {
     "base_uri": "https://localhost:8080/",
     "height": 184
    },
    "colab_type": "code",
    "executionInfo": {
     "elapsed": 654,
     "status": "ok",
     "timestamp": 1568886557021,
     "user": {
      "displayName": "ML Lo",
      "photoUrl": "",
      "userId": "11511065297651515564"
     },
     "user_tz": -480
    },
    "id": "jU-3XVyYiKOO",
    "outputId": "f6f1c06c-277d-4f5e-8312-3fdfed1ccb2e"
   },
   "outputs": [
    {
     "name": "stdout",
     "output_type": "stream",
     "text": [
      "False\n",
      "False\n",
      "False\n",
      "(2, 9)\n",
      "(2, 9)\n",
      "[[100   1   2   3   4   5]\n",
      " [  6   7   8   9  10  11]\n",
      " [ 12  13  14  15  16  17]]\n",
      "[[100   1   2   3   4   5   6   7   8]\n",
      " [  9  10  11  12  13  14  15  16  17]]\n"
     ]
    }
   ],
   "source": [
    "# demonstration of shallow copy\n",
    "c.shape = 2, 9\n",
    "d = c.view()   # the view() function creates a shallow copy\n",
    "print(d is c)\n",
    "print(d.base is c)\n",
    "print(d.flags.owndata)\n",
    "\n",
    "print(c.shape)\n",
    "d.shape = 3, 6\n",
    "print(c.shape)\n",
    "\n",
    "d[0,0] = 100\n",
    "print(d)\n",
    "print(c)"
   ]
  },
  {
   "cell_type": "code",
   "execution_count": 0,
   "metadata": {
    "colab": {
     "base_uri": "https://localhost:8080/",
     "height": 184
    },
    "colab_type": "code",
    "executionInfo": {
     "elapsed": 750,
     "status": "ok",
     "timestamp": 1555659983458,
     "user": {
      "displayName": "ML Lo",
      "photoUrl": "",
      "userId": "11511065297651515564"
     },
     "user_tz": -480
    },
    "id": "sy4KEmKhit5L",
    "outputId": "94c70d46-f29b-48e1-ec4d-3b56e5ff7840"
   },
   "outputs": [
    {
     "name": "stdout",
     "output_type": "stream",
     "text": [
      "False\n",
      "False\n",
      "True\n",
      "c.shape is: (2, 9)\n",
      "d.shape is: (3, 6)\n",
      "c is [[ 0  1  2  3  4  5  6  7  8]\n",
      " [ 9 10 11 12 13 14 15 16 17]]\n",
      "d is [[200   1   2   3   4   5]\n",
      " [  6   7   8   9  10  11]\n",
      " [ 12  13  14  15  16  17]]\n"
     ]
    }
   ],
   "source": [
    "# Demonstration of deep copy\n",
    "c[0,0] = 0\n",
    "d = c.copy()\n",
    "print(d is c)\n",
    "print(d.base is c)\n",
    "print(d.flags.owndata)\n",
    "\n",
    "d.shape = 3,6\n",
    "print(\"c.shape is:\", c.shape)\n",
    "print(\"d.shape is:\", d.shape)\n",
    "d[0,0] = 200\n",
    "print(\"c is\", c)\n",
    "print(\"d is\", d)"
   ]
  },
  {
   "cell_type": "markdown",
   "metadata": {
    "colab_type": "text",
    "id": "VXRt9gZCj_i8"
   },
   "source": [
    "## Functions and methods overview\n",
    "\n",
    "Here is a list of some useful NumPy functions and methods names ordered in categories. See Routines for the full list.\n",
    "\n",
    "\n",
    "* Array Creation\n",
    "  * arange, array, copy, empty, empty_like, eye, fromfile, fromfunction, identity, linspace, logspace, mgrid, ogrid, ones, ones_like, r, zeros, zeros_like\n",
    "* Conversions\n",
    "  * ndarray.astype, atleast_1d, atleast_2d, atleast_3d, mat\n",
    "* Manipulations\n",
    "  * array_split, column_stack, concatenate, diagonal, dsplit, dstack, hsplit, hstack, ndarray.item, newaxis, ravel, repeat, reshape, resize, squeeze, swapaxes, take, transpose, vsplit, vstack\n",
    "* Questions\n",
    "  * all, any, nonzero, where\n",
    "* Ordering\n",
    "  * argmax, argmin, argsort, max, min, ptp, searchsorted, sort\n",
    "* Operations\n",
    "  * choose, compress, cumprod, cumsum, inner, ndarray.fill, imag, prod, put, putmask, real, sum\n",
    "* Basic Statistics\n",
    "  * cov, mean, std, var\n",
    "* Basic Linear Algebra\n",
    "  * cross, dot, outer, linalg.svd, vdot"
   ]
  },
  {
   "cell_type": "markdown",
   "metadata": {
    "colab_type": "text",
    "id": "d9T2PIYg8Kjz"
   },
   "source": [
    "## Vectorization?\n",
    "Vectorization is a powerful ability within NumPy \n",
    "* to express operations as occurring on entire arrays rather than their individual elements. "
   ]
  },
  {
   "cell_type": "code",
   "execution_count": 3,
   "metadata": {
    "colab": {
     "base_uri": "https://localhost:8080/",
     "height": 52
    },
    "colab_type": "code",
    "executionInfo": {
     "elapsed": 906,
     "status": "ok",
     "timestamp": 1569372733489,
     "user": {
      "displayName": "ML Lo",
      "photoUrl": "",
      "userId": "11511065297651515564"
     },
     "user_tz": -480
    },
    "id": "QA0QQ0bQ5sD0",
    "outputId": "9349b5fc-86c2-4afa-b2c7-1f861cf90a1b"
   },
   "outputs": [
    {
     "name": "stdout",
     "output_type": "stream",
     "text": [
      "['happy' 'sad' 'happy' 'sad' 'sad' 'sad' 'sad' 'sad' 'happy' 'happy' 'sad'\n",
      " 'happy' 'sad' 'sad' 'happy' 'sad' 'sad' 'happy' 'happy' 'sad']\n"
     ]
    }
   ],
   "source": [
    "import numpy as np\n",
    "x = np.random.choice([\"happy\",\"sad\"], size=20)\n",
    "print(x)"
   ]
  },
  {
   "cell_type": "code",
   "execution_count": 4,
   "metadata": {
    "colab": {
     "base_uri": "https://localhost:8080/",
     "height": 35
    },
    "colab_type": "code",
    "executionInfo": {
     "elapsed": 1175,
     "status": "ok",
     "timestamp": 1569372738187,
     "user": {
      "displayName": "ML Lo",
      "photoUrl": "",
      "userId": "11511065297651515564"
     },
     "user_tz": -480
    },
    "id": "RRpVBxvx92tk",
    "outputId": "b0501529-3bd2-4c46-eb05-c7afd8f9b66c"
   },
   "outputs": [
    {
     "name": "stdout",
     "output_type": "stream",
     "text": [
      "The number of transition in x is:  11\n"
     ]
    }
   ],
   "source": [
    "# Count the number of transition in x\n",
    "# That is, 1-->0 or 0-->1\n",
    "def count_transitions(x):\n",
    "  count = 0\n",
    "  for i, j in zip(x[:-1], x[1:]):\n",
    "    #print(i, j)\n",
    "    if i != j:\n",
    "      count += 1\n",
    "  return count\n",
    "\n",
    "print(\"The number of transition in x is: \", count_transitions(x))"
   ]
  },
  {
   "cell_type": "code",
   "execution_count": 6,
   "metadata": {
    "colab": {
     "base_uri": "https://localhost:8080/",
     "height": 70
    },
    "colab_type": "code",
    "executionInfo": {
     "elapsed": 1152,
     "status": "ok",
     "timestamp": 1569372770935,
     "user": {
      "displayName": "ML Lo",
      "photoUrl": "",
      "userId": "11511065297651515564"
     },
     "user_tz": -480
    },
    "id": "sdj0mOF8Cup7",
    "outputId": "e6913389-6df3-46a5-a80c-e1d256aed955"
   },
   "outputs": [
    {
     "name": "stdout",
     "output_type": "stream",
     "text": [
      "[ True  True  True False False False False  True False  True  True  True\n",
      " False  True  True False  True False  True]\n",
      "11\n"
     ]
    }
   ],
   "source": [
    "# Count the number of transition in x, using numpy's ndarray operation directly\n",
    "# Step by step explanation\n",
    "y = x[:-1] != x[1:]\n",
    "print(y)\n",
    "\n",
    "print( np.count_nonzero(y))"
   ]
  },
  {
   "cell_type": "code",
   "execution_count": 5,
   "metadata": {
    "colab": {
     "base_uri": "https://localhost:8080/",
     "height": 35
    },
    "colab_type": "code",
    "executionInfo": {
     "elapsed": 776,
     "status": "ok",
     "timestamp": 1569372743798,
     "user": {
      "displayName": "ML Lo",
      "photoUrl": "",
      "userId": "11511065297651515564"
     },
     "user_tz": -480
    },
    "id": "5ih0xcyICeVH",
    "outputId": "483355bc-e244-4fef-faea-edb8179a26ee"
   },
   "outputs": [
    {
     "name": "stdout",
     "output_type": "stream",
     "text": [
      "11\n"
     ]
    }
   ],
   "source": [
    "# Count the number of transition in x, using numpy's ndarray operation directly\n",
    "print(np.count_nonzero(x[:-1] != x[1:]))\n"
   ]
  },
  {
   "cell_type": "code",
   "execution_count": 0,
   "metadata": {
    "colab": {
     "base_uri": "https://localhost:8080/",
     "height": 33
    },
    "colab_type": "code",
    "executionInfo": {
     "elapsed": 1265,
     "status": "ok",
     "timestamp": 1554628348822,
     "user": {
      "displayName": "ML Lo",
      "photoUrl": "",
      "userId": "11511065297651515564"
     },
     "user_tz": -480
    },
    "id": "xQbzvm4qEEoH",
    "outputId": "3270dc2b-6f98-4160-ad03-3fc97dcc1acc"
   },
   "outputs": [
    {
     "name": "stdout",
     "output_type": "stream",
     "text": [
      "Speed difference: 36.2x\n"
     ]
    }
   ],
   "source": [
    "# Find out the performance difference between for implementation and numpy implementation\n",
    "x = np.random.choice([\"happy\",\"sad\"], size=1000)\n",
    "\n",
    "\n",
    "from timeit import timeit\n",
    "setup = 'from __main__ import count_transitions, x; import numpy as np'\n",
    "num = 1000\n",
    "t1 = timeit('count_transitions(x)', setup=setup, number=num)\n",
    "t2 = timeit('np.count_nonzero(x[:-1] < x[1:])', setup=setup, number=num)\n",
    "print('Speed difference: {:0.1f}x'.format(t1 / t2))\n",
    "\n",
    "# --> numpy implementation is much much faster (and much simpler)"
   ]
  },
  {
   "cell_type": "code",
   "execution_count": 7,
   "metadata": {
    "colab": {
     "base_uri": "https://localhost:8080/",
     "height": 35
    },
    "colab_type": "code",
    "executionInfo": {
     "elapsed": 882,
     "status": "ok",
     "timestamp": 1569372938858,
     "user": {
      "displayName": "ML Lo",
      "photoUrl": "",
      "userId": "11511065297651515564"
     },
     "user_tz": -480
    },
    "id": "3YwebGP8GMfv",
    "outputId": "3cd965d9-69ca-40a6-9a20-c3927396cc3f"
   },
   "outputs": [
    {
     "data": {
      "text/plain": [
       "7"
      ]
     },
     "execution_count": 7,
     "metadata": {
      "tags": []
     },
     "output_type": "execute_result"
    }
   ],
   "source": [
    "# A stock example\n",
    "# Find out the maximum profit\n",
    "\n",
    "prices = (20, 18, 14, 17, 20, 21, 15)\n",
    "\n",
    "def profit(prices):\n",
    "  max_prof = 0\n",
    "  min_px = prices[0]\n",
    "  for px in prices[1:]:\n",
    "      min_px = min(min_px, px)\n",
    "      max_prof = max(px - min_px, max_prof)\n",
    "  return max_prof\n",
    "\n",
    "profit(prices)\n"
   ]
  },
  {
   "cell_type": "code",
   "execution_count": 0,
   "metadata": {
    "colab": {
     "base_uri": "https://localhost:8080/",
     "height": 67
    },
    "colab_type": "code",
    "executionInfo": {
     "elapsed": 1012,
     "status": "ok",
     "timestamp": 1554649761464,
     "user": {
      "displayName": "ML Lo",
      "photoUrl": "",
      "userId": "11511065297651515564"
     },
     "user_tz": -480
    },
    "id": "H3KT8kciVSMs",
    "outputId": "8118c1f8-55e4-44bb-b726-e14ed0bb5736"
   },
   "outputs": [
    {
     "name": "stdout",
     "output_type": "stream",
     "text": [
      "2\n",
      "5\n",
      "7\n"
     ]
    }
   ],
   "source": [
    "# implement using numpy\n",
    "# do it in three lines for clarity\n",
    "# ML: this version is not always correct\n",
    "import numpy as np\n",
    "\n",
    "prices = (20, 18, 14, 17, 20, 21, 15)\n",
    "mn = np.argmin(prices)  # find out the position with the min value\n",
    "mx = mn + np.argmax(prices[mn:])   # find out the position with the max value\n",
    "print(mn)\n",
    "print(mx)\n",
    "max_profit = prices[mx] - prices[mn]\n",
    "print(max_profit)"
   ]
  },
  {
   "cell_type": "code",
   "execution_count": 0,
   "metadata": {
    "colab": {
     "base_uri": "https://localhost:8080/",
     "height": 50
    },
    "colab_type": "code",
    "executionInfo": {
     "elapsed": 1321,
     "status": "ok",
     "timestamp": 1568887049870,
     "user": {
      "displayName": "ML Lo",
      "photoUrl": "",
      "userId": "11511065297651515564"
     },
     "user_tz": -480
    },
    "id": "8bPAj4pbXIWw",
    "outputId": "eed058ec-bf75-439c-98f3-ecbf1b4af69d"
   },
   "outputs": [
    {
     "name": "stdout",
     "output_type": "stream",
     "text": [
      "[20 18 14 14 14 14 14]\n",
      "7\n"
     ]
    }
   ],
   "source": [
    "# numpy version 2\n",
    "import numpy as np\n",
    "prices = (20, 18, 14, 17, 20, 21, 15)\n",
    "\n",
    "min_so_far = np.minimum.accumulate(prices)\n",
    "print(min_so_far)\n",
    "profitarray = prices - min_so_far\n",
    "max_profit = np.max(profitarray)\n",
    "\n",
    "print(max_profit)"
   ]
  },
  {
   "cell_type": "code",
   "execution_count": 0,
   "metadata": {
    "colab": {
     "base_uri": "https://localhost:8080/",
     "height": 33
    },
    "colab_type": "code",
    "executionInfo": {
     "elapsed": 3144,
     "status": "ok",
     "timestamp": 1568887503330,
     "user": {
      "displayName": "ML Lo",
      "photoUrl": "",
      "userId": "11511065297651515564"
     },
     "user_tz": -480
    },
    "id": "2TKukg89-lAB",
    "outputId": "5712a3aa-6761-444f-935d-3ec54197ce87"
   },
   "outputs": [
    {
     "name": "stdout",
     "output_type": "stream",
     "text": [
      "7\n"
     ]
    }
   ],
   "source": [
    "# clearn up of numpy version 3\n",
    "# only need 2 lines\n",
    "min_so_far = np.minimum.accumulate(prices)\n",
    "max_profit = np.max(prices - min_so_far)\n",
    "print(max_profit)"
   ]
  },
  {
   "cell_type": "code",
   "execution_count": 0,
   "metadata": {
    "colab": {
     "base_uri": "https://localhost:8080/",
     "height": 33
    },
    "colab_type": "code",
    "executionInfo": {
     "elapsed": 1368,
     "status": "ok",
     "timestamp": 1554649967759,
     "user": {
      "displayName": "ML Lo",
      "photoUrl": "",
      "userId": "11511065297651515564"
     },
     "user_tz": -480
    },
    "id": "tX_ibR9fWNwy",
    "outputId": "087989b2-a83f-4e5f-8f74-069ca8d0df40"
   },
   "outputs": [
    {
     "data": {
      "text/plain": [
       "7"
      ]
     },
     "execution_count": 11,
     "metadata": {
      "tags": []
     },
     "output_type": "execute_result"
    }
   ],
   "source": [
    "# implement using numpy, the one line version\n",
    "np.max(prices - np.minimum.accumulate(prices))"
   ]
  }
 ],
 "metadata": {
  "colab": {
   "name": "PylibNumpy1.ipynb",
   "provenance": []
  },
  "kernelspec": {
   "display_name": "Python 3",
   "language": "python",
   "name": "python3"
  },
  "language_info": {
   "codemirror_mode": {
    "name": "ipython",
    "version": 3
   },
   "file_extension": ".py",
   "mimetype": "text/x-python",
   "name": "python",
   "nbconvert_exporter": "python",
   "pygments_lexer": "ipython3",
   "version": "3.7.3"
  }
 },
 "nbformat": 4,
 "nbformat_minor": 1
}
