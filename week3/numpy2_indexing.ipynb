{
 "cells": [
  {
   "cell_type": "markdown",
   "metadata": {
    "colab_type": "text",
    "id": "DKjLbiBShWtQ"
   },
   "source": [
    "## Advanced indexing techniques\n",
    "\n",
    "NumPy offers many indexing facilities not available in regular Python sequences.  \n",
    "* Indexing with **arrays of indices**\n",
    "* Indexing by arrays of booleans.\n",
    "* Indexing by strings (see [structured datatypes](https://docs.scipy.org/doc/numpy-1.16.1/user/basics.rec.html#structured-arrays))"
   ]
  },
  {
   "cell_type": "markdown",
   "metadata": {
    "colab_type": "text",
    "id": "BHg18RlgEAqE"
   },
   "source": [
    "### Indexing with arrays of indices"
   ]
  },
  {
   "cell_type": "code",
   "execution_count": 1,
   "metadata": {
    "colab": {
     "base_uri": "https://localhost:8080/",
     "height": 87
    },
    "colab_type": "code",
    "executionInfo": {
     "elapsed": 804,
     "status": "ok",
     "timestamp": 1569384294611,
     "user": {
      "displayName": "ML Lo",
      "photoUrl": "",
      "userId": "11511065297651515564"
     },
     "user_tz": -480
    },
    "id": "kEYG2QTmh6oZ",
    "outputId": "08aeeecf-8785-4ca9-96b4-1d9f8cf2d5dc"
   },
   "outputs": [
    {
     "name": "stdout",
     "output_type": "stream",
     "text": [
      "[ 4  4  9 25 36 16]\n",
      "[[ 4 16]\n",
      " [ 9 36]\n",
      " [25 25]]\n"
     ]
    }
   ],
   "source": [
    "import numpy as np\n",
    "\n",
    "a = np.arange(10)**2  # sqaure of 0, 1, 2, ....9\n",
    "i = np.array([2, 2, 3, 5, 6, 4])\n",
    "\n",
    "# Create an array using \"a\" as the base array, and \"i\" as index\n",
    "print(a[i])\n",
    "\n",
    "# You can also use an \"index\" with more than 1 dimension\n",
    "j = np.array([[2,4],\n",
    "             [3,6],\n",
    "             [5,5]])\n",
    "print(a[j])"
   ]
  },
  {
   "cell_type": "markdown",
   "metadata": {
    "colab_type": "text",
    "id": "ETwt9q7kk99M"
   },
   "source": [
    "When the base array is multidimensional, and the index array is one dimensional, each index number in the index array refers to a slice of the base array along the first dimension."
   ]
  },
  {
   "cell_type": "code",
   "execution_count": 7,
   "metadata": {
    "colab": {
     "base_uri": "https://localhost:8080/",
     "height": 100
    },
    "colab_type": "code",
    "executionInfo": {
     "elapsed": 777,
     "status": "ok",
     "timestamp": 1555728124534,
     "user": {
      "displayName": "ML Lo",
      "photoUrl": "",
      "userId": "11511065297651515564"
     },
     "user_tz": -480
    },
    "id": "5czqmdsLkeuv",
    "outputId": "0983c8c1-a1d8-4368-bf7e-9aa012b9ac98"
   },
   "outputs": [
    {
     "name": "stdout",
     "output_type": "stream",
     "text": [
      "foood [['cereal' 'milk' 'pancake']\n",
      " ['banana' 'apple' 'orange']\n",
      " ['guava' 'berry' 'tomato']\n",
      " ['chicken' 'sausage' 'ham']\n",
      " ['Broccoli' 'napa' 'cucumber']]\n",
      "fruit =  [['banana' 'apple' 'orange']\n",
      " ['guava' 'berry' 'tomato']] (2, 3) ['banana' 'apple' 'orange']\n",
      "vegetarian food =  [['banana' 'apple' 'orange']\n",
      " ['guava' 'berry' 'tomato']\n",
      " ['Broccoli' 'napa' 'cucumber']]\n"
     ]
    }
   ],
   "source": [
    "food = np.array([[\"cereal\", \"milk\", \"pancake\"],\n",
    "                [\"banana\", \"apple\", \"orange\"],\n",
    "                [\"guava\", \"berry\", \"tomato\"],\n",
    "                [\"chicken\", \"sausage\", \"ham\"],\n",
    "                [\"Broccoli\", \"napa\", \"cucumber\"]])\n",
    "fi = np.array([1,2])\n",
    "vi = np.array([1,2,4])\n",
    "\n",
    "fruit = food[fi]\n",
    "vegetarian = food[vi]\n",
    "print(\"foood\", food)\n",
    "\n",
    "print(\"fruit = \", fruit, fruit.shape, fruit[0])\n",
    "print(\"vegetarian food = \", vegetarian)"
   ]
  },
  {
   "cell_type": "markdown",
   "metadata": {
    "colab_type": "text",
    "id": "-34nGFM1p9Yy"
   },
   "source": [
    "We can also use multiple index arrays, each one represents the index of one dimension, to index a multidimension base array."
   ]
  },
  {
   "cell_type": "code",
   "execution_count": 18,
   "metadata": {
    "colab": {
     "base_uri": "https://localhost:8080/",
     "height": 134
    },
    "colab_type": "code",
    "executionInfo": {
     "elapsed": 769,
     "status": "ok",
     "timestamp": 1555728880879,
     "user": {
      "displayName": "ML Lo",
      "photoUrl": "",
      "userId": "11511065297651515564"
     },
     "user_tz": -480
    },
    "id": "NGa8SIYooG91",
    "outputId": "076fc494-b277-494a-f2d2-8b72ebe6f621"
   },
   "outputs": [
    {
     "name": "stdout",
     "output_type": "stream",
     "text": [
      "food [['cereal' 'milk' 'pancake']\n",
      " ['banana' 'apple' 'orange']\n",
      " ['guava' 'berry' 'tomato']\n",
      " ['chicken' 'sausage' 'ham']\n",
      " ['Broccoli' 'napa' 'cucumber']] (5, 3)\n",
      "food[i,j] [['pancake' 'apple']\n",
      " ['sausage' 'tomato']] (2, 2)\n",
      "food[i] [[['cereal' 'milk' 'pancake']\n",
      "  ['banana' 'apple' 'orange']]\n",
      "\n",
      " [['chicken' 'sausage' 'ham']\n",
      "  ['guava' 'berry' 'tomato']]] (2, 2, 3)\n",
      "safds [['cereal' 'milk' 'pancake']\n",
      " ['banana' 'apple' 'orange']] (2, 3)\n"
     ]
    }
   ],
   "source": [
    "print(\"food\", food, food.shape)\n",
    "# we will use \"i\" as the index for x axis\n",
    "i = np.array([[0,1],\n",
    "             [3,2]])\n",
    "# we will use \"j\" as the index for y axis\n",
    "j = np.array([[2,1],\n",
    "             [1,2]])\n",
    "\n",
    "print(\"food[i,j]\", food[i,j], food[i,j].shape)\n",
    "\n",
    "print(\"food[i]\", food[i], food[i].shape)\n",
    "\n",
    "print(\"safds\",food[np.array([0,1])], food[np.array([0,1])].shape)"
   ]
  },
  {
   "cell_type": "code",
   "execution_count": 23,
   "metadata": {},
   "outputs": [
    {
     "name": "stdout",
     "output_type": "stream",
     "text": [
      "a:  [[ 0  1  2  3]\n",
      " [ 4  5  6  7]\n",
      " [ 8  9 10 11]]\n",
      "a[i,j]:  [[ 2  5]\n",
      " [ 7 11]]\n",
      "a[i,2]:  [[ 2  6]\n",
      " [ 6 10]]\n",
      "a[:,j]:  [[[ 2  1]\n",
      "  [ 3  3]]\n",
      "\n",
      " [[ 6  5]\n",
      "  [ 7  7]]\n",
      "\n",
      " [[10  9]\n",
      "  [11 11]]] (3, 2, 2)\n",
      "a[i] [[[ 0  1  2  3]\n",
      "  [ 4  5  6  7]]\n",
      "\n",
      " [[ 4  5  6  7]\n",
      "  [ 8  9 10 11]]] (2, 2, 4)\n"
     ]
    }
   ],
   "source": [
    "\n",
    "a= np.arange(12).reshape(3,4)\n",
    "print(\"a: \", a)\n",
    "i = np.array( [ [0,1],                        # indices for the first dim of a\n",
    "                [1,2] ] )\n",
    "j = np.array( [ [2,1],                        # indices for the second dim\n",
    "                 [3,3] ] )\n",
    " \n",
    "print(\"a[i,j]: \",a[i,j])\t\n",
    " \n",
    "print(\"a[i,2]: \",a[i,2])\t\n",
    "print(\"a[:,j]: \",a[:,j], a[:,j].shape)\n",
    "print(\"a[i]\", a[i], a[i].shape)\n"
   ]
  },
  {
   "cell_type": "code",
   "execution_count": 0,
   "metadata": {
    "colab": {
     "base_uri": "https://localhost:8080/",
     "height": 100
    },
    "colab_type": "code",
    "executionInfo": {
     "elapsed": 700,
     "status": "ok",
     "timestamp": 1555729064832,
     "user": {
      "displayName": "ML Lo",
      "photoUrl": "",
      "userId": "11511065297651515564"
     },
     "user_tz": -480
    },
    "id": "8Movk1-ErAIz",
    "outputId": "c7fd148f-6e8b-49d3-d185-3cb4c4467441"
   },
   "outputs": [
    {
     "name": "stdout",
     "output_type": "stream",
     "text": [
      "(array([[0, 1],\n",
      "       [3, 2]]), array([[2, 1],\n",
      "       [1, 2]]))\n",
      "[['pancake' 'apple']\n",
      " ['sausage' 'tomato']]\n"
     ]
    }
   ],
   "source": [
    "# We can also do the following\n",
    "coord = (i, j)\n",
    "print(coord)\n",
    "print(food[coord])"
   ]
  },
  {
   "cell_type": "markdown",
   "metadata": {
    "colab_type": "text",
    "id": "2knBO6Aeyut5"
   },
   "source": [
    "#### Assignment using indexing"
   ]
  },
  {
   "cell_type": "code",
   "execution_count": 2,
   "metadata": {
    "colab": {
     "base_uri": "https://localhost:8080/",
     "height": 70
    },
    "colab_type": "code",
    "executionInfo": {
     "elapsed": 749,
     "status": "ok",
     "timestamp": 1569384472554,
     "user": {
      "displayName": "ML Lo",
      "photoUrl": "",
      "userId": "11511065297651515564"
     },
     "user_tz": -480
    },
    "id": "ExAXwgJayvLE",
    "outputId": "99b64180-5fc7-41f7-8eec-df593bec2ed1"
   },
   "outputs": [
    {
     "name": "stdout",
     "output_type": "stream",
     "text": [
      "[0 1 2 3 4]\n",
      "[0 1 2 0 0]\n",
      "[0 1 8 9 4]\n"
     ]
    }
   ],
   "source": [
    "import numpy as np\n",
    "a = np.arange(5)\n",
    "print(a)\n",
    "a[[3,4]] = 0\n",
    "print(a)\n",
    "\n",
    "a = np.arange(5)\n",
    "a[[2,2,3]] = [7,8,9]\n",
    "print(a)"
   ]
  },
  {
   "cell_type": "markdown",
   "metadata": {
    "colab_type": "text",
    "id": "n1_4Ea805LjA"
   },
   "source": [
    "### Indexing with boolean arrays\n",
    "\n",
    "Boolean arrays we use must have the same shape as the base array.  Only the elements in the base array with corresponding value of True in the boolean are chosen."
   ]
  },
  {
   "cell_type": "code",
   "execution_count": 3,
   "metadata": {
    "colab": {
     "base_uri": "https://localhost:8080/",
     "height": 87
    },
    "colab_type": "code",
    "executionInfo": {
     "elapsed": 695,
     "status": "ok",
     "timestamp": 1569384549199,
     "user": {
      "displayName": "ML Lo",
      "photoUrl": "",
      "userId": "11511065297651515564"
     },
     "user_tz": -480
    },
    "id": "FSbgMjTR504P",
    "outputId": "2626deaa-ed85-4a38-e28f-04294f15797f"
   },
   "outputs": [
    {
     "name": "stdout",
     "output_type": "stream",
     "text": [
      "[ 0  1  2  3  4  5  6  7  8  9 10 11]\n",
      "[ True False False  True False False  True False False  True False False]\n",
      "[0 3 6 9]\n",
      "[0 3 6 9]\n"
     ]
    }
   ],
   "source": [
    "a = np.arange(12)\n",
    "b = (a%3==0)\n",
    "\n",
    "print(a)\n",
    "print(b)\n",
    "\n",
    "print(a[b])\n",
    "\n",
    "# We can even write even more secintly as\n",
    "print(a[ a%3 == 0])"
   ]
  },
  {
   "cell_type": "markdown",
   "metadata": {
    "colab_type": "text",
    "id": "7G7_Qvp2GAn1"
   },
   "source": [
    "#### A more powerful example"
   ]
  },
  {
   "cell_type": "markdown",
   "metadata": {
    "colab_type": "text",
    "id": "1fE1Sd9lAijV"
   },
   "source": [
    "We can use boolean indexing to draw a Mandebrot set image.   The following example is drawn from the [Numpy 1.6.1 user guide](https://docs.scipy.org/doc/numpy-1.16.1/user/quickstart.html) .  \n",
    "\n",
    "It is OK if the program is hard to understand for you for now.  You can just enjoy the powerfulness of NumPy.\n",
    "\n",
    "\n"
   ]
  },
  {
   "cell_type": "code",
   "execution_count": 0,
   "metadata": {
    "colab": {
     "base_uri": "https://localhost:8080/",
     "height": 269
    },
    "colab_type": "code",
    "executionInfo": {
     "elapsed": 949,
     "status": "ok",
     "timestamp": 1555734802200,
     "user": {
      "displayName": "ML Lo",
      "photoUrl": "",
      "userId": "11511065297651515564"
     },
     "user_tz": -480
    },
    "id": "DP28aHFEAhIf",
    "outputId": "ddc81a86-92d1-47eb-c0c1-8a130c0be506"
   },
   "outputs": [
    {
     "data": {
      "image/png": "[encoded data removed]",
      "text/plain": [
       "<Figure size 432x288 with 1 Axes>"
      ]
     },
     "metadata": {
      "tags": []
     },
     "output_type": "display_data"
    }
   ],
   "source": [
    "import numpy as np\n",
    "import matplotlib.pyplot as plt\n",
    "def mandelbrot( h,w, maxit=20 ):\n",
    "    \"\"\"Returns an image of the Mandelbrot fractal of size (h,w).\"\"\"\n",
    "    y,x = np.ogrid[ -1.4:1.4:h*1j, -2:0.8:w*1j ]\n",
    "    c = x+y*1j\n",
    "    z = c\n",
    "    divtime = maxit + np.zeros(z.shape, dtype=int)\n",
    "\n",
    "    for i in range(maxit):\n",
    "        z = z**2 + c\n",
    "        diverge = z*np.conj(z) > 2**2            # who is diverging\n",
    "        div_now = diverge & (divtime==maxit)  # who is diverging now\n",
    "        divtime[div_now] = i                  # note when\n",
    "        z[diverge] = 2                        # avoid diverging too much\n",
    "\n",
    "    return divtime\n",
    "plt.imshow(mandelbrot(400,400))\n",
    "plt.show()"
   ]
  },
  {
   "cell_type": "markdown",
   "metadata": {
    "colab_type": "text",
    "id": "hKYMwJmoBg9e"
   },
   "source": [
    "#### Selecting a slice using boolean index"
   ]
  },
  {
   "cell_type": "code",
   "execution_count": 22,
   "metadata": {
    "colab": {
     "base_uri": "https://localhost:8080/",
     "height": 201
    },
    "colab_type": "code",
    "executionInfo": {
     "elapsed": 965,
     "status": "ok",
     "timestamp": 1555736406896,
     "user": {
      "displayName": "ML Lo",
      "photoUrl": "",
      "userId": "11511065297651515564"
     },
     "user_tz": -480
    },
    "id": "N1g17mP5BsqD",
    "outputId": "865b78a0-12f8-4c7f-b305-5801f0b9d7dd"
   },
   "outputs": [
    {
     "name": "stdout",
     "output_type": "stream",
     "text": [
      "[['cereal' 'milk' 'pancake']\n",
      " ['guava' 'berry' 'tomato']]\n",
      "[['cereal' 'milk' 'pancake']\n",
      " ['guava' 'berry' 'tomato']]\n",
      "[['cereal' 'pancake']\n",
      " ['banana' 'orange']\n",
      " ['guava' 'tomato']\n",
      " ['chicken' 'ham']\n",
      " ['Broccoli' 'cucumber']]\n",
      "['cereal' 'tomato']\n",
      "fff ['cereal' 'tomato']\n"
     ]
    }
   ],
   "source": [
    "food = np.array([[\"cereal\", \"milk\", \"pancake\"],\n",
    "                [\"banana\", \"apple\", \"orange\"],\n",
    "                [\"guava\", \"berry\", \"tomato\"],\n",
    "                [\"chicken\", \"sausage\", \"ham\"],\n",
    "                [\"Broccoli\", \"napa\", \"cucumber\"]])\n",
    "\n",
    "x_select = np.array([True, False, True, False, False])\n",
    "y_select = np.array([True, False, True])\n",
    "\n",
    "print(food[x_select, :])\n",
    "print(food[x_select])\n",
    "print(food[ : , y_select])\n",
    "\n",
    "# If x_select and y_select have the same number of True, then we can also do the following.\n",
    "# Numpy converts the boolean arrays to [0, 2],[0,2] (The position of True)\n",
    "print(food[x_select, y_select])\n",
    "print(\"fff\",food[[0,2],[0,2]])"
   ]
  },
  {
   "cell_type": "code",
   "execution_count": null,
   "metadata": {},
   "outputs": [],
   "source": []
  }
 ],
 "metadata": {
  "colab": {
   "collapsed_sections": [
    "BHg18RlgEAqE",
    "2knBO6Aeyut5",
    "n1_4Ea805LjA",
    "7G7_Qvp2GAn1",
    "hKYMwJmoBg9e"
   ],
   "name": "PylibNumpy2_Indexing.ipynb",
   "provenance": []
  },
  "kernelspec": {
   "display_name": "Python 3",
   "language": "python",
   "name": "python3"
  },
  "language_info": {
   "codemirror_mode": {
    "name": "ipython",
    "version": 3
   },
   "file_extension": ".py",
   "mimetype": "text/x-python",
   "name": "python",
   "nbconvert_exporter": "python",
   "pygments_lexer": "ipython3",
   "version": "3.7.3"
  }
 },
 "nbformat": 4,
 "nbformat_minor": 1
}
