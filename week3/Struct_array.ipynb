{
 "cells": [
  {
   "cell_type": "markdown",
   "metadata": {
    "colab_type": "text",
    "id": "l5rBOY3m5rHX"
   },
   "source": [
    "## Numpy structured arrays\n",
    "\n",
    "Structured arrays are ndarrays whose element datatype is a sequence of **named fields**.\n",
    "* Each named field is made of a tuple of **name** and **type indicator**\n",
    "* A little similar to a record of a database.\n",
    "* Also a little similar to the struct of C code.\n",
    "\n",
    "The following example will explain more."
   ]
  },
  {
   "cell_type": "code",
   "execution_count": 1,
   "metadata": {
    "colab": {
     "base_uri": "https://localhost:8080/",
     "height": 52
    },
    "colab_type": "code",
    "executionInfo": {
     "elapsed": 798,
     "status": "ok",
     "timestamp": 1569384970800,
     "user": {
      "displayName": "ML Lo",
      "photoUrl": "",
      "userId": "11511065297651515564"
     },
     "user_tz": -480
    },
    "id": "aV0s5v_P5gwu",
    "outputId": "a92a1286-f472-4185-ba1e-704d60f32f3a"
   },
   "outputs": [
    {
     "name": "stdout",
     "output_type": "stream",
     "text": [
      "[('John', 20, 1.7 ) ('Paul', 22, 1.75)]\n",
      "[('name', '<U10'), ('age', '<i4'), ('height', '<f4')]\n"
     ]
    }
   ],
   "source": [
    "import numpy as np\n",
    "x = np.array([('John', 20, 1.70),\n",
    "             ('Paul',22,1.75)],\n",
    "             dtype = [('name','U10'),('age','<i4'),('height','f4')])\n",
    "\n",
    "print(x)\n",
    "print(x.dtype)"
   ]
  },
  {
   "cell_type": "markdown",
   "metadata": {
    "colab_type": "text",
    "id": "3mIwkQvw6aP1"
   },
   "source": []
  },
  {
   "cell_type": "code",
   "execution_count": 2,
   "metadata": {
    "colab": {
     "base_uri": "https://localhost:8080/",
     "height": 35
    },
    "colab_type": "code",
    "executionInfo": {
     "elapsed": 704,
     "status": "ok",
     "timestamp": 1569384974964,
     "user": {
      "displayName": "ML Lo",
      "photoUrl": "",
      "userId": "11511065297651515564"
     },
     "user_tz": -480
    },
    "id": "3iGCstA27WIh",
    "outputId": "29e8143b-1828-4f7d-fc20-c6b6379f7d3b"
   },
   "outputs": [
    {
     "name": "stdout",
     "output_type": "stream",
     "text": [
      "('Paul', 22, 1.75)\n"
     ]
    }
   ],
   "source": [
    "# We can access the second person\n",
    "print(x[1])"
   ]
  },
  {
   "cell_type": "code",
   "execution_count": 3,
   "metadata": {
    "colab": {
     "base_uri": "https://localhost:8080/",
     "height": 70
    },
    "colab_type": "code",
    "executionInfo": {
     "elapsed": 680,
     "status": "ok",
     "timestamp": 1569384978020,
     "user": {
      "displayName": "ML Lo",
      "photoUrl": "",
      "userId": "11511065297651515564"
     },
     "user_tz": -480
    },
    "id": "_r5xceoE7oTT",
    "outputId": "4cce2b3f-5b8e-4ae2-a5ee-466a547e9f35"
   },
   "outputs": [
    {
     "name": "stdout",
     "output_type": "stream",
     "text": [
      "['John' 'Paul']\n",
      "[20 22]\n",
      "[1.7  1.75]\n"
     ]
    }
   ],
   "source": [
    "# We can also access the names, ages and heights of all people\n",
    "print(x['name'])\n",
    "print(x['age'])\n",
    "print(x['height'])\n"
   ]
  },
  {
   "cell_type": "code",
   "execution_count": 0,
   "metadata": {
    "colab": {
     "base_uri": "https://localhost:8080/",
     "height": 50
    },
    "colab_type": "code",
    "executionInfo": {
     "elapsed": 972,
     "status": "ok",
     "timestamp": 1555767085580,
     "user": {
      "displayName": "ML Lo",
      "photoUrl": "",
      "userId": "11511065297651515564"
     },
     "user_tz": -480
    },
    "id": "oUuYKFmc8Mqa",
    "outputId": "1bacd644-2a8e-4f03-ee3a-b0b0338e2d95"
   },
   "outputs": [
    {
     "name": "stdout",
     "output_type": "stream",
     "text": [
      "[21 23]\n",
      "[('John', 21, 1.7 ) ('Paul', 23, 1.75)]\n"
     ]
    }
   ],
   "source": [
    "# We can update the ages\n",
    "x['age'] = (21, 23)\n",
    "print(x['age'])\n",
    "print(x)"
   ]
  },
  {
   "cell_type": "markdown",
   "metadata": {
    "colab_type": "text",
    "id": "rGfCHX5W8zci"
   },
   "source": [
    "#### Comment\n",
    "\n",
    "Structured datatypes are designed to be able to mimic �泟tructs�� in the C language, and share a similar memory layout. \n",
    "* They are meant for interfacing with C code and for low-level manipulation of structured buffers, for example for interpreting binary blobs. \n",
    "* For these purposes they support specialized features such as subarrays, nested datatypes, and unions, and allow control over the memory layout of the structure.\n",
    "\n",
    "Users looking to manipulate tabular data, such as stored in csv files, may find other pydata projects more suitable, such as xarray, pandas, or DataArray. These provide a high-level interface for tabular data analysis and are better optimized for that use. For instance, the C-struct-like memory layout of structured arrays in numpy can lead to poor cache behavior in comparison.\n",
    "\n",
    "You are find out more [here](https://docs.scipy.org/doc/numpy-1.16.1/user/basics.rec.html)"
   ]
  },
  {
   "cell_type": "code",
   "execution_count": null,
   "metadata": {},
   "outputs": [],
   "source": []
  }
 ],
 "metadata": {
  "colab": {
   "collapsed_sections": [
    "l5rBOY3m5rHX"
   ],
   "name": "PylibNumpy3_StructuredArrays.ipynb",
   "provenance": []
  },
  "kernelspec": {
   "display_name": "Python 3",
   "language": "python",
   "name": "python3"
  },
  "language_info": {
   "codemirror_mode": {
    "name": "ipython",
    "version": 3
   },
   "file_extension": ".py",
   "mimetype": "text/x-python",
   "name": "python",
   "nbconvert_exporter": "python",
   "pygments_lexer": "ipython3",
   "version": "3.7.3"
  }
 },
 "nbformat": 4,
 "nbformat_minor": 1
}
