{
 "cells": [
  {
   "cell_type": "markdown",
   "metadata": {
    "colab_type": "text",
    "id": "RjWtu4QR5gXi"
   },
   "source": [
    "## A super powerful feature in Python: list comprehension!\n",
    "\n",
    "#### How to understand list comprehension?\n",
    "* The concept of list comprehesion in Python comes from the concept of set comprehension in logics and mathematics\n",
    "* Consider the following examples:\n",
    "  * $ \\{x | \\, x \\in N, 0<x<11 \\}$\n",
    "    * this is a set comprehension of {1, 2, 3, ... 10}\n",
    "  * Support $ X = \\{1, 2, 3, 4, 5 \\}$, then \n",
    "    *  $ Y = \\{2i |\\,  for \\, i \\in X \\}$ is a set comprehension of $\\{2, 4, 6, 8, 10\\}$\n",
    "    *  $ Y = \\{i+10 |\\,  for \\, i \\in X \\}$ is a set comprehension of $\\{11, 12, 13, 14, 15\\}$\n",
    "    *  We can usually also express mor complicated conditions using set comprehension.  For example $ Y = \\{i+10 |\\,  for \\, i \\in X, and\\, (i+10)/3 \\neq 0 \\}$\n",
    "\n",
    "* List comprehension in Python is very similiar!"
   ]
  },
  {
   "cell_type": "code",
   "execution_count": 5,
   "metadata": {
    "colab": {
     "base_uri": "https://localhost:8080/",
     "height": 105
    },
    "colab_type": "code",
    "executionInfo": {
     "elapsed": 639,
     "status": "ok",
     "timestamp": 1569382008794,
     "user": {
      "displayName": "ML Lo",
      "photoUrl": "",
      "userId": "11511065297651515564"
     },
     "user_tz": -480
    },
    "id": "hsaZWLE49eIr",
    "outputId": "29c2f070-25bf-4d8f-c5b9-f6098cc35c6f"
   },
   "outputs": [
    {
     "name": "stdout",
     "output_type": "stream",
     "text": [
      "[4, 5]\n",
      "[2, 4, 6, 8, 10]\n",
      "[11, 12, 13, 14, 15]\n",
      "[11, 13, 14]\n",
      "[1, 8, 27, 64, 125]\n"
     ]
    }
   ],
   "source": [
    "# Examples of list comprehension\n",
    "x = [1,2,3,4,5]\n",
    "\n",
    "y = [i for i in x if i>3]\n",
    "print(y)\n",
    "\n",
    "y = [2*i for i in x]\n",
    "print(y)\n",
    "\n",
    "y = [i+10 for i in x]\n",
    "print(y)\n",
    "\n",
    "# Expressing complicated conditions in list comprehension\n",
    "y = [i+10 for i in x if (i+10)%3 != 0]\n",
    "print(y)\n",
    "\n",
    "# You can also define more powerful operations\n",
    "y = [i**3 for i in x]\n",
    "print(y)"
   ]
  },
  {
   "cell_type": "markdown",
   "metadata": {
    "colab_type": "text",
    "id": "TvxXldJGEq2Y"
   },
   "source": [
    "# Set comprehension and Dictionary comprehension\n",
    "\n",
    "This feature is call list comprehension during to historical reasons.  \n",
    "* Actually not just list, set and dictionary can have comprehension, too.\n",
    "* Try at home as exercise.\n"
   ]
  },
  {
   "cell_type": "markdown",
   "metadata": {
    "colab_type": "text",
    "id": "nTCazaW34AtJ"
   },
   "source": [
    "### Do we have tuple comprehension?\n",
    "\n",
    "* The answer is no!\n",
    "* But we do have generator expression!"
   ]
  },
  {
   "cell_type": "code",
   "execution_count": 6,
   "metadata": {
    "colab": {
     "base_uri": "https://localhost:8080/",
     "height": 123
    },
    "colab_type": "code",
    "executionInfo": {
     "elapsed": 742,
     "status": "ok",
     "timestamp": 1569382619526,
     "user": {
      "displayName": "ML Lo",
      "photoUrl": "",
      "userId": "11511065297651515564"
     },
     "user_tz": -480
    },
    "id": "w9diodzN4EMG",
    "outputId": "296dc64e-f54d-4b09-9a8d-a272e12980ba"
   },
   "outputs": [
    {
     "name": "stdout",
     "output_type": "stream",
     "text": [
      "<generator object <genexpr> at 0x7f54ea86d678>\n",
      "1\n",
      "8\n",
      "27\n",
      "64\n",
      "125\n"
     ]
    }
   ],
   "source": [
    "# :et's try ( ) and comprehension\n",
    "x = (1,2,3,4,5)\n",
    "y = (i**3 for i in x)\n",
    "print(y)\n",
    "\n",
    "for i in y:\n",
    "  print(i)"
   ]
  }
 ],
 "metadata": {
  "colab": {
   "collapsed_sections": [],
   "name": "PyAdvanced2_Comprehension.ipynb",
   "provenance": []
  },
  "kernelspec": {
   "display_name": "Python 3",
   "language": "python",
   "name": "python3"
  },
  "language_info": {
   "codemirror_mode": {
    "name": "ipython",
    "version": 3
   },
   "file_extension": ".py",
   "mimetype": "text/x-python",
   "name": "python",
   "nbconvert_exporter": "python",
   "pygments_lexer": "ipython3",
   "version": "3.7.3"
  }
 },
 "nbformat": 4,
 "nbformat_minor": 1
}
