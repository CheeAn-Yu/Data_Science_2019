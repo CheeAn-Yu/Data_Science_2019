{
 "cells": [
  {
   "cell_type": "code",
   "execution_count": 1,
   "metadata": {},
   "outputs": [],
   "source": [
    "# make the final full dataframe 2867154 rows x 68 columns 2015~2018\n",
    "import os\n",
    "import numpy as np\n",
    "import pandas as pd\n",
    "import matplotlib.pyplot as plt\n",
    "pitches = pd.read_csv(\"pitches.csv\")\n",
    "games = pd.read_csv(\"games.csv\")\n",
    "player_name = pd.read_csv(\"player_names.csv\")\n",
    "atbats = pd.read_csv(\"atbats.csv\")\n",
    "pitches[\"ab_id\"] = pitches[\"ab_id\"].astype(int)\n",
    "player_name.rename(columns={\"id\": \"batter_id\" }, inplace=True)\n",
    "new_df = pd.merge(pitches, atbats,  how='left', left_on='ab_id', right_on = 'ab_id')\n",
    "new_df1 = pd.merge(new_df, games, how='left', left_on='g_id', right_on=\"g_id\")\n",
    "new_df2 = pd.merge(new_df1, player_name, how='left', left_on='batter_id', right_on=\"batter_id\")\n",
    "new_df2[\"Batters Name\"] = new_df2[[\"first_name\", 'last_name']].apply(lambda x: ' '.join(x), axis=1)\n",
    "new_df2.drop(['first_name', 'last_name'], axis=1, inplace=True)\n",
    "player_name.rename(columns={'batter_id': 'pitcher_id'}, inplace=True)\n",
    "\n",
    "# get final dataframe\n",
    "final_df = pd.merge(new_df2, player_name, how='left', left_on='pitcher_id', right_on='pitcher_id')\n",
    "\n",
    "# rename some columns\n",
    "final_df['Pitcher_name'] = final_df[['first_name', 'last_name']].apply(lambda x: \" \".join(x), axis=1)\n",
    "final_df.drop(['first_name', 'last_name'], axis=1, inplace=True)\n",
    "final_df['pitch_type'] = final_df['pitch_type'].map({'FF': 'Four Seam Fastball', 'SL': 'Slider', 'FT': 'Two seam fastball', 'CH': 'Changeup', 'SI': 'Sinker', 'CU': 'Curveball', 'FC': 'Cutter', 'KC': 'Knuckle Curve', 'FS': 'Splitter','KN': 'Knuckleball', 'EP': 'Eephus', 'FO': 'Pitch Out', 'PO': 'Pitch Out', 'SC': 'Screwball', 'UN': 'Unidentified', 'FA': 'Fastball', 'IN': 'Intentional Ball'})\n",
    "final_df['code'] = final_df['code'].map({'B': 'Ball', '*B': 'Ball in dirt', 'S': 'Swinging Strike', 'C': 'Called Strike', 'F': 'Foul', 'T': 'Foul Tip', 'L': 'Foul Bunt', 'I': 'Intentional Ball', 'W': 'Blocked','M': 'Missed Bunt', 'P': 'Pitch Out', 'Q': 'Swinging Pitch Out', 'R': 'Foul Pitch Out', 'X': 'In play out(s)', 'D': 'In play no out', 'E': 'In play runs'})\n",
    "final_df = final_df[sorted(final_df.columns)]\n"
   ]
  },
  {
   "cell_type": "code",
   "execution_count": 2,
   "metadata": {},
   "outputs": [
    {
     "data": {
      "text/plain": [
       "Index(['Batters Name', 'Pitcher_name', 'ab_id', 'attendance',\n",
       "       'away_final_score', 'away_team', 'ax', 'ay', 'az', 'b_count', 'b_score',\n",
       "       'batter_id', 'break_angle', 'break_length', 'break_y', 'code', 'date',\n",
       "       'delay', 'elapsed_time', 'end_speed', 'event', 'event_num', 'g_id',\n",
       "       'home_final_score', 'home_team', 'inning', 'nasty', 'o', 'on_1b',\n",
       "       'on_2b', 'on_3b', 'outs', 'p_score', 'p_throws', 'pfx_x', 'pfx_z',\n",
       "       'pitch_num', 'pitch_type', 'pitcher_id', 'px', 'pz', 's_count',\n",
       "       'spin_dir', 'spin_rate', 'stand', 'start_speed', 'start_time', 'sz_bot',\n",
       "       'sz_top', 'top', 'type', 'type_confidence', 'umpire_1B', 'umpire_2B',\n",
       "       'umpire_3B', 'umpire_HP', 'venue_name', 'vx0', 'vy0', 'vz0', 'weather',\n",
       "       'wind', 'x', 'x0', 'y', 'y0', 'z0', 'zone'],\n",
       "      dtype='object')"
      ]
     },
     "execution_count": 2,
     "metadata": {},
     "output_type": "execute_result"
    }
   ],
   "source": [
    "final_df.columns"
   ]
  },
  {
   "cell_type": "code",
   "execution_count": 24,
   "metadata": {},
   "outputs": [
    {
     "data": {
      "text/plain": [
       "5                 Groundout\n",
       "7                    Double\n",
       "10                   Single\n",
       "20                   Double\n",
       "24                Groundout\n",
       "33                Groundout\n",
       "47                   Single\n",
       "54                   Single\n",
       "58                   Double\n",
       "67                   Flyout\n",
       "71                   Double\n",
       "78                Groundout\n",
       "85                Groundout\n",
       "92                   Single\n",
       "98                   Flyout\n",
       "121                Forceout\n",
       "129               Groundout\n",
       "130               Groundout\n",
       "132               Groundout\n",
       "138               Groundout\n",
       "144                  Single\n",
       "150                  Single\n",
       "151                  Single\n",
       "153                 Pop Out\n",
       "170                  Double\n",
       "172                 Lineout\n",
       "178                  Flyout\n",
       "186                  Flyout\n",
       "189                 Pop Out\n",
       "196               Groundout\n",
       "                 ...       \n",
       "2866992              Flyout\n",
       "2866998              Single\n",
       "2866999            Sac Bunt\n",
       "2867000              Flyout\n",
       "2867002            Home Run\n",
       "2867003              Flyout\n",
       "2867016              Flyout\n",
       "2867022              Single\n",
       "2867032    Grounded Into DP\n",
       "2867040    Grounded Into DP\n",
       "2867044              Single\n",
       "2867055           Groundout\n",
       "2867058           Groundout\n",
       "2867060           Groundout\n",
       "2867062           Groundout\n",
       "2867070           Groundout\n",
       "2867073              Single\n",
       "2867078              Double\n",
       "2867084              Single\n",
       "2867095              Single\n",
       "2867103              Flyout\n",
       "2867110             Lineout\n",
       "2867120           Groundout\n",
       "2867122              Single\n",
       "2867126             Pop Out\n",
       "2867129              Single\n",
       "2867132           Groundout\n",
       "2867140              Flyout\n",
       "2867149              Single\n",
       "2867153              Flyout\n",
       "Name: event, Length: 512164, dtype: object"
      ]
     },
     "execution_count": 24,
     "metadata": {},
     "output_type": "execute_result"
    }
   ],
   "source": [
    "final_df.loc[final_df['code'].str.contains('In play')==True]['event']"
   ]
  },
  {
   "cell_type": "code",
   "execution_count": 9,
   "metadata": {},
   "outputs": [
    {
     "data": {
      "text/html": [
       "<div>\n",
       "<style scoped>\n",
       "    .dataframe tbody tr th:only-of-type {\n",
       "        vertical-align: middle;\n",
       "    }\n",
       "\n",
       "    .dataframe tbody tr th {\n",
       "        vertical-align: top;\n",
       "    }\n",
       "\n",
       "    .dataframe thead th {\n",
       "        text-align: right;\n",
       "    }\n",
       "</style>\n",
       "<table border=\"1\" class=\"dataframe\">\n",
       "  <thead>\n",
       "    <tr style=\"text-align: right;\">\n",
       "      <th></th>\n",
       "      <th>code</th>\n",
       "      <th>event</th>\n",
       "      <th>o</th>\n",
       "      <th>on_1b</th>\n",
       "      <th>on_2b</th>\n",
       "      <th>on_3b</th>\n",
       "      <th>outs</th>\n",
       "      <th>p_score</th>\n",
       "      <th>p_throws</th>\n",
       "    </tr>\n",
       "  </thead>\n",
       "  <tbody>\n",
       "    <tr>\n",
       "      <th>0</th>\n",
       "      <td>Called Strike</td>\n",
       "      <td>Groundout</td>\n",
       "      <td>1</td>\n",
       "      <td>0.0</td>\n",
       "      <td>0.0</td>\n",
       "      <td>0.0</td>\n",
       "      <td>0.0</td>\n",
       "      <td>0</td>\n",
       "      <td>L</td>\n",
       "    </tr>\n",
       "    <tr>\n",
       "      <th>1</th>\n",
       "      <td>Swinging Strike</td>\n",
       "      <td>Groundout</td>\n",
       "      <td>1</td>\n",
       "      <td>0.0</td>\n",
       "      <td>0.0</td>\n",
       "      <td>0.0</td>\n",
       "      <td>0.0</td>\n",
       "      <td>0</td>\n",
       "      <td>L</td>\n",
       "    </tr>\n",
       "    <tr>\n",
       "      <th>2</th>\n",
       "      <td>Foul</td>\n",
       "      <td>Groundout</td>\n",
       "      <td>1</td>\n",
       "      <td>0.0</td>\n",
       "      <td>0.0</td>\n",
       "      <td>0.0</td>\n",
       "      <td>0.0</td>\n",
       "      <td>0</td>\n",
       "      <td>L</td>\n",
       "    </tr>\n",
       "    <tr>\n",
       "      <th>3</th>\n",
       "      <td>Ball</td>\n",
       "      <td>Groundout</td>\n",
       "      <td>1</td>\n",
       "      <td>0.0</td>\n",
       "      <td>0.0</td>\n",
       "      <td>0.0</td>\n",
       "      <td>0.0</td>\n",
       "      <td>0</td>\n",
       "      <td>L</td>\n",
       "    </tr>\n",
       "    <tr>\n",
       "      <th>4</th>\n",
       "      <td>Ball</td>\n",
       "      <td>Groundout</td>\n",
       "      <td>1</td>\n",
       "      <td>0.0</td>\n",
       "      <td>0.0</td>\n",
       "      <td>0.0</td>\n",
       "      <td>0.0</td>\n",
       "      <td>0</td>\n",
       "      <td>L</td>\n",
       "    </tr>\n",
       "    <tr>\n",
       "      <th>5</th>\n",
       "      <td>In play out(s)</td>\n",
       "      <td>Groundout</td>\n",
       "      <td>1</td>\n",
       "      <td>0.0</td>\n",
       "      <td>0.0</td>\n",
       "      <td>0.0</td>\n",
       "      <td>0.0</td>\n",
       "      <td>0</td>\n",
       "      <td>L</td>\n",
       "    </tr>\n",
       "    <tr>\n",
       "      <th>6</th>\n",
       "      <td>Ball</td>\n",
       "      <td>Double</td>\n",
       "      <td>1</td>\n",
       "      <td>0.0</td>\n",
       "      <td>0.0</td>\n",
       "      <td>0.0</td>\n",
       "      <td>1.0</td>\n",
       "      <td>0</td>\n",
       "      <td>L</td>\n",
       "    </tr>\n",
       "    <tr>\n",
       "      <th>7</th>\n",
       "      <td>In play no out</td>\n",
       "      <td>Double</td>\n",
       "      <td>1</td>\n",
       "      <td>0.0</td>\n",
       "      <td>0.0</td>\n",
       "      <td>0.0</td>\n",
       "      <td>1.0</td>\n",
       "      <td>0</td>\n",
       "      <td>L</td>\n",
       "    </tr>\n",
       "    <tr>\n",
       "      <th>8</th>\n",
       "      <td>Ball</td>\n",
       "      <td>Single</td>\n",
       "      <td>1</td>\n",
       "      <td>0.0</td>\n",
       "      <td>1.0</td>\n",
       "      <td>0.0</td>\n",
       "      <td>1.0</td>\n",
       "      <td>0</td>\n",
       "      <td>L</td>\n",
       "    </tr>\n",
       "    <tr>\n",
       "      <th>9</th>\n",
       "      <td>Ball</td>\n",
       "      <td>Single</td>\n",
       "      <td>1</td>\n",
       "      <td>0.0</td>\n",
       "      <td>1.0</td>\n",
       "      <td>0.0</td>\n",
       "      <td>1.0</td>\n",
       "      <td>0</td>\n",
       "      <td>L</td>\n",
       "    </tr>\n",
       "    <tr>\n",
       "      <th>10</th>\n",
       "      <td>In play runs</td>\n",
       "      <td>Single</td>\n",
       "      <td>1</td>\n",
       "      <td>0.0</td>\n",
       "      <td>1.0</td>\n",
       "      <td>0.0</td>\n",
       "      <td>1.0</td>\n",
       "      <td>0</td>\n",
       "      <td>L</td>\n",
       "    </tr>\n",
       "    <tr>\n",
       "      <th>11</th>\n",
       "      <td>Foul</td>\n",
       "      <td>Strikeout</td>\n",
       "      <td>2</td>\n",
       "      <td>1.0</td>\n",
       "      <td>0.0</td>\n",
       "      <td>0.0</td>\n",
       "      <td>1.0</td>\n",
       "      <td>0</td>\n",
       "      <td>L</td>\n",
       "    </tr>\n",
       "    <tr>\n",
       "      <th>12</th>\n",
       "      <td>Foul</td>\n",
       "      <td>Strikeout</td>\n",
       "      <td>2</td>\n",
       "      <td>1.0</td>\n",
       "      <td>0.0</td>\n",
       "      <td>0.0</td>\n",
       "      <td>1.0</td>\n",
       "      <td>0</td>\n",
       "      <td>L</td>\n",
       "    </tr>\n",
       "    <tr>\n",
       "      <th>13</th>\n",
       "      <td>Swinging Strike</td>\n",
       "      <td>Strikeout</td>\n",
       "      <td>2</td>\n",
       "      <td>1.0</td>\n",
       "      <td>0.0</td>\n",
       "      <td>0.0</td>\n",
       "      <td>1.0</td>\n",
       "      <td>0</td>\n",
       "      <td>L</td>\n",
       "    </tr>\n",
       "    <tr>\n",
       "      <th>14</th>\n",
       "      <td>Ball</td>\n",
       "      <td>Strikeout</td>\n",
       "      <td>3</td>\n",
       "      <td>1.0</td>\n",
       "      <td>0.0</td>\n",
       "      <td>0.0</td>\n",
       "      <td>2.0</td>\n",
       "      <td>0</td>\n",
       "      <td>L</td>\n",
       "    </tr>\n",
       "    <tr>\n",
       "      <th>15</th>\n",
       "      <td>Foul</td>\n",
       "      <td>Strikeout</td>\n",
       "      <td>3</td>\n",
       "      <td>1.0</td>\n",
       "      <td>0.0</td>\n",
       "      <td>0.0</td>\n",
       "      <td>2.0</td>\n",
       "      <td>0</td>\n",
       "      <td>L</td>\n",
       "    </tr>\n",
       "    <tr>\n",
       "      <th>16</th>\n",
       "      <td>Foul</td>\n",
       "      <td>Strikeout</td>\n",
       "      <td>3</td>\n",
       "      <td>1.0</td>\n",
       "      <td>0.0</td>\n",
       "      <td>0.0</td>\n",
       "      <td>2.0</td>\n",
       "      <td>0</td>\n",
       "      <td>L</td>\n",
       "    </tr>\n",
       "    <tr>\n",
       "      <th>17</th>\n",
       "      <td>Foul</td>\n",
       "      <td>Strikeout</td>\n",
       "      <td>3</td>\n",
       "      <td>1.0</td>\n",
       "      <td>0.0</td>\n",
       "      <td>0.0</td>\n",
       "      <td>2.0</td>\n",
       "      <td>0</td>\n",
       "      <td>L</td>\n",
       "    </tr>\n",
       "    <tr>\n",
       "      <th>18</th>\n",
       "      <td>Swinging Strike</td>\n",
       "      <td>Strikeout</td>\n",
       "      <td>3</td>\n",
       "      <td>1.0</td>\n",
       "      <td>0.0</td>\n",
       "      <td>0.0</td>\n",
       "      <td>2.0</td>\n",
       "      <td>0</td>\n",
       "      <td>L</td>\n",
       "    </tr>\n",
       "    <tr>\n",
       "      <th>19</th>\n",
       "      <td>Ball</td>\n",
       "      <td>Double</td>\n",
       "      <td>0</td>\n",
       "      <td>0.0</td>\n",
       "      <td>0.0</td>\n",
       "      <td>0.0</td>\n",
       "      <td>0.0</td>\n",
       "      <td>1</td>\n",
       "      <td>R</td>\n",
       "    </tr>\n",
       "    <tr>\n",
       "      <th>20</th>\n",
       "      <td>In play no out</td>\n",
       "      <td>Double</td>\n",
       "      <td>0</td>\n",
       "      <td>0.0</td>\n",
       "      <td>0.0</td>\n",
       "      <td>0.0</td>\n",
       "      <td>0.0</td>\n",
       "      <td>1</td>\n",
       "      <td>R</td>\n",
       "    </tr>\n",
       "    <tr>\n",
       "      <th>21</th>\n",
       "      <td>Foul</td>\n",
       "      <td>Groundout</td>\n",
       "      <td>1</td>\n",
       "      <td>0.0</td>\n",
       "      <td>1.0</td>\n",
       "      <td>0.0</td>\n",
       "      <td>0.0</td>\n",
       "      <td>1</td>\n",
       "      <td>R</td>\n",
       "    </tr>\n",
       "    <tr>\n",
       "      <th>22</th>\n",
       "      <td>Ball in dirt</td>\n",
       "      <td>Groundout</td>\n",
       "      <td>1</td>\n",
       "      <td>0.0</td>\n",
       "      <td>1.0</td>\n",
       "      <td>0.0</td>\n",
       "      <td>0.0</td>\n",
       "      <td>1</td>\n",
       "      <td>R</td>\n",
       "    </tr>\n",
       "    <tr>\n",
       "      <th>23</th>\n",
       "      <td>Swinging Strike</td>\n",
       "      <td>Groundout</td>\n",
       "      <td>1</td>\n",
       "      <td>0.0</td>\n",
       "      <td>1.0</td>\n",
       "      <td>0.0</td>\n",
       "      <td>0.0</td>\n",
       "      <td>1</td>\n",
       "      <td>R</td>\n",
       "    </tr>\n",
       "    <tr>\n",
       "      <th>24</th>\n",
       "      <td>In play out(s)</td>\n",
       "      <td>Groundout</td>\n",
       "      <td>1</td>\n",
       "      <td>0.0</td>\n",
       "      <td>1.0</td>\n",
       "      <td>0.0</td>\n",
       "      <td>0.0</td>\n",
       "      <td>1</td>\n",
       "      <td>R</td>\n",
       "    </tr>\n",
       "    <tr>\n",
       "      <th>25</th>\n",
       "      <td>Ball in dirt</td>\n",
       "      <td>Strikeout</td>\n",
       "      <td>2</td>\n",
       "      <td>0.0</td>\n",
       "      <td>0.0</td>\n",
       "      <td>1.0</td>\n",
       "      <td>1.0</td>\n",
       "      <td>1</td>\n",
       "      <td>R</td>\n",
       "    </tr>\n",
       "    <tr>\n",
       "      <th>26</th>\n",
       "      <td>Swinging Strike</td>\n",
       "      <td>Strikeout</td>\n",
       "      <td>2</td>\n",
       "      <td>0.0</td>\n",
       "      <td>0.0</td>\n",
       "      <td>1.0</td>\n",
       "      <td>1.0</td>\n",
       "      <td>1</td>\n",
       "      <td>R</td>\n",
       "    </tr>\n",
       "    <tr>\n",
       "      <th>27</th>\n",
       "      <td>Called Strike</td>\n",
       "      <td>Strikeout</td>\n",
       "      <td>2</td>\n",
       "      <td>0.0</td>\n",
       "      <td>0.0</td>\n",
       "      <td>1.0</td>\n",
       "      <td>1.0</td>\n",
       "      <td>1</td>\n",
       "      <td>R</td>\n",
       "    </tr>\n",
       "    <tr>\n",
       "      <th>28</th>\n",
       "      <td>Ball in dirt</td>\n",
       "      <td>Strikeout</td>\n",
       "      <td>2</td>\n",
       "      <td>0.0</td>\n",
       "      <td>0.0</td>\n",
       "      <td>1.0</td>\n",
       "      <td>1.0</td>\n",
       "      <td>1</td>\n",
       "      <td>R</td>\n",
       "    </tr>\n",
       "    <tr>\n",
       "      <th>29</th>\n",
       "      <td>Called Strike</td>\n",
       "      <td>Strikeout</td>\n",
       "      <td>2</td>\n",
       "      <td>0.0</td>\n",
       "      <td>0.0</td>\n",
       "      <td>1.0</td>\n",
       "      <td>1.0</td>\n",
       "      <td>1</td>\n",
       "      <td>R</td>\n",
       "    </tr>\n",
       "    <tr>\n",
       "      <th>...</th>\n",
       "      <td>...</td>\n",
       "      <td>...</td>\n",
       "      <td>...</td>\n",
       "      <td>...</td>\n",
       "      <td>...</td>\n",
       "      <td>...</td>\n",
       "      <td>...</td>\n",
       "      <td>...</td>\n",
       "      <td>...</td>\n",
       "    </tr>\n",
       "    <tr>\n",
       "      <th>2867124</th>\n",
       "      <td>Ball</td>\n",
       "      <td>Pop Out</td>\n",
       "      <td>2</td>\n",
       "      <td>1.0</td>\n",
       "      <td>0.0</td>\n",
       "      <td>0.0</td>\n",
       "      <td>1.0</td>\n",
       "      <td>1</td>\n",
       "      <td>L</td>\n",
       "    </tr>\n",
       "    <tr>\n",
       "      <th>2867125</th>\n",
       "      <td>Called Strike</td>\n",
       "      <td>Pop Out</td>\n",
       "      <td>2</td>\n",
       "      <td>1.0</td>\n",
       "      <td>0.0</td>\n",
       "      <td>0.0</td>\n",
       "      <td>1.0</td>\n",
       "      <td>1</td>\n",
       "      <td>L</td>\n",
       "    </tr>\n",
       "    <tr>\n",
       "      <th>2867126</th>\n",
       "      <td>In play out(s)</td>\n",
       "      <td>Pop Out</td>\n",
       "      <td>2</td>\n",
       "      <td>1.0</td>\n",
       "      <td>0.0</td>\n",
       "      <td>0.0</td>\n",
       "      <td>1.0</td>\n",
       "      <td>1</td>\n",
       "      <td>L</td>\n",
       "    </tr>\n",
       "    <tr>\n",
       "      <th>2867127</th>\n",
       "      <td>Ball</td>\n",
       "      <td>Single</td>\n",
       "      <td>2</td>\n",
       "      <td>1.0</td>\n",
       "      <td>0.0</td>\n",
       "      <td>0.0</td>\n",
       "      <td>2.0</td>\n",
       "      <td>1</td>\n",
       "      <td>L</td>\n",
       "    </tr>\n",
       "    <tr>\n",
       "      <th>2867128</th>\n",
       "      <td>Foul</td>\n",
       "      <td>Single</td>\n",
       "      <td>2</td>\n",
       "      <td>1.0</td>\n",
       "      <td>0.0</td>\n",
       "      <td>0.0</td>\n",
       "      <td>2.0</td>\n",
       "      <td>1</td>\n",
       "      <td>L</td>\n",
       "    </tr>\n",
       "    <tr>\n",
       "      <th>2867129</th>\n",
       "      <td>In play no out</td>\n",
       "      <td>Single</td>\n",
       "      <td>2</td>\n",
       "      <td>1.0</td>\n",
       "      <td>0.0</td>\n",
       "      <td>0.0</td>\n",
       "      <td>2.0</td>\n",
       "      <td>1</td>\n",
       "      <td>L</td>\n",
       "    </tr>\n",
       "    <tr>\n",
       "      <th>2867130</th>\n",
       "      <td>Ball</td>\n",
       "      <td>Groundout</td>\n",
       "      <td>3</td>\n",
       "      <td>1.0</td>\n",
       "      <td>1.0</td>\n",
       "      <td>0.0</td>\n",
       "      <td>2.0</td>\n",
       "      <td>1</td>\n",
       "      <td>L</td>\n",
       "    </tr>\n",
       "    <tr>\n",
       "      <th>2867131</th>\n",
       "      <td>Swinging Strike</td>\n",
       "      <td>Groundout</td>\n",
       "      <td>3</td>\n",
       "      <td>1.0</td>\n",
       "      <td>1.0</td>\n",
       "      <td>0.0</td>\n",
       "      <td>2.0</td>\n",
       "      <td>1</td>\n",
       "      <td>L</td>\n",
       "    </tr>\n",
       "    <tr>\n",
       "      <th>2867132</th>\n",
       "      <td>In play out(s)</td>\n",
       "      <td>Groundout</td>\n",
       "      <td>3</td>\n",
       "      <td>1.0</td>\n",
       "      <td>1.0</td>\n",
       "      <td>0.0</td>\n",
       "      <td>2.0</td>\n",
       "      <td>1</td>\n",
       "      <td>L</td>\n",
       "    </tr>\n",
       "    <tr>\n",
       "      <th>2867133</th>\n",
       "      <td>Called Strike</td>\n",
       "      <td>Strikeout</td>\n",
       "      <td>1</td>\n",
       "      <td>0.0</td>\n",
       "      <td>0.0</td>\n",
       "      <td>0.0</td>\n",
       "      <td>0.0</td>\n",
       "      <td>3</td>\n",
       "      <td>L</td>\n",
       "    </tr>\n",
       "    <tr>\n",
       "      <th>2867134</th>\n",
       "      <td>Swinging Strike</td>\n",
       "      <td>Strikeout</td>\n",
       "      <td>1</td>\n",
       "      <td>0.0</td>\n",
       "      <td>0.0</td>\n",
       "      <td>0.0</td>\n",
       "      <td>0.0</td>\n",
       "      <td>3</td>\n",
       "      <td>L</td>\n",
       "    </tr>\n",
       "    <tr>\n",
       "      <th>2867135</th>\n",
       "      <td>Foul</td>\n",
       "      <td>Strikeout</td>\n",
       "      <td>1</td>\n",
       "      <td>0.0</td>\n",
       "      <td>0.0</td>\n",
       "      <td>0.0</td>\n",
       "      <td>0.0</td>\n",
       "      <td>3</td>\n",
       "      <td>L</td>\n",
       "    </tr>\n",
       "    <tr>\n",
       "      <th>2867136</th>\n",
       "      <td>Swinging Strike</td>\n",
       "      <td>Strikeout</td>\n",
       "      <td>1</td>\n",
       "      <td>0.0</td>\n",
       "      <td>0.0</td>\n",
       "      <td>0.0</td>\n",
       "      <td>0.0</td>\n",
       "      <td>3</td>\n",
       "      <td>L</td>\n",
       "    </tr>\n",
       "    <tr>\n",
       "      <th>2867137</th>\n",
       "      <td>Foul</td>\n",
       "      <td>Flyout</td>\n",
       "      <td>2</td>\n",
       "      <td>0.0</td>\n",
       "      <td>0.0</td>\n",
       "      <td>0.0</td>\n",
       "      <td>1.0</td>\n",
       "      <td>3</td>\n",
       "      <td>L</td>\n",
       "    </tr>\n",
       "    <tr>\n",
       "      <th>2867138</th>\n",
       "      <td>Ball</td>\n",
       "      <td>Flyout</td>\n",
       "      <td>2</td>\n",
       "      <td>0.0</td>\n",
       "      <td>0.0</td>\n",
       "      <td>0.0</td>\n",
       "      <td>1.0</td>\n",
       "      <td>3</td>\n",
       "      <td>L</td>\n",
       "    </tr>\n",
       "    <tr>\n",
       "      <th>2867139</th>\n",
       "      <td>Ball</td>\n",
       "      <td>Flyout</td>\n",
       "      <td>2</td>\n",
       "      <td>0.0</td>\n",
       "      <td>0.0</td>\n",
       "      <td>0.0</td>\n",
       "      <td>1.0</td>\n",
       "      <td>3</td>\n",
       "      <td>L</td>\n",
       "    </tr>\n",
       "    <tr>\n",
       "      <th>2867140</th>\n",
       "      <td>In play out(s)</td>\n",
       "      <td>Flyout</td>\n",
       "      <td>2</td>\n",
       "      <td>0.0</td>\n",
       "      <td>0.0</td>\n",
       "      <td>0.0</td>\n",
       "      <td>1.0</td>\n",
       "      <td>3</td>\n",
       "      <td>L</td>\n",
       "    </tr>\n",
       "    <tr>\n",
       "      <th>2867141</th>\n",
       "      <td>Ball</td>\n",
       "      <td>Single</td>\n",
       "      <td>2</td>\n",
       "      <td>0.0</td>\n",
       "      <td>0.0</td>\n",
       "      <td>0.0</td>\n",
       "      <td>2.0</td>\n",
       "      <td>3</td>\n",
       "      <td>L</td>\n",
       "    </tr>\n",
       "    <tr>\n",
       "      <th>2867142</th>\n",
       "      <td>Ball</td>\n",
       "      <td>Single</td>\n",
       "      <td>2</td>\n",
       "      <td>0.0</td>\n",
       "      <td>0.0</td>\n",
       "      <td>0.0</td>\n",
       "      <td>2.0</td>\n",
       "      <td>3</td>\n",
       "      <td>L</td>\n",
       "    </tr>\n",
       "    <tr>\n",
       "      <th>2867143</th>\n",
       "      <td>Ball</td>\n",
       "      <td>Single</td>\n",
       "      <td>2</td>\n",
       "      <td>0.0</td>\n",
       "      <td>0.0</td>\n",
       "      <td>0.0</td>\n",
       "      <td>2.0</td>\n",
       "      <td>3</td>\n",
       "      <td>L</td>\n",
       "    </tr>\n",
       "    <tr>\n",
       "      <th>2867144</th>\n",
       "      <td>Called Strike</td>\n",
       "      <td>Single</td>\n",
       "      <td>2</td>\n",
       "      <td>0.0</td>\n",
       "      <td>0.0</td>\n",
       "      <td>0.0</td>\n",
       "      <td>2.0</td>\n",
       "      <td>3</td>\n",
       "      <td>L</td>\n",
       "    </tr>\n",
       "    <tr>\n",
       "      <th>2867145</th>\n",
       "      <td>Called Strike</td>\n",
       "      <td>Single</td>\n",
       "      <td>2</td>\n",
       "      <td>0.0</td>\n",
       "      <td>0.0</td>\n",
       "      <td>0.0</td>\n",
       "      <td>2.0</td>\n",
       "      <td>3</td>\n",
       "      <td>L</td>\n",
       "    </tr>\n",
       "    <tr>\n",
       "      <th>2867146</th>\n",
       "      <td>Foul</td>\n",
       "      <td>Single</td>\n",
       "      <td>2</td>\n",
       "      <td>0.0</td>\n",
       "      <td>0.0</td>\n",
       "      <td>0.0</td>\n",
       "      <td>2.0</td>\n",
       "      <td>3</td>\n",
       "      <td>L</td>\n",
       "    </tr>\n",
       "    <tr>\n",
       "      <th>2867147</th>\n",
       "      <td>Foul</td>\n",
       "      <td>Single</td>\n",
       "      <td>2</td>\n",
       "      <td>0.0</td>\n",
       "      <td>0.0</td>\n",
       "      <td>0.0</td>\n",
       "      <td>2.0</td>\n",
       "      <td>3</td>\n",
       "      <td>L</td>\n",
       "    </tr>\n",
       "    <tr>\n",
       "      <th>2867148</th>\n",
       "      <td>Foul</td>\n",
       "      <td>Single</td>\n",
       "      <td>2</td>\n",
       "      <td>0.0</td>\n",
       "      <td>0.0</td>\n",
       "      <td>0.0</td>\n",
       "      <td>2.0</td>\n",
       "      <td>3</td>\n",
       "      <td>L</td>\n",
       "    </tr>\n",
       "    <tr>\n",
       "      <th>2867149</th>\n",
       "      <td>In play no out</td>\n",
       "      <td>Single</td>\n",
       "      <td>2</td>\n",
       "      <td>0.0</td>\n",
       "      <td>0.0</td>\n",
       "      <td>0.0</td>\n",
       "      <td>2.0</td>\n",
       "      <td>3</td>\n",
       "      <td>L</td>\n",
       "    </tr>\n",
       "    <tr>\n",
       "      <th>2867150</th>\n",
       "      <td>Ball</td>\n",
       "      <td>Flyout</td>\n",
       "      <td>3</td>\n",
       "      <td>1.0</td>\n",
       "      <td>0.0</td>\n",
       "      <td>0.0</td>\n",
       "      <td>2.0</td>\n",
       "      <td>3</td>\n",
       "      <td>L</td>\n",
       "    </tr>\n",
       "    <tr>\n",
       "      <th>2867151</th>\n",
       "      <td>Foul</td>\n",
       "      <td>Flyout</td>\n",
       "      <td>3</td>\n",
       "      <td>0.0</td>\n",
       "      <td>1.0</td>\n",
       "      <td>0.0</td>\n",
       "      <td>2.0</td>\n",
       "      <td>3</td>\n",
       "      <td>L</td>\n",
       "    </tr>\n",
       "    <tr>\n",
       "      <th>2867152</th>\n",
       "      <td>Swinging Strike</td>\n",
       "      <td>Flyout</td>\n",
       "      <td>3</td>\n",
       "      <td>0.0</td>\n",
       "      <td>1.0</td>\n",
       "      <td>0.0</td>\n",
       "      <td>2.0</td>\n",
       "      <td>3</td>\n",
       "      <td>L</td>\n",
       "    </tr>\n",
       "    <tr>\n",
       "      <th>2867153</th>\n",
       "      <td>In play out(s)</td>\n",
       "      <td>Flyout</td>\n",
       "      <td>3</td>\n",
       "      <td>0.0</td>\n",
       "      <td>1.0</td>\n",
       "      <td>0.0</td>\n",
       "      <td>2.0</td>\n",
       "      <td>3</td>\n",
       "      <td>L</td>\n",
       "    </tr>\n",
       "  </tbody>\n",
       "</table>\n",
       "<p>2867154 rows × 9 columns</p>\n",
       "</div>"
      ],
      "text/plain": [
       "                    code      event  o  on_1b  on_2b  on_3b  outs  p_score  \\\n",
       "0          Called Strike  Groundout  1    0.0    0.0    0.0   0.0        0   \n",
       "1        Swinging Strike  Groundout  1    0.0    0.0    0.0   0.0        0   \n",
       "2                   Foul  Groundout  1    0.0    0.0    0.0   0.0        0   \n",
       "3                   Ball  Groundout  1    0.0    0.0    0.0   0.0        0   \n",
       "4                   Ball  Groundout  1    0.0    0.0    0.0   0.0        0   \n",
       "5         In play out(s)  Groundout  1    0.0    0.0    0.0   0.0        0   \n",
       "6                   Ball     Double  1    0.0    0.0    0.0   1.0        0   \n",
       "7         In play no out     Double  1    0.0    0.0    0.0   1.0        0   \n",
       "8                   Ball     Single  1    0.0    1.0    0.0   1.0        0   \n",
       "9                   Ball     Single  1    0.0    1.0    0.0   1.0        0   \n",
       "10          In play runs     Single  1    0.0    1.0    0.0   1.0        0   \n",
       "11                  Foul  Strikeout  2    1.0    0.0    0.0   1.0        0   \n",
       "12                  Foul  Strikeout  2    1.0    0.0    0.0   1.0        0   \n",
       "13       Swinging Strike  Strikeout  2    1.0    0.0    0.0   1.0        0   \n",
       "14                  Ball  Strikeout  3    1.0    0.0    0.0   2.0        0   \n",
       "15                  Foul  Strikeout  3    1.0    0.0    0.0   2.0        0   \n",
       "16                  Foul  Strikeout  3    1.0    0.0    0.0   2.0        0   \n",
       "17                  Foul  Strikeout  3    1.0    0.0    0.0   2.0        0   \n",
       "18       Swinging Strike  Strikeout  3    1.0    0.0    0.0   2.0        0   \n",
       "19                  Ball     Double  0    0.0    0.0    0.0   0.0        1   \n",
       "20        In play no out     Double  0    0.0    0.0    0.0   0.0        1   \n",
       "21                  Foul  Groundout  1    0.0    1.0    0.0   0.0        1   \n",
       "22          Ball in dirt  Groundout  1    0.0    1.0    0.0   0.0        1   \n",
       "23       Swinging Strike  Groundout  1    0.0    1.0    0.0   0.0        1   \n",
       "24        In play out(s)  Groundout  1    0.0    1.0    0.0   0.0        1   \n",
       "25          Ball in dirt  Strikeout  2    0.0    0.0    1.0   1.0        1   \n",
       "26       Swinging Strike  Strikeout  2    0.0    0.0    1.0   1.0        1   \n",
       "27         Called Strike  Strikeout  2    0.0    0.0    1.0   1.0        1   \n",
       "28          Ball in dirt  Strikeout  2    0.0    0.0    1.0   1.0        1   \n",
       "29         Called Strike  Strikeout  2    0.0    0.0    1.0   1.0        1   \n",
       "...                  ...        ... ..    ...    ...    ...   ...      ...   \n",
       "2867124             Ball    Pop Out  2    1.0    0.0    0.0   1.0        1   \n",
       "2867125    Called Strike    Pop Out  2    1.0    0.0    0.0   1.0        1   \n",
       "2867126   In play out(s)    Pop Out  2    1.0    0.0    0.0   1.0        1   \n",
       "2867127             Ball     Single  2    1.0    0.0    0.0   2.0        1   \n",
       "2867128             Foul     Single  2    1.0    0.0    0.0   2.0        1   \n",
       "2867129   In play no out     Single  2    1.0    0.0    0.0   2.0        1   \n",
       "2867130             Ball  Groundout  3    1.0    1.0    0.0   2.0        1   \n",
       "2867131  Swinging Strike  Groundout  3    1.0    1.0    0.0   2.0        1   \n",
       "2867132   In play out(s)  Groundout  3    1.0    1.0    0.0   2.0        1   \n",
       "2867133    Called Strike  Strikeout  1    0.0    0.0    0.0   0.0        3   \n",
       "2867134  Swinging Strike  Strikeout  1    0.0    0.0    0.0   0.0        3   \n",
       "2867135             Foul  Strikeout  1    0.0    0.0    0.0   0.0        3   \n",
       "2867136  Swinging Strike  Strikeout  1    0.0    0.0    0.0   0.0        3   \n",
       "2867137             Foul     Flyout  2    0.0    0.0    0.0   1.0        3   \n",
       "2867138             Ball     Flyout  2    0.0    0.0    0.0   1.0        3   \n",
       "2867139             Ball     Flyout  2    0.0    0.0    0.0   1.0        3   \n",
       "2867140   In play out(s)     Flyout  2    0.0    0.0    0.0   1.0        3   \n",
       "2867141             Ball     Single  2    0.0    0.0    0.0   2.0        3   \n",
       "2867142             Ball     Single  2    0.0    0.0    0.0   2.0        3   \n",
       "2867143             Ball     Single  2    0.0    0.0    0.0   2.0        3   \n",
       "2867144    Called Strike     Single  2    0.0    0.0    0.0   2.0        3   \n",
       "2867145    Called Strike     Single  2    0.0    0.0    0.0   2.0        3   \n",
       "2867146             Foul     Single  2    0.0    0.0    0.0   2.0        3   \n",
       "2867147             Foul     Single  2    0.0    0.0    0.0   2.0        3   \n",
       "2867148             Foul     Single  2    0.0    0.0    0.0   2.0        3   \n",
       "2867149   In play no out     Single  2    0.0    0.0    0.0   2.0        3   \n",
       "2867150             Ball     Flyout  3    1.0    0.0    0.0   2.0        3   \n",
       "2867151             Foul     Flyout  3    0.0    1.0    0.0   2.0        3   \n",
       "2867152  Swinging Strike     Flyout  3    0.0    1.0    0.0   2.0        3   \n",
       "2867153   In play out(s)     Flyout  3    0.0    1.0    0.0   2.0        3   \n",
       "\n",
       "        p_throws  \n",
       "0              L  \n",
       "1              L  \n",
       "2              L  \n",
       "3              L  \n",
       "4              L  \n",
       "5              L  \n",
       "6              L  \n",
       "7              L  \n",
       "8              L  \n",
       "9              L  \n",
       "10             L  \n",
       "11             L  \n",
       "12             L  \n",
       "13             L  \n",
       "14             L  \n",
       "15             L  \n",
       "16             L  \n",
       "17             L  \n",
       "18             L  \n",
       "19             R  \n",
       "20             R  \n",
       "21             R  \n",
       "22             R  \n",
       "23             R  \n",
       "24             R  \n",
       "25             R  \n",
       "26             R  \n",
       "27             R  \n",
       "28             R  \n",
       "29             R  \n",
       "...          ...  \n",
       "2867124        L  \n",
       "2867125        L  \n",
       "2867126        L  \n",
       "2867127        L  \n",
       "2867128        L  \n",
       "2867129        L  \n",
       "2867130        L  \n",
       "2867131        L  \n",
       "2867132        L  \n",
       "2867133        L  \n",
       "2867134        L  \n",
       "2867135        L  \n",
       "2867136        L  \n",
       "2867137        L  \n",
       "2867138        L  \n",
       "2867139        L  \n",
       "2867140        L  \n",
       "2867141        L  \n",
       "2867142        L  \n",
       "2867143        L  \n",
       "2867144        L  \n",
       "2867145        L  \n",
       "2867146        L  \n",
       "2867147        L  \n",
       "2867148        L  \n",
       "2867149        L  \n",
       "2867150        L  \n",
       "2867151        L  \n",
       "2867152        L  \n",
       "2867153        L  \n",
       "\n",
       "[2867154 rows x 9 columns]"
      ]
     },
     "execution_count": 9,
     "metadata": {},
     "output_type": "execute_result"
    }
   ],
   "source": [
    "final_df[['code','event','o', 'on_1b',\n",
    "       'on_2b', 'on_3b', 'outs', 'p_score', 'p_throws']]"
   ]
  },
  {
   "cell_type": "code",
   "execution_count": 26,
   "metadata": {},
   "outputs": [
    {
     "data": {
      "text/plain": [
       "{'Batter Interference',\n",
       " 'Bunt Groundout',\n",
       " 'Bunt Lineout',\n",
       " 'Bunt Pop Out',\n",
       " 'Catcher Interference',\n",
       " 'Double',\n",
       " 'Double Play',\n",
       " 'Field Error',\n",
       " 'Fielders Choice',\n",
       " 'Fielders Choice Out',\n",
       " 'Flyout',\n",
       " 'Forceout',\n",
       " 'Grounded Into DP',\n",
       " 'Groundout',\n",
       " 'Hit By Pitch',\n",
       " 'Home Run',\n",
       " 'Intent Walk',\n",
       " 'Lineout',\n",
       " 'Pop Out',\n",
       " 'Runner Out',\n",
       " 'Sac Bunt',\n",
       " 'Sac Fly',\n",
       " 'Sac Fly DP',\n",
       " 'Sacrifice Bunt DP',\n",
       " 'Single',\n",
       " 'Strikeout',\n",
       " 'Strikeout - DP',\n",
       " 'Triple',\n",
       " 'Triple Play',\n",
       " 'Walk'}"
      ]
     },
     "execution_count": 26,
     "metadata": {},
     "output_type": "execute_result"
    }
   ],
   "source": [
    "set(final_df['event'])"
   ]
  },
  {
   "cell_type": "code",
   "execution_count": 9,
   "metadata": {},
   "outputs": [
    {
     "data": {
      "text/plain": [
       "44.426693282251975"
      ]
     },
     "execution_count": 9,
     "metadata": {},
     "output_type": "execute_result"
    }
   ],
   "source": [
    "final_df['nasty'].dropna().mean()"
   ]
  },
  {
   "cell_type": "code",
   "execution_count": 29,
   "metadata": {},
   "outputs": [
    {
     "data": {
      "text/plain": [
       "0.006572501967570187"
      ]
     },
     "execution_count": 29,
     "metadata": {},
     "output_type": "execute_result"
    }
   ],
   "source": [
    "final_df['px'].mean()"
   ]
  },
  {
   "cell_type": "code",
   "execution_count": 12,
   "metadata": {},
   "outputs": [
    {
     "data": {
      "text/html": [
       "<div>\n",
       "<style scoped>\n",
       "    .dataframe tbody tr th:only-of-type {\n",
       "        vertical-align: middle;\n",
       "    }\n",
       "\n",
       "    .dataframe tbody tr th {\n",
       "        vertical-align: top;\n",
       "    }\n",
       "\n",
       "    .dataframe thead th {\n",
       "        text-align: right;\n",
       "    }\n",
       "</style>\n",
       "<table border=\"1\" class=\"dataframe\">\n",
       "  <thead>\n",
       "    <tr style=\"text-align: right;\">\n",
       "      <th></th>\n",
       "      <th>Batters Name</th>\n",
       "      <th>Pitcher_name</th>\n",
       "      <th>code</th>\n",
       "      <th>pitch_type</th>\n",
       "      <th>event</th>\n",
       "      <th>start_speed</th>\n",
       "      <th>end_speed</th>\n",
       "      <th>spin_dir</th>\n",
       "      <th>px</th>\n",
       "      <th>pz</th>\n",
       "      <th>...</th>\n",
       "      <th>vx0</th>\n",
       "      <th>vy0</th>\n",
       "      <th>vz0</th>\n",
       "      <th>o</th>\n",
       "      <th>on_1b</th>\n",
       "      <th>on_2b</th>\n",
       "      <th>on_3b</th>\n",
       "      <th>outs</th>\n",
       "      <th>p_score</th>\n",
       "      <th>p_throws</th>\n",
       "    </tr>\n",
       "  </thead>\n",
       "  <tbody>\n",
       "    <tr>\n",
       "      <th>0</th>\n",
       "      <td>Matt Carpenter</td>\n",
       "      <td>Jon Lester</td>\n",
       "      <td>Called Strike</td>\n",
       "      <td>Four Seam Fastball</td>\n",
       "      <td>Groundout</td>\n",
       "      <td>92.9</td>\n",
       "      <td>84.1</td>\n",
       "      <td>159.235</td>\n",
       "      <td>0.416</td>\n",
       "      <td>2.963</td>\n",
       "      <td>...</td>\n",
       "      <td>-6.409</td>\n",
       "      <td>-136.065</td>\n",
       "      <td>-3.995</td>\n",
       "      <td>1</td>\n",
       "      <td>0.0</td>\n",
       "      <td>0.0</td>\n",
       "      <td>0.0</td>\n",
       "      <td>0.0</td>\n",
       "      <td>0</td>\n",
       "      <td>L</td>\n",
       "    </tr>\n",
       "    <tr>\n",
       "      <th>1</th>\n",
       "      <td>Matt Carpenter</td>\n",
       "      <td>Jon Lester</td>\n",
       "      <td>Swinging Strike</td>\n",
       "      <td>Four Seam Fastball</td>\n",
       "      <td>Groundout</td>\n",
       "      <td>92.8</td>\n",
       "      <td>84.1</td>\n",
       "      <td>151.402</td>\n",
       "      <td>-0.191</td>\n",
       "      <td>2.347</td>\n",
       "      <td>...</td>\n",
       "      <td>-8.411</td>\n",
       "      <td>-135.690</td>\n",
       "      <td>-5.980</td>\n",
       "      <td>1</td>\n",
       "      <td>0.0</td>\n",
       "      <td>0.0</td>\n",
       "      <td>0.0</td>\n",
       "      <td>0.0</td>\n",
       "      <td>0</td>\n",
       "      <td>L</td>\n",
       "    </tr>\n",
       "    <tr>\n",
       "      <th>2</th>\n",
       "      <td>Matt Carpenter</td>\n",
       "      <td>Jon Lester</td>\n",
       "      <td>Foul</td>\n",
       "      <td>Four Seam Fastball</td>\n",
       "      <td>Groundout</td>\n",
       "      <td>94.1</td>\n",
       "      <td>85.2</td>\n",
       "      <td>145.125</td>\n",
       "      <td>-0.518</td>\n",
       "      <td>3.284</td>\n",
       "      <td>...</td>\n",
       "      <td>-9.802</td>\n",
       "      <td>-137.668</td>\n",
       "      <td>-3.337</td>\n",
       "      <td>1</td>\n",
       "      <td>0.0</td>\n",
       "      <td>0.0</td>\n",
       "      <td>0.0</td>\n",
       "      <td>0.0</td>\n",
       "      <td>0</td>\n",
       "      <td>L</td>\n",
       "    </tr>\n",
       "    <tr>\n",
       "      <th>3</th>\n",
       "      <td>Matt Carpenter</td>\n",
       "      <td>Jon Lester</td>\n",
       "      <td>Ball</td>\n",
       "      <td>Four Seam Fastball</td>\n",
       "      <td>Groundout</td>\n",
       "      <td>91.0</td>\n",
       "      <td>84.0</td>\n",
       "      <td>169.751</td>\n",
       "      <td>-0.641</td>\n",
       "      <td>1.221</td>\n",
       "      <td>...</td>\n",
       "      <td>-8.071</td>\n",
       "      <td>-133.005</td>\n",
       "      <td>-6.567</td>\n",
       "      <td>1</td>\n",
       "      <td>0.0</td>\n",
       "      <td>0.0</td>\n",
       "      <td>0.0</td>\n",
       "      <td>0.0</td>\n",
       "      <td>0</td>\n",
       "      <td>L</td>\n",
       "    </tr>\n",
       "    <tr>\n",
       "      <th>4</th>\n",
       "      <td>Matt Carpenter</td>\n",
       "      <td>Jon Lester</td>\n",
       "      <td>Ball</td>\n",
       "      <td>Curveball</td>\n",
       "      <td>Groundout</td>\n",
       "      <td>75.4</td>\n",
       "      <td>69.6</td>\n",
       "      <td>280.671</td>\n",
       "      <td>-1.821</td>\n",
       "      <td>2.083</td>\n",
       "      <td>...</td>\n",
       "      <td>-6.309</td>\n",
       "      <td>-110.409</td>\n",
       "      <td>0.325</td>\n",
       "      <td>1</td>\n",
       "      <td>0.0</td>\n",
       "      <td>0.0</td>\n",
       "      <td>0.0</td>\n",
       "      <td>0.0</td>\n",
       "      <td>0</td>\n",
       "      <td>L</td>\n",
       "    </tr>\n",
       "    <tr>\n",
       "      <th>5</th>\n",
       "      <td>Matt Carpenter</td>\n",
       "      <td>Jon Lester</td>\n",
       "      <td>In play out(s)</td>\n",
       "      <td>Four Seam Fastball</td>\n",
       "      <td>Groundout</td>\n",
       "      <td>92.9</td>\n",
       "      <td>84.8</td>\n",
       "      <td>148.110</td>\n",
       "      <td>0.627</td>\n",
       "      <td>2.397</td>\n",
       "      <td>...</td>\n",
       "      <td>-6.943</td>\n",
       "      <td>-136.012</td>\n",
       "      <td>-5.738</td>\n",
       "      <td>1</td>\n",
       "      <td>0.0</td>\n",
       "      <td>0.0</td>\n",
       "      <td>0.0</td>\n",
       "      <td>0.0</td>\n",
       "      <td>0</td>\n",
       "      <td>L</td>\n",
       "    </tr>\n",
       "    <tr>\n",
       "      <th>6</th>\n",
       "      <td>Jason Heyward</td>\n",
       "      <td>Jon Lester</td>\n",
       "      <td>Ball</td>\n",
       "      <td>Four Seam Fastball</td>\n",
       "      <td>Double</td>\n",
       "      <td>93.3</td>\n",
       "      <td>85.3</td>\n",
       "      <td>147.044</td>\n",
       "      <td>-1.088</td>\n",
       "      <td>1.610</td>\n",
       "      <td>...</td>\n",
       "      <td>-11.032</td>\n",
       "      <td>-136.208</td>\n",
       "      <td>-7.762</td>\n",
       "      <td>1</td>\n",
       "      <td>0.0</td>\n",
       "      <td>0.0</td>\n",
       "      <td>0.0</td>\n",
       "      <td>1.0</td>\n",
       "      <td>0</td>\n",
       "      <td>L</td>\n",
       "    </tr>\n",
       "    <tr>\n",
       "      <th>7</th>\n",
       "      <td>Jason Heyward</td>\n",
       "      <td>Jon Lester</td>\n",
       "      <td>In play no out</td>\n",
       "      <td>Cutter</td>\n",
       "      <td>Double</td>\n",
       "      <td>89.3</td>\n",
       "      <td>82.4</td>\n",
       "      <td>185.948</td>\n",
       "      <td>-0.257</td>\n",
       "      <td>2.047</td>\n",
       "      <td>...</td>\n",
       "      <td>-6.335</td>\n",
       "      <td>-130.711</td>\n",
       "      <td>-4.611</td>\n",
       "      <td>1</td>\n",
       "      <td>0.0</td>\n",
       "      <td>0.0</td>\n",
       "      <td>0.0</td>\n",
       "      <td>1.0</td>\n",
       "      <td>0</td>\n",
       "      <td>L</td>\n",
       "    </tr>\n",
       "  </tbody>\n",
       "</table>\n",
       "<p>8 rows × 21 columns</p>\n",
       "</div>"
      ],
      "text/plain": [
       "     Batters Name Pitcher_name             code          pitch_type  \\\n",
       "0  Matt Carpenter   Jon Lester    Called Strike  Four Seam Fastball   \n",
       "1  Matt Carpenter   Jon Lester  Swinging Strike  Four Seam Fastball   \n",
       "2  Matt Carpenter   Jon Lester             Foul  Four Seam Fastball   \n",
       "3  Matt Carpenter   Jon Lester             Ball  Four Seam Fastball   \n",
       "4  Matt Carpenter   Jon Lester             Ball           Curveball   \n",
       "5  Matt Carpenter   Jon Lester   In play out(s)  Four Seam Fastball   \n",
       "6   Jason Heyward   Jon Lester             Ball  Four Seam Fastball   \n",
       "7   Jason Heyward   Jon Lester   In play no out              Cutter   \n",
       "\n",
       "       event  start_speed  end_speed  spin_dir     px     pz  ...     vx0  \\\n",
       "0  Groundout         92.9       84.1   159.235  0.416  2.963  ...  -6.409   \n",
       "1  Groundout         92.8       84.1   151.402 -0.191  2.347  ...  -8.411   \n",
       "2  Groundout         94.1       85.2   145.125 -0.518  3.284  ...  -9.802   \n",
       "3  Groundout         91.0       84.0   169.751 -0.641  1.221  ...  -8.071   \n",
       "4  Groundout         75.4       69.6   280.671 -1.821  2.083  ...  -6.309   \n",
       "5  Groundout         92.9       84.8   148.110  0.627  2.397  ...  -6.943   \n",
       "6     Double         93.3       85.3   147.044 -1.088  1.610  ... -11.032   \n",
       "7     Double         89.3       82.4   185.948 -0.257  2.047  ...  -6.335   \n",
       "\n",
       "       vy0    vz0  o  on_1b  on_2b  on_3b  outs  p_score  p_throws  \n",
       "0 -136.065 -3.995  1    0.0    0.0    0.0   0.0        0         L  \n",
       "1 -135.690 -5.980  1    0.0    0.0    0.0   0.0        0         L  \n",
       "2 -137.668 -3.337  1    0.0    0.0    0.0   0.0        0         L  \n",
       "3 -133.005 -6.567  1    0.0    0.0    0.0   0.0        0         L  \n",
       "4 -110.409  0.325  1    0.0    0.0    0.0   0.0        0         L  \n",
       "5 -136.012 -5.738  1    0.0    0.0    0.0   0.0        0         L  \n",
       "6 -136.208 -7.762  1    0.0    0.0    0.0   1.0        0         L  \n",
       "7 -130.711 -4.611  1    0.0    0.0    0.0   1.0        0         L  \n",
       "\n",
       "[8 rows x 21 columns]"
      ]
     },
     "execution_count": 12,
     "metadata": {},
     "output_type": "execute_result"
    }
   ],
   "source": [
    "final_df[['Batters Name', 'Pitcher_name','code','pitch_type','event','start_speed','end_speed','spin_dir','px','pz','spin_rate','vx0','vy0','vz0','o', 'on_1b',\n",
    "       'on_2b', 'on_3b', 'outs', 'p_score', 'p_throws']].head(8)"
   ]
  },
  {
   "cell_type": "code",
   "execution_count": 33,
   "metadata": {},
   "outputs": [
    {
     "data": {
      "text/html": [
       "<div>\n",
       "<style scoped>\n",
       "    .dataframe tbody tr th:only-of-type {\n",
       "        vertical-align: middle;\n",
       "    }\n",
       "\n",
       "    .dataframe tbody tr th {\n",
       "        vertical-align: top;\n",
       "    }\n",
       "\n",
       "    .dataframe thead th {\n",
       "        text-align: right;\n",
       "    }\n",
       "</style>\n",
       "<table border=\"1\" class=\"dataframe\">\n",
       "  <thead>\n",
       "    <tr style=\"text-align: right;\">\n",
       "      <th></th>\n",
       "      <th>event</th>\n",
       "    </tr>\n",
       "  </thead>\n",
       "  <tbody>\n",
       "    <tr>\n",
       "      <th>Strikeout</th>\n",
       "      <td>757160</td>\n",
       "    </tr>\n",
       "    <tr>\n",
       "      <th>Groundout</th>\n",
       "      <td>469560</td>\n",
       "    </tr>\n",
       "    <tr>\n",
       "      <th>Single</th>\n",
       "      <td>368621</td>\n",
       "    </tr>\n",
       "    <tr>\n",
       "      <th>Walk</th>\n",
       "      <td>327001</td>\n",
       "    </tr>\n",
       "    <tr>\n",
       "      <th>Flyout</th>\n",
       "      <td>273909</td>\n",
       "    </tr>\n",
       "    <tr>\n",
       "      <th>Lineout</th>\n",
       "      <td>154000</td>\n",
       "    </tr>\n",
       "    <tr>\n",
       "      <th>Pop Out</th>\n",
       "      <td>118552</td>\n",
       "    </tr>\n",
       "    <tr>\n",
       "      <th>Double</th>\n",
       "      <td>112074</td>\n",
       "    </tr>\n",
       "    <tr>\n",
       "      <th>Home Run</th>\n",
       "      <td>75075</td>\n",
       "    </tr>\n",
       "    <tr>\n",
       "      <th>Forceout</th>\n",
       "      <td>47442</td>\n",
       "    </tr>\n",
       "    <tr>\n",
       "      <th>Grounded Into DP</th>\n",
       "      <td>45873</td>\n",
       "    </tr>\n",
       "    <tr>\n",
       "      <th>Field Error</th>\n",
       "      <td>22237</td>\n",
       "    </tr>\n",
       "    <tr>\n",
       "      <th>Hit By Pitch</th>\n",
       "      <td>21764</td>\n",
       "    </tr>\n",
       "    <tr>\n",
       "      <th>Sac Fly</th>\n",
       "      <td>15508</td>\n",
       "    </tr>\n",
       "    <tr>\n",
       "      <th>Intent Walk</th>\n",
       "      <td>15346</td>\n",
       "    </tr>\n",
       "    <tr>\n",
       "      <th>Triple</th>\n",
       "      <td>11872</td>\n",
       "    </tr>\n",
       "    <tr>\n",
       "      <th>Sac Bunt</th>\n",
       "      <td>7526</td>\n",
       "    </tr>\n",
       "    <tr>\n",
       "      <th>Double Play</th>\n",
       "      <td>5905</td>\n",
       "    </tr>\n",
       "    <tr>\n",
       "      <th>Runner Out</th>\n",
       "      <td>4234</td>\n",
       "    </tr>\n",
       "    <tr>\n",
       "      <th>Fielders Choice Out</th>\n",
       "      <td>3992</td>\n",
       "    </tr>\n",
       "    <tr>\n",
       "      <th>Strikeout - DP</th>\n",
       "      <td>3654</td>\n",
       "    </tr>\n",
       "    <tr>\n",
       "      <th>Bunt Groundout</th>\n",
       "      <td>2184</td>\n",
       "    </tr>\n",
       "    <tr>\n",
       "      <th>Fielders Choice</th>\n",
       "      <td>1243</td>\n",
       "    </tr>\n",
       "    <tr>\n",
       "      <th>Bunt Pop Out</th>\n",
       "      <td>974</td>\n",
       "    </tr>\n",
       "    <tr>\n",
       "      <th>Catcher Interference</th>\n",
       "      <td>543</td>\n",
       "    </tr>\n",
       "    <tr>\n",
       "      <th>Batter Interference</th>\n",
       "      <td>516</td>\n",
       "    </tr>\n",
       "    <tr>\n",
       "      <th>Sac Fly DP</th>\n",
       "      <td>229</td>\n",
       "    </tr>\n",
       "    <tr>\n",
       "      <th>Bunt Lineout</th>\n",
       "      <td>91</td>\n",
       "    </tr>\n",
       "    <tr>\n",
       "      <th>Triple Play</th>\n",
       "      <td>60</td>\n",
       "    </tr>\n",
       "    <tr>\n",
       "      <th>Sacrifice Bunt DP</th>\n",
       "      <td>9</td>\n",
       "    </tr>\n",
       "  </tbody>\n",
       "</table>\n",
       "</div>"
      ],
      "text/plain": [
       "                       event\n",
       "Strikeout             757160\n",
       "Groundout             469560\n",
       "Single                368621\n",
       "Walk                  327001\n",
       "Flyout                273909\n",
       "Lineout               154000\n",
       "Pop Out               118552\n",
       "Double                112074\n",
       "Home Run               75075\n",
       "Forceout               47442\n",
       "Grounded Into DP       45873\n",
       "Field Error            22237\n",
       "Hit By Pitch           21764\n",
       "Sac Fly                15508\n",
       "Intent Walk            15346\n",
       "Triple                 11872\n",
       "Sac Bunt                7526\n",
       "Double Play             5905\n",
       "Runner Out              4234\n",
       "Fielders Choice Out     3992\n",
       "Strikeout - DP          3654\n",
       "Bunt Groundout          2184\n",
       "Fielders Choice         1243\n",
       "Bunt Pop Out             974\n",
       "Catcher Interference     543\n",
       "Batter Interference      516\n",
       "Sac Fly DP               229\n",
       "Bunt Lineout              91\n",
       "Triple Play               60\n",
       "Sacrifice Bunt DP          9"
      ]
     },
     "execution_count": 33,
     "metadata": {},
     "output_type": "execute_result"
    }
   ],
   "source": [
    "event_df = final_df['event'].value_counts().to_frame()\n",
    "event_df"
   ]
  },
  {
   "cell_type": "code",
   "execution_count": 46,
   "metadata": {},
   "outputs": [
    {
     "data": {
      "image/png": "[encoded data removed]",
      "text/plain": [
       "<Figure size 1440x720 with 1 Axes>"
      ]
     },
     "metadata": {
      "needs_background": "light"
     },
     "output_type": "display_data"
    }
   ],
   "source": [
    "plt_bar(event_df, 'event')"
   ]
  },
  {
   "cell_type": "code",
   "execution_count": 83,
   "metadata": {},
   "outputs": [],
   "source": [
    "# event analyize, input target and attribute, return dict and df\n",
    "def event_analyize(dataframe, target, attribute):\n",
    "    event_df = dataframe[dataframe['event']==target][attribute]\n",
    "    event_set = set(event_df)\n",
    "    event_nor_df = event_df.value_counts() / dataframe[attribute].value_counts()\n",
    "    event_nor_df = event_nor_df / event_nor_df.sum() # calculate the ratio of event happend \n",
    "    \n",
    "    return event_df.value_counts(), event_nor_df\n",
    "    \n",
    "    "
   ]
  },
  {
   "cell_type": "code",
   "execution_count": 6,
   "metadata": {},
   "outputs": [],
   "source": [
    "def get_event_dict(df):\n",
    "    event_set = set(df)\n",
    "    event_dict = dict(zip(event_set, [0]*len(event_set)))\n",
    "    for event in df:\n",
    "        event_dict[event] += 1\n",
    "    return event_dict"
   ]
  },
  {
   "cell_type": "code",
   "execution_count": 84,
   "metadata": {},
   "outputs": [],
   "source": [
    "# visualization \n",
    "def plt_bar(dataframe, attribute):\n",
    "    dataframe.plot.bar(y=attribute, figsize=(20,10))"
   ]
  },
  {
   "cell_type": "code",
   "execution_count": 93,
   "metadata": {},
   "outputs": [],
   "source": [
    "def plt_pie(dataframe,attribute):\n",
    "    dataframe.plot.pie(y=attribute, figsize=(20,10), autopct=\"%1.1f%%\")"
   ]
  },
  {
   "cell_type": "code",
   "execution_count": 43,
   "metadata": {},
   "outputs": [],
   "source": [
    "hit_df, hit_nor_df = event_analyize(final_df, \"Single\", 'pitch_type')"
   ]
  },
  {
   "cell_type": "code",
   "execution_count": 37,
   "metadata": {},
   "outputs": [
    {
     "data": {
      "text/plain": [
       "Changeup              0.065436\n",
       "Curveball             0.063259\n",
       "Cutter                0.066827\n",
       "Eephus                0.067135\n",
       "Fastball              0.113635\n",
       "Four Seam Fastball    0.064329\n",
       "Intentional Ball           NaN\n",
       "Knuckle Curve         0.063085\n",
       "Knuckleball           0.064760\n",
       "Pitch Out             0.066498\n",
       "Screwball             0.067879\n",
       "Sinker                0.074037\n",
       "Slider                0.062718\n",
       "Splitter              0.060127\n",
       "Two seam fastball     0.073364\n",
       "Unidentified          0.026913\n",
       "Name: pitch_type, dtype: float64"
      ]
     },
     "execution_count": 37,
     "metadata": {},
     "output_type": "execute_result"
    }
   ],
   "source": [
    "hit_nor_df"
   ]
  },
  {
   "cell_type": "code",
   "execution_count": 38,
   "metadata": {},
   "outputs": [
    {
     "data": {
      "text/plain": [
       "Four Seam Fastball    127672\n",
       "Slider                 55264\n",
       "Two seam fastball      48490\n",
       "Changeup               37467\n",
       "Sinker                 35111\n",
       "Curveball              28996\n",
       "Cutter                 19571\n",
       "Knuckle Curve           8202\n",
       "Splitter                5139\n",
       "Knuckleball             1426\n",
       "Pitch Out                187\n",
       "Eephus                   107\n",
       "Screwball                 15\n",
       "Unidentified               3\n",
       "Fastball                   2\n",
       "Name: pitch_type, dtype: int64"
      ]
     },
     "execution_count": 38,
     "metadata": {},
     "output_type": "execute_result"
    }
   ],
   "source": [
    "hit_df"
   ]
  },
  {
   "cell_type": "code",
   "execution_count": 44,
   "metadata": {},
   "outputs": [
    {
     "data": {
      "image/png": "[encoded data removed]",
      "text/plain": [
       "<Figure size 1080x1080 with 1 Axes>"
      ]
     },
     "metadata": {
      "needs_background": "light"
     },
     "output_type": "display_data"
    }
   ],
   "source": [
    "plt_bar(hit_df,\"Single\")"
   ]
  },
  {
   "cell_type": "code",
   "execution_count": 47,
   "metadata": {},
   "outputs": [
    {
     "data": {
      "image/png": "[encoded data removed]",
      "text/plain": [
       "<Figure size 1080x1080 with 1 Axes>"
      ]
     },
     "metadata": {},
     "output_type": "display_data"
    }
   ],
   "source": [
    "plt_pie(hit_nor_df, \"Single\")"
   ]
  },
  {
   "cell_type": "code",
   "execution_count": 49,
   "metadata": {},
   "outputs": [
    {
     "data": {
      "text/plain": [
       "{'Batter Interference',\n",
       " 'Bunt Groundout',\n",
       " 'Bunt Lineout',\n",
       " 'Bunt Pop Out',\n",
       " 'Catcher Interference',\n",
       " 'Double',\n",
       " 'Double Play',\n",
       " 'Field Error',\n",
       " 'Fielders Choice',\n",
       " 'Fielders Choice Out',\n",
       " 'Flyout',\n",
       " 'Forceout',\n",
       " 'Grounded Into DP',\n",
       " 'Groundout',\n",
       " 'Hit By Pitch',\n",
       " 'Home Run',\n",
       " 'Intent Walk',\n",
       " 'Lineout',\n",
       " 'Pop Out',\n",
       " 'Runner Out',\n",
       " 'Sac Bunt',\n",
       " 'Sac Fly',\n",
       " 'Sac Fly DP',\n",
       " 'Sacrifice Bunt DP',\n",
       " 'Single',\n",
       " 'Strikeout',\n",
       " 'Strikeout - DP',\n",
       " 'Triple',\n",
       " 'Triple Play',\n",
       " 'Walk'}"
      ]
     },
     "execution_count": 49,
     "metadata": {},
     "output_type": "execute_result"
    }
   ],
   "source": [
    "set(final_df['event'])"
   ]
  },
  {
   "cell_type": "code",
   "execution_count": 50,
   "metadata": {},
   "outputs": [
    {
     "data": {
      "text/plain": [
       "(Four Seam Fastball    267859\n",
       " Slider                139793\n",
       " Changeup               73144\n",
       " Two seam fastball      73016\n",
       " Curveball              70582\n",
       " Sinker                 53634\n",
       " Cutter                 39271\n",
       " Knuckle Curve          21605\n",
       " Splitter               13169\n",
       " Knuckleball             2450\n",
       " Pitch Out                393\n",
       " Eephus                   227\n",
       " Screwball                 25\n",
       " Unidentified               8\n",
       " Fastball                   3\n",
       " Name: pitch_type, dtype: int64, Changeup              0.063808\n",
       " Curveball             0.076913\n",
       " Cutter                0.066979\n",
       " Eephus                0.071140\n",
       " Fastball              0.085139\n",
       " Four Seam Fastball    0.067413\n",
       " Intentional Ball           NaN\n",
       " Knuckle Curve         0.083001\n",
       " Knuckleball           0.055575\n",
       " Pitch Out             0.069804\n",
       " Screwball             0.056508\n",
       " Sinker                0.056490\n",
       " Slider                0.079244\n",
       " Splitter              0.076961\n",
       " Two seam fastball     0.055179\n",
       " Unidentified          0.035848\n",
       " Name: pitch_type, dtype: float64)"
      ]
     },
     "execution_count": 50,
     "metadata": {},
     "output_type": "execute_result"
    }
   ],
   "source": [
    "event_analyize(final_df, \"Strikeout\", \"pitch_type\")"
   ]
  },
  {
   "cell_type": "code",
   "execution_count": 9,
   "metadata": {},
   "outputs": [
    {
     "data": {
      "text/plain": [
       "(Four Seam Fastball    791\n",
       " Two seam fastball     324\n",
       " Slider                252\n",
       " Changeup              252\n",
       " Sinker                196\n",
       " Cutter                143\n",
       " Curveball             142\n",
       " Knuckle Curve          38\n",
       " Splitter               32\n",
       " Knuckleball             3\n",
       " Pitch Out               1\n",
       " Unidentified            1\n",
       " Eephus                  1\n",
       " Name: pitch_type, dtype: int64, Changeup              0.032401\n",
       " Curveball             0.022807\n",
       " Cutter                0.035947\n",
       " Eephus                0.046191\n",
       " Fastball                   NaN\n",
       " Four Seam Fastball    0.029341\n",
       " Intentional Ball           NaN\n",
       " Knuckle Curve         0.021517\n",
       " Knuckleball           0.010030\n",
       " Pitch Out             0.026179\n",
       " Screwball                  NaN\n",
       " Sinker                0.030427\n",
       " Slider                0.021055\n",
       " Splitter              0.027564\n",
       " Two seam fastball     0.036088\n",
       " Unidentified          0.660453\n",
       " Name: pitch_type, dtype: float64)"
      ]
     },
     "execution_count": 9,
     "metadata": {},
     "output_type": "execute_result"
    }
   ],
   "source": [
    "event_analyize(final_df, 'Bunt Groundout', 'pitch_type')"
   ]
  },
  {
   "cell_type": "code",
   "execution_count": 54,
   "metadata": {},
   "outputs": [
    {
     "data": {
      "text/plain": [
       "Index(['Batters Name', 'Pitcher_name', 'ab_id', 'attendance',\n",
       "       'away_final_score', 'away_team', 'ax', 'ay', 'az', 'b_count', 'b_score',\n",
       "       'batter_id', 'break_angle', 'break_length', 'break_y', 'code', 'date',\n",
       "       'delay', 'elapsed_time', 'end_speed', 'event', 'event_num', 'g_id',\n",
       "       'home_final_score', 'home_team', 'inning', 'nasty', 'o', 'on_1b',\n",
       "       'on_2b', 'on_3b', 'outs', 'p_score', 'p_throws', 'pfx_x', 'pfx_z',\n",
       "       'pitch_num', 'pitch_type', 'pitcher_id', 'px', 'pz', 's_count',\n",
       "       'spin_dir', 'spin_rate', 'stand', 'start_speed', 'start_time', 'sz_bot',\n",
       "       'sz_top', 'top', 'type', 'type_confidence', 'umpire_1B', 'umpire_2B',\n",
       "       'umpire_3B', 'umpire_HP', 'venue_name', 'vx0', 'vy0', 'vz0', 'weather',\n",
       "       'wind', 'x', 'x0', 'y', 'y0', 'z0', 'zone'],\n",
       "      dtype='object')"
      ]
     },
     "execution_count": 54,
     "metadata": {},
     "output_type": "execute_result"
    }
   ],
   "source": [
    "final_df.columns"
   ]
  },
  {
   "cell_type": "code",
   "execution_count": 11,
   "metadata": {},
   "outputs": [
    {
     "data": {
      "text/plain": [
       "(91.2    29\n",
       " 91.0    29\n",
       " 92.5    27\n",
       " 93.0    27\n",
       " 93.1    27\n",
       " 91.5    26\n",
       " 90.9    26\n",
       " 91.6    26\n",
       " 90.7    25\n",
       " 88.6    25\n",
       " 93.5    24\n",
       " 93.4    24\n",
       " 91.3    24\n",
       " 91.7    23\n",
       " 92.0    23\n",
       " 90.1    22\n",
       " 91.1    21\n",
       " 90.0    21\n",
       " 89.1    21\n",
       " 89.4    21\n",
       " 89.2    20\n",
       " 92.9    20\n",
       " 92.3    20\n",
       " 90.2    20\n",
       " 90.3    20\n",
       " 92.2    19\n",
       " 90.6    19\n",
       " 91.9    19\n",
       " 92.1    19\n",
       " 90.5    19\n",
       "         ..\n",
       " 68.3     1\n",
       " 75.8     1\n",
       " 70.7     1\n",
       " 70.8     1\n",
       " 72.4     1\n",
       " 72.7     1\n",
       " 75.4     1\n",
       " 75.9     1\n",
       " 75.6     1\n",
       " 67.8     1\n",
       " 76.8     1\n",
       " 74.9     1\n",
       " 97.9     1\n",
       " 71.9     1\n",
       " 69.9     1\n",
       " 71.5     1\n",
       " 76.9     1\n",
       " 78.5     1\n",
       " 73.0     1\n",
       " 75.5     1\n",
       " 73.1     1\n",
       " 74.8     1\n",
       " 80.3     1\n",
       " 70.6     1\n",
       " 77.6     1\n",
       " 70.3     1\n",
       " 79.3     1\n",
       " 97.4     1\n",
       " 70.1     1\n",
       " 71.3     1\n",
       " Name: start_speed, Length: 264, dtype: int64, 33.9     0.793791\n",
       " 37.5          NaN\n",
       " 40.0          NaN\n",
       " 40.3          NaN\n",
       " 40.6          NaN\n",
       " 40.8          NaN\n",
       " 40.9          NaN\n",
       " 41.0          NaN\n",
       " 41.1          NaN\n",
       " 41.2          NaN\n",
       " 41.3          NaN\n",
       " 41.4          NaN\n",
       " 41.5          NaN\n",
       " 41.6          NaN\n",
       " 42.1          NaN\n",
       " 42.2          NaN\n",
       " 42.3          NaN\n",
       " 42.4          NaN\n",
       " 42.5          NaN\n",
       " 42.7          NaN\n",
       " 42.8          NaN\n",
       " 42.9          NaN\n",
       " 43.0          NaN\n",
       " 43.1          NaN\n",
       " 43.2          NaN\n",
       " 43.3          NaN\n",
       " 43.4          NaN\n",
       " 43.5          NaN\n",
       " 43.6          NaN\n",
       " 43.8          NaN\n",
       "            ...   \n",
       " 101.8         NaN\n",
       " 101.9         NaN\n",
       " 102.0         NaN\n",
       " 102.1         NaN\n",
       " 102.2         NaN\n",
       " 102.3         NaN\n",
       " 102.4         NaN\n",
       " 102.5         NaN\n",
       " 102.6         NaN\n",
       " 102.7         NaN\n",
       " 102.8         NaN\n",
       " 102.9         NaN\n",
       " 103.0         NaN\n",
       " 103.1         NaN\n",
       " 103.2         NaN\n",
       " 103.3         NaN\n",
       " 103.4         NaN\n",
       " 103.5         NaN\n",
       " 103.6         NaN\n",
       " 103.7         NaN\n",
       " 103.8         NaN\n",
       " 103.9         NaN\n",
       " 104.0         NaN\n",
       " 104.1         NaN\n",
       " 104.2         NaN\n",
       " 104.3         NaN\n",
       " 104.4         NaN\n",
       " 104.5         NaN\n",
       " 104.7         NaN\n",
       " 105.0         NaN\n",
       " Name: start_speed, Length: 627, dtype: float64)"
      ]
     },
     "execution_count": 11,
     "metadata": {},
     "output_type": "execute_result"
    }
   ],
   "source": [
    "event_analyize(final_df, 'Bunt Groundout', 'start_speed')"
   ]
  },
  {
   "cell_type": "code",
   "execution_count": 15,
   "metadata": {},
   "outputs": [
    {
     "data": {
      "text/html": [
       "<div>\n",
       "<style scoped>\n",
       "    .dataframe tbody tr th:only-of-type {\n",
       "        vertical-align: middle;\n",
       "    }\n",
       "\n",
       "    .dataframe tbody tr th {\n",
       "        vertical-align: top;\n",
       "    }\n",
       "\n",
       "    .dataframe thead th {\n",
       "        text-align: right;\n",
       "    }\n",
       "</style>\n",
       "<table border=\"1\" class=\"dataframe\">\n",
       "  <thead>\n",
       "    <tr style=\"text-align: right;\">\n",
       "      <th></th>\n",
       "      <th>start_speed</th>\n",
       "      <th>end_speed</th>\n",
       "      <th>pitch_type</th>\n",
       "      <th>event</th>\n",
       "    </tr>\n",
       "  </thead>\n",
       "  <tbody>\n",
       "    <tr>\n",
       "      <th>0</th>\n",
       "      <td>92.9</td>\n",
       "      <td>84.1</td>\n",
       "      <td>Four Seam Fastball</td>\n",
       "      <td>Groundout</td>\n",
       "    </tr>\n",
       "    <tr>\n",
       "      <th>1</th>\n",
       "      <td>92.8</td>\n",
       "      <td>84.1</td>\n",
       "      <td>Four Seam Fastball</td>\n",
       "      <td>Groundout</td>\n",
       "    </tr>\n",
       "    <tr>\n",
       "      <th>2</th>\n",
       "      <td>94.1</td>\n",
       "      <td>85.2</td>\n",
       "      <td>Four Seam Fastball</td>\n",
       "      <td>Groundout</td>\n",
       "    </tr>\n",
       "    <tr>\n",
       "      <th>3</th>\n",
       "      <td>91.0</td>\n",
       "      <td>84.0</td>\n",
       "      <td>Four Seam Fastball</td>\n",
       "      <td>Groundout</td>\n",
       "    </tr>\n",
       "    <tr>\n",
       "      <th>4</th>\n",
       "      <td>75.4</td>\n",
       "      <td>69.6</td>\n",
       "      <td>Curveball</td>\n",
       "      <td>Groundout</td>\n",
       "    </tr>\n",
       "    <tr>\n",
       "      <th>5</th>\n",
       "      <td>92.9</td>\n",
       "      <td>84.8</td>\n",
       "      <td>Four Seam Fastball</td>\n",
       "      <td>Groundout</td>\n",
       "    </tr>\n",
       "    <tr>\n",
       "      <th>6</th>\n",
       "      <td>93.3</td>\n",
       "      <td>85.3</td>\n",
       "      <td>Four Seam Fastball</td>\n",
       "      <td>Double</td>\n",
       "    </tr>\n",
       "    <tr>\n",
       "      <th>7</th>\n",
       "      <td>89.3</td>\n",
       "      <td>82.4</td>\n",
       "      <td>Cutter</td>\n",
       "      <td>Double</td>\n",
       "    </tr>\n",
       "    <tr>\n",
       "      <th>8</th>\n",
       "      <td>92.1</td>\n",
       "      <td>85.0</td>\n",
       "      <td>Four Seam Fastball</td>\n",
       "      <td>Single</td>\n",
       "    </tr>\n",
       "    <tr>\n",
       "      <th>9</th>\n",
       "      <td>89.3</td>\n",
       "      <td>82.0</td>\n",
       "      <td>Four Seam Fastball</td>\n",
       "      <td>Single</td>\n",
       "    </tr>\n",
       "    <tr>\n",
       "      <th>10</th>\n",
       "      <td>92.6</td>\n",
       "      <td>84.4</td>\n",
       "      <td>Four Seam Fastball</td>\n",
       "      <td>Single</td>\n",
       "    </tr>\n",
       "    <tr>\n",
       "      <th>11</th>\n",
       "      <td>90.5</td>\n",
       "      <td>83.7</td>\n",
       "      <td>Sinker</td>\n",
       "      <td>Strikeout</td>\n",
       "    </tr>\n",
       "    <tr>\n",
       "      <th>12</th>\n",
       "      <td>90.6</td>\n",
       "      <td>83.0</td>\n",
       "      <td>Four Seam Fastball</td>\n",
       "      <td>Strikeout</td>\n",
       "    </tr>\n",
       "    <tr>\n",
       "      <th>13</th>\n",
       "      <td>76.3</td>\n",
       "      <td>71.2</td>\n",
       "      <td>Curveball</td>\n",
       "      <td>Strikeout</td>\n",
       "    </tr>\n",
       "    <tr>\n",
       "      <th>14</th>\n",
       "      <td>91.6</td>\n",
       "      <td>84.5</td>\n",
       "      <td>Four Seam Fastball</td>\n",
       "      <td>Strikeout</td>\n",
       "    </tr>\n",
       "    <tr>\n",
       "      <th>15</th>\n",
       "      <td>93.1</td>\n",
       "      <td>85.3</td>\n",
       "      <td>Four Seam Fastball</td>\n",
       "      <td>Strikeout</td>\n",
       "    </tr>\n",
       "    <tr>\n",
       "      <th>16</th>\n",
       "      <td>91.1</td>\n",
       "      <td>83.8</td>\n",
       "      <td>Four Seam Fastball</td>\n",
       "      <td>Strikeout</td>\n",
       "    </tr>\n",
       "    <tr>\n",
       "      <th>17</th>\n",
       "      <td>92.4</td>\n",
       "      <td>84.6</td>\n",
       "      <td>Four Seam Fastball</td>\n",
       "      <td>Strikeout</td>\n",
       "    </tr>\n",
       "    <tr>\n",
       "      <th>18</th>\n",
       "      <td>89.3</td>\n",
       "      <td>82.9</td>\n",
       "      <td>Cutter</td>\n",
       "      <td>Strikeout</td>\n",
       "    </tr>\n",
       "    <tr>\n",
       "      <th>19</th>\n",
       "      <td>89.5</td>\n",
       "      <td>82.2</td>\n",
       "      <td>Sinker</td>\n",
       "      <td>Double</td>\n",
       "    </tr>\n",
       "    <tr>\n",
       "      <th>20</th>\n",
       "      <td>87.5</td>\n",
       "      <td>80.7</td>\n",
       "      <td>Cutter</td>\n",
       "      <td>Double</td>\n",
       "    </tr>\n",
       "    <tr>\n",
       "      <th>21</th>\n",
       "      <td>91.6</td>\n",
       "      <td>84.0</td>\n",
       "      <td>Four Seam Fastball</td>\n",
       "      <td>Groundout</td>\n",
       "    </tr>\n",
       "    <tr>\n",
       "      <th>22</th>\n",
       "      <td>76.1</td>\n",
       "      <td>69.8</td>\n",
       "      <td>Curveball</td>\n",
       "      <td>Groundout</td>\n",
       "    </tr>\n",
       "    <tr>\n",
       "      <th>23</th>\n",
       "      <td>87.2</td>\n",
       "      <td>81.2</td>\n",
       "      <td>Cutter</td>\n",
       "      <td>Groundout</td>\n",
       "    </tr>\n",
       "    <tr>\n",
       "      <th>24</th>\n",
       "      <td>89.3</td>\n",
       "      <td>83.3</td>\n",
       "      <td>Cutter</td>\n",
       "      <td>Groundout</td>\n",
       "    </tr>\n",
       "    <tr>\n",
       "      <th>25</th>\n",
       "      <td>76.5</td>\n",
       "      <td>70.2</td>\n",
       "      <td>Curveball</td>\n",
       "      <td>Strikeout</td>\n",
       "    </tr>\n",
       "    <tr>\n",
       "      <th>26</th>\n",
       "      <td>88.0</td>\n",
       "      <td>81.8</td>\n",
       "      <td>Cutter</td>\n",
       "      <td>Strikeout</td>\n",
       "    </tr>\n",
       "    <tr>\n",
       "      <th>27</th>\n",
       "      <td>91.8</td>\n",
       "      <td>83.7</td>\n",
       "      <td>Four Seam Fastball</td>\n",
       "      <td>Strikeout</td>\n",
       "    </tr>\n",
       "    <tr>\n",
       "      <th>28</th>\n",
       "      <td>77.6</td>\n",
       "      <td>71.2</td>\n",
       "      <td>Curveball</td>\n",
       "      <td>Strikeout</td>\n",
       "    </tr>\n",
       "    <tr>\n",
       "      <th>29</th>\n",
       "      <td>84.3</td>\n",
       "      <td>78.2</td>\n",
       "      <td>Cutter</td>\n",
       "      <td>Strikeout</td>\n",
       "    </tr>\n",
       "    <tr>\n",
       "      <th>...</th>\n",
       "      <td>...</td>\n",
       "      <td>...</td>\n",
       "      <td>...</td>\n",
       "      <td>...</td>\n",
       "    </tr>\n",
       "    <tr>\n",
       "      <th>2867124</th>\n",
       "      <td>89.8</td>\n",
       "      <td>82.2</td>\n",
       "      <td>Four Seam Fastball</td>\n",
       "      <td>Pop Out</td>\n",
       "    </tr>\n",
       "    <tr>\n",
       "      <th>2867125</th>\n",
       "      <td>89.0</td>\n",
       "      <td>82.3</td>\n",
       "      <td>Four Seam Fastball</td>\n",
       "      <td>Pop Out</td>\n",
       "    </tr>\n",
       "    <tr>\n",
       "      <th>2867126</th>\n",
       "      <td>89.1</td>\n",
       "      <td>81.7</td>\n",
       "      <td>Four Seam Fastball</td>\n",
       "      <td>Pop Out</td>\n",
       "    </tr>\n",
       "    <tr>\n",
       "      <th>2867127</th>\n",
       "      <td>89.2</td>\n",
       "      <td>81.1</td>\n",
       "      <td>Two seam fastball</td>\n",
       "      <td>Single</td>\n",
       "    </tr>\n",
       "    <tr>\n",
       "      <th>2867128</th>\n",
       "      <td>89.3</td>\n",
       "      <td>83.0</td>\n",
       "      <td>Four Seam Fastball</td>\n",
       "      <td>Single</td>\n",
       "    </tr>\n",
       "    <tr>\n",
       "      <th>2867129</th>\n",
       "      <td>89.9</td>\n",
       "      <td>83.2</td>\n",
       "      <td>Four Seam Fastball</td>\n",
       "      <td>Single</td>\n",
       "    </tr>\n",
       "    <tr>\n",
       "      <th>2867130</th>\n",
       "      <td>89.2</td>\n",
       "      <td>81.3</td>\n",
       "      <td>Two seam fastball</td>\n",
       "      <td>Groundout</td>\n",
       "    </tr>\n",
       "    <tr>\n",
       "      <th>2867131</th>\n",
       "      <td>89.2</td>\n",
       "      <td>82.6</td>\n",
       "      <td>Two seam fastball</td>\n",
       "      <td>Groundout</td>\n",
       "    </tr>\n",
       "    <tr>\n",
       "      <th>2867132</th>\n",
       "      <td>80.0</td>\n",
       "      <td>74.0</td>\n",
       "      <td>Slider</td>\n",
       "      <td>Groundout</td>\n",
       "    </tr>\n",
       "    <tr>\n",
       "      <th>2867133</th>\n",
       "      <td>96.6</td>\n",
       "      <td>88.9</td>\n",
       "      <td>Four Seam Fastball</td>\n",
       "      <td>Strikeout</td>\n",
       "    </tr>\n",
       "    <tr>\n",
       "      <th>2867134</th>\n",
       "      <td>84.7</td>\n",
       "      <td>78.0</td>\n",
       "      <td>Slider</td>\n",
       "      <td>Strikeout</td>\n",
       "    </tr>\n",
       "    <tr>\n",
       "      <th>2867135</th>\n",
       "      <td>97.9</td>\n",
       "      <td>89.3</td>\n",
       "      <td>Four Seam Fastball</td>\n",
       "      <td>Strikeout</td>\n",
       "    </tr>\n",
       "    <tr>\n",
       "      <th>2867136</th>\n",
       "      <td>98.0</td>\n",
       "      <td>89.6</td>\n",
       "      <td>Four Seam Fastball</td>\n",
       "      <td>Strikeout</td>\n",
       "    </tr>\n",
       "    <tr>\n",
       "      <th>2867137</th>\n",
       "      <td>97.3</td>\n",
       "      <td>89.5</td>\n",
       "      <td>Four Seam Fastball</td>\n",
       "      <td>Flyout</td>\n",
       "    </tr>\n",
       "    <tr>\n",
       "      <th>2867138</th>\n",
       "      <td>97.8</td>\n",
       "      <td>89.0</td>\n",
       "      <td>Four Seam Fastball</td>\n",
       "      <td>Flyout</td>\n",
       "    </tr>\n",
       "    <tr>\n",
       "      <th>2867139</th>\n",
       "      <td>83.0</td>\n",
       "      <td>77.0</td>\n",
       "      <td>Slider</td>\n",
       "      <td>Flyout</td>\n",
       "    </tr>\n",
       "    <tr>\n",
       "      <th>2867140</th>\n",
       "      <td>95.8</td>\n",
       "      <td>88.2</td>\n",
       "      <td>Four Seam Fastball</td>\n",
       "      <td>Flyout</td>\n",
       "    </tr>\n",
       "    <tr>\n",
       "      <th>2867141</th>\n",
       "      <td>84.3</td>\n",
       "      <td>78.4</td>\n",
       "      <td>Slider</td>\n",
       "      <td>Single</td>\n",
       "    </tr>\n",
       "    <tr>\n",
       "      <th>2867142</th>\n",
       "      <td>96.3</td>\n",
       "      <td>89.0</td>\n",
       "      <td>Four Seam Fastball</td>\n",
       "      <td>Single</td>\n",
       "    </tr>\n",
       "    <tr>\n",
       "      <th>2867143</th>\n",
       "      <td>95.5</td>\n",
       "      <td>86.9</td>\n",
       "      <td>Four Seam Fastball</td>\n",
       "      <td>Single</td>\n",
       "    </tr>\n",
       "    <tr>\n",
       "      <th>2867144</th>\n",
       "      <td>96.2</td>\n",
       "      <td>87.5</td>\n",
       "      <td>Four Seam Fastball</td>\n",
       "      <td>Single</td>\n",
       "    </tr>\n",
       "    <tr>\n",
       "      <th>2867145</th>\n",
       "      <td>96.4</td>\n",
       "      <td>88.7</td>\n",
       "      <td>Four Seam Fastball</td>\n",
       "      <td>Single</td>\n",
       "    </tr>\n",
       "    <tr>\n",
       "      <th>2867146</th>\n",
       "      <td>97.3</td>\n",
       "      <td>88.9</td>\n",
       "      <td>Four Seam Fastball</td>\n",
       "      <td>Single</td>\n",
       "    </tr>\n",
       "    <tr>\n",
       "      <th>2867147</th>\n",
       "      <td>97.0</td>\n",
       "      <td>88.7</td>\n",
       "      <td>Four Seam Fastball</td>\n",
       "      <td>Single</td>\n",
       "    </tr>\n",
       "    <tr>\n",
       "      <th>2867148</th>\n",
       "      <td>97.7</td>\n",
       "      <td>89.2</td>\n",
       "      <td>Four Seam Fastball</td>\n",
       "      <td>Single</td>\n",
       "    </tr>\n",
       "    <tr>\n",
       "      <th>2867149</th>\n",
       "      <td>83.9</td>\n",
       "      <td>78.2</td>\n",
       "      <td>Slider</td>\n",
       "      <td>Single</td>\n",
       "    </tr>\n",
       "    <tr>\n",
       "      <th>2867150</th>\n",
       "      <td>97.7</td>\n",
       "      <td>89.5</td>\n",
       "      <td>Four Seam Fastball</td>\n",
       "      <td>Flyout</td>\n",
       "    </tr>\n",
       "    <tr>\n",
       "      <th>2867151</th>\n",
       "      <td>97.3</td>\n",
       "      <td>89.6</td>\n",
       "      <td>Four Seam Fastball</td>\n",
       "      <td>Flyout</td>\n",
       "    </tr>\n",
       "    <tr>\n",
       "      <th>2867152</th>\n",
       "      <td>95.9</td>\n",
       "      <td>88.6</td>\n",
       "      <td>Four Seam Fastball</td>\n",
       "      <td>Flyout</td>\n",
       "    </tr>\n",
       "    <tr>\n",
       "      <th>2867153</th>\n",
       "      <td>95.8</td>\n",
       "      <td>87.7</td>\n",
       "      <td>Four Seam Fastball</td>\n",
       "      <td>Flyout</td>\n",
       "    </tr>\n",
       "  </tbody>\n",
       "</table>\n",
       "<p>2867154 rows × 4 columns</p>\n",
       "</div>"
      ],
      "text/plain": [
       "         start_speed  end_speed          pitch_type      event\n",
       "0               92.9       84.1  Four Seam Fastball  Groundout\n",
       "1               92.8       84.1  Four Seam Fastball  Groundout\n",
       "2               94.1       85.2  Four Seam Fastball  Groundout\n",
       "3               91.0       84.0  Four Seam Fastball  Groundout\n",
       "4               75.4       69.6           Curveball  Groundout\n",
       "5               92.9       84.8  Four Seam Fastball  Groundout\n",
       "6               93.3       85.3  Four Seam Fastball     Double\n",
       "7               89.3       82.4              Cutter     Double\n",
       "8               92.1       85.0  Four Seam Fastball     Single\n",
       "9               89.3       82.0  Four Seam Fastball     Single\n",
       "10              92.6       84.4  Four Seam Fastball     Single\n",
       "11              90.5       83.7              Sinker  Strikeout\n",
       "12              90.6       83.0  Four Seam Fastball  Strikeout\n",
       "13              76.3       71.2           Curveball  Strikeout\n",
       "14              91.6       84.5  Four Seam Fastball  Strikeout\n",
       "15              93.1       85.3  Four Seam Fastball  Strikeout\n",
       "16              91.1       83.8  Four Seam Fastball  Strikeout\n",
       "17              92.4       84.6  Four Seam Fastball  Strikeout\n",
       "18              89.3       82.9              Cutter  Strikeout\n",
       "19              89.5       82.2              Sinker     Double\n",
       "20              87.5       80.7              Cutter     Double\n",
       "21              91.6       84.0  Four Seam Fastball  Groundout\n",
       "22              76.1       69.8           Curveball  Groundout\n",
       "23              87.2       81.2              Cutter  Groundout\n",
       "24              89.3       83.3              Cutter  Groundout\n",
       "25              76.5       70.2           Curveball  Strikeout\n",
       "26              88.0       81.8              Cutter  Strikeout\n",
       "27              91.8       83.7  Four Seam Fastball  Strikeout\n",
       "28              77.6       71.2           Curveball  Strikeout\n",
       "29              84.3       78.2              Cutter  Strikeout\n",
       "...              ...        ...                 ...        ...\n",
       "2867124         89.8       82.2  Four Seam Fastball    Pop Out\n",
       "2867125         89.0       82.3  Four Seam Fastball    Pop Out\n",
       "2867126         89.1       81.7  Four Seam Fastball    Pop Out\n",
       "2867127         89.2       81.1   Two seam fastball     Single\n",
       "2867128         89.3       83.0  Four Seam Fastball     Single\n",
       "2867129         89.9       83.2  Four Seam Fastball     Single\n",
       "2867130         89.2       81.3   Two seam fastball  Groundout\n",
       "2867131         89.2       82.6   Two seam fastball  Groundout\n",
       "2867132         80.0       74.0              Slider  Groundout\n",
       "2867133         96.6       88.9  Four Seam Fastball  Strikeout\n",
       "2867134         84.7       78.0              Slider  Strikeout\n",
       "2867135         97.9       89.3  Four Seam Fastball  Strikeout\n",
       "2867136         98.0       89.6  Four Seam Fastball  Strikeout\n",
       "2867137         97.3       89.5  Four Seam Fastball     Flyout\n",
       "2867138         97.8       89.0  Four Seam Fastball     Flyout\n",
       "2867139         83.0       77.0              Slider     Flyout\n",
       "2867140         95.8       88.2  Four Seam Fastball     Flyout\n",
       "2867141         84.3       78.4              Slider     Single\n",
       "2867142         96.3       89.0  Four Seam Fastball     Single\n",
       "2867143         95.5       86.9  Four Seam Fastball     Single\n",
       "2867144         96.2       87.5  Four Seam Fastball     Single\n",
       "2867145         96.4       88.7  Four Seam Fastball     Single\n",
       "2867146         97.3       88.9  Four Seam Fastball     Single\n",
       "2867147         97.0       88.7  Four Seam Fastball     Single\n",
       "2867148         97.7       89.2  Four Seam Fastball     Single\n",
       "2867149         83.9       78.2              Slider     Single\n",
       "2867150         97.7       89.5  Four Seam Fastball     Flyout\n",
       "2867151         97.3       89.6  Four Seam Fastball     Flyout\n",
       "2867152         95.9       88.6  Four Seam Fastball     Flyout\n",
       "2867153         95.8       87.7  Four Seam Fastball     Flyout\n",
       "\n",
       "[2867154 rows x 4 columns]"
      ]
     },
     "execution_count": 15,
     "metadata": {},
     "output_type": "execute_result"
    }
   ],
   "source": [
    "final_df[['start_speed','end_speed','pitch_type','event']]"
   ]
  },
  {
   "cell_type": "code",
   "execution_count": 37,
   "metadata": {},
   "outputs": [
    {
     "name": "stdout",
     "output_type": "stream",
     "text": [
      "Requirement already satisfied: seaborn in g:\\anaconda\\lib\\site-packages (0.9.0)\n",
      "Requirement already satisfied: scipy>=0.14.0 in g:\\anaconda\\lib\\site-packages (from seaborn) (1.2.1)\n",
      "Requirement already satisfied: pandas>=0.15.2 in g:\\anaconda\\lib\\site-packages (from seaborn) (0.24.2)\n",
      "Requirement already satisfied: matplotlib>=1.4.3 in g:\\anaconda\\lib\\site-packages (from seaborn) (3.1.0)\n",
      "Requirement already satisfied: numpy>=1.9.3 in g:\\anaconda\\lib\\site-packages (from seaborn) (1.16.4)\n",
      "Requirement already satisfied: pytz>=2011k in g:\\anaconda\\lib\\site-packages (from pandas>=0.15.2->seaborn) (2019.1)\n",
      "Requirement already satisfied: python-dateutil>=2.5.0 in g:\\anaconda\\lib\\site-packages (from pandas>=0.15.2->seaborn) (2.8.0)\n",
      "Requirement already satisfied: cycler>=0.10 in g:\\anaconda\\lib\\site-packages (from matplotlib>=1.4.3->seaborn) (0.10.0)\n",
      "Requirement already satisfied: kiwisolver>=1.0.1 in g:\\anaconda\\lib\\site-packages (from matplotlib>=1.4.3->seaborn) (1.1.0)\n",
      "Requirement already satisfied: pyparsing!=2.0.4,!=2.1.2,!=2.1.6,>=2.0.1 in g:\\anaconda\\lib\\site-packages (from matplotlib>=1.4.3->seaborn) (2.4.0)\n",
      "Requirement already satisfied: six>=1.5 in g:\\anaconda\\lib\\site-packages (from python-dateutil>=2.5.0->pandas>=0.15.2->seaborn) (1.12.0)\n",
      "Requirement already satisfied: setuptools in g:\\anaconda\\lib\\site-packages (from kiwisolver>=1.0.1->matplotlib>=1.4.3->seaborn) (41.0.1)\n"
     ]
    }
   ],
   "source": [
    "!pip install seaborn"
   ]
  },
  {
   "cell_type": "code",
   "execution_count": 38,
   "metadata": {},
   "outputs": [],
   "source": [
    "import seaborn"
   ]
  },
  {
   "cell_type": "code",
   "execution_count": 41,
   "metadata": {},
   "outputs": [
    {
     "data": {
      "text/plain": [
       "<matplotlib.axes._subplots.AxesSubplot at 0x1d80ea0b710>"
      ]
     },
     "execution_count": 41,
     "metadata": {},
     "output_type": "execute_result"
    },
    {
     "data": {
      "image/png": "[encoded data removed]",
      "text/plain": [
       "<Figure size 432x288 with 1 Axes>"
      ]
     },
     "metadata": {
      "needs_background": "light"
     },
     "output_type": "display_data"
    }
   ],
   "source": [
    "seaborn.distplot(event_df['event'])"
   ]
  },
  {
   "cell_type": "code",
   "execution_count": 42,
   "metadata": {},
   "outputs": [
    {
     "data": {
      "text/html": [
       "<div>\n",
       "<style scoped>\n",
       "    .dataframe tbody tr th:only-of-type {\n",
       "        vertical-align: middle;\n",
       "    }\n",
       "\n",
       "    .dataframe tbody tr th {\n",
       "        vertical-align: top;\n",
       "    }\n",
       "\n",
       "    .dataframe thead th {\n",
       "        text-align: right;\n",
       "    }\n",
       "</style>\n",
       "<table border=\"1\" class=\"dataframe\">\n",
       "  <thead>\n",
       "    <tr style=\"text-align: right;\">\n",
       "      <th></th>\n",
       "      <th>event</th>\n",
       "    </tr>\n",
       "  </thead>\n",
       "  <tbody>\n",
       "    <tr>\n",
       "      <th>Strikeout</th>\n",
       "      <td>757160</td>\n",
       "    </tr>\n",
       "    <tr>\n",
       "      <th>Groundout</th>\n",
       "      <td>469560</td>\n",
       "    </tr>\n",
       "    <tr>\n",
       "      <th>Single</th>\n",
       "      <td>368621</td>\n",
       "    </tr>\n",
       "    <tr>\n",
       "      <th>Walk</th>\n",
       "      <td>327001</td>\n",
       "    </tr>\n",
       "    <tr>\n",
       "      <th>Flyout</th>\n",
       "      <td>273909</td>\n",
       "    </tr>\n",
       "    <tr>\n",
       "      <th>Lineout</th>\n",
       "      <td>154000</td>\n",
       "    </tr>\n",
       "    <tr>\n",
       "      <th>Pop Out</th>\n",
       "      <td>118552</td>\n",
       "    </tr>\n",
       "    <tr>\n",
       "      <th>Double</th>\n",
       "      <td>112074</td>\n",
       "    </tr>\n",
       "    <tr>\n",
       "      <th>Home Run</th>\n",
       "      <td>75075</td>\n",
       "    </tr>\n",
       "    <tr>\n",
       "      <th>Forceout</th>\n",
       "      <td>47442</td>\n",
       "    </tr>\n",
       "    <tr>\n",
       "      <th>Grounded Into DP</th>\n",
       "      <td>45873</td>\n",
       "    </tr>\n",
       "    <tr>\n",
       "      <th>Field Error</th>\n",
       "      <td>22237</td>\n",
       "    </tr>\n",
       "    <tr>\n",
       "      <th>Hit By Pitch</th>\n",
       "      <td>21764</td>\n",
       "    </tr>\n",
       "    <tr>\n",
       "      <th>Sac Fly</th>\n",
       "      <td>15508</td>\n",
       "    </tr>\n",
       "    <tr>\n",
       "      <th>Intent Walk</th>\n",
       "      <td>15346</td>\n",
       "    </tr>\n",
       "    <tr>\n",
       "      <th>Triple</th>\n",
       "      <td>11872</td>\n",
       "    </tr>\n",
       "    <tr>\n",
       "      <th>Sac Bunt</th>\n",
       "      <td>7526</td>\n",
       "    </tr>\n",
       "    <tr>\n",
       "      <th>Double Play</th>\n",
       "      <td>5905</td>\n",
       "    </tr>\n",
       "    <tr>\n",
       "      <th>Runner Out</th>\n",
       "      <td>4234</td>\n",
       "    </tr>\n",
       "    <tr>\n",
       "      <th>Fielders Choice Out</th>\n",
       "      <td>3992</td>\n",
       "    </tr>\n",
       "    <tr>\n",
       "      <th>Strikeout - DP</th>\n",
       "      <td>3654</td>\n",
       "    </tr>\n",
       "    <tr>\n",
       "      <th>Bunt Groundout</th>\n",
       "      <td>2184</td>\n",
       "    </tr>\n",
       "    <tr>\n",
       "      <th>Fielders Choice</th>\n",
       "      <td>1243</td>\n",
       "    </tr>\n",
       "    <tr>\n",
       "      <th>Bunt Pop Out</th>\n",
       "      <td>974</td>\n",
       "    </tr>\n",
       "    <tr>\n",
       "      <th>Catcher Interference</th>\n",
       "      <td>543</td>\n",
       "    </tr>\n",
       "    <tr>\n",
       "      <th>Batter Interference</th>\n",
       "      <td>516</td>\n",
       "    </tr>\n",
       "    <tr>\n",
       "      <th>Sac Fly DP</th>\n",
       "      <td>229</td>\n",
       "    </tr>\n",
       "    <tr>\n",
       "      <th>Bunt Lineout</th>\n",
       "      <td>91</td>\n",
       "    </tr>\n",
       "    <tr>\n",
       "      <th>Triple Play</th>\n",
       "      <td>60</td>\n",
       "    </tr>\n",
       "    <tr>\n",
       "      <th>Sacrifice Bunt DP</th>\n",
       "      <td>9</td>\n",
       "    </tr>\n",
       "  </tbody>\n",
       "</table>\n",
       "</div>"
      ],
      "text/plain": [
       "                       event\n",
       "Strikeout             757160\n",
       "Groundout             469560\n",
       "Single                368621\n",
       "Walk                  327001\n",
       "Flyout                273909\n",
       "Lineout               154000\n",
       "Pop Out               118552\n",
       "Double                112074\n",
       "Home Run               75075\n",
       "Forceout               47442\n",
       "Grounded Into DP       45873\n",
       "Field Error            22237\n",
       "Hit By Pitch           21764\n",
       "Sac Fly                15508\n",
       "Intent Walk            15346\n",
       "Triple                 11872\n",
       "Sac Bunt                7526\n",
       "Double Play             5905\n",
       "Runner Out              4234\n",
       "Fielders Choice Out     3992\n",
       "Strikeout - DP          3654\n",
       "Bunt Groundout          2184\n",
       "Fielders Choice         1243\n",
       "Bunt Pop Out             974\n",
       "Catcher Interference     543\n",
       "Batter Interference      516\n",
       "Sac Fly DP               229\n",
       "Bunt Lineout              91\n",
       "Triple Play               60\n",
       "Sacrifice Bunt DP          9"
      ]
     },
     "execution_count": 42,
     "metadata": {},
     "output_type": "execute_result"
    }
   ],
   "source": [
    "event_df"
   ]
  },
  {
   "cell_type": "code",
   "execution_count": 49,
   "metadata": {},
   "outputs": [
    {
     "data": {
      "image/png": "[encoded data removed]",
      "text/plain": [
       "<Figure size 1440x1080 with 1 Axes>"
      ]
     },
     "metadata": {},
     "output_type": "display_data"
    }
   ],
   "source": [
    "plt_pie(event_df,'event')"
   ]
  },
  {
   "cell_type": "code",
   "execution_count": 50,
   "metadata": {},
   "outputs": [
    {
     "name": "stdout",
     "output_type": "stream",
     "text": [
      "Collecting plotly\n",
      "  Downloading https://files.pythonhosted.org/packages/8e/ce/6ea5683c47b682bffad39ad41d10913141b560b1b875a90dbc6abe3f4fa9/plotly-4.4.1-py2.py3-none-any.whl (7.3MB)\n",
      "Collecting retrying>=1.3.3 (from plotly)\n",
      "  Downloading https://files.pythonhosted.org/packages/44/ef/beae4b4ef80902f22e3af073397f079c96969c69b2c7d52a57ea9ae61c9d/retrying-1.3.3.tar.gz\n",
      "Requirement already satisfied: six in g:\\anaconda\\lib\\site-packages (from plotly) (1.12.0)\n",
      "Building wheels for collected packages: retrying\n",
      "  Building wheel for retrying (setup.py): started\n",
      "  Building wheel for retrying (setup.py): finished with status 'done'\n",
      "  Stored in directory: C:\\Users\\cheean yu\\AppData\\Local\\pip\\Cache\\wheels\\d7\\a9\\33\\acc7b709e2a35caa7d4cae442f6fe6fbf2c43f80823d46460c\n",
      "Successfully built retrying\n",
      "Installing collected packages: retrying, plotly\n",
      "Successfully installed plotly-4.4.1 retrying-1.3.3\n"
     ]
    }
   ],
   "source": [
    "! pip install plotly"
   ]
  },
  {
   "cell_type": "code",
   "execution_count": 52,
   "metadata": {},
   "outputs": [],
   "source": [
    "import plotly.express as px"
   ]
  },
  {
   "cell_type": "code",
   "execution_count": 69,
   "metadata": {},
   "outputs": [
    {
     "data": {
      "application/vnd.plotly.v1+json": {
       "config": {
        "plotlyServerURL": "https://plot.ly"
       },
       "data": [
        {
         "domain": {
          "x": [
           0,
           1
          ],
          "y": [
           0,
           1
          ]
         },
         "hoverlabel": {
          "namelength": 0
         },
         "hovertemplate": "label=%{label}<br>value=%{value}",
         "labels": [
          "Strikeout",
          "Groundout",
          "Single",
          "Walk",
          "Flyout",
          "Lineout",
          "Pop Out",
          "Double",
          "Home Run",
          "Forceout",
          "Grounded Into DP",
          "Field Error",
          "Hit By Pitch",
          "Sac Fly",
          "Intent Walk",
          "Triple",
          "Sac Bunt",
          "Double Play",
          "Runner Out",
          "Fielders Choice Out",
          "Strikeout - DP",
          "Bunt Groundout",
          "Fielders Choice",
          "Bunt Pop Out",
          "Catcher Interference",
          "Batter Interference",
          "Sac Fly DP",
          "Bunt Lineout",
          "Triple Play",
          "Sacrifice Bunt DP"
         ],
         "legendgroup": "",
         "name": "",
         "showlegend": true,
         "textinfo": "percent+label",
         "textposition": "inside",
         "type": "pie",
         "values": [
          757160,
          469560,
          368621,
          327001,
          273909,
          154000,
          118552,
          112074,
          75075,
          47442,
          45873,
          22237,
          21764,
          15508,
          15346,
          11872,
          7526,
          5905,
          4234,
          3992,
          3654,
          2184,
          1243,
          974,
          543,
          516,
          229,
          91,
          60,
          9
         ]
        }
       ],
       "layout": {
        "height": 1000,
        "legend": {
         "tracegroupgap": 0
        },
        "template": {
         "data": {
          "bar": [
           {
            "error_x": {
             "color": "#2a3f5f"
            },
            "error_y": {
             "color": "#2a3f5f"
            },
            "marker": {
             "line": {
              "color": "#E5ECF6",
              "width": 0.5
             }
            },
            "type": "bar"
           }
          ],
          "barpolar": [
           {
            "marker": {
             "line": {
              "color": "#E5ECF6",
              "width": 0.5
             }
            },
            "type": "barpolar"
           }
          ],
          "carpet": [
           {
            "aaxis": {
             "endlinecolor": "#2a3f5f",
             "gridcolor": "white",
             "linecolor": "white",
             "minorgridcolor": "white",
             "startlinecolor": "#2a3f5f"
            },
            "baxis": {
             "endlinecolor": "#2a3f5f",
             "gridcolor": "white",
             "linecolor": "white",
             "minorgridcolor": "white",
             "startlinecolor": "#2a3f5f"
            },
            "type": "carpet"
           }
          ],
          "choropleth": [
           {
            "colorbar": {
             "outlinewidth": 0,
             "ticks": ""
            },
            "type": "choropleth"
           }
          ],
          "contour": [
           {
            "colorbar": {
             "outlinewidth": 0,
             "ticks": ""
            },
            "colorscale": [
             [
              0,
              "#0d0887"
             ],
             [
              0.1111111111111111,
              "#46039f"
             ],
             [
              0.2222222222222222,
              "#7201a8"
             ],
             [
              0.3333333333333333,
              "#9c179e"
             ],
             [
              0.4444444444444444,
              "#bd3786"
             ],
             [
              0.5555555555555556,
              "#d8576b"
             ],
             [
              0.6666666666666666,
              "#ed7953"
             ],
             [
              0.7777777777777778,
              "#fb9f3a"
             ],
             [
              0.8888888888888888,
              "#fdca26"
             ],
             [
              1,
              "#f0f921"
             ]
            ],
            "type": "contour"
           }
          ],
          "contourcarpet": [
           {
            "colorbar": {
             "outlinewidth": 0,
             "ticks": ""
            },
            "type": "contourcarpet"
           }
          ],
          "heatmap": [
           {
            "colorbar": {
             "outlinewidth": 0,
             "ticks": ""
            },
            "colorscale": [
             [
              0,
              "#0d0887"
             ],
             [
              0.1111111111111111,
              "#46039f"
             ],
             [
              0.2222222222222222,
              "#7201a8"
             ],
             [
              0.3333333333333333,
              "#9c179e"
             ],
             [
              0.4444444444444444,
              "#bd3786"
             ],
             [
              0.5555555555555556,
              "#d8576b"
             ],
             [
              0.6666666666666666,
              "#ed7953"
             ],
             [
              0.7777777777777778,
              "#fb9f3a"
             ],
             [
              0.8888888888888888,
              "#fdca26"
             ],
             [
              1,
              "#f0f921"
             ]
            ],
            "type": "heatmap"
           }
          ],
          "heatmapgl": [
           {
            "colorbar": {
             "outlinewidth": 0,
             "ticks": ""
            },
            "colorscale": [
             [
              0,
              "#0d0887"
             ],
             [
              0.1111111111111111,
              "#46039f"
             ],
             [
              0.2222222222222222,
              "#7201a8"
             ],
             [
              0.3333333333333333,
              "#9c179e"
             ],
             [
              0.4444444444444444,
              "#bd3786"
             ],
             [
              0.5555555555555556,
              "#d8576b"
             ],
             [
              0.6666666666666666,
              "#ed7953"
             ],
             [
              0.7777777777777778,
              "#fb9f3a"
             ],
             [
              0.8888888888888888,
              "#fdca26"
             ],
             [
              1,
              "#f0f921"
             ]
            ],
            "type": "heatmapgl"
           }
          ],
          "histogram": [
           {
            "marker": {
             "colorbar": {
              "outlinewidth": 0,
              "ticks": ""
             }
            },
            "type": "histogram"
           }
          ],
          "histogram2d": [
           {
            "colorbar": {
             "outlinewidth": 0,
             "ticks": ""
            },
            "colorscale": [
             [
              0,
              "#0d0887"
             ],
             [
              0.1111111111111111,
              "#46039f"
             ],
             [
              0.2222222222222222,
              "#7201a8"
             ],
             [
              0.3333333333333333,
              "#9c179e"
             ],
             [
              0.4444444444444444,
              "#bd3786"
             ],
             [
              0.5555555555555556,
              "#d8576b"
             ],
             [
              0.6666666666666666,
              "#ed7953"
             ],
             [
              0.7777777777777778,
              "#fb9f3a"
             ],
             [
              0.8888888888888888,
              "#fdca26"
             ],
             [
              1,
              "#f0f921"
             ]
            ],
            "type": "histogram2d"
           }
          ],
          "histogram2dcontour": [
           {
            "colorbar": {
             "outlinewidth": 0,
             "ticks": ""
            },
            "colorscale": [
             [
              0,
              "#0d0887"
             ],
             [
              0.1111111111111111,
              "#46039f"
             ],
             [
              0.2222222222222222,
              "#7201a8"
             ],
             [
              0.3333333333333333,
              "#9c179e"
             ],
             [
              0.4444444444444444,
              "#bd3786"
             ],
             [
              0.5555555555555556,
              "#d8576b"
             ],
             [
              0.6666666666666666,
              "#ed7953"
             ],
             [
              0.7777777777777778,
              "#fb9f3a"
             ],
             [
              0.8888888888888888,
              "#fdca26"
             ],
             [
              1,
              "#f0f921"
             ]
            ],
            "type": "histogram2dcontour"
           }
          ],
          "mesh3d": [
           {
            "colorbar": {
             "outlinewidth": 0,
             "ticks": ""
            },
            "type": "mesh3d"
           }
          ],
          "parcoords": [
           {
            "line": {
             "colorbar": {
              "outlinewidth": 0,
              "ticks": ""
             }
            },
            "type": "parcoords"
           }
          ],
          "pie": [
           {
            "automargin": true,
            "type": "pie"
           }
          ],
          "scatter": [
           {
            "marker": {
             "colorbar": {
              "outlinewidth": 0,
              "ticks": ""
             }
            },
            "type": "scatter"
           }
          ],
          "scatter3d": [
           {
            "line": {
             "colorbar": {
              "outlinewidth": 0,
              "ticks": ""
             }
            },
            "marker": {
             "colorbar": {
              "outlinewidth": 0,
              "ticks": ""
             }
            },
            "type": "scatter3d"
           }
          ],
          "scattercarpet": [
           {
            "marker": {
             "colorbar": {
              "outlinewidth": 0,
              "ticks": ""
             }
            },
            "type": "scattercarpet"
           }
          ],
          "scattergeo": [
           {
            "marker": {
             "colorbar": {
              "outlinewidth": 0,
              "ticks": ""
             }
            },
            "type": "scattergeo"
           }
          ],
          "scattergl": [
           {
            "marker": {
             "colorbar": {
              "outlinewidth": 0,
              "ticks": ""
             }
            },
            "type": "scattergl"
           }
          ],
          "scattermapbox": [
           {
            "marker": {
             "colorbar": {
              "outlinewidth": 0,
              "ticks": ""
             }
            },
            "type": "scattermapbox"
           }
          ],
          "scatterpolar": [
           {
            "marker": {
             "colorbar": {
              "outlinewidth": 0,
              "ticks": ""
             }
            },
            "type": "scatterpolar"
           }
          ],
          "scatterpolargl": [
           {
            "marker": {
             "colorbar": {
              "outlinewidth": 0,
              "ticks": ""
             }
            },
            "type": "scatterpolargl"
           }
          ],
          "scatterternary": [
           {
            "marker": {
             "colorbar": {
              "outlinewidth": 0,
              "ticks": ""
             }
            },
            "type": "scatterternary"
           }
          ],
          "surface": [
           {
            "colorbar": {
             "outlinewidth": 0,
             "ticks": ""
            },
            "colorscale": [
             [
              0,
              "#0d0887"
             ],
             [
              0.1111111111111111,
              "#46039f"
             ],
             [
              0.2222222222222222,
              "#7201a8"
             ],
             [
              0.3333333333333333,
              "#9c179e"
             ],
             [
              0.4444444444444444,
              "#bd3786"
             ],
             [
              0.5555555555555556,
              "#d8576b"
             ],
             [
              0.6666666666666666,
              "#ed7953"
             ],
             [
              0.7777777777777778,
              "#fb9f3a"
             ],
             [
              0.8888888888888888,
              "#fdca26"
             ],
             [
              1,
              "#f0f921"
             ]
            ],
            "type": "surface"
           }
          ],
          "table": [
           {
            "cells": {
             "fill": {
              "color": "#EBF0F8"
             },
             "line": {
              "color": "white"
             }
            },
            "header": {
             "fill": {
              "color": "#C8D4E3"
             },
             "line": {
              "color": "white"
             }
            },
            "type": "table"
           }
          ]
         },
         "layout": {
          "annotationdefaults": {
           "arrowcolor": "#2a3f5f",
           "arrowhead": 0,
           "arrowwidth": 1
          },
          "coloraxis": {
           "colorbar": {
            "outlinewidth": 0,
            "ticks": ""
           }
          },
          "colorscale": {
           "diverging": [
            [
             0,
             "#8e0152"
            ],
            [
             0.1,
             "#c51b7d"
            ],
            [
             0.2,
             "#de77ae"
            ],
            [
             0.3,
             "#f1b6da"
            ],
            [
             0.4,
             "#fde0ef"
            ],
            [
             0.5,
             "#f7f7f7"
            ],
            [
             0.6,
             "#e6f5d0"
            ],
            [
             0.7,
             "#b8e186"
            ],
            [
             0.8,
             "#7fbc41"
            ],
            [
             0.9,
             "#4d9221"
            ],
            [
             1,
             "#276419"
            ]
           ],
           "sequential": [
            [
             0,
             "#0d0887"
            ],
            [
             0.1111111111111111,
             "#46039f"
            ],
            [
             0.2222222222222222,
             "#7201a8"
            ],
            [
             0.3333333333333333,
             "#9c179e"
            ],
            [
             0.4444444444444444,
             "#bd3786"
            ],
            [
             0.5555555555555556,
             "#d8576b"
            ],
            [
             0.6666666666666666,
             "#ed7953"
            ],
            [
             0.7777777777777778,
             "#fb9f3a"
            ],
            [
             0.8888888888888888,
             "#fdca26"
            ],
            [
             1,
             "#f0f921"
            ]
           ],
           "sequentialminus": [
            [
             0,
             "#0d0887"
            ],
            [
             0.1111111111111111,
             "#46039f"
            ],
            [
             0.2222222222222222,
             "#7201a8"
            ],
            [
             0.3333333333333333,
             "#9c179e"
            ],
            [
             0.4444444444444444,
             "#bd3786"
            ],
            [
             0.5555555555555556,
             "#d8576b"
            ],
            [
             0.6666666666666666,
             "#ed7953"
            ],
            [
             0.7777777777777778,
             "#fb9f3a"
            ],
            [
             0.8888888888888888,
             "#fdca26"
            ],
            [
             1,
             "#f0f921"
            ]
           ]
          },
          "colorway": [
           "#636efa",
           "#EF553B",
           "#00cc96",
           "#ab63fa",
           "#FFA15A",
           "#19d3f3",
           "#FF6692",
           "#B6E880",
           "#FF97FF",
           "#FECB52"
          ],
          "font": {
           "color": "#2a3f5f"
          },
          "geo": {
           "bgcolor": "white",
           "lakecolor": "white",
           "landcolor": "#E5ECF6",
           "showlakes": true,
           "showland": true,
           "subunitcolor": "white"
          },
          "hoverlabel": {
           "align": "left"
          },
          "hovermode": "closest",
          "mapbox": {
           "style": "light"
          },
          "paper_bgcolor": "white",
          "plot_bgcolor": "#E5ECF6",
          "polar": {
           "angularaxis": {
            "gridcolor": "white",
            "linecolor": "white",
            "ticks": ""
           },
           "bgcolor": "#E5ECF6",
           "radialaxis": {
            "gridcolor": "white",
            "linecolor": "white",
            "ticks": ""
           }
          },
          "scene": {
           "xaxis": {
            "backgroundcolor": "#E5ECF6",
            "gridcolor": "white",
            "gridwidth": 2,
            "linecolor": "white",
            "showbackground": true,
            "ticks": "",
            "zerolinecolor": "white"
           },
           "yaxis": {
            "backgroundcolor": "#E5ECF6",
            "gridcolor": "white",
            "gridwidth": 2,
            "linecolor": "white",
            "showbackground": true,
            "ticks": "",
            "zerolinecolor": "white"
           },
           "zaxis": {
            "backgroundcolor": "#E5ECF6",
            "gridcolor": "white",
            "gridwidth": 2,
            "linecolor": "white",
            "showbackground": true,
            "ticks": "",
            "zerolinecolor": "white"
           }
          },
          "shapedefaults": {
           "line": {
            "color": "#2a3f5f"
           }
          },
          "ternary": {
           "aaxis": {
            "gridcolor": "white",
            "linecolor": "white",
            "ticks": ""
           },
           "baxis": {
            "gridcolor": "white",
            "linecolor": "white",
            "ticks": ""
           },
           "bgcolor": "#E5ECF6",
           "caxis": {
            "gridcolor": "white",
            "linecolor": "white",
            "ticks": ""
           }
          },
          "title": {
           "x": 0.05
          },
          "xaxis": {
           "automargin": true,
           "gridcolor": "white",
           "linecolor": "white",
           "ticks": "",
           "title": {
            "standoff": 15
           },
           "zerolinecolor": "white",
           "zerolinewidth": 2
          },
          "yaxis": {
           "automargin": true,
           "gridcolor": "white",
           "linecolor": "white",
           "ticks": "",
           "title": {
            "standoff": 15
           },
           "zerolinecolor": "white",
           "zerolinewidth": 2
          }
         }
        },
        "title": {
         "text": "event distribution"
        },
        "width": 800
       }
      },
      "text/html": [
       "<div>\n",
       "        \n",
       "        \n",
       "            <div id=\"eecf5653-987a-4cee-9e52-2de4ef42ec42\" class=\"plotly-graph-div\" style=\"height:1000px; width:800px;\"></div>\n",
       "            <script type=\"text/javascript\">\n",
       "                require([\"plotly\"], function(Plotly) {\n",
       "                    window.PLOTLYENV=window.PLOTLYENV || {};\n",
       "                    \n",
       "                if (document.getElementById(\"eecf5653-987a-4cee-9e52-2de4ef42ec42\")) {\n",
       "                    Plotly.newPlot(\n",
       "                        'eecf5653-987a-4cee-9e52-2de4ef42ec42',\n",
       "                        [{\"domain\": {\"x\": [0.0, 1.0], \"y\": [0.0, 1.0]}, \"hoverlabel\": {\"namelength\": 0}, \"hovertemplate\": \"label=%{label}<br>value=%{value}\", \"labels\": [\"Strikeout\", \"Groundout\", \"Single\", \"Walk\", \"Flyout\", \"Lineout\", \"Pop Out\", \"Double\", \"Home Run\", \"Forceout\", \"Grounded Into DP\", \"Field Error\", \"Hit By Pitch\", \"Sac Fly\", \"Intent Walk\", \"Triple\", \"Sac Bunt\", \"Double Play\", \"Runner Out\", \"Fielders Choice Out\", \"Strikeout - DP\", \"Bunt Groundout\", \"Fielders Choice\", \"Bunt Pop Out\", \"Catcher Interference\", \"Batter Interference\", \"Sac Fly DP\", \"Bunt Lineout\", \"Triple Play\", \"Sacrifice Bunt DP\"], \"legendgroup\": \"\", \"name\": \"\", \"showlegend\": true, \"textinfo\": \"percent+label\", \"textposition\": \"inside\", \"type\": \"pie\", \"values\": [757160, 469560, 368621, 327001, 273909, 154000, 118552, 112074, 75075, 47442, 45873, 22237, 21764, 15508, 15346, 11872, 7526, 5905, 4234, 3992, 3654, 2184, 1243, 974, 543, 516, 229, 91, 60, 9]}],\n",
       "                        {\"height\": 1000, \"legend\": {\"tracegroupgap\": 0}, \"template\": {\"data\": {\"bar\": [{\"error_x\": {\"color\": \"#2a3f5f\"}, \"error_y\": {\"color\": \"#2a3f5f\"}, \"marker\": {\"line\": {\"color\": \"#E5ECF6\", \"width\": 0.5}}, \"type\": \"bar\"}], \"barpolar\": [{\"marker\": {\"line\": {\"color\": \"#E5ECF6\", \"width\": 0.5}}, \"type\": \"barpolar\"}], \"carpet\": [{\"aaxis\": {\"endlinecolor\": \"#2a3f5f\", \"gridcolor\": \"white\", \"linecolor\": \"white\", \"minorgridcolor\": \"white\", \"startlinecolor\": \"#2a3f5f\"}, \"baxis\": {\"endlinecolor\": \"#2a3f5f\", \"gridcolor\": \"white\", \"linecolor\": \"white\", \"minorgridcolor\": \"white\", \"startlinecolor\": \"#2a3f5f\"}, \"type\": \"carpet\"}], \"choropleth\": [{\"colorbar\": {\"outlinewidth\": 0, \"ticks\": \"\"}, \"type\": \"choropleth\"}], \"contour\": [{\"colorbar\": {\"outlinewidth\": 0, \"ticks\": \"\"}, \"colorscale\": [[0.0, \"#0d0887\"], [0.1111111111111111, \"#46039f\"], [0.2222222222222222, \"#7201a8\"], [0.3333333333333333, \"#9c179e\"], [0.4444444444444444, \"#bd3786\"], [0.5555555555555556, \"#d8576b\"], [0.6666666666666666, \"#ed7953\"], [0.7777777777777778, \"#fb9f3a\"], [0.8888888888888888, \"#fdca26\"], [1.0, \"#f0f921\"]], \"type\": \"contour\"}], \"contourcarpet\": [{\"colorbar\": {\"outlinewidth\": 0, \"ticks\": \"\"}, \"type\": \"contourcarpet\"}], \"heatmap\": [{\"colorbar\": {\"outlinewidth\": 0, \"ticks\": \"\"}, \"colorscale\": [[0.0, \"#0d0887\"], [0.1111111111111111, \"#46039f\"], [0.2222222222222222, \"#7201a8\"], [0.3333333333333333, \"#9c179e\"], [0.4444444444444444, \"#bd3786\"], [0.5555555555555556, \"#d8576b\"], [0.6666666666666666, \"#ed7953\"], [0.7777777777777778, \"#fb9f3a\"], [0.8888888888888888, \"#fdca26\"], [1.0, \"#f0f921\"]], \"type\": \"heatmap\"}], \"heatmapgl\": [{\"colorbar\": {\"outlinewidth\": 0, \"ticks\": \"\"}, \"colorscale\": [[0.0, \"#0d0887\"], [0.1111111111111111, \"#46039f\"], [0.2222222222222222, \"#7201a8\"], [0.3333333333333333, \"#9c179e\"], [0.4444444444444444, \"#bd3786\"], [0.5555555555555556, \"#d8576b\"], [0.6666666666666666, \"#ed7953\"], [0.7777777777777778, \"#fb9f3a\"], [0.8888888888888888, \"#fdca26\"], [1.0, \"#f0f921\"]], \"type\": \"heatmapgl\"}], \"histogram\": [{\"marker\": {\"colorbar\": {\"outlinewidth\": 0, \"ticks\": \"\"}}, \"type\": \"histogram\"}], \"histogram2d\": [{\"colorbar\": {\"outlinewidth\": 0, \"ticks\": \"\"}, \"colorscale\": [[0.0, \"#0d0887\"], [0.1111111111111111, \"#46039f\"], [0.2222222222222222, \"#7201a8\"], [0.3333333333333333, \"#9c179e\"], [0.4444444444444444, \"#bd3786\"], [0.5555555555555556, \"#d8576b\"], [0.6666666666666666, \"#ed7953\"], [0.7777777777777778, \"#fb9f3a\"], [0.8888888888888888, \"#fdca26\"], [1.0, \"#f0f921\"]], \"type\": \"histogram2d\"}], \"histogram2dcontour\": [{\"colorbar\": {\"outlinewidth\": 0, \"ticks\": \"\"}, \"colorscale\": [[0.0, \"#0d0887\"], [0.1111111111111111, \"#46039f\"], [0.2222222222222222, \"#7201a8\"], [0.3333333333333333, \"#9c179e\"], [0.4444444444444444, \"#bd3786\"], [0.5555555555555556, \"#d8576b\"], [0.6666666666666666, \"#ed7953\"], [0.7777777777777778, \"#fb9f3a\"], [0.8888888888888888, \"#fdca26\"], [1.0, \"#f0f921\"]], \"type\": \"histogram2dcontour\"}], \"mesh3d\": [{\"colorbar\": {\"outlinewidth\": 0, \"ticks\": \"\"}, \"type\": \"mesh3d\"}], \"parcoords\": [{\"line\": {\"colorbar\": {\"outlinewidth\": 0, \"ticks\": \"\"}}, \"type\": \"parcoords\"}], \"pie\": [{\"automargin\": true, \"type\": \"pie\"}], \"scatter\": [{\"marker\": {\"colorbar\": {\"outlinewidth\": 0, \"ticks\": \"\"}}, \"type\": \"scatter\"}], \"scatter3d\": [{\"line\": {\"colorbar\": {\"outlinewidth\": 0, \"ticks\": \"\"}}, \"marker\": {\"colorbar\": {\"outlinewidth\": 0, \"ticks\": \"\"}}, \"type\": \"scatter3d\"}], \"scattercarpet\": [{\"marker\": {\"colorbar\": {\"outlinewidth\": 0, \"ticks\": \"\"}}, \"type\": \"scattercarpet\"}], \"scattergeo\": [{\"marker\": {\"colorbar\": {\"outlinewidth\": 0, \"ticks\": \"\"}}, \"type\": \"scattergeo\"}], \"scattergl\": [{\"marker\": {\"colorbar\": {\"outlinewidth\": 0, \"ticks\": \"\"}}, \"type\": \"scattergl\"}], \"scattermapbox\": [{\"marker\": {\"colorbar\": {\"outlinewidth\": 0, \"ticks\": \"\"}}, \"type\": \"scattermapbox\"}], \"scatterpolar\": [{\"marker\": {\"colorbar\": {\"outlinewidth\": 0, \"ticks\": \"\"}}, \"type\": \"scatterpolar\"}], \"scatterpolargl\": [{\"marker\": {\"colorbar\": {\"outlinewidth\": 0, \"ticks\": \"\"}}, \"type\": \"scatterpolargl\"}], \"scatterternary\": [{\"marker\": {\"colorbar\": {\"outlinewidth\": 0, \"ticks\": \"\"}}, \"type\": \"scatterternary\"}], \"surface\": [{\"colorbar\": {\"outlinewidth\": 0, \"ticks\": \"\"}, \"colorscale\": [[0.0, \"#0d0887\"], [0.1111111111111111, \"#46039f\"], [0.2222222222222222, \"#7201a8\"], [0.3333333333333333, \"#9c179e\"], [0.4444444444444444, \"#bd3786\"], [0.5555555555555556, \"#d8576b\"], [0.6666666666666666, \"#ed7953\"], [0.7777777777777778, \"#fb9f3a\"], [0.8888888888888888, \"#fdca26\"], [1.0, \"#f0f921\"]], \"type\": \"surface\"}], \"table\": [{\"cells\": {\"fill\": {\"color\": \"#EBF0F8\"}, \"line\": {\"color\": \"white\"}}, \"header\": {\"fill\": {\"color\": \"#C8D4E3\"}, \"line\": {\"color\": \"white\"}}, \"type\": \"table\"}]}, \"layout\": {\"annotationdefaults\": {\"arrowcolor\": \"#2a3f5f\", \"arrowhead\": 0, \"arrowwidth\": 1}, \"coloraxis\": {\"colorbar\": {\"outlinewidth\": 0, \"ticks\": \"\"}}, \"colorscale\": {\"diverging\": [[0, \"#8e0152\"], [0.1, \"#c51b7d\"], [0.2, \"#de77ae\"], [0.3, \"#f1b6da\"], [0.4, \"#fde0ef\"], [0.5, \"#f7f7f7\"], [0.6, \"#e6f5d0\"], [0.7, \"#b8e186\"], [0.8, \"#7fbc41\"], [0.9, \"#4d9221\"], [1, \"#276419\"]], \"sequential\": [[0.0, \"#0d0887\"], [0.1111111111111111, \"#46039f\"], [0.2222222222222222, \"#7201a8\"], [0.3333333333333333, \"#9c179e\"], [0.4444444444444444, \"#bd3786\"], [0.5555555555555556, \"#d8576b\"], [0.6666666666666666, \"#ed7953\"], [0.7777777777777778, \"#fb9f3a\"], [0.8888888888888888, \"#fdca26\"], [1.0, \"#f0f921\"]], \"sequentialminus\": [[0.0, \"#0d0887\"], [0.1111111111111111, \"#46039f\"], [0.2222222222222222, \"#7201a8\"], [0.3333333333333333, \"#9c179e\"], [0.4444444444444444, \"#bd3786\"], [0.5555555555555556, \"#d8576b\"], [0.6666666666666666, \"#ed7953\"], [0.7777777777777778, \"#fb9f3a\"], [0.8888888888888888, \"#fdca26\"], [1.0, \"#f0f921\"]]}, \"colorway\": [\"#636efa\", \"#EF553B\", \"#00cc96\", \"#ab63fa\", \"#FFA15A\", \"#19d3f3\", \"#FF6692\", \"#B6E880\", \"#FF97FF\", \"#FECB52\"], \"font\": {\"color\": \"#2a3f5f\"}, \"geo\": {\"bgcolor\": \"white\", \"lakecolor\": \"white\", \"landcolor\": \"#E5ECF6\", \"showlakes\": true, \"showland\": true, \"subunitcolor\": \"white\"}, \"hoverlabel\": {\"align\": \"left\"}, \"hovermode\": \"closest\", \"mapbox\": {\"style\": \"light\"}, \"paper_bgcolor\": \"white\", \"plot_bgcolor\": \"#E5ECF6\", \"polar\": {\"angularaxis\": {\"gridcolor\": \"white\", \"linecolor\": \"white\", \"ticks\": \"\"}, \"bgcolor\": \"#E5ECF6\", \"radialaxis\": {\"gridcolor\": \"white\", \"linecolor\": \"white\", \"ticks\": \"\"}}, \"scene\": {\"xaxis\": {\"backgroundcolor\": \"#E5ECF6\", \"gridcolor\": \"white\", \"gridwidth\": 2, \"linecolor\": \"white\", \"showbackground\": true, \"ticks\": \"\", \"zerolinecolor\": \"white\"}, \"yaxis\": {\"backgroundcolor\": \"#E5ECF6\", \"gridcolor\": \"white\", \"gridwidth\": 2, \"linecolor\": \"white\", \"showbackground\": true, \"ticks\": \"\", \"zerolinecolor\": \"white\"}, \"zaxis\": {\"backgroundcolor\": \"#E5ECF6\", \"gridcolor\": \"white\", \"gridwidth\": 2, \"linecolor\": \"white\", \"showbackground\": true, \"ticks\": \"\", \"zerolinecolor\": \"white\"}}, \"shapedefaults\": {\"line\": {\"color\": \"#2a3f5f\"}}, \"ternary\": {\"aaxis\": {\"gridcolor\": \"white\", \"linecolor\": \"white\", \"ticks\": \"\"}, \"baxis\": {\"gridcolor\": \"white\", \"linecolor\": \"white\", \"ticks\": \"\"}, \"bgcolor\": \"#E5ECF6\", \"caxis\": {\"gridcolor\": \"white\", \"linecolor\": \"white\", \"ticks\": \"\"}}, \"title\": {\"x\": 0.05}, \"xaxis\": {\"automargin\": true, \"gridcolor\": \"white\", \"linecolor\": \"white\", \"ticks\": \"\", \"title\": {\"standoff\": 15}, \"zerolinecolor\": \"white\", \"zerolinewidth\": 2}, \"yaxis\": {\"automargin\": true, \"gridcolor\": \"white\", \"linecolor\": \"white\", \"ticks\": \"\", \"title\": {\"standoff\": 15}, \"zerolinecolor\": \"white\", \"zerolinewidth\": 2}}}, \"title\": {\"text\": \"event distribution\"}, \"width\": 800},\n",
       "                        {\"responsive\": true}\n",
       "                    ).then(function(){\n",
       "                            \n",
       "var gd = document.getElementById('eecf5653-987a-4cee-9e52-2de4ef42ec42');\n",
       "var x = new MutationObserver(function (mutations, observer) {{\n",
       "        var display = window.getComputedStyle(gd).display;\n",
       "        if (!display || display === 'none') {{\n",
       "            console.log([gd, 'removed!']);\n",
       "            Plotly.purge(gd);\n",
       "            observer.disconnect();\n",
       "        }}\n",
       "}});\n",
       "\n",
       "// Listen for the removal of the full notebook cells\n",
       "var notebookContainer = gd.closest('#notebook-container');\n",
       "if (notebookContainer) {{\n",
       "    x.observe(notebookContainer, {childList: true});\n",
       "}}\n",
       "\n",
       "// Listen for the clearing of the current output cell\n",
       "var outputEl = gd.closest('.output');\n",
       "if (outputEl) {{\n",
       "    x.observe(outputEl, {childList: true});\n",
       "}}\n",
       "\n",
       "                        })\n",
       "                };\n",
       "                });\n",
       "            </script>\n",
       "        </div>"
      ]
     },
     "metadata": {},
     "output_type": "display_data"
    }
   ],
   "source": [
    "fig = px.pie(event_df, values=event_df.values, names=event_df.index ,title='event distribution',width=800, height=1000)\n",
    "fig.update_traces(textposition='inside', textinfo='percent+label')\n",
    "fig.show()"
   ]
  },
  {
   "cell_type": "code",
   "execution_count": 62,
   "metadata": {},
   "outputs": [
    {
     "data": {
      "text/plain": [
       "array([757160, 469560, 368621, 327001, 273909, 154000, 118552, 112074,\n",
       "        75075,  47442,  45873,  22237,  21764,  15508,  15346,  11872,\n",
       "         7526,   5905,   4234,   3992,   3654,   2184,   1243],\n",
       "      dtype=int64)"
      ]
     },
     "execution_count": 62,
     "metadata": {},
     "output_type": "execute_result"
    }
   ],
   "source": [
    "event_df.values[event_df.values>1000]"
   ]
  },
  {
   "cell_type": "code",
   "execution_count": 72,
   "metadata": {},
   "outputs": [],
   "source": [
    "pitch_type_df = final_df['pitch_type'].value_counts().to_frame()"
   ]
  },
  {
   "cell_type": "code",
   "execution_count": 73,
   "metadata": {},
   "outputs": [
    {
     "data": {
      "image/png": "[encoded data removed]",
      "text/plain": [
       "<Figure size 1440x720 with 1 Axes>"
      ]
     },
     "metadata": {
      "needs_background": "light"
     },
     "output_type": "display_data"
    }
   ],
   "source": [
    "plt_bar(pitch_type_df,'pitch_type')"
   ]
  },
  {
   "cell_type": "code",
   "execution_count": 74,
   "metadata": {},
   "outputs": [
    {
     "data": {
      "application/vnd.plotly.v1+json": {
       "config": {
        "plotlyServerURL": "https://plot.ly"
       },
       "data": [
        {
         "domain": {
          "x": [
           0,
           1
          ],
          "y": [
           0,
           1
          ]
         },
         "hoverlabel": {
          "namelength": 0
         },
         "hovertemplate": "label=%{label}<br>value=%{value}",
         "labels": [
          "Four Seam Fastball",
          "Slider",
          "Two seam fastball",
          "Changeup",
          "Sinker",
          "Curveball",
          "Cutter",
          "Knuckle Curve",
          "Splitter",
          "Knuckleball",
          "Intentional Ball",
          "Pitch Out",
          "Eephus",
          "Screwball",
          "Unidentified",
          "Fastball"
         ],
         "legendgroup": "",
         "name": "",
         "showlegend": true,
         "textinfo": "percent+label",
         "textposition": "inside",
         "type": "pie",
         "values": [
          1014877,
          450578,
          337983,
          292789,
          242504,
          234391,
          149756,
          66484,
          43705,
          11260,
          6197,
          1438,
          815,
          113,
          57,
          9
         ]
        }
       ],
       "layout": {
        "height": 1000,
        "legend": {
         "tracegroupgap": 0
        },
        "template": {
         "data": {
          "bar": [
           {
            "error_x": {
             "color": "#2a3f5f"
            },
            "error_y": {
             "color": "#2a3f5f"
            },
            "marker": {
             "line": {
              "color": "#E5ECF6",
              "width": 0.5
             }
            },
            "type": "bar"
           }
          ],
          "barpolar": [
           {
            "marker": {
             "line": {
              "color": "#E5ECF6",
              "width": 0.5
             }
            },
            "type": "barpolar"
           }
          ],
          "carpet": [
           {
            "aaxis": {
             "endlinecolor": "#2a3f5f",
             "gridcolor": "white",
             "linecolor": "white",
             "minorgridcolor": "white",
             "startlinecolor": "#2a3f5f"
            },
            "baxis": {
             "endlinecolor": "#2a3f5f",
             "gridcolor": "white",
             "linecolor": "white",
             "minorgridcolor": "white",
             "startlinecolor": "#2a3f5f"
            },
            "type": "carpet"
           }
          ],
          "choropleth": [
           {
            "colorbar": {
             "outlinewidth": 0,
             "ticks": ""
            },
            "type": "choropleth"
           }
          ],
          "contour": [
           {
            "colorbar": {
             "outlinewidth": 0,
             "ticks": ""
            },
            "colorscale": [
             [
              0,
              "#0d0887"
             ],
             [
              0.1111111111111111,
              "#46039f"
             ],
             [
              0.2222222222222222,
              "#7201a8"
             ],
             [
              0.3333333333333333,
              "#9c179e"
             ],
             [
              0.4444444444444444,
              "#bd3786"
             ],
             [
              0.5555555555555556,
              "#d8576b"
             ],
             [
              0.6666666666666666,
              "#ed7953"
             ],
             [
              0.7777777777777778,
              "#fb9f3a"
             ],
             [
              0.8888888888888888,
              "#fdca26"
             ],
             [
              1,
              "#f0f921"
             ]
            ],
            "type": "contour"
           }
          ],
          "contourcarpet": [
           {
            "colorbar": {
             "outlinewidth": 0,
             "ticks": ""
            },
            "type": "contourcarpet"
           }
          ],
          "heatmap": [
           {
            "colorbar": {
             "outlinewidth": 0,
             "ticks": ""
            },
            "colorscale": [
             [
              0,
              "#0d0887"
             ],
             [
              0.1111111111111111,
              "#46039f"
             ],
             [
              0.2222222222222222,
              "#7201a8"
             ],
             [
              0.3333333333333333,
              "#9c179e"
             ],
             [
              0.4444444444444444,
              "#bd3786"
             ],
             [
              0.5555555555555556,
              "#d8576b"
             ],
             [
              0.6666666666666666,
              "#ed7953"
             ],
             [
              0.7777777777777778,
              "#fb9f3a"
             ],
             [
              0.8888888888888888,
              "#fdca26"
             ],
             [
              1,
              "#f0f921"
             ]
            ],
            "type": "heatmap"
           }
          ],
          "heatmapgl": [
           {
            "colorbar": {
             "outlinewidth": 0,
             "ticks": ""
            },
            "colorscale": [
             [
              0,
              "#0d0887"
             ],
             [
              0.1111111111111111,
              "#46039f"
             ],
             [
              0.2222222222222222,
              "#7201a8"
             ],
             [
              0.3333333333333333,
              "#9c179e"
             ],
             [
              0.4444444444444444,
              "#bd3786"
             ],
             [
              0.5555555555555556,
              "#d8576b"
             ],
             [
              0.6666666666666666,
              "#ed7953"
             ],
             [
              0.7777777777777778,
              "#fb9f3a"
             ],
             [
              0.8888888888888888,
              "#fdca26"
             ],
             [
              1,
              "#f0f921"
             ]
            ],
            "type": "heatmapgl"
           }
          ],
          "histogram": [
           {
            "marker": {
             "colorbar": {
              "outlinewidth": 0,
              "ticks": ""
             }
            },
            "type": "histogram"
           }
          ],
          "histogram2d": [
           {
            "colorbar": {
             "outlinewidth": 0,
             "ticks": ""
            },
            "colorscale": [
             [
              0,
              "#0d0887"
             ],
             [
              0.1111111111111111,
              "#46039f"
             ],
             [
              0.2222222222222222,
              "#7201a8"
             ],
             [
              0.3333333333333333,
              "#9c179e"
             ],
             [
              0.4444444444444444,
              "#bd3786"
             ],
             [
              0.5555555555555556,
              "#d8576b"
             ],
             [
              0.6666666666666666,
              "#ed7953"
             ],
             [
              0.7777777777777778,
              "#fb9f3a"
             ],
             [
              0.8888888888888888,
              "#fdca26"
             ],
             [
              1,
              "#f0f921"
             ]
            ],
            "type": "histogram2d"
           }
          ],
          "histogram2dcontour": [
           {
            "colorbar": {
             "outlinewidth": 0,
             "ticks": ""
            },
            "colorscale": [
             [
              0,
              "#0d0887"
             ],
             [
              0.1111111111111111,
              "#46039f"
             ],
             [
              0.2222222222222222,
              "#7201a8"
             ],
             [
              0.3333333333333333,
              "#9c179e"
             ],
             [
              0.4444444444444444,
              "#bd3786"
             ],
             [
              0.5555555555555556,
              "#d8576b"
             ],
             [
              0.6666666666666666,
              "#ed7953"
             ],
             [
              0.7777777777777778,
              "#fb9f3a"
             ],
             [
              0.8888888888888888,
              "#fdca26"
             ],
             [
              1,
              "#f0f921"
             ]
            ],
            "type": "histogram2dcontour"
           }
          ],
          "mesh3d": [
           {
            "colorbar": {
             "outlinewidth": 0,
             "ticks": ""
            },
            "type": "mesh3d"
           }
          ],
          "parcoords": [
           {
            "line": {
             "colorbar": {
              "outlinewidth": 0,
              "ticks": ""
             }
            },
            "type": "parcoords"
           }
          ],
          "pie": [
           {
            "automargin": true,
            "type": "pie"
           }
          ],
          "scatter": [
           {
            "marker": {
             "colorbar": {
              "outlinewidth": 0,
              "ticks": ""
             }
            },
            "type": "scatter"
           }
          ],
          "scatter3d": [
           {
            "line": {
             "colorbar": {
              "outlinewidth": 0,
              "ticks": ""
             }
            },
            "marker": {
             "colorbar": {
              "outlinewidth": 0,
              "ticks": ""
             }
            },
            "type": "scatter3d"
           }
          ],
          "scattercarpet": [
           {
            "marker": {
             "colorbar": {
              "outlinewidth": 0,
              "ticks": ""
             }
            },
            "type": "scattercarpet"
           }
          ],
          "scattergeo": [
           {
            "marker": {
             "colorbar": {
              "outlinewidth": 0,
              "ticks": ""
             }
            },
            "type": "scattergeo"
           }
          ],
          "scattergl": [
           {
            "marker": {
             "colorbar": {
              "outlinewidth": 0,
              "ticks": ""
             }
            },
            "type": "scattergl"
           }
          ],
          "scattermapbox": [
           {
            "marker": {
             "colorbar": {
              "outlinewidth": 0,
              "ticks": ""
             }
            },
            "type": "scattermapbox"
           }
          ],
          "scatterpolar": [
           {
            "marker": {
             "colorbar": {
              "outlinewidth": 0,
              "ticks": ""
             }
            },
            "type": "scatterpolar"
           }
          ],
          "scatterpolargl": [
           {
            "marker": {
             "colorbar": {
              "outlinewidth": 0,
              "ticks": ""
             }
            },
            "type": "scatterpolargl"
           }
          ],
          "scatterternary": [
           {
            "marker": {
             "colorbar": {
              "outlinewidth": 0,
              "ticks": ""
             }
            },
            "type": "scatterternary"
           }
          ],
          "surface": [
           {
            "colorbar": {
             "outlinewidth": 0,
             "ticks": ""
            },
            "colorscale": [
             [
              0,
              "#0d0887"
             ],
             [
              0.1111111111111111,
              "#46039f"
             ],
             [
              0.2222222222222222,
              "#7201a8"
             ],
             [
              0.3333333333333333,
              "#9c179e"
             ],
             [
              0.4444444444444444,
              "#bd3786"
             ],
             [
              0.5555555555555556,
              "#d8576b"
             ],
             [
              0.6666666666666666,
              "#ed7953"
             ],
             [
              0.7777777777777778,
              "#fb9f3a"
             ],
             [
              0.8888888888888888,
              "#fdca26"
             ],
             [
              1,
              "#f0f921"
             ]
            ],
            "type": "surface"
           }
          ],
          "table": [
           {
            "cells": {
             "fill": {
              "color": "#EBF0F8"
             },
             "line": {
              "color": "white"
             }
            },
            "header": {
             "fill": {
              "color": "#C8D4E3"
             },
             "line": {
              "color": "white"
             }
            },
            "type": "table"
           }
          ]
         },
         "layout": {
          "annotationdefaults": {
           "arrowcolor": "#2a3f5f",
           "arrowhead": 0,
           "arrowwidth": 1
          },
          "coloraxis": {
           "colorbar": {
            "outlinewidth": 0,
            "ticks": ""
           }
          },
          "colorscale": {
           "diverging": [
            [
             0,
             "#8e0152"
            ],
            [
             0.1,
             "#c51b7d"
            ],
            [
             0.2,
             "#de77ae"
            ],
            [
             0.3,
             "#f1b6da"
            ],
            [
             0.4,
             "#fde0ef"
            ],
            [
             0.5,
             "#f7f7f7"
            ],
            [
             0.6,
             "#e6f5d0"
            ],
            [
             0.7,
             "#b8e186"
            ],
            [
             0.8,
             "#7fbc41"
            ],
            [
             0.9,
             "#4d9221"
            ],
            [
             1,
             "#276419"
            ]
           ],
           "sequential": [
            [
             0,
             "#0d0887"
            ],
            [
             0.1111111111111111,
             "#46039f"
            ],
            [
             0.2222222222222222,
             "#7201a8"
            ],
            [
             0.3333333333333333,
             "#9c179e"
            ],
            [
             0.4444444444444444,
             "#bd3786"
            ],
            [
             0.5555555555555556,
             "#d8576b"
            ],
            [
             0.6666666666666666,
             "#ed7953"
            ],
            [
             0.7777777777777778,
             "#fb9f3a"
            ],
            [
             0.8888888888888888,
             "#fdca26"
            ],
            [
             1,
             "#f0f921"
            ]
           ],
           "sequentialminus": [
            [
             0,
             "#0d0887"
            ],
            [
             0.1111111111111111,
             "#46039f"
            ],
            [
             0.2222222222222222,
             "#7201a8"
            ],
            [
             0.3333333333333333,
             "#9c179e"
            ],
            [
             0.4444444444444444,
             "#bd3786"
            ],
            [
             0.5555555555555556,
             "#d8576b"
            ],
            [
             0.6666666666666666,
             "#ed7953"
            ],
            [
             0.7777777777777778,
             "#fb9f3a"
            ],
            [
             0.8888888888888888,
             "#fdca26"
            ],
            [
             1,
             "#f0f921"
            ]
           ]
          },
          "colorway": [
           "#636efa",
           "#EF553B",
           "#00cc96",
           "#ab63fa",
           "#FFA15A",
           "#19d3f3",
           "#FF6692",
           "#B6E880",
           "#FF97FF",
           "#FECB52"
          ],
          "font": {
           "color": "#2a3f5f"
          },
          "geo": {
           "bgcolor": "white",
           "lakecolor": "white",
           "landcolor": "#E5ECF6",
           "showlakes": true,
           "showland": true,
           "subunitcolor": "white"
          },
          "hoverlabel": {
           "align": "left"
          },
          "hovermode": "closest",
          "mapbox": {
           "style": "light"
          },
          "paper_bgcolor": "white",
          "plot_bgcolor": "#E5ECF6",
          "polar": {
           "angularaxis": {
            "gridcolor": "white",
            "linecolor": "white",
            "ticks": ""
           },
           "bgcolor": "#E5ECF6",
           "radialaxis": {
            "gridcolor": "white",
            "linecolor": "white",
            "ticks": ""
           }
          },
          "scene": {
           "xaxis": {
            "backgroundcolor": "#E5ECF6",
            "gridcolor": "white",
            "gridwidth": 2,
            "linecolor": "white",
            "showbackground": true,
            "ticks": "",
            "zerolinecolor": "white"
           },
           "yaxis": {
            "backgroundcolor": "#E5ECF6",
            "gridcolor": "white",
            "gridwidth": 2,
            "linecolor": "white",
            "showbackground": true,
            "ticks": "",
            "zerolinecolor": "white"
           },
           "zaxis": {
            "backgroundcolor": "#E5ECF6",
            "gridcolor": "white",
            "gridwidth": 2,
            "linecolor": "white",
            "showbackground": true,
            "ticks": "",
            "zerolinecolor": "white"
           }
          },
          "shapedefaults": {
           "line": {
            "color": "#2a3f5f"
           }
          },
          "ternary": {
           "aaxis": {
            "gridcolor": "white",
            "linecolor": "white",
            "ticks": ""
           },
           "baxis": {
            "gridcolor": "white",
            "linecolor": "white",
            "ticks": ""
           },
           "bgcolor": "#E5ECF6",
           "caxis": {
            "gridcolor": "white",
            "linecolor": "white",
            "ticks": ""
           }
          },
          "title": {
           "x": 0.05
          },
          "xaxis": {
           "automargin": true,
           "gridcolor": "white",
           "linecolor": "white",
           "ticks": "",
           "title": {
            "standoff": 15
           },
           "zerolinecolor": "white",
           "zerolinewidth": 2
          },
          "yaxis": {
           "automargin": true,
           "gridcolor": "white",
           "linecolor": "white",
           "ticks": "",
           "title": {
            "standoff": 15
           },
           "zerolinecolor": "white",
           "zerolinewidth": 2
          }
         }
        },
        "title": {
         "text": "pitch_type distribution"
        },
        "width": 800
       }
      },
      "text/html": [
       "<div>\n",
       "        \n",
       "        \n",
       "            <div id=\"c4859e6e-9912-4a01-a5e5-5c52fda1a136\" class=\"plotly-graph-div\" style=\"height:1000px; width:800px;\"></div>\n",
       "            <script type=\"text/javascript\">\n",
       "                require([\"plotly\"], function(Plotly) {\n",
       "                    window.PLOTLYENV=window.PLOTLYENV || {};\n",
       "                    \n",
       "                if (document.getElementById(\"c4859e6e-9912-4a01-a5e5-5c52fda1a136\")) {\n",
       "                    Plotly.newPlot(\n",
       "                        'c4859e6e-9912-4a01-a5e5-5c52fda1a136',\n",
       "                        [{\"domain\": {\"x\": [0.0, 1.0], \"y\": [0.0, 1.0]}, \"hoverlabel\": {\"namelength\": 0}, \"hovertemplate\": \"label=%{label}<br>value=%{value}\", \"labels\": [\"Four Seam Fastball\", \"Slider\", \"Two seam fastball\", \"Changeup\", \"Sinker\", \"Curveball\", \"Cutter\", \"Knuckle Curve\", \"Splitter\", \"Knuckleball\", \"Intentional Ball\", \"Pitch Out\", \"Eephus\", \"Screwball\", \"Unidentified\", \"Fastball\"], \"legendgroup\": \"\", \"name\": \"\", \"showlegend\": true, \"textinfo\": \"percent+label\", \"textposition\": \"inside\", \"type\": \"pie\", \"values\": [1014877, 450578, 337983, 292789, 242504, 234391, 149756, 66484, 43705, 11260, 6197, 1438, 815, 113, 57, 9]}],\n",
       "                        {\"height\": 1000, \"legend\": {\"tracegroupgap\": 0}, \"template\": {\"data\": {\"bar\": [{\"error_x\": {\"color\": \"#2a3f5f\"}, \"error_y\": {\"color\": \"#2a3f5f\"}, \"marker\": {\"line\": {\"color\": \"#E5ECF6\", \"width\": 0.5}}, \"type\": \"bar\"}], \"barpolar\": [{\"marker\": {\"line\": {\"color\": \"#E5ECF6\", \"width\": 0.5}}, \"type\": \"barpolar\"}], \"carpet\": [{\"aaxis\": {\"endlinecolor\": \"#2a3f5f\", \"gridcolor\": \"white\", \"linecolor\": \"white\", \"minorgridcolor\": \"white\", \"startlinecolor\": \"#2a3f5f\"}, \"baxis\": {\"endlinecolor\": \"#2a3f5f\", \"gridcolor\": \"white\", \"linecolor\": \"white\", \"minorgridcolor\": \"white\", \"startlinecolor\": \"#2a3f5f\"}, \"type\": \"carpet\"}], \"choropleth\": [{\"colorbar\": {\"outlinewidth\": 0, \"ticks\": \"\"}, \"type\": \"choropleth\"}], \"contour\": [{\"colorbar\": {\"outlinewidth\": 0, \"ticks\": \"\"}, \"colorscale\": [[0.0, \"#0d0887\"], [0.1111111111111111, \"#46039f\"], [0.2222222222222222, \"#7201a8\"], [0.3333333333333333, \"#9c179e\"], [0.4444444444444444, \"#bd3786\"], [0.5555555555555556, \"#d8576b\"], [0.6666666666666666, \"#ed7953\"], [0.7777777777777778, \"#fb9f3a\"], [0.8888888888888888, \"#fdca26\"], [1.0, \"#f0f921\"]], \"type\": \"contour\"}], \"contourcarpet\": [{\"colorbar\": {\"outlinewidth\": 0, \"ticks\": \"\"}, \"type\": \"contourcarpet\"}], \"heatmap\": [{\"colorbar\": {\"outlinewidth\": 0, \"ticks\": \"\"}, \"colorscale\": [[0.0, \"#0d0887\"], [0.1111111111111111, \"#46039f\"], [0.2222222222222222, \"#7201a8\"], [0.3333333333333333, \"#9c179e\"], [0.4444444444444444, \"#bd3786\"], [0.5555555555555556, \"#d8576b\"], [0.6666666666666666, \"#ed7953\"], [0.7777777777777778, \"#fb9f3a\"], [0.8888888888888888, \"#fdca26\"], [1.0, \"#f0f921\"]], \"type\": \"heatmap\"}], \"heatmapgl\": [{\"colorbar\": {\"outlinewidth\": 0, \"ticks\": \"\"}, \"colorscale\": [[0.0, \"#0d0887\"], [0.1111111111111111, \"#46039f\"], [0.2222222222222222, \"#7201a8\"], [0.3333333333333333, \"#9c179e\"], [0.4444444444444444, \"#bd3786\"], [0.5555555555555556, \"#d8576b\"], [0.6666666666666666, \"#ed7953\"], [0.7777777777777778, \"#fb9f3a\"], [0.8888888888888888, \"#fdca26\"], [1.0, \"#f0f921\"]], \"type\": \"heatmapgl\"}], \"histogram\": [{\"marker\": {\"colorbar\": {\"outlinewidth\": 0, \"ticks\": \"\"}}, \"type\": \"histogram\"}], \"histogram2d\": [{\"colorbar\": {\"outlinewidth\": 0, \"ticks\": \"\"}, \"colorscale\": [[0.0, \"#0d0887\"], [0.1111111111111111, \"#46039f\"], [0.2222222222222222, \"#7201a8\"], [0.3333333333333333, \"#9c179e\"], [0.4444444444444444, \"#bd3786\"], [0.5555555555555556, \"#d8576b\"], [0.6666666666666666, \"#ed7953\"], [0.7777777777777778, \"#fb9f3a\"], [0.8888888888888888, \"#fdca26\"], [1.0, \"#f0f921\"]], \"type\": \"histogram2d\"}], \"histogram2dcontour\": [{\"colorbar\": {\"outlinewidth\": 0, \"ticks\": \"\"}, \"colorscale\": [[0.0, \"#0d0887\"], [0.1111111111111111, \"#46039f\"], [0.2222222222222222, \"#7201a8\"], [0.3333333333333333, \"#9c179e\"], [0.4444444444444444, \"#bd3786\"], [0.5555555555555556, \"#d8576b\"], [0.6666666666666666, \"#ed7953\"], [0.7777777777777778, \"#fb9f3a\"], [0.8888888888888888, \"#fdca26\"], [1.0, \"#f0f921\"]], \"type\": \"histogram2dcontour\"}], \"mesh3d\": [{\"colorbar\": {\"outlinewidth\": 0, \"ticks\": \"\"}, \"type\": \"mesh3d\"}], \"parcoords\": [{\"line\": {\"colorbar\": {\"outlinewidth\": 0, \"ticks\": \"\"}}, \"type\": \"parcoords\"}], \"pie\": [{\"automargin\": true, \"type\": \"pie\"}], \"scatter\": [{\"marker\": {\"colorbar\": {\"outlinewidth\": 0, \"ticks\": \"\"}}, \"type\": \"scatter\"}], \"scatter3d\": [{\"line\": {\"colorbar\": {\"outlinewidth\": 0, \"ticks\": \"\"}}, \"marker\": {\"colorbar\": {\"outlinewidth\": 0, \"ticks\": \"\"}}, \"type\": \"scatter3d\"}], \"scattercarpet\": [{\"marker\": {\"colorbar\": {\"outlinewidth\": 0, \"ticks\": \"\"}}, \"type\": \"scattercarpet\"}], \"scattergeo\": [{\"marker\": {\"colorbar\": {\"outlinewidth\": 0, \"ticks\": \"\"}}, \"type\": \"scattergeo\"}], \"scattergl\": [{\"marker\": {\"colorbar\": {\"outlinewidth\": 0, \"ticks\": \"\"}}, \"type\": \"scattergl\"}], \"scattermapbox\": [{\"marker\": {\"colorbar\": {\"outlinewidth\": 0, \"ticks\": \"\"}}, \"type\": \"scattermapbox\"}], \"scatterpolar\": [{\"marker\": {\"colorbar\": {\"outlinewidth\": 0, \"ticks\": \"\"}}, \"type\": \"scatterpolar\"}], \"scatterpolargl\": [{\"marker\": {\"colorbar\": {\"outlinewidth\": 0, \"ticks\": \"\"}}, \"type\": \"scatterpolargl\"}], \"scatterternary\": [{\"marker\": {\"colorbar\": {\"outlinewidth\": 0, \"ticks\": \"\"}}, \"type\": \"scatterternary\"}], \"surface\": [{\"colorbar\": {\"outlinewidth\": 0, \"ticks\": \"\"}, \"colorscale\": [[0.0, \"#0d0887\"], [0.1111111111111111, \"#46039f\"], [0.2222222222222222, \"#7201a8\"], [0.3333333333333333, \"#9c179e\"], [0.4444444444444444, \"#bd3786\"], [0.5555555555555556, \"#d8576b\"], [0.6666666666666666, \"#ed7953\"], [0.7777777777777778, \"#fb9f3a\"], [0.8888888888888888, \"#fdca26\"], [1.0, \"#f0f921\"]], \"type\": \"surface\"}], \"table\": [{\"cells\": {\"fill\": {\"color\": \"#EBF0F8\"}, \"line\": {\"color\": \"white\"}}, \"header\": {\"fill\": {\"color\": \"#C8D4E3\"}, \"line\": {\"color\": \"white\"}}, \"type\": \"table\"}]}, \"layout\": {\"annotationdefaults\": {\"arrowcolor\": \"#2a3f5f\", \"arrowhead\": 0, \"arrowwidth\": 1}, \"coloraxis\": {\"colorbar\": {\"outlinewidth\": 0, \"ticks\": \"\"}}, \"colorscale\": {\"diverging\": [[0, \"#8e0152\"], [0.1, \"#c51b7d\"], [0.2, \"#de77ae\"], [0.3, \"#f1b6da\"], [0.4, \"#fde0ef\"], [0.5, \"#f7f7f7\"], [0.6, \"#e6f5d0\"], [0.7, \"#b8e186\"], [0.8, \"#7fbc41\"], [0.9, \"#4d9221\"], [1, \"#276419\"]], \"sequential\": [[0.0, \"#0d0887\"], [0.1111111111111111, \"#46039f\"], [0.2222222222222222, \"#7201a8\"], [0.3333333333333333, \"#9c179e\"], [0.4444444444444444, \"#bd3786\"], [0.5555555555555556, \"#d8576b\"], [0.6666666666666666, \"#ed7953\"], [0.7777777777777778, \"#fb9f3a\"], [0.8888888888888888, \"#fdca26\"], [1.0, \"#f0f921\"]], \"sequentialminus\": [[0.0, \"#0d0887\"], [0.1111111111111111, \"#46039f\"], [0.2222222222222222, \"#7201a8\"], [0.3333333333333333, \"#9c179e\"], [0.4444444444444444, \"#bd3786\"], [0.5555555555555556, \"#d8576b\"], [0.6666666666666666, \"#ed7953\"], [0.7777777777777778, \"#fb9f3a\"], [0.8888888888888888, \"#fdca26\"], [1.0, \"#f0f921\"]]}, \"colorway\": [\"#636efa\", \"#EF553B\", \"#00cc96\", \"#ab63fa\", \"#FFA15A\", \"#19d3f3\", \"#FF6692\", \"#B6E880\", \"#FF97FF\", \"#FECB52\"], \"font\": {\"color\": \"#2a3f5f\"}, \"geo\": {\"bgcolor\": \"white\", \"lakecolor\": \"white\", \"landcolor\": \"#E5ECF6\", \"showlakes\": true, \"showland\": true, \"subunitcolor\": \"white\"}, \"hoverlabel\": {\"align\": \"left\"}, \"hovermode\": \"closest\", \"mapbox\": {\"style\": \"light\"}, \"paper_bgcolor\": \"white\", \"plot_bgcolor\": \"#E5ECF6\", \"polar\": {\"angularaxis\": {\"gridcolor\": \"white\", \"linecolor\": \"white\", \"ticks\": \"\"}, \"bgcolor\": \"#E5ECF6\", \"radialaxis\": {\"gridcolor\": \"white\", \"linecolor\": \"white\", \"ticks\": \"\"}}, \"scene\": {\"xaxis\": {\"backgroundcolor\": \"#E5ECF6\", \"gridcolor\": \"white\", \"gridwidth\": 2, \"linecolor\": \"white\", \"showbackground\": true, \"ticks\": \"\", \"zerolinecolor\": \"white\"}, \"yaxis\": {\"backgroundcolor\": \"#E5ECF6\", \"gridcolor\": \"white\", \"gridwidth\": 2, \"linecolor\": \"white\", \"showbackground\": true, \"ticks\": \"\", \"zerolinecolor\": \"white\"}, \"zaxis\": {\"backgroundcolor\": \"#E5ECF6\", \"gridcolor\": \"white\", \"gridwidth\": 2, \"linecolor\": \"white\", \"showbackground\": true, \"ticks\": \"\", \"zerolinecolor\": \"white\"}}, \"shapedefaults\": {\"line\": {\"color\": \"#2a3f5f\"}}, \"ternary\": {\"aaxis\": {\"gridcolor\": \"white\", \"linecolor\": \"white\", \"ticks\": \"\"}, \"baxis\": {\"gridcolor\": \"white\", \"linecolor\": \"white\", \"ticks\": \"\"}, \"bgcolor\": \"#E5ECF6\", \"caxis\": {\"gridcolor\": \"white\", \"linecolor\": \"white\", \"ticks\": \"\"}}, \"title\": {\"x\": 0.05}, \"xaxis\": {\"automargin\": true, \"gridcolor\": \"white\", \"linecolor\": \"white\", \"ticks\": \"\", \"title\": {\"standoff\": 15}, \"zerolinecolor\": \"white\", \"zerolinewidth\": 2}, \"yaxis\": {\"automargin\": true, \"gridcolor\": \"white\", \"linecolor\": \"white\", \"ticks\": \"\", \"title\": {\"standoff\": 15}, \"zerolinecolor\": \"white\", \"zerolinewidth\": 2}}}, \"title\": {\"text\": \"pitch_type distribution\"}, \"width\": 800},\n",
       "                        {\"responsive\": true}\n",
       "                    ).then(function(){\n",
       "                            \n",
       "var gd = document.getElementById('c4859e6e-9912-4a01-a5e5-5c52fda1a136');\n",
       "var x = new MutationObserver(function (mutations, observer) {{\n",
       "        var display = window.getComputedStyle(gd).display;\n",
       "        if (!display || display === 'none') {{\n",
       "            console.log([gd, 'removed!']);\n",
       "            Plotly.purge(gd);\n",
       "            observer.disconnect();\n",
       "        }}\n",
       "}});\n",
       "\n",
       "// Listen for the removal of the full notebook cells\n",
       "var notebookContainer = gd.closest('#notebook-container');\n",
       "if (notebookContainer) {{\n",
       "    x.observe(notebookContainer, {childList: true});\n",
       "}}\n",
       "\n",
       "// Listen for the clearing of the current output cell\n",
       "var outputEl = gd.closest('.output');\n",
       "if (outputEl) {{\n",
       "    x.observe(outputEl, {childList: true});\n",
       "}}\n",
       "\n",
       "                        })\n",
       "                };\n",
       "                });\n",
       "            </script>\n",
       "        </div>"
      ]
     },
     "metadata": {},
     "output_type": "display_data"
    }
   ],
   "source": [
    "fig_pitch_type = px.pie(pitch_type_df, values=pitch_type_df.values, names=pitch_type_df.index ,title='pitch_type distribution',width=800, height=1000)\n",
    "fig_pitch_type.update_traces(textposition='inside', textinfo='percent+label')\n",
    "fig_pitch_type.show()"
   ]
  },
  {
   "cell_type": "code",
   "execution_count": 77,
   "metadata": {},
   "outputs": [],
   "source": [
    "hr_event = final_df[final_df['event']=='Home Run']['pitch_type']"
   ]
  },
  {
   "cell_type": "code",
   "execution_count": 80,
   "metadata": {},
   "outputs": [],
   "source": [
    "hr_df = hr_event.value_counts().to_frame()"
   ]
  },
  {
   "cell_type": "code",
   "execution_count": 81,
   "metadata": {},
   "outputs": [
    {
     "data": {
      "image/png": "[encoded data removed]",
      "text/plain": [
       "<Figure size 1440x720 with 1 Axes>"
      ]
     },
     "metadata": {
      "needs_background": "light"
     },
     "output_type": "display_data"
    }
   ],
   "source": [
    "plt_bar(hr_df, 'pitch_type')"
   ]
  },
  {
   "cell_type": "code",
   "execution_count": 82,
   "metadata": {},
   "outputs": [
    {
     "data": {
      "application/vnd.plotly.v1+json": {
       "config": {
        "plotlyServerURL": "https://plot.ly"
       },
       "data": [
        {
         "domain": {
          "x": [
           0,
           1
          ],
          "y": [
           0,
           1
          ]
         },
         "hoverlabel": {
          "namelength": 0
         },
         "hovertemplate": "label=%{label}<br>value=%{value}",
         "labels": [
          "Four Seam Fastball",
          "Slider",
          "Two seam fastball",
          "Changeup",
          "Sinker",
          "Curveball",
          "Cutter",
          "Knuckle Curve",
          "Splitter",
          "Knuckleball",
          "Intentional Ball",
          "Pitch Out",
          "Eephus",
          "Screwball",
          "Unidentified",
          "Fastball"
         ],
         "legendgroup": "",
         "name": "",
         "showlegend": true,
         "textinfo": "percent+label",
         "textposition": "inside",
         "type": "pie",
         "values": [
          1014877,
          450578,
          337983,
          292789,
          242504,
          234391,
          149756,
          66484,
          43705,
          11260,
          6197,
          1438,
          815,
          113,
          57,
          9
         ]
        }
       ],
       "layout": {
        "height": 1000,
        "legend": {
         "tracegroupgap": 0
        },
        "template": {
         "data": {
          "bar": [
           {
            "error_x": {
             "color": "#2a3f5f"
            },
            "error_y": {
             "color": "#2a3f5f"
            },
            "marker": {
             "line": {
              "color": "#E5ECF6",
              "width": 0.5
             }
            },
            "type": "bar"
           }
          ],
          "barpolar": [
           {
            "marker": {
             "line": {
              "color": "#E5ECF6",
              "width": 0.5
             }
            },
            "type": "barpolar"
           }
          ],
          "carpet": [
           {
            "aaxis": {
             "endlinecolor": "#2a3f5f",
             "gridcolor": "white",
             "linecolor": "white",
             "minorgridcolor": "white",
             "startlinecolor": "#2a3f5f"
            },
            "baxis": {
             "endlinecolor": "#2a3f5f",
             "gridcolor": "white",
             "linecolor": "white",
             "minorgridcolor": "white",
             "startlinecolor": "#2a3f5f"
            },
            "type": "carpet"
           }
          ],
          "choropleth": [
           {
            "colorbar": {
             "outlinewidth": 0,
             "ticks": ""
            },
            "type": "choropleth"
           }
          ],
          "contour": [
           {
            "colorbar": {
             "outlinewidth": 0,
             "ticks": ""
            },
            "colorscale": [
             [
              0,
              "#0d0887"
             ],
             [
              0.1111111111111111,
              "#46039f"
             ],
             [
              0.2222222222222222,
              "#7201a8"
             ],
             [
              0.3333333333333333,
              "#9c179e"
             ],
             [
              0.4444444444444444,
              "#bd3786"
             ],
             [
              0.5555555555555556,
              "#d8576b"
             ],
             [
              0.6666666666666666,
              "#ed7953"
             ],
             [
              0.7777777777777778,
              "#fb9f3a"
             ],
             [
              0.8888888888888888,
              "#fdca26"
             ],
             [
              1,
              "#f0f921"
             ]
            ],
            "type": "contour"
           }
          ],
          "contourcarpet": [
           {
            "colorbar": {
             "outlinewidth": 0,
             "ticks": ""
            },
            "type": "contourcarpet"
           }
          ],
          "heatmap": [
           {
            "colorbar": {
             "outlinewidth": 0,
             "ticks": ""
            },
            "colorscale": [
             [
              0,
              "#0d0887"
             ],
             [
              0.1111111111111111,
              "#46039f"
             ],
             [
              0.2222222222222222,
              "#7201a8"
             ],
             [
              0.3333333333333333,
              "#9c179e"
             ],
             [
              0.4444444444444444,
              "#bd3786"
             ],
             [
              0.5555555555555556,
              "#d8576b"
             ],
             [
              0.6666666666666666,
              "#ed7953"
             ],
             [
              0.7777777777777778,
              "#fb9f3a"
             ],
             [
              0.8888888888888888,
              "#fdca26"
             ],
             [
              1,
              "#f0f921"
             ]
            ],
            "type": "heatmap"
           }
          ],
          "heatmapgl": [
           {
            "colorbar": {
             "outlinewidth": 0,
             "ticks": ""
            },
            "colorscale": [
             [
              0,
              "#0d0887"
             ],
             [
              0.1111111111111111,
              "#46039f"
             ],
             [
              0.2222222222222222,
              "#7201a8"
             ],
             [
              0.3333333333333333,
              "#9c179e"
             ],
             [
              0.4444444444444444,
              "#bd3786"
             ],
             [
              0.5555555555555556,
              "#d8576b"
             ],
             [
              0.6666666666666666,
              "#ed7953"
             ],
             [
              0.7777777777777778,
              "#fb9f3a"
             ],
             [
              0.8888888888888888,
              "#fdca26"
             ],
             [
              1,
              "#f0f921"
             ]
            ],
            "type": "heatmapgl"
           }
          ],
          "histogram": [
           {
            "marker": {
             "colorbar": {
              "outlinewidth": 0,
              "ticks": ""
             }
            },
            "type": "histogram"
           }
          ],
          "histogram2d": [
           {
            "colorbar": {
             "outlinewidth": 0,
             "ticks": ""
            },
            "colorscale": [
             [
              0,
              "#0d0887"
             ],
             [
              0.1111111111111111,
              "#46039f"
             ],
             [
              0.2222222222222222,
              "#7201a8"
             ],
             [
              0.3333333333333333,
              "#9c179e"
             ],
             [
              0.4444444444444444,
              "#bd3786"
             ],
             [
              0.5555555555555556,
              "#d8576b"
             ],
             [
              0.6666666666666666,
              "#ed7953"
             ],
             [
              0.7777777777777778,
              "#fb9f3a"
             ],
             [
              0.8888888888888888,
              "#fdca26"
             ],
             [
              1,
              "#f0f921"
             ]
            ],
            "type": "histogram2d"
           }
          ],
          "histogram2dcontour": [
           {
            "colorbar": {
             "outlinewidth": 0,
             "ticks": ""
            },
            "colorscale": [
             [
              0,
              "#0d0887"
             ],
             [
              0.1111111111111111,
              "#46039f"
             ],
             [
              0.2222222222222222,
              "#7201a8"
             ],
             [
              0.3333333333333333,
              "#9c179e"
             ],
             [
              0.4444444444444444,
              "#bd3786"
             ],
             [
              0.5555555555555556,
              "#d8576b"
             ],
             [
              0.6666666666666666,
              "#ed7953"
             ],
             [
              0.7777777777777778,
              "#fb9f3a"
             ],
             [
              0.8888888888888888,
              "#fdca26"
             ],
             [
              1,
              "#f0f921"
             ]
            ],
            "type": "histogram2dcontour"
           }
          ],
          "mesh3d": [
           {
            "colorbar": {
             "outlinewidth": 0,
             "ticks": ""
            },
            "type": "mesh3d"
           }
          ],
          "parcoords": [
           {
            "line": {
             "colorbar": {
              "outlinewidth": 0,
              "ticks": ""
             }
            },
            "type": "parcoords"
           }
          ],
          "pie": [
           {
            "automargin": true,
            "type": "pie"
           }
          ],
          "scatter": [
           {
            "marker": {
             "colorbar": {
              "outlinewidth": 0,
              "ticks": ""
             }
            },
            "type": "scatter"
           }
          ],
          "scatter3d": [
           {
            "line": {
             "colorbar": {
              "outlinewidth": 0,
              "ticks": ""
             }
            },
            "marker": {
             "colorbar": {
              "outlinewidth": 0,
              "ticks": ""
             }
            },
            "type": "scatter3d"
           }
          ],
          "scattercarpet": [
           {
            "marker": {
             "colorbar": {
              "outlinewidth": 0,
              "ticks": ""
             }
            },
            "type": "scattercarpet"
           }
          ],
          "scattergeo": [
           {
            "marker": {
             "colorbar": {
              "outlinewidth": 0,
              "ticks": ""
             }
            },
            "type": "scattergeo"
           }
          ],
          "scattergl": [
           {
            "marker": {
             "colorbar": {
              "outlinewidth": 0,
              "ticks": ""
             }
            },
            "type": "scattergl"
           }
          ],
          "scattermapbox": [
           {
            "marker": {
             "colorbar": {
              "outlinewidth": 0,
              "ticks": ""
             }
            },
            "type": "scattermapbox"
           }
          ],
          "scatterpolar": [
           {
            "marker": {
             "colorbar": {
              "outlinewidth": 0,
              "ticks": ""
             }
            },
            "type": "scatterpolar"
           }
          ],
          "scatterpolargl": [
           {
            "marker": {
             "colorbar": {
              "outlinewidth": 0,
              "ticks": ""
             }
            },
            "type": "scatterpolargl"
           }
          ],
          "scatterternary": [
           {
            "marker": {
             "colorbar": {
              "outlinewidth": 0,
              "ticks": ""
             }
            },
            "type": "scatterternary"
           }
          ],
          "surface": [
           {
            "colorbar": {
             "outlinewidth": 0,
             "ticks": ""
            },
            "colorscale": [
             [
              0,
              "#0d0887"
             ],
             [
              0.1111111111111111,
              "#46039f"
             ],
             [
              0.2222222222222222,
              "#7201a8"
             ],
             [
              0.3333333333333333,
              "#9c179e"
             ],
             [
              0.4444444444444444,
              "#bd3786"
             ],
             [
              0.5555555555555556,
              "#d8576b"
             ],
             [
              0.6666666666666666,
              "#ed7953"
             ],
             [
              0.7777777777777778,
              "#fb9f3a"
             ],
             [
              0.8888888888888888,
              "#fdca26"
             ],
             [
              1,
              "#f0f921"
             ]
            ],
            "type": "surface"
           }
          ],
          "table": [
           {
            "cells": {
             "fill": {
              "color": "#EBF0F8"
             },
             "line": {
              "color": "white"
             }
            },
            "header": {
             "fill": {
              "color": "#C8D4E3"
             },
             "line": {
              "color": "white"
             }
            },
            "type": "table"
           }
          ]
         },
         "layout": {
          "annotationdefaults": {
           "arrowcolor": "#2a3f5f",
           "arrowhead": 0,
           "arrowwidth": 1
          },
          "coloraxis": {
           "colorbar": {
            "outlinewidth": 0,
            "ticks": ""
           }
          },
          "colorscale": {
           "diverging": [
            [
             0,
             "#8e0152"
            ],
            [
             0.1,
             "#c51b7d"
            ],
            [
             0.2,
             "#de77ae"
            ],
            [
             0.3,
             "#f1b6da"
            ],
            [
             0.4,
             "#fde0ef"
            ],
            [
             0.5,
             "#f7f7f7"
            ],
            [
             0.6,
             "#e6f5d0"
            ],
            [
             0.7,
             "#b8e186"
            ],
            [
             0.8,
             "#7fbc41"
            ],
            [
             0.9,
             "#4d9221"
            ],
            [
             1,
             "#276419"
            ]
           ],
           "sequential": [
            [
             0,
             "#0d0887"
            ],
            [
             0.1111111111111111,
             "#46039f"
            ],
            [
             0.2222222222222222,
             "#7201a8"
            ],
            [
             0.3333333333333333,
             "#9c179e"
            ],
            [
             0.4444444444444444,
             "#bd3786"
            ],
            [
             0.5555555555555556,
             "#d8576b"
            ],
            [
             0.6666666666666666,
             "#ed7953"
            ],
            [
             0.7777777777777778,
             "#fb9f3a"
            ],
            [
             0.8888888888888888,
             "#fdca26"
            ],
            [
             1,
             "#f0f921"
            ]
           ],
           "sequentialminus": [
            [
             0,
             "#0d0887"
            ],
            [
             0.1111111111111111,
             "#46039f"
            ],
            [
             0.2222222222222222,
             "#7201a8"
            ],
            [
             0.3333333333333333,
             "#9c179e"
            ],
            [
             0.4444444444444444,
             "#bd3786"
            ],
            [
             0.5555555555555556,
             "#d8576b"
            ],
            [
             0.6666666666666666,
             "#ed7953"
            ],
            [
             0.7777777777777778,
             "#fb9f3a"
            ],
            [
             0.8888888888888888,
             "#fdca26"
            ],
            [
             1,
             "#f0f921"
            ]
           ]
          },
          "colorway": [
           "#636efa",
           "#EF553B",
           "#00cc96",
           "#ab63fa",
           "#FFA15A",
           "#19d3f3",
           "#FF6692",
           "#B6E880",
           "#FF97FF",
           "#FECB52"
          ],
          "font": {
           "color": "#2a3f5f"
          },
          "geo": {
           "bgcolor": "white",
           "lakecolor": "white",
           "landcolor": "#E5ECF6",
           "showlakes": true,
           "showland": true,
           "subunitcolor": "white"
          },
          "hoverlabel": {
           "align": "left"
          },
          "hovermode": "closest",
          "mapbox": {
           "style": "light"
          },
          "paper_bgcolor": "white",
          "plot_bgcolor": "#E5ECF6",
          "polar": {
           "angularaxis": {
            "gridcolor": "white",
            "linecolor": "white",
            "ticks": ""
           },
           "bgcolor": "#E5ECF6",
           "radialaxis": {
            "gridcolor": "white",
            "linecolor": "white",
            "ticks": ""
           }
          },
          "scene": {
           "xaxis": {
            "backgroundcolor": "#E5ECF6",
            "gridcolor": "white",
            "gridwidth": 2,
            "linecolor": "white",
            "showbackground": true,
            "ticks": "",
            "zerolinecolor": "white"
           },
           "yaxis": {
            "backgroundcolor": "#E5ECF6",
            "gridcolor": "white",
            "gridwidth": 2,
            "linecolor": "white",
            "showbackground": true,
            "ticks": "",
            "zerolinecolor": "white"
           },
           "zaxis": {
            "backgroundcolor": "#E5ECF6",
            "gridcolor": "white",
            "gridwidth": 2,
            "linecolor": "white",
            "showbackground": true,
            "ticks": "",
            "zerolinecolor": "white"
           }
          },
          "shapedefaults": {
           "line": {
            "color": "#2a3f5f"
           }
          },
          "ternary": {
           "aaxis": {
            "gridcolor": "white",
            "linecolor": "white",
            "ticks": ""
           },
           "baxis": {
            "gridcolor": "white",
            "linecolor": "white",
            "ticks": ""
           },
           "bgcolor": "#E5ECF6",
           "caxis": {
            "gridcolor": "white",
            "linecolor": "white",
            "ticks": ""
           }
          },
          "title": {
           "x": 0.05
          },
          "xaxis": {
           "automargin": true,
           "gridcolor": "white",
           "linecolor": "white",
           "ticks": "",
           "title": {
            "standoff": 15
           },
           "zerolinecolor": "white",
           "zerolinewidth": 2
          },
          "yaxis": {
           "automargin": true,
           "gridcolor": "white",
           "linecolor": "white",
           "ticks": "",
           "title": {
            "standoff": 15
           },
           "zerolinecolor": "white",
           "zerolinewidth": 2
          }
         }
        },
        "title": {
         "text": "pitch_type distribution"
        },
        "width": 800
       }
      },
      "text/html": [
       "<div>\n",
       "        \n",
       "        \n",
       "            <div id=\"122607dc-2650-4415-b074-487a97fcf9ef\" class=\"plotly-graph-div\" style=\"height:1000px; width:800px;\"></div>\n",
       "            <script type=\"text/javascript\">\n",
       "                require([\"plotly\"], function(Plotly) {\n",
       "                    window.PLOTLYENV=window.PLOTLYENV || {};\n",
       "                    \n",
       "                if (document.getElementById(\"122607dc-2650-4415-b074-487a97fcf9ef\")) {\n",
       "                    Plotly.newPlot(\n",
       "                        '122607dc-2650-4415-b074-487a97fcf9ef',\n",
       "                        [{\"domain\": {\"x\": [0.0, 1.0], \"y\": [0.0, 1.0]}, \"hoverlabel\": {\"namelength\": 0}, \"hovertemplate\": \"label=%{label}<br>value=%{value}\", \"labels\": [\"Four Seam Fastball\", \"Slider\", \"Two seam fastball\", \"Changeup\", \"Sinker\", \"Curveball\", \"Cutter\", \"Knuckle Curve\", \"Splitter\", \"Knuckleball\", \"Intentional Ball\", \"Pitch Out\", \"Eephus\", \"Screwball\", \"Unidentified\", \"Fastball\"], \"legendgroup\": \"\", \"name\": \"\", \"showlegend\": true, \"textinfo\": \"percent+label\", \"textposition\": \"inside\", \"type\": \"pie\", \"values\": [1014877, 450578, 337983, 292789, 242504, 234391, 149756, 66484, 43705, 11260, 6197, 1438, 815, 113, 57, 9]}],\n",
       "                        {\"height\": 1000, \"legend\": {\"tracegroupgap\": 0}, \"template\": {\"data\": {\"bar\": [{\"error_x\": {\"color\": \"#2a3f5f\"}, \"error_y\": {\"color\": \"#2a3f5f\"}, \"marker\": {\"line\": {\"color\": \"#E5ECF6\", \"width\": 0.5}}, \"type\": \"bar\"}], \"barpolar\": [{\"marker\": {\"line\": {\"color\": \"#E5ECF6\", \"width\": 0.5}}, \"type\": \"barpolar\"}], \"carpet\": [{\"aaxis\": {\"endlinecolor\": \"#2a3f5f\", \"gridcolor\": \"white\", \"linecolor\": \"white\", \"minorgridcolor\": \"white\", \"startlinecolor\": \"#2a3f5f\"}, \"baxis\": {\"endlinecolor\": \"#2a3f5f\", \"gridcolor\": \"white\", \"linecolor\": \"white\", \"minorgridcolor\": \"white\", \"startlinecolor\": \"#2a3f5f\"}, \"type\": \"carpet\"}], \"choropleth\": [{\"colorbar\": {\"outlinewidth\": 0, \"ticks\": \"\"}, \"type\": \"choropleth\"}], \"contour\": [{\"colorbar\": {\"outlinewidth\": 0, \"ticks\": \"\"}, \"colorscale\": [[0.0, \"#0d0887\"], [0.1111111111111111, \"#46039f\"], [0.2222222222222222, \"#7201a8\"], [0.3333333333333333, \"#9c179e\"], [0.4444444444444444, \"#bd3786\"], [0.5555555555555556, \"#d8576b\"], [0.6666666666666666, \"#ed7953\"], [0.7777777777777778, \"#fb9f3a\"], [0.8888888888888888, \"#fdca26\"], [1.0, \"#f0f921\"]], \"type\": \"contour\"}], \"contourcarpet\": [{\"colorbar\": {\"outlinewidth\": 0, \"ticks\": \"\"}, \"type\": \"contourcarpet\"}], \"heatmap\": [{\"colorbar\": {\"outlinewidth\": 0, \"ticks\": \"\"}, \"colorscale\": [[0.0, \"#0d0887\"], [0.1111111111111111, \"#46039f\"], [0.2222222222222222, \"#7201a8\"], [0.3333333333333333, \"#9c179e\"], [0.4444444444444444, \"#bd3786\"], [0.5555555555555556, \"#d8576b\"], [0.6666666666666666, \"#ed7953\"], [0.7777777777777778, \"#fb9f3a\"], [0.8888888888888888, \"#fdca26\"], [1.0, \"#f0f921\"]], \"type\": \"heatmap\"}], \"heatmapgl\": [{\"colorbar\": {\"outlinewidth\": 0, \"ticks\": \"\"}, \"colorscale\": [[0.0, \"#0d0887\"], [0.1111111111111111, \"#46039f\"], [0.2222222222222222, \"#7201a8\"], [0.3333333333333333, \"#9c179e\"], [0.4444444444444444, \"#bd3786\"], [0.5555555555555556, \"#d8576b\"], [0.6666666666666666, \"#ed7953\"], [0.7777777777777778, \"#fb9f3a\"], [0.8888888888888888, \"#fdca26\"], [1.0, \"#f0f921\"]], \"type\": \"heatmapgl\"}], \"histogram\": [{\"marker\": {\"colorbar\": {\"outlinewidth\": 0, \"ticks\": \"\"}}, \"type\": \"histogram\"}], \"histogram2d\": [{\"colorbar\": {\"outlinewidth\": 0, \"ticks\": \"\"}, \"colorscale\": [[0.0, \"#0d0887\"], [0.1111111111111111, \"#46039f\"], [0.2222222222222222, \"#7201a8\"], [0.3333333333333333, \"#9c179e\"], [0.4444444444444444, \"#bd3786\"], [0.5555555555555556, \"#d8576b\"], [0.6666666666666666, \"#ed7953\"], [0.7777777777777778, \"#fb9f3a\"], [0.8888888888888888, \"#fdca26\"], [1.0, \"#f0f921\"]], \"type\": \"histogram2d\"}], \"histogram2dcontour\": [{\"colorbar\": {\"outlinewidth\": 0, \"ticks\": \"\"}, \"colorscale\": [[0.0, \"#0d0887\"], [0.1111111111111111, \"#46039f\"], [0.2222222222222222, \"#7201a8\"], [0.3333333333333333, \"#9c179e\"], [0.4444444444444444, \"#bd3786\"], [0.5555555555555556, \"#d8576b\"], [0.6666666666666666, \"#ed7953\"], [0.7777777777777778, \"#fb9f3a\"], [0.8888888888888888, \"#fdca26\"], [1.0, \"#f0f921\"]], \"type\": \"histogram2dcontour\"}], \"mesh3d\": [{\"colorbar\": {\"outlinewidth\": 0, \"ticks\": \"\"}, \"type\": \"mesh3d\"}], \"parcoords\": [{\"line\": {\"colorbar\": {\"outlinewidth\": 0, \"ticks\": \"\"}}, \"type\": \"parcoords\"}], \"pie\": [{\"automargin\": true, \"type\": \"pie\"}], \"scatter\": [{\"marker\": {\"colorbar\": {\"outlinewidth\": 0, \"ticks\": \"\"}}, \"type\": \"scatter\"}], \"scatter3d\": [{\"line\": {\"colorbar\": {\"outlinewidth\": 0, \"ticks\": \"\"}}, \"marker\": {\"colorbar\": {\"outlinewidth\": 0, \"ticks\": \"\"}}, \"type\": \"scatter3d\"}], \"scattercarpet\": [{\"marker\": {\"colorbar\": {\"outlinewidth\": 0, \"ticks\": \"\"}}, \"type\": \"scattercarpet\"}], \"scattergeo\": [{\"marker\": {\"colorbar\": {\"outlinewidth\": 0, \"ticks\": \"\"}}, \"type\": \"scattergeo\"}], \"scattergl\": [{\"marker\": {\"colorbar\": {\"outlinewidth\": 0, \"ticks\": \"\"}}, \"type\": \"scattergl\"}], \"scattermapbox\": [{\"marker\": {\"colorbar\": {\"outlinewidth\": 0, \"ticks\": \"\"}}, \"type\": \"scattermapbox\"}], \"scatterpolar\": [{\"marker\": {\"colorbar\": {\"outlinewidth\": 0, \"ticks\": \"\"}}, \"type\": \"scatterpolar\"}], \"scatterpolargl\": [{\"marker\": {\"colorbar\": {\"outlinewidth\": 0, \"ticks\": \"\"}}, \"type\": \"scatterpolargl\"}], \"scatterternary\": [{\"marker\": {\"colorbar\": {\"outlinewidth\": 0, \"ticks\": \"\"}}, \"type\": \"scatterternary\"}], \"surface\": [{\"colorbar\": {\"outlinewidth\": 0, \"ticks\": \"\"}, \"colorscale\": [[0.0, \"#0d0887\"], [0.1111111111111111, \"#46039f\"], [0.2222222222222222, \"#7201a8\"], [0.3333333333333333, \"#9c179e\"], [0.4444444444444444, \"#bd3786\"], [0.5555555555555556, \"#d8576b\"], [0.6666666666666666, \"#ed7953\"], [0.7777777777777778, \"#fb9f3a\"], [0.8888888888888888, \"#fdca26\"], [1.0, \"#f0f921\"]], \"type\": \"surface\"}], \"table\": [{\"cells\": {\"fill\": {\"color\": \"#EBF0F8\"}, \"line\": {\"color\": \"white\"}}, \"header\": {\"fill\": {\"color\": \"#C8D4E3\"}, \"line\": {\"color\": \"white\"}}, \"type\": \"table\"}]}, \"layout\": {\"annotationdefaults\": {\"arrowcolor\": \"#2a3f5f\", \"arrowhead\": 0, \"arrowwidth\": 1}, \"coloraxis\": {\"colorbar\": {\"outlinewidth\": 0, \"ticks\": \"\"}}, \"colorscale\": {\"diverging\": [[0, \"#8e0152\"], [0.1, \"#c51b7d\"], [0.2, \"#de77ae\"], [0.3, \"#f1b6da\"], [0.4, \"#fde0ef\"], [0.5, \"#f7f7f7\"], [0.6, \"#e6f5d0\"], [0.7, \"#b8e186\"], [0.8, \"#7fbc41\"], [0.9, \"#4d9221\"], [1, \"#276419\"]], \"sequential\": [[0.0, \"#0d0887\"], [0.1111111111111111, \"#46039f\"], [0.2222222222222222, \"#7201a8\"], [0.3333333333333333, \"#9c179e\"], [0.4444444444444444, \"#bd3786\"], [0.5555555555555556, \"#d8576b\"], [0.6666666666666666, \"#ed7953\"], [0.7777777777777778, \"#fb9f3a\"], [0.8888888888888888, \"#fdca26\"], [1.0, \"#f0f921\"]], \"sequentialminus\": [[0.0, \"#0d0887\"], [0.1111111111111111, \"#46039f\"], [0.2222222222222222, \"#7201a8\"], [0.3333333333333333, \"#9c179e\"], [0.4444444444444444, \"#bd3786\"], [0.5555555555555556, \"#d8576b\"], [0.6666666666666666, \"#ed7953\"], [0.7777777777777778, \"#fb9f3a\"], [0.8888888888888888, \"#fdca26\"], [1.0, \"#f0f921\"]]}, \"colorway\": [\"#636efa\", \"#EF553B\", \"#00cc96\", \"#ab63fa\", \"#FFA15A\", \"#19d3f3\", \"#FF6692\", \"#B6E880\", \"#FF97FF\", \"#FECB52\"], \"font\": {\"color\": \"#2a3f5f\"}, \"geo\": {\"bgcolor\": \"white\", \"lakecolor\": \"white\", \"landcolor\": \"#E5ECF6\", \"showlakes\": true, \"showland\": true, \"subunitcolor\": \"white\"}, \"hoverlabel\": {\"align\": \"left\"}, \"hovermode\": \"closest\", \"mapbox\": {\"style\": \"light\"}, \"paper_bgcolor\": \"white\", \"plot_bgcolor\": \"#E5ECF6\", \"polar\": {\"angularaxis\": {\"gridcolor\": \"white\", \"linecolor\": \"white\", \"ticks\": \"\"}, \"bgcolor\": \"#E5ECF6\", \"radialaxis\": {\"gridcolor\": \"white\", \"linecolor\": \"white\", \"ticks\": \"\"}}, \"scene\": {\"xaxis\": {\"backgroundcolor\": \"#E5ECF6\", \"gridcolor\": \"white\", \"gridwidth\": 2, \"linecolor\": \"white\", \"showbackground\": true, \"ticks\": \"\", \"zerolinecolor\": \"white\"}, \"yaxis\": {\"backgroundcolor\": \"#E5ECF6\", \"gridcolor\": \"white\", \"gridwidth\": 2, \"linecolor\": \"white\", \"showbackground\": true, \"ticks\": \"\", \"zerolinecolor\": \"white\"}, \"zaxis\": {\"backgroundcolor\": \"#E5ECF6\", \"gridcolor\": \"white\", \"gridwidth\": 2, \"linecolor\": \"white\", \"showbackground\": true, \"ticks\": \"\", \"zerolinecolor\": \"white\"}}, \"shapedefaults\": {\"line\": {\"color\": \"#2a3f5f\"}}, \"ternary\": {\"aaxis\": {\"gridcolor\": \"white\", \"linecolor\": \"white\", \"ticks\": \"\"}, \"baxis\": {\"gridcolor\": \"white\", \"linecolor\": \"white\", \"ticks\": \"\"}, \"bgcolor\": \"#E5ECF6\", \"caxis\": {\"gridcolor\": \"white\", \"linecolor\": \"white\", \"ticks\": \"\"}}, \"title\": {\"x\": 0.05}, \"xaxis\": {\"automargin\": true, \"gridcolor\": \"white\", \"linecolor\": \"white\", \"ticks\": \"\", \"title\": {\"standoff\": 15}, \"zerolinecolor\": \"white\", \"zerolinewidth\": 2}, \"yaxis\": {\"automargin\": true, \"gridcolor\": \"white\", \"linecolor\": \"white\", \"ticks\": \"\", \"title\": {\"standoff\": 15}, \"zerolinecolor\": \"white\", \"zerolinewidth\": 2}}}, \"title\": {\"text\": \"pitch_type distribution\"}, \"width\": 800},\n",
       "                        {\"responsive\": true}\n",
       "                    ).then(function(){\n",
       "                            \n",
       "var gd = document.getElementById('122607dc-2650-4415-b074-487a97fcf9ef');\n",
       "var x = new MutationObserver(function (mutations, observer) {{\n",
       "        var display = window.getComputedStyle(gd).display;\n",
       "        if (!display || display === 'none') {{\n",
       "            console.log([gd, 'removed!']);\n",
       "            Plotly.purge(gd);\n",
       "            observer.disconnect();\n",
       "        }}\n",
       "}});\n",
       "\n",
       "// Listen for the removal of the full notebook cells\n",
       "var notebookContainer = gd.closest('#notebook-container');\n",
       "if (notebookContainer) {{\n",
       "    x.observe(notebookContainer, {childList: true});\n",
       "}}\n",
       "\n",
       "// Listen for the clearing of the current output cell\n",
       "var outputEl = gd.closest('.output');\n",
       "if (outputEl) {{\n",
       "    x.observe(outputEl, {childList: true});\n",
       "}}\n",
       "\n",
       "                        })\n",
       "                };\n",
       "                });\n",
       "            </script>\n",
       "        </div>"
      ]
     },
     "metadata": {},
     "output_type": "display_data"
    }
   ],
   "source": [
    "fig_hr_event = px.pie(hr_df, values=hr_df.values, names=hr_df.index ,title='Home_run pitch_type distribution',width=800, height=1000)\n",
    "fig_pitch_type.update_traces(textposition='inside', textinfo='percent+label')\n",
    "fig_pitch_type.show()"
   ]
  },
  {
   "cell_type": "code",
   "execution_count": 87,
   "metadata": {},
   "outputs": [],
   "source": [
    "hr_count, hr_dist = event_analyize(final_df,\"Home Run\", \"pitch_type\")"
   ]
  },
  {
   "cell_type": "code",
   "execution_count": 90,
   "metadata": {},
   "outputs": [
    {
     "data": {
      "image/png": "[encoded data removed]",
      "text/plain": [
       "<Figure size 1440x1080 with 1 Axes>"
      ]
     },
     "metadata": {},
     "output_type": "display_data"
    }
   ],
   "source": [
    "plt_pie(hr_dist[hr_dist>0],'pitch_type')"
   ]
  },
  {
   "cell_type": "code",
   "execution_count": 91,
   "metadata": {},
   "outputs": [],
   "source": [
    "single_count, single_dist = event_analyize(final_df,\"Single\", \"pitch_type\")"
   ]
  },
  {
   "cell_type": "code",
   "execution_count": 94,
   "metadata": {},
   "outputs": [
    {
     "data": {
      "image/png": "[encoded data removed]",
      "text/plain": [
       "<Figure size 1440x720 with 1 Axes>"
      ]
     },
     "metadata": {},
     "output_type": "display_data"
    }
   ],
   "source": [
    "plt_pie(single_dist[single_dist>0],'pitch_type')"
   ]
  },
  {
   "cell_type": "code",
   "execution_count": 100,
   "metadata": {},
   "outputs": [
    {
     "data": {
      "text/plain": [
       "{'Batter Interference',\n",
       " 'Bunt Groundout',\n",
       " 'Bunt Lineout',\n",
       " 'Bunt Pop Out',\n",
       " 'Catcher Interference',\n",
       " 'Double',\n",
       " 'Double Play',\n",
       " 'Field Error',\n",
       " 'Fielders Choice',\n",
       " 'Fielders Choice Out',\n",
       " 'Flyout',\n",
       " 'Forceout',\n",
       " 'Grounded Into DP',\n",
       " 'Groundout',\n",
       " 'Hit By Pitch',\n",
       " 'Home Run',\n",
       " 'Intent Walk',\n",
       " 'Lineout',\n",
       " 'Pop Out',\n",
       " 'Runner Out',\n",
       " 'Sac Bunt',\n",
       " 'Sac Fly',\n",
       " 'Sac Fly DP',\n",
       " 'Sacrifice Bunt DP',\n",
       " 'Single',\n",
       " 'Strikeout',\n",
       " 'Strikeout - DP',\n",
       " 'Triple',\n",
       " 'Triple Play',\n",
       " 'Walk'}"
      ]
     },
     "execution_count": 100,
     "metadata": {},
     "output_type": "execute_result"
    }
   ],
   "source": [
    "set(final_df['event'])"
   ]
  },
  {
   "cell_type": "code",
   "execution_count": 116,
   "metadata": {},
   "outputs": [],
   "source": [
    "strike_count, strike_dist = event_analyize(final_df,\"Strikeout\", \"pitch_type\")"
   ]
  },
  {
   "cell_type": "code",
   "execution_count": 118,
   "metadata": {},
   "outputs": [
    {
     "data": {
      "image/png": "[encoded data removed]",
      "text/plain": [
       "<Figure size 1440x720 with 1 Axes>"
      ]
     },
     "metadata": {},
     "output_type": "display_data"
    }
   ],
   "source": [
    "plt_pie(strike_dist[strike_dist>0],'pitch_type')"
   ]
  },
  {
   "cell_type": "code",
   "execution_count": 120,
   "metadata": {},
   "outputs": [
    {
     "data": {
      "text/plain": [
       "Index(['Batters Name', 'Pitcher_name', 'ab_id', 'attendance',\n",
       "       'away_final_score', 'away_team', 'ax', 'ay', 'az', 'b_count', 'b_score',\n",
       "       'batter_id', 'break_angle', 'break_length', 'break_y', 'code', 'date',\n",
       "       'delay', 'elapsed_time', 'end_speed', 'event', 'event_num', 'g_id',\n",
       "       'home_final_score', 'home_team', 'inning', 'nasty', 'o', 'on_1b',\n",
       "       'on_2b', 'on_3b', 'outs', 'p_score', 'p_throws', 'pfx_x', 'pfx_z',\n",
       "       'pitch_num', 'pitch_type', 'pitcher_id', 'px', 'pz', 's_count',\n",
       "       'spin_dir', 'spin_rate', 'stand', 'start_speed', 'start_time', 'sz_bot',\n",
       "       'sz_top', 'top', 'type', 'type_confidence', 'umpire_1B', 'umpire_2B',\n",
       "       'umpire_3B', 'umpire_HP', 'venue_name', 'vx0', 'vy0', 'vz0', 'weather',\n",
       "       'wind', 'x', 'x0', 'y', 'y0', 'z0', 'zone'],\n",
       "      dtype='object')"
      ]
     },
     "execution_count": 120,
     "metadata": {},
     "output_type": "execute_result"
    }
   ],
   "source": [
    "final_df.columns"
   ]
  },
  {
   "cell_type": "code",
   "execution_count": 139,
   "metadata": {},
   "outputs": [],
   "source": [
    "hit_event_df = final_df[(final_df['code']=='In play runs')& (final_df['event']=='Home Run')]"
   ]
  },
  {
   "cell_type": "code",
   "execution_count": 144,
   "metadata": {},
   "outputs": [],
   "source": [
    "hr_pos = hit_event_df[['px','pz']]"
   ]
  },
  {
   "cell_type": "code",
   "execution_count": 138,
   "metadata": {},
   "outputs": [
    {
     "data": {
      "text/plain": [
       "{'Batter Interference',\n",
       " 'Bunt Groundout',\n",
       " 'Bunt Lineout',\n",
       " 'Bunt Pop Out',\n",
       " 'Catcher Interference',\n",
       " 'Double',\n",
       " 'Double Play',\n",
       " 'Field Error',\n",
       " 'Fielders Choice',\n",
       " 'Fielders Choice Out',\n",
       " 'Flyout',\n",
       " 'Forceout',\n",
       " 'Grounded Into DP',\n",
       " 'Groundout',\n",
       " 'Hit By Pitch',\n",
       " 'Home Run',\n",
       " 'Intent Walk',\n",
       " 'Lineout',\n",
       " 'Pop Out',\n",
       " 'Runner Out',\n",
       " 'Sac Bunt',\n",
       " 'Sac Fly',\n",
       " 'Sac Fly DP',\n",
       " 'Sacrifice Bunt DP',\n",
       " 'Single',\n",
       " 'Strikeout',\n",
       " 'Strikeout - DP',\n",
       " 'Triple',\n",
       " 'Triple Play',\n",
       " 'Walk'}"
      ]
     },
     "execution_count": 138,
     "metadata": {},
     "output_type": "execute_result"
    }
   ],
   "source": [
    "set(final_df['event'])"
   ]
  },
  {
   "cell_type": "code",
   "execution_count": null,
   "metadata": {},
   "outputs": [],
   "source": [
    "seanborn.heatmap()"
   ]
  },
  {
   "cell_type": "code",
   "execution_count": 132,
   "metadata": {},
   "outputs": [
    {
     "data": {
      "text/html": [
       "<div>\n",
       "<style scoped>\n",
       "    .dataframe tbody tr th:only-of-type {\n",
       "        vertical-align: middle;\n",
       "    }\n",
       "\n",
       "    .dataframe tbody tr th {\n",
       "        vertical-align: top;\n",
       "    }\n",
       "\n",
       "    .dataframe thead th {\n",
       "        text-align: right;\n",
       "    }\n",
       "</style>\n",
       "<table border=\"1\" class=\"dataframe\">\n",
       "  <thead>\n",
       "    <tr style=\"text-align: right;\">\n",
       "      <th></th>\n",
       "      <th>Batters Name</th>\n",
       "      <th>Pitcher_name</th>\n",
       "      <th>ab_id</th>\n",
       "      <th>attendance</th>\n",
       "      <th>away_final_score</th>\n",
       "      <th>away_team</th>\n",
       "      <th>ax</th>\n",
       "      <th>ay</th>\n",
       "      <th>az</th>\n",
       "      <th>b_count</th>\n",
       "      <th>...</th>\n",
       "      <th>vy0</th>\n",
       "      <th>vz0</th>\n",
       "      <th>weather</th>\n",
       "      <th>wind</th>\n",
       "      <th>x</th>\n",
       "      <th>x0</th>\n",
       "      <th>y</th>\n",
       "      <th>y0</th>\n",
       "      <th>z0</th>\n",
       "      <th>zone</th>\n",
       "    </tr>\n",
       "  </thead>\n",
       "  <tbody>\n",
       "    <tr>\n",
       "      <th>7</th>\n",
       "      <td>Jason Heyward</td>\n",
       "      <td>Jon Lester</td>\n",
       "      <td>2015000002</td>\n",
       "      <td>35055</td>\n",
       "      <td>3</td>\n",
       "      <td>sln</td>\n",
       "      <td>-1.339000</td>\n",
       "      <td>27.421000</td>\n",
       "      <td>-19.326000</td>\n",
       "      <td>1.0</td>\n",
       "      <td>...</td>\n",
       "      <td>-130.711000</td>\n",
       "      <td>-4.611000</td>\n",
       "      <td>44 degrees, clear</td>\n",
       "      <td>7 mph, In from CF</td>\n",
       "      <td>186.41</td>\n",
       "      <td>2.298000</td>\n",
       "      <td>182.54</td>\n",
       "      <td>50.0</td>\n",
       "      <td>5.284000</td>\n",
       "      <td>7.0</td>\n",
       "    </tr>\n",
       "    <tr>\n",
       "      <th>20</th>\n",
       "      <td>Dexter Fowler</td>\n",
       "      <td>Adam Wainwright</td>\n",
       "      <td>2015000006</td>\n",
       "      <td>35055</td>\n",
       "      <td>3</td>\n",
       "      <td>sln</td>\n",
       "      <td>2.592000</td>\n",
       "      <td>26.888000</td>\n",
       "      <td>-20.916000</td>\n",
       "      <td>1.0</td>\n",
       "      <td>...</td>\n",
       "      <td>-128.166000</td>\n",
       "      <td>-4.912000</td>\n",
       "      <td>44 degrees, clear</td>\n",
       "      <td>7 mph, In from CF</td>\n",
       "      <td>116.70</td>\n",
       "      <td>-1.264000</td>\n",
       "      <td>168.53</td>\n",
       "      <td>50.0</td>\n",
       "      <td>6.180000</td>\n",
       "      <td>5.0</td>\n",
       "    </tr>\n",
       "    <tr>\n",
       "      <th>47</th>\n",
       "      <td>Jon Jay</td>\n",
       "      <td>Jon Lester</td>\n",
       "      <td>2015000012</td>\n",
       "      <td>35055</td>\n",
       "      <td>3</td>\n",
       "      <td>sln</td>\n",
       "      <td>1.235000</td>\n",
       "      <td>23.762000</td>\n",
       "      <td>-22.788000</td>\n",
       "      <td>0.0</td>\n",
       "      <td>...</td>\n",
       "      <td>-127.079000</td>\n",
       "      <td>-2.680000</td>\n",
       "      <td>44 degrees, clear</td>\n",
       "      <td>7 mph, In from CF</td>\n",
       "      <td>133.47</td>\n",
       "      <td>2.216000</td>\n",
       "      <td>172.79</td>\n",
       "      <td>50.0</td>\n",
       "      <td>5.305000</td>\n",
       "      <td>4.0</td>\n",
       "    </tr>\n",
       "    <tr>\n",
       "      <th>58</th>\n",
       "      <td>Chris Coghlan</td>\n",
       "      <td>Adam Wainwright</td>\n",
       "      <td>2015000016</td>\n",
       "      <td>35055</td>\n",
       "      <td>3</td>\n",
       "      <td>sln</td>\n",
       "      <td>4.629000</td>\n",
       "      <td>25.508000</td>\n",
       "      <td>-19.943000</td>\n",
       "      <td>2.0</td>\n",
       "      <td>...</td>\n",
       "      <td>-127.671000</td>\n",
       "      <td>-6.276000</td>\n",
       "      <td>44 degrees, clear</td>\n",
       "      <td>7 mph, In from CF</td>\n",
       "      <td>125.39</td>\n",
       "      <td>-1.179000</td>\n",
       "      <td>182.67</td>\n",
       "      <td>50.0</td>\n",
       "      <td>6.130000</td>\n",
       "      <td>5.0</td>\n",
       "    </tr>\n",
       "    <tr>\n",
       "      <th>71</th>\n",
       "      <td>Jason Heyward</td>\n",
       "      <td>Jon Lester</td>\n",
       "      <td>2015000020</td>\n",
       "      <td>35055</td>\n",
       "      <td>3</td>\n",
       "      <td>sln</td>\n",
       "      <td>15.342000</td>\n",
       "      <td>30.581000</td>\n",
       "      <td>-13.362000</td>\n",
       "      <td>0.0</td>\n",
       "      <td>...</td>\n",
       "      <td>-133.273000</td>\n",
       "      <td>-5.018000</td>\n",
       "      <td>44 degrees, clear</td>\n",
       "      <td>7 mph, In from CF</td>\n",
       "      <td>113.65</td>\n",
       "      <td>2.140000</td>\n",
       "      <td>172.14</td>\n",
       "      <td>50.0</td>\n",
       "      <td>5.351000</td>\n",
       "      <td>5.0</td>\n",
       "    </tr>\n",
       "    <tr>\n",
       "      <th>92</th>\n",
       "      <td>Tommy La Stella</td>\n",
       "      <td>Adam Wainwright</td>\n",
       "      <td>2015000024</td>\n",
       "      <td>35055</td>\n",
       "      <td>3</td>\n",
       "      <td>sln</td>\n",
       "      <td>1.929000</td>\n",
       "      <td>23.119000</td>\n",
       "      <td>-22.023000</td>\n",
       "      <td>3.0</td>\n",
       "      <td>...</td>\n",
       "      <td>-126.698000</td>\n",
       "      <td>-4.410000</td>\n",
       "      <td>44 degrees, clear</td>\n",
       "      <td>7 mph, In from CF</td>\n",
       "      <td>106.67</td>\n",
       "      <td>-1.138000</td>\n",
       "      <td>164.64</td>\n",
       "      <td>50.0</td>\n",
       "      <td>6.244000</td>\n",
       "      <td>6.0</td>\n",
       "    </tr>\n",
       "    <tr>\n",
       "      <th>144</th>\n",
       "      <td>Matt Carpenter</td>\n",
       "      <td>Jon Lester</td>\n",
       "      <td>2015000035</td>\n",
       "      <td>35055</td>\n",
       "      <td>3</td>\n",
       "      <td>sln</td>\n",
       "      <td>-2.871000</td>\n",
       "      <td>25.210000</td>\n",
       "      <td>-23.255000</td>\n",
       "      <td>3.0</td>\n",
       "      <td>...</td>\n",
       "      <td>-124.153000</td>\n",
       "      <td>-2.467000</td>\n",
       "      <td>44 degrees, clear</td>\n",
       "      <td>7 mph, In from CF</td>\n",
       "      <td>105.49</td>\n",
       "      <td>2.396000</td>\n",
       "      <td>172.74</td>\n",
       "      <td>50.0</td>\n",
       "      <td>5.391000</td>\n",
       "      <td>6.0</td>\n",
       "    </tr>\n",
       "    <tr>\n",
       "      <th>150</th>\n",
       "      <td>Jason Heyward</td>\n",
       "      <td>Jon Lester</td>\n",
       "      <td>2015000036</td>\n",
       "      <td>35055</td>\n",
       "      <td>3</td>\n",
       "      <td>sln</td>\n",
       "      <td>13.997000</td>\n",
       "      <td>27.793000</td>\n",
       "      <td>-16.988000</td>\n",
       "      <td>3.0</td>\n",
       "      <td>...</td>\n",
       "      <td>-130.908000</td>\n",
       "      <td>-4.845000</td>\n",
       "      <td>44 degrees, clear</td>\n",
       "      <td>7 mph, In from CF</td>\n",
       "      <td>151.76</td>\n",
       "      <td>2.038000</td>\n",
       "      <td>182.70</td>\n",
       "      <td>50.0</td>\n",
       "      <td>5.225000</td>\n",
       "      <td>13.0</td>\n",
       "    </tr>\n",
       "    <tr>\n",
       "      <th>170</th>\n",
       "      <td>David Ross</td>\n",
       "      <td>Adam Wainwright</td>\n",
       "      <td>2015000042</td>\n",
       "      <td>35055</td>\n",
       "      <td>3</td>\n",
       "      <td>sln</td>\n",
       "      <td>1.458000</td>\n",
       "      <td>25.719000</td>\n",
       "      <td>-24.348000</td>\n",
       "      <td>2.0</td>\n",
       "      <td>...</td>\n",
       "      <td>-124.814000</td>\n",
       "      <td>-3.738000</td>\n",
       "      <td>44 degrees, clear</td>\n",
       "      <td>7 mph, In from CF</td>\n",
       "      <td>101.75</td>\n",
       "      <td>-1.165000</td>\n",
       "      <td>165.56</td>\n",
       "      <td>50.0</td>\n",
       "      <td>6.240000</td>\n",
       "      <td>6.0</td>\n",
       "    </tr>\n",
       "    <tr>\n",
       "      <th>211</th>\n",
       "      <td>Starlin Castro</td>\n",
       "      <td>Adam Wainwright</td>\n",
       "      <td>2015000051</td>\n",
       "      <td>35055</td>\n",
       "      <td>3</td>\n",
       "      <td>sln</td>\n",
       "      <td>-3.515000</td>\n",
       "      <td>30.276000</td>\n",
       "      <td>-18.578000</td>\n",
       "      <td>1.0</td>\n",
       "      <td>...</td>\n",
       "      <td>-131.180000</td>\n",
       "      <td>-6.385000</td>\n",
       "      <td>44 degrees, clear</td>\n",
       "      <td>7 mph, In from CF</td>\n",
       "      <td>106.29</td>\n",
       "      <td>-0.906000</td>\n",
       "      <td>179.38</td>\n",
       "      <td>50.0</td>\n",
       "      <td>6.071000</td>\n",
       "      <td>6.0</td>\n",
       "    </tr>\n",
       "    <tr>\n",
       "      <th>222</th>\n",
       "      <td>Jhonny Peralta</td>\n",
       "      <td>Neil Ramirez</td>\n",
       "      <td>2015000055</td>\n",
       "      <td>35055</td>\n",
       "      <td>3</td>\n",
       "      <td>sln</td>\n",
       "      <td>-8.517000</td>\n",
       "      <td>31.002000</td>\n",
       "      <td>-14.818000</td>\n",
       "      <td>1.0</td>\n",
       "      <td>...</td>\n",
       "      <td>-135.262000</td>\n",
       "      <td>-4.831000</td>\n",
       "      <td>44 degrees, clear</td>\n",
       "      <td>7 mph, In from CF</td>\n",
       "      <td>87.57</td>\n",
       "      <td>-0.886000</td>\n",
       "      <td>157.65</td>\n",
       "      <td>50.0</td>\n",
       "      <td>5.862000</td>\n",
       "      <td>12.0</td>\n",
       "    </tr>\n",
       "    <tr>\n",
       "      <th>254</th>\n",
       "      <td>Jon Jay</td>\n",
       "      <td>Pedro Strop</td>\n",
       "      <td>2015000063</td>\n",
       "      <td>35055</td>\n",
       "      <td>3</td>\n",
       "      <td>sln</td>\n",
       "      <td>-17.036000</td>\n",
       "      <td>32.494000</td>\n",
       "      <td>-20.696000</td>\n",
       "      <td>0.0</td>\n",
       "      <td>...</td>\n",
       "      <td>-136.204000</td>\n",
       "      <td>-6.941000</td>\n",
       "      <td>44 degrees, clear</td>\n",
       "      <td>7 mph, In from CF</td>\n",
       "      <td>124.20</td>\n",
       "      <td>-0.767000</td>\n",
       "      <td>192.77</td>\n",
       "      <td>50.0</td>\n",
       "      <td>5.737000</td>\n",
       "      <td>8.0</td>\n",
       "    </tr>\n",
       "    <tr>\n",
       "      <th>342</th>\n",
       "      <td>Seth Smith</td>\n",
       "      <td>Jered Weaver</td>\n",
       "      <td>2015000081</td>\n",
       "      <td>45909</td>\n",
       "      <td>1</td>\n",
       "      <td>ana</td>\n",
       "      <td>-6.310000</td>\n",
       "      <td>25.940000</td>\n",
       "      <td>-28.460000</td>\n",
       "      <td>3.0</td>\n",
       "      <td>...</td>\n",
       "      <td>-120.300000</td>\n",
       "      <td>-3.480000</td>\n",
       "      <td>54 degrees, cloudy</td>\n",
       "      <td>1 mph, Varies</td>\n",
       "      <td>116.66</td>\n",
       "      <td>-2.500000</td>\n",
       "      <td>186.18</td>\n",
       "      <td>50.0</td>\n",
       "      <td>5.970000</td>\n",
       "      <td>8.0</td>\n",
       "    </tr>\n",
       "    <tr>\n",
       "      <th>391</th>\n",
       "      <td>Austin Jackson</td>\n",
       "      <td>Jered Weaver</td>\n",
       "      <td>2015000095</td>\n",
       "      <td>45909</td>\n",
       "      <td>1</td>\n",
       "      <td>ana</td>\n",
       "      <td>8.020000</td>\n",
       "      <td>17.500000</td>\n",
       "      <td>-41.770000</td>\n",
       "      <td>1.0</td>\n",
       "      <td>...</td>\n",
       "      <td>-94.500000</td>\n",
       "      <td>4.080000</td>\n",
       "      <td>54 degrees, cloudy</td>\n",
       "      <td>1 mph, Varies</td>\n",
       "      <td>113.87</td>\n",
       "      <td>-2.860000</td>\n",
       "      <td>179.43</td>\n",
       "      <td>50.0</td>\n",
       "      <td>6.110000</td>\n",
       "      <td>5.0</td>\n",
       "    </tr>\n",
       "    <tr>\n",
       "      <th>437</th>\n",
       "      <td>Erick Aybar</td>\n",
       "      <td>Felix Hernandez</td>\n",
       "      <td>2015000106</td>\n",
       "      <td>45909</td>\n",
       "      <td>1</td>\n",
       "      <td>ana</td>\n",
       "      <td>-1.840000</td>\n",
       "      <td>28.730000</td>\n",
       "      <td>-37.610000</td>\n",
       "      <td>2.0</td>\n",
       "      <td>...</td>\n",
       "      <td>-125.720000</td>\n",
       "      <td>0.010000</td>\n",
       "      <td>54 degrees, cloudy</td>\n",
       "      <td>1 mph, Varies</td>\n",
       "      <td>115.78</td>\n",
       "      <td>-2.180000</td>\n",
       "      <td>163.77</td>\n",
       "      <td>50.0</td>\n",
       "      <td>5.860000</td>\n",
       "      <td>2.0</td>\n",
       "    </tr>\n",
       "    <tr>\n",
       "      <th>454</th>\n",
       "      <td>Brad Miller</td>\n",
       "      <td>Jered Weaver</td>\n",
       "      <td>2015000111</td>\n",
       "      <td>45909</td>\n",
       "      <td>1</td>\n",
       "      <td>ana</td>\n",
       "      <td>-5.520000</td>\n",
       "      <td>23.210000</td>\n",
       "      <td>-25.830000</td>\n",
       "      <td>2.0</td>\n",
       "      <td>...</td>\n",
       "      <td>-107.790000</td>\n",
       "      <td>0.500000</td>\n",
       "      <td>54 degrees, cloudy</td>\n",
       "      <td>1 mph, Varies</td>\n",
       "      <td>136.78</td>\n",
       "      <td>-2.970000</td>\n",
       "      <td>147.84</td>\n",
       "      <td>50.0</td>\n",
       "      <td>6.050000</td>\n",
       "      <td>11.0</td>\n",
       "    </tr>\n",
       "    <tr>\n",
       "      <th>489</th>\n",
       "      <td>Logan Morrison</td>\n",
       "      <td>Jered Weaver</td>\n",
       "      <td>2015000120</td>\n",
       "      <td>45909</td>\n",
       "      <td>1</td>\n",
       "      <td>ana</td>\n",
       "      <td>5.730000</td>\n",
       "      <td>19.090000</td>\n",
       "      <td>-39.540000</td>\n",
       "      <td>2.0</td>\n",
       "      <td>...</td>\n",
       "      <td>-96.930000</td>\n",
       "      <td>1.930000</td>\n",
       "      <td>54 degrees, cloudy</td>\n",
       "      <td>1 mph, Varies</td>\n",
       "      <td>134.08</td>\n",
       "      <td>-2.980000</td>\n",
       "      <td>195.09</td>\n",
       "      <td>50.0</td>\n",
       "      <td>6.120000</td>\n",
       "      <td>7.0</td>\n",
       "    </tr>\n",
       "    <tr>\n",
       "      <th>509</th>\n",
       "      <td>Brad Miller</td>\n",
       "      <td>Cesar Ramos</td>\n",
       "      <td>2015000126</td>\n",
       "      <td>45909</td>\n",
       "      <td>1</td>\n",
       "      <td>ana</td>\n",
       "      <td>-6.930000</td>\n",
       "      <td>22.060000</td>\n",
       "      <td>-47.750000</td>\n",
       "      <td>0.0</td>\n",
       "      <td>...</td>\n",
       "      <td>-100.940000</td>\n",
       "      <td>3.870000</td>\n",
       "      <td>54 degrees, cloudy</td>\n",
       "      <td>1 mph, Varies</td>\n",
       "      <td>98.67</td>\n",
       "      <td>1.850000</td>\n",
       "      <td>179.60</td>\n",
       "      <td>50.0</td>\n",
       "      <td>6.420000</td>\n",
       "      <td>6.0</td>\n",
       "    </tr>\n",
       "    <tr>\n",
       "      <th>526</th>\n",
       "      <td>Chris Iannetta</td>\n",
       "      <td>Danny Farquhar</td>\n",
       "      <td>2015000131</td>\n",
       "      <td>45909</td>\n",
       "      <td>1</td>\n",
       "      <td>ana</td>\n",
       "      <td>-12.100000</td>\n",
       "      <td>32.440000</td>\n",
       "      <td>-27.970000</td>\n",
       "      <td>1.0</td>\n",
       "      <td>...</td>\n",
       "      <td>-134.220000</td>\n",
       "      <td>-5.250000</td>\n",
       "      <td>54 degrees, cloudy</td>\n",
       "      <td>1 mph, Varies</td>\n",
       "      <td>107.89</td>\n",
       "      <td>-2.660000</td>\n",
       "      <td>200.31</td>\n",
       "      <td>50.0</td>\n",
       "      <td>5.430000</td>\n",
       "      <td>14.0</td>\n",
       "    </tr>\n",
       "    <tr>\n",
       "      <th>531</th>\n",
       "      <td>Johnny Giavotella</td>\n",
       "      <td>Danny Farquhar</td>\n",
       "      <td>2015000132</td>\n",
       "      <td>45909</td>\n",
       "      <td>1</td>\n",
       "      <td>ana</td>\n",
       "      <td>-13.340000</td>\n",
       "      <td>33.240000</td>\n",
       "      <td>-23.410000</td>\n",
       "      <td>2.0</td>\n",
       "      <td>...</td>\n",
       "      <td>-136.060000</td>\n",
       "      <td>-1.210000</td>\n",
       "      <td>54 degrees, cloudy</td>\n",
       "      <td>1 mph, Varies</td>\n",
       "      <td>132.67</td>\n",
       "      <td>-2.900000</td>\n",
       "      <td>145.58</td>\n",
       "      <td>50.0</td>\n",
       "      <td>5.540000</td>\n",
       "      <td>11.0</td>\n",
       "    </tr>\n",
       "    <tr>\n",
       "      <th>570</th>\n",
       "      <td>Jace Peterson</td>\n",
       "      <td>Henderson Alvarez</td>\n",
       "      <td>2015000142</td>\n",
       "      <td>36969</td>\n",
       "      <td>2</td>\n",
       "      <td>atl</td>\n",
       "      <td>-18.044000</td>\n",
       "      <td>32.648000</td>\n",
       "      <td>-20.561000</td>\n",
       "      <td>0.0</td>\n",
       "      <td>...</td>\n",
       "      <td>-135.081000</td>\n",
       "      <td>-6.134000</td>\n",
       "      <td>80 degrees, partly cloudy</td>\n",
       "      <td>16 mph, In from CF</td>\n",
       "      <td>149.06</td>\n",
       "      <td>-2.176000</td>\n",
       "      <td>170.20</td>\n",
       "      <td>50.0</td>\n",
       "      <td>6.311000</td>\n",
       "      <td>11.0</td>\n",
       "    </tr>\n",
       "    <tr>\n",
       "      <th>631</th>\n",
       "      <td>Henderson Alvarez</td>\n",
       "      <td>Julio Teheran</td>\n",
       "      <td>2015000160</td>\n",
       "      <td>36969</td>\n",
       "      <td>2</td>\n",
       "      <td>atl</td>\n",
       "      <td>4.896000</td>\n",
       "      <td>22.201000</td>\n",
       "      <td>-36.953000</td>\n",
       "      <td>0.0</td>\n",
       "      <td>...</td>\n",
       "      <td>-114.581000</td>\n",
       "      <td>2.888000</td>\n",
       "      <td>80 degrees, partly cloudy</td>\n",
       "      <td>16 mph, In from CF</td>\n",
       "      <td>154.89</td>\n",
       "      <td>-2.872000</td>\n",
       "      <td>157.08</td>\n",
       "      <td>50.0</td>\n",
       "      <td>5.373000</td>\n",
       "      <td>11.0</td>\n",
       "    </tr>\n",
       "    <tr>\n",
       "      <th>644</th>\n",
       "      <td>Freddie Freeman</td>\n",
       "      <td>Henderson Alvarez</td>\n",
       "      <td>2015000164</td>\n",
       "      <td>36969</td>\n",
       "      <td>2</td>\n",
       "      <td>atl</td>\n",
       "      <td>-7.743000</td>\n",
       "      <td>25.470000</td>\n",
       "      <td>-28.547000</td>\n",
       "      <td>3.0</td>\n",
       "      <td>...</td>\n",
       "      <td>-127.380000</td>\n",
       "      <td>-5.068000</td>\n",
       "      <td>80 degrees, partly cloudy</td>\n",
       "      <td>16 mph, In from CF</td>\n",
       "      <td>134.50</td>\n",
       "      <td>-2.036000</td>\n",
       "      <td>188.32</td>\n",
       "      <td>50.0</td>\n",
       "      <td>6.134000</td>\n",
       "      <td>7.0</td>\n",
       "    </tr>\n",
       "    <tr>\n",
       "      <th>656</th>\n",
       "      <td>Giancarlo Stanton</td>\n",
       "      <td>Julio Teheran</td>\n",
       "      <td>2015000168</td>\n",
       "      <td>36969</td>\n",
       "      <td>2</td>\n",
       "      <td>atl</td>\n",
       "      <td>6.233000</td>\n",
       "      <td>24.053000</td>\n",
       "      <td>-39.512000</td>\n",
       "      <td>1.0</td>\n",
       "      <td>...</td>\n",
       "      <td>-116.280000</td>\n",
       "      <td>2.297000</td>\n",
       "      <td>80 degrees, partly cloudy</td>\n",
       "      <td>16 mph, In from CF</td>\n",
       "      <td>125.23</td>\n",
       "      <td>-2.820000</td>\n",
       "      <td>169.74</td>\n",
       "      <td>50.0</td>\n",
       "      <td>5.335000</td>\n",
       "      <td>5.0</td>\n",
       "    </tr>\n",
       "    <tr>\n",
       "      <th>676</th>\n",
       "      <td>Marcell Ozuna</td>\n",
       "      <td>Julio Teheran</td>\n",
       "      <td>2015000174</td>\n",
       "      <td>36969</td>\n",
       "      <td>2</td>\n",
       "      <td>atl</td>\n",
       "      <td>-11.882000</td>\n",
       "      <td>32.637000</td>\n",
       "      <td>-22.373000</td>\n",
       "      <td>1.0</td>\n",
       "      <td>...</td>\n",
       "      <td>-135.856000</td>\n",
       "      <td>-0.212000</td>\n",
       "      <td>80 degrees, partly cloudy</td>\n",
       "      <td>16 mph, In from CF</td>\n",
       "      <td>117.76</td>\n",
       "      <td>-2.794000</td>\n",
       "      <td>142.26</td>\n",
       "      <td>50.0</td>\n",
       "      <td>5.223000</td>\n",
       "      <td>11.0</td>\n",
       "    </tr>\n",
       "    <tr>\n",
       "      <th>686</th>\n",
       "      <td>Eric Young Jr.</td>\n",
       "      <td>Henderson Alvarez</td>\n",
       "      <td>2015000177</td>\n",
       "      <td>36969</td>\n",
       "      <td>2</td>\n",
       "      <td>atl</td>\n",
       "      <td>-15.992000</td>\n",
       "      <td>27.938000</td>\n",
       "      <td>-22.221000</td>\n",
       "      <td>1.0</td>\n",
       "      <td>...</td>\n",
       "      <td>-128.905000</td>\n",
       "      <td>-6.713000</td>\n",
       "      <td>80 degrees, partly cloudy</td>\n",
       "      <td>16 mph, In from CF</td>\n",
       "      <td>118.22</td>\n",
       "      <td>-1.919000</td>\n",
       "      <td>186.10</td>\n",
       "      <td>50.0</td>\n",
       "      <td>6.315000</td>\n",
       "      <td>8.0</td>\n",
       "    </tr>\n",
       "    <tr>\n",
       "      <th>725</th>\n",
       "      <td>Alberto Callaspo</td>\n",
       "      <td>Henderson Alvarez</td>\n",
       "      <td>2015000187</td>\n",
       "      <td>36969</td>\n",
       "      <td>2</td>\n",
       "      <td>atl</td>\n",
       "      <td>-5.165000</td>\n",
       "      <td>27.564000</td>\n",
       "      <td>-25.671000</td>\n",
       "      <td>1.0</td>\n",
       "      <td>...</td>\n",
       "      <td>-130.213000</td>\n",
       "      <td>-4.743000</td>\n",
       "      <td>80 degrees, partly cloudy</td>\n",
       "      <td>16 mph, In from CF</td>\n",
       "      <td>145.59</td>\n",
       "      <td>-1.841000</td>\n",
       "      <td>170.33</td>\n",
       "      <td>50.0</td>\n",
       "      <td>6.324000</td>\n",
       "      <td>11.0</td>\n",
       "    </tr>\n",
       "    <tr>\n",
       "      <th>728</th>\n",
       "      <td>Julio Teheran</td>\n",
       "      <td>Henderson Alvarez</td>\n",
       "      <td>2015000189</td>\n",
       "      <td>36969</td>\n",
       "      <td>2</td>\n",
       "      <td>atl</td>\n",
       "      <td>-9.169000</td>\n",
       "      <td>29.703000</td>\n",
       "      <td>-16.818000</td>\n",
       "      <td>0.0</td>\n",
       "      <td>...</td>\n",
       "      <td>-131.132000</td>\n",
       "      <td>-6.074000</td>\n",
       "      <td>80 degrees, partly cloudy</td>\n",
       "      <td>16 mph, In from CF</td>\n",
       "      <td>129.08</td>\n",
       "      <td>-1.605000</td>\n",
       "      <td>161.16</td>\n",
       "      <td>50.0</td>\n",
       "      <td>6.491000</td>\n",
       "      <td>1.0</td>\n",
       "    </tr>\n",
       "    <tr>\n",
       "      <th>737</th>\n",
       "      <td>Michael Morse</td>\n",
       "      <td>Julio Teheran</td>\n",
       "      <td>2015000191</td>\n",
       "      <td>36969</td>\n",
       "      <td>2</td>\n",
       "      <td>atl</td>\n",
       "      <td>-12.540000</td>\n",
       "      <td>29.334000</td>\n",
       "      <td>-25.736000</td>\n",
       "      <td>1.0</td>\n",
       "      <td>...</td>\n",
       "      <td>-131.176000</td>\n",
       "      <td>-3.541000</td>\n",
       "      <td>80 degrees, partly cloudy</td>\n",
       "      <td>16 mph, In from CF</td>\n",
       "      <td>134.53</td>\n",
       "      <td>-2.818000</td>\n",
       "      <td>189.75</td>\n",
       "      <td>50.0</td>\n",
       "      <td>5.115000</td>\n",
       "      <td>7.0</td>\n",
       "    </tr>\n",
       "    <tr>\n",
       "      <th>741</th>\n",
       "      <td>Martin Prado</td>\n",
       "      <td>Julio Teheran</td>\n",
       "      <td>2015000192</td>\n",
       "      <td>36969</td>\n",
       "      <td>2</td>\n",
       "      <td>atl</td>\n",
       "      <td>-8.686000</td>\n",
       "      <td>23.439000</td>\n",
       "      <td>-23.595000</td>\n",
       "      <td>2.0</td>\n",
       "      <td>...</td>\n",
       "      <td>-118.297000</td>\n",
       "      <td>-3.385000</td>\n",
       "      <td>80 degrees, partly cloudy</td>\n",
       "      <td>16 mph, In from CF</td>\n",
       "      <td>125.65</td>\n",
       "      <td>-2.695000</td>\n",
       "      <td>197.55</td>\n",
       "      <td>50.0</td>\n",
       "      <td>5.149000</td>\n",
       "      <td>8.0</td>\n",
       "    </tr>\n",
       "    <tr>\n",
       "      <th>...</th>\n",
       "      <td>...</td>\n",
       "      <td>...</td>\n",
       "      <td>...</td>\n",
       "      <td>...</td>\n",
       "      <td>...</td>\n",
       "      <td>...</td>\n",
       "      <td>...</td>\n",
       "      <td>...</td>\n",
       "      <td>...</td>\n",
       "      <td>...</td>\n",
       "      <td>...</td>\n",
       "      <td>...</td>\n",
       "      <td>...</td>\n",
       "      <td>...</td>\n",
       "      <td>...</td>\n",
       "      <td>...</td>\n",
       "      <td>...</td>\n",
       "      <td>...</td>\n",
       "      <td>...</td>\n",
       "      <td>...</td>\n",
       "      <td>...</td>\n",
       "    </tr>\n",
       "    <tr>\n",
       "      <th>2866348</th>\n",
       "      <td>Victor Robles</td>\n",
       "      <td>Tyler Anderson</td>\n",
       "      <td>2018185363</td>\n",
       "      <td>47833</td>\n",
       "      <td>0</td>\n",
       "      <td>was</td>\n",
       "      <td>11.061850</td>\n",
       "      <td>24.081148</td>\n",
       "      <td>-17.723762</td>\n",
       "      <td>0.0</td>\n",
       "      <td>...</td>\n",
       "      <td>-132.406097</td>\n",
       "      <td>-5.120980</td>\n",
       "      <td>52 degrees, partly cloudy</td>\n",
       "      <td>6 mph, R to L</td>\n",
       "      <td>95.07</td>\n",
       "      <td>1.807472</td>\n",
       "      <td>167.97</td>\n",
       "      <td>50.0</td>\n",
       "      <td>5.848484</td>\n",
       "      <td>6.0</td>\n",
       "    </tr>\n",
       "    <tr>\n",
       "      <th>2866350</th>\n",
       "      <td>Trea Turner</td>\n",
       "      <td>Tyler Anderson</td>\n",
       "      <td>2018185364</td>\n",
       "      <td>47833</td>\n",
       "      <td>0</td>\n",
       "      <td>was</td>\n",
       "      <td>6.952005</td>\n",
       "      <td>17.208169</td>\n",
       "      <td>-25.452089</td>\n",
       "      <td>0.0</td>\n",
       "      <td>...</td>\n",
       "      <td>-116.976857</td>\n",
       "      <td>-3.161824</td>\n",
       "      <td>52 degrees, partly cloudy</td>\n",
       "      <td>6 mph, R to L</td>\n",
       "      <td>110.94</td>\n",
       "      <td>1.681800</td>\n",
       "      <td>172.25</td>\n",
       "      <td>50.0</td>\n",
       "      <td>6.160572</td>\n",
       "      <td>5.0</td>\n",
       "    </tr>\n",
       "    <tr>\n",
       "      <th>2866353</th>\n",
       "      <td>Charlie Blackmon</td>\n",
       "      <td>Erick Fedde</td>\n",
       "      <td>2018185366</td>\n",
       "      <td>47833</td>\n",
       "      <td>0</td>\n",
       "      <td>was</td>\n",
       "      <td>-8.582672</td>\n",
       "      <td>23.488357</td>\n",
       "      <td>-24.535700</td>\n",
       "      <td>1.0</td>\n",
       "      <td>...</td>\n",
       "      <td>-134.998872</td>\n",
       "      <td>-6.958232</td>\n",
       "      <td>52 degrees, partly cloudy</td>\n",
       "      <td>6 mph, R to L</td>\n",
       "      <td>103.61</td>\n",
       "      <td>-1.361273</td>\n",
       "      <td>201.20</td>\n",
       "      <td>50.0</td>\n",
       "      <td>5.676618</td>\n",
       "      <td>14.0</td>\n",
       "    </tr>\n",
       "    <tr>\n",
       "      <th>2866417</th>\n",
       "      <td>Tyler Anderson</td>\n",
       "      <td>Erick Fedde</td>\n",
       "      <td>2018185381</td>\n",
       "      <td>47833</td>\n",
       "      <td>0</td>\n",
       "      <td>was</td>\n",
       "      <td>-7.970546</td>\n",
       "      <td>25.311193</td>\n",
       "      <td>-27.453875</td>\n",
       "      <td>0.0</td>\n",
       "      <td>...</td>\n",
       "      <td>-135.150228</td>\n",
       "      <td>-3.585598</td>\n",
       "      <td>52 degrees, partly cloudy</td>\n",
       "      <td>6 mph, R to L</td>\n",
       "      <td>154.58</td>\n",
       "      <td>-1.487321</td>\n",
       "      <td>166.74</td>\n",
       "      <td>50.0</td>\n",
       "      <td>5.909269</td>\n",
       "      <td>11.0</td>\n",
       "    </tr>\n",
       "    <tr>\n",
       "      <th>2866437</th>\n",
       "      <td>Bryce Harper</td>\n",
       "      <td>Tyler Anderson</td>\n",
       "      <td>2018185387</td>\n",
       "      <td>47833</td>\n",
       "      <td>0</td>\n",
       "      <td>was</td>\n",
       "      <td>-1.362266</td>\n",
       "      <td>21.858257</td>\n",
       "      <td>-19.806944</td>\n",
       "      <td>0.0</td>\n",
       "      <td>...</td>\n",
       "      <td>-130.024429</td>\n",
       "      <td>-4.928044</td>\n",
       "      <td>52 degrees, partly cloudy</td>\n",
       "      <td>6 mph, R to L</td>\n",
       "      <td>98.08</td>\n",
       "      <td>2.332314</td>\n",
       "      <td>184.47</td>\n",
       "      <td>50.0</td>\n",
       "      <td>5.391455</td>\n",
       "      <td>9.0</td>\n",
       "    </tr>\n",
       "    <tr>\n",
       "      <th>2866449</th>\n",
       "      <td>Carlos Gonzalez</td>\n",
       "      <td>Erick Fedde</td>\n",
       "      <td>2018185391</td>\n",
       "      <td>47833</td>\n",
       "      <td>0</td>\n",
       "      <td>was</td>\n",
       "      <td>-11.014830</td>\n",
       "      <td>25.704703</td>\n",
       "      <td>-24.647898</td>\n",
       "      <td>2.0</td>\n",
       "      <td>...</td>\n",
       "      <td>-136.541321</td>\n",
       "      <td>-3.123854</td>\n",
       "      <td>52 degrees, partly cloudy</td>\n",
       "      <td>6 mph, R to L</td>\n",
       "      <td>85.83</td>\n",
       "      <td>-0.954559</td>\n",
       "      <td>157.85</td>\n",
       "      <td>50.0</td>\n",
       "      <td>5.823530</td>\n",
       "      <td>12.0</td>\n",
       "    </tr>\n",
       "    <tr>\n",
       "      <th>2866475</th>\n",
       "      <td>Charlie Blackmon</td>\n",
       "      <td>Tim Collins</td>\n",
       "      <td>2018185398</td>\n",
       "      <td>47833</td>\n",
       "      <td>0</td>\n",
       "      <td>was</td>\n",
       "      <td>-4.212676</td>\n",
       "      <td>20.693513</td>\n",
       "      <td>-23.346386</td>\n",
       "      <td>0.0</td>\n",
       "      <td>...</td>\n",
       "      <td>-128.616652</td>\n",
       "      <td>-4.698478</td>\n",
       "      <td>52 degrees, partly cloudy</td>\n",
       "      <td>6 mph, R to L</td>\n",
       "      <td>143.54</td>\n",
       "      <td>0.392077</td>\n",
       "      <td>188.15</td>\n",
       "      <td>50.0</td>\n",
       "      <td>5.482791</td>\n",
       "      <td>7.0</td>\n",
       "    </tr>\n",
       "    <tr>\n",
       "      <th>2866477</th>\n",
       "      <td>DJ LeMahieu</td>\n",
       "      <td>Tim Collins</td>\n",
       "      <td>2018185399</td>\n",
       "      <td>47833</td>\n",
       "      <td>0</td>\n",
       "      <td>was</td>\n",
       "      <td>5.979646</td>\n",
       "      <td>20.212739</td>\n",
       "      <td>-19.739847</td>\n",
       "      <td>0.0</td>\n",
       "      <td>...</td>\n",
       "      <td>-123.824165</td>\n",
       "      <td>-6.033114</td>\n",
       "      <td>52 degrees, partly cloudy</td>\n",
       "      <td>6 mph, R to L</td>\n",
       "      <td>109.85</td>\n",
       "      <td>0.198907</td>\n",
       "      <td>199.03</td>\n",
       "      <td>50.0</td>\n",
       "      <td>5.546354</td>\n",
       "      <td>14.0</td>\n",
       "    </tr>\n",
       "    <tr>\n",
       "      <th>2866572</th>\n",
       "      <td>Adrian Sanchez</td>\n",
       "      <td>Tyler Anderson</td>\n",
       "      <td>2018185421</td>\n",
       "      <td>47833</td>\n",
       "      <td>0</td>\n",
       "      <td>was</td>\n",
       "      <td>2.445868</td>\n",
       "      <td>21.601406</td>\n",
       "      <td>-18.007959</td>\n",
       "      <td>0.0</td>\n",
       "      <td>...</td>\n",
       "      <td>-128.771650</td>\n",
       "      <td>-3.928983</td>\n",
       "      <td>52 degrees, partly cloudy</td>\n",
       "      <td>6 mph, R to L</td>\n",
       "      <td>141.73</td>\n",
       "      <td>2.209153</td>\n",
       "      <td>172.48</td>\n",
       "      <td>50.0</td>\n",
       "      <td>5.356959</td>\n",
       "      <td>4.0</td>\n",
       "    </tr>\n",
       "    <tr>\n",
       "      <th>2866584</th>\n",
       "      <td>Chris Iannetta</td>\n",
       "      <td>Kyle McGowin</td>\n",
       "      <td>2018185425</td>\n",
       "      <td>47833</td>\n",
       "      <td>0</td>\n",
       "      <td>was</td>\n",
       "      <td>-12.293049</td>\n",
       "      <td>22.983476</td>\n",
       "      <td>-24.483705</td>\n",
       "      <td>1.0</td>\n",
       "      <td>...</td>\n",
       "      <td>-131.234268</td>\n",
       "      <td>-3.246719</td>\n",
       "      <td>52 degrees, partly cloudy</td>\n",
       "      <td>6 mph, R to L</td>\n",
       "      <td>135.86</td>\n",
       "      <td>-3.461387</td>\n",
       "      <td>162.28</td>\n",
       "      <td>50.0</td>\n",
       "      <td>5.873074</td>\n",
       "      <td>1.0</td>\n",
       "    </tr>\n",
       "    <tr>\n",
       "      <th>2866615</th>\n",
       "      <td>Bryce Harper</td>\n",
       "      <td>Chris Rusin</td>\n",
       "      <td>2018185434</td>\n",
       "      <td>47833</td>\n",
       "      <td>0</td>\n",
       "      <td>was</td>\n",
       "      <td>-2.146426</td>\n",
       "      <td>19.360841</td>\n",
       "      <td>-31.335427</td>\n",
       "      <td>2.0</td>\n",
       "      <td>...</td>\n",
       "      <td>-119.599916</td>\n",
       "      <td>-2.773451</td>\n",
       "      <td>52 degrees, partly cloudy</td>\n",
       "      <td>6 mph, R to L</td>\n",
       "      <td>110.93</td>\n",
       "      <td>1.644683</td>\n",
       "      <td>191.97</td>\n",
       "      <td>50.0</td>\n",
       "      <td>5.670636</td>\n",
       "      <td>8.0</td>\n",
       "    </tr>\n",
       "    <tr>\n",
       "      <th>2866657</th>\n",
       "      <td>Manny Machado</td>\n",
       "      <td>German Marquez</td>\n",
       "      <td>2018185446</td>\n",
       "      <td>47816</td>\n",
       "      <td>2</td>\n",
       "      <td>col</td>\n",
       "      <td>0.853018</td>\n",
       "      <td>20.890198</td>\n",
       "      <td>-28.629614</td>\n",
       "      <td>1.0</td>\n",
       "      <td>...</td>\n",
       "      <td>-126.538869</td>\n",
       "      <td>-2.183733</td>\n",
       "      <td>90 degrees, sunny</td>\n",
       "      <td>6 mph, Out to CF</td>\n",
       "      <td>111.41</td>\n",
       "      <td>-2.220900</td>\n",
       "      <td>166.91</td>\n",
       "      <td>50.0</td>\n",
       "      <td>5.783251</td>\n",
       "      <td>5.0</td>\n",
       "    </tr>\n",
       "    <tr>\n",
       "      <th>2866740</th>\n",
       "      <td>Yasiel Puig</td>\n",
       "      <td>German Marquez</td>\n",
       "      <td>2018185467</td>\n",
       "      <td>47816</td>\n",
       "      <td>2</td>\n",
       "      <td>col</td>\n",
       "      <td>-13.472312</td>\n",
       "      <td>30.468234</td>\n",
       "      <td>-13.965026</td>\n",
       "      <td>1.0</td>\n",
       "      <td>...</td>\n",
       "      <td>-142.835431</td>\n",
       "      <td>-6.532361</td>\n",
       "      <td>90 degrees, sunny</td>\n",
       "      <td>6 mph, Out to CF</td>\n",
       "      <td>102.53</td>\n",
       "      <td>-1.815981</td>\n",
       "      <td>168.69</td>\n",
       "      <td>50.0</td>\n",
       "      <td>5.777316</td>\n",
       "      <td>6.0</td>\n",
       "    </tr>\n",
       "    <tr>\n",
       "      <th>2866761</th>\n",
       "      <td>Joc Pederson</td>\n",
       "      <td>German Marquez</td>\n",
       "      <td>2018185473</td>\n",
       "      <td>47816</td>\n",
       "      <td>2</td>\n",
       "      <td>col</td>\n",
       "      <td>3.292980</td>\n",
       "      <td>19.839230</td>\n",
       "      <td>-37.604870</td>\n",
       "      <td>0.0</td>\n",
       "      <td>...</td>\n",
       "      <td>-115.750575</td>\n",
       "      <td>-0.887599</td>\n",
       "      <td>90 degrees, sunny</td>\n",
       "      <td>6 mph, Out to CF</td>\n",
       "      <td>142.24</td>\n",
       "      <td>-2.255038</td>\n",
       "      <td>178.27</td>\n",
       "      <td>50.0</td>\n",
       "      <td>6.202592</td>\n",
       "      <td>4.0</td>\n",
       "    </tr>\n",
       "    <tr>\n",
       "      <th>2866791</th>\n",
       "      <td>Charlie Blackmon</td>\n",
       "      <td>Walker Buehler</td>\n",
       "      <td>2018185479</td>\n",
       "      <td>47816</td>\n",
       "      <td>2</td>\n",
       "      <td>col</td>\n",
       "      <td>-10.905806</td>\n",
       "      <td>23.552147</td>\n",
       "      <td>-24.394702</td>\n",
       "      <td>1.0</td>\n",
       "      <td>...</td>\n",
       "      <td>-129.986457</td>\n",
       "      <td>-2.589269</td>\n",
       "      <td>90 degrees, sunny</td>\n",
       "      <td>6 mph, Out to CF</td>\n",
       "      <td>161.60</td>\n",
       "      <td>-1.271958</td>\n",
       "      <td>159.84</td>\n",
       "      <td>50.0</td>\n",
       "      <td>5.756916</td>\n",
       "      <td>11.0</td>\n",
       "    </tr>\n",
       "    <tr>\n",
       "      <th>2866803</th>\n",
       "      <td>Enrique Hernandez</td>\n",
       "      <td>Harrison Musgrave</td>\n",
       "      <td>2018185484</td>\n",
       "      <td>47816</td>\n",
       "      <td>2</td>\n",
       "      <td>col</td>\n",
       "      <td>9.952251</td>\n",
       "      <td>26.346336</td>\n",
       "      <td>-17.712968</td>\n",
       "      <td>1.0</td>\n",
       "      <td>...</td>\n",
       "      <td>-133.440048</td>\n",
       "      <td>-5.482916</td>\n",
       "      <td>90 degrees, sunny</td>\n",
       "      <td>6 mph, Out to CF</td>\n",
       "      <td>104.91</td>\n",
       "      <td>1.682791</td>\n",
       "      <td>167.93</td>\n",
       "      <td>50.0</td>\n",
       "      <td>5.964684</td>\n",
       "      <td>6.0</td>\n",
       "    </tr>\n",
       "    <tr>\n",
       "      <th>2866829</th>\n",
       "      <td>Justin Turner</td>\n",
       "      <td>Scott Oberg</td>\n",
       "      <td>2018185492</td>\n",
       "      <td>47816</td>\n",
       "      <td>2</td>\n",
       "      <td>col</td>\n",
       "      <td>-5.020962</td>\n",
       "      <td>27.139490</td>\n",
       "      <td>-14.602738</td>\n",
       "      <td>0.0</td>\n",
       "      <td>...</td>\n",
       "      <td>-140.396489</td>\n",
       "      <td>-7.523296</td>\n",
       "      <td>90 degrees, sunny</td>\n",
       "      <td>6 mph, Out to CF</td>\n",
       "      <td>85.28</td>\n",
       "      <td>-1.043745</td>\n",
       "      <td>183.95</td>\n",
       "      <td>50.0</td>\n",
       "      <td>5.666560</td>\n",
       "      <td>14.0</td>\n",
       "    </tr>\n",
       "    <tr>\n",
       "      <th>2866831</th>\n",
       "      <td>Max Muncy</td>\n",
       "      <td>Scott Oberg</td>\n",
       "      <td>2018185493</td>\n",
       "      <td>47816</td>\n",
       "      <td>2</td>\n",
       "      <td>col</td>\n",
       "      <td>4.414491</td>\n",
       "      <td>22.864644</td>\n",
       "      <td>-29.700019</td>\n",
       "      <td>0.0</td>\n",
       "      <td>...</td>\n",
       "      <td>-128.532360</td>\n",
       "      <td>-2.150931</td>\n",
       "      <td>90 degrees, sunny</td>\n",
       "      <td>6 mph, Out to CF</td>\n",
       "      <td>121.19</td>\n",
       "      <td>-1.356417</td>\n",
       "      <td>168.85</td>\n",
       "      <td>50.0</td>\n",
       "      <td>5.710061</td>\n",
       "      <td>5.0</td>\n",
       "    </tr>\n",
       "    <tr>\n",
       "      <th>2866850</th>\n",
       "      <td>Charlie Blackmon</td>\n",
       "      <td>Scott Alexander</td>\n",
       "      <td>2018185497</td>\n",
       "      <td>47816</td>\n",
       "      <td>2</td>\n",
       "      <td>col</td>\n",
       "      <td>14.730055</td>\n",
       "      <td>25.771292</td>\n",
       "      <td>-28.009783</td>\n",
       "      <td>3.0</td>\n",
       "      <td>...</td>\n",
       "      <td>-135.607204</td>\n",
       "      <td>-2.133506</td>\n",
       "      <td>90 degrees, sunny</td>\n",
       "      <td>6 mph, Out to CF</td>\n",
       "      <td>96.78</td>\n",
       "      <td>0.680131</td>\n",
       "      <td>161.41</td>\n",
       "      <td>50.0</td>\n",
       "      <td>5.590826</td>\n",
       "      <td>3.0</td>\n",
       "    </tr>\n",
       "    <tr>\n",
       "      <th>2866896</th>\n",
       "      <td>Christian Yelich</td>\n",
       "      <td>Jose Quintana</td>\n",
       "      <td>2018185509</td>\n",
       "      <td>38450</td>\n",
       "      <td>3</td>\n",
       "      <td>mil</td>\n",
       "      <td>14.943507</td>\n",
       "      <td>29.306857</td>\n",
       "      <td>-15.121567</td>\n",
       "      <td>1.0</td>\n",
       "      <td>...</td>\n",
       "      <td>-136.163419</td>\n",
       "      <td>-5.681964</td>\n",
       "      <td>65 degrees, overcast</td>\n",
       "      <td>6 mph, R to L</td>\n",
       "      <td>116.51</td>\n",
       "      <td>1.849511</td>\n",
       "      <td>166.16</td>\n",
       "      <td>50.0</td>\n",
       "      <td>5.845715</td>\n",
       "      <td>5.0</td>\n",
       "    </tr>\n",
       "    <tr>\n",
       "      <th>2866914</th>\n",
       "      <td>Jesus Aguilar</td>\n",
       "      <td>Jose Quintana</td>\n",
       "      <td>2018185514</td>\n",
       "      <td>38450</td>\n",
       "      <td>3</td>\n",
       "      <td>mil</td>\n",
       "      <td>7.344066</td>\n",
       "      <td>23.456663</td>\n",
       "      <td>-27.163238</td>\n",
       "      <td>2.0</td>\n",
       "      <td>...</td>\n",
       "      <td>-126.641910</td>\n",
       "      <td>-5.286825</td>\n",
       "      <td>65 degrees, overcast</td>\n",
       "      <td>6 mph, R to L</td>\n",
       "      <td>117.93</td>\n",
       "      <td>2.101078</td>\n",
       "      <td>196.60</td>\n",
       "      <td>50.0</td>\n",
       "      <td>5.835317</td>\n",
       "      <td>13.0</td>\n",
       "    </tr>\n",
       "    <tr>\n",
       "      <th>2866944</th>\n",
       "      <td>Orlando Arcia</td>\n",
       "      <td>Jose Quintana</td>\n",
       "      <td>2018185521</td>\n",
       "      <td>38450</td>\n",
       "      <td>3</td>\n",
       "      <td>mil</td>\n",
       "      <td>6.811456</td>\n",
       "      <td>28.159882</td>\n",
       "      <td>-13.888566</td>\n",
       "      <td>3.0</td>\n",
       "      <td>...</td>\n",
       "      <td>-134.271834</td>\n",
       "      <td>-6.604621</td>\n",
       "      <td>65 degrees, overcast</td>\n",
       "      <td>6 mph, R to L</td>\n",
       "      <td>115.87</td>\n",
       "      <td>1.968958</td>\n",
       "      <td>175.60</td>\n",
       "      <td>50.0</td>\n",
       "      <td>5.813216</td>\n",
       "      <td>5.0</td>\n",
       "    </tr>\n",
       "    <tr>\n",
       "      <th>2866998</th>\n",
       "      <td>Orlando Arcia</td>\n",
       "      <td>Jose Quintana</td>\n",
       "      <td>2018185536</td>\n",
       "      <td>38450</td>\n",
       "      <td>3</td>\n",
       "      <td>mil</td>\n",
       "      <td>-4.208885</td>\n",
       "      <td>19.457593</td>\n",
       "      <td>-39.342123</td>\n",
       "      <td>1.0</td>\n",
       "      <td>...</td>\n",
       "      <td>-111.480500</td>\n",
       "      <td>-0.721734</td>\n",
       "      <td>65 degrees, overcast</td>\n",
       "      <td>6 mph, R to L</td>\n",
       "      <td>116.45</td>\n",
       "      <td>2.153001</td>\n",
       "      <td>196.52</td>\n",
       "      <td>50.0</td>\n",
       "      <td>5.941252</td>\n",
       "      <td>8.0</td>\n",
       "    </tr>\n",
       "    <tr>\n",
       "      <th>2867022</th>\n",
       "      <td>Christian Yelich</td>\n",
       "      <td>Jose Quintana</td>\n",
       "      <td>2018185543</td>\n",
       "      <td>38450</td>\n",
       "      <td>3</td>\n",
       "      <td>mil</td>\n",
       "      <td>17.778034</td>\n",
       "      <td>27.448548</td>\n",
       "      <td>-16.896707</td>\n",
       "      <td>3.0</td>\n",
       "      <td>...</td>\n",
       "      <td>-134.291271</td>\n",
       "      <td>-5.706779</td>\n",
       "      <td>65 degrees, overcast</td>\n",
       "      <td>6 mph, R to L</td>\n",
       "      <td>151.06</td>\n",
       "      <td>1.903379</td>\n",
       "      <td>173.16</td>\n",
       "      <td>50.0</td>\n",
       "      <td>5.773399</td>\n",
       "      <td>13.0</td>\n",
       "    </tr>\n",
       "    <tr>\n",
       "      <th>2867044</th>\n",
       "      <td>Daniel Murphy</td>\n",
       "      <td>Xavier Cedeno</td>\n",
       "      <td>2018185548</td>\n",
       "      <td>38450</td>\n",
       "      <td>3</td>\n",
       "      <td>mil</td>\n",
       "      <td>-6.129985</td>\n",
       "      <td>21.189303</td>\n",
       "      <td>-29.457079</td>\n",
       "      <td>2.0</td>\n",
       "      <td>...</td>\n",
       "      <td>-126.490200</td>\n",
       "      <td>-2.859129</td>\n",
       "      <td>65 degrees, overcast</td>\n",
       "      <td>6 mph, R to L</td>\n",
       "      <td>122.77</td>\n",
       "      <td>1.701125</td>\n",
       "      <td>154.22</td>\n",
       "      <td>50.0</td>\n",
       "      <td>6.593177</td>\n",
       "      <td>2.0</td>\n",
       "    </tr>\n",
       "    <tr>\n",
       "      <th>2867073</th>\n",
       "      <td>Orlando Arcia</td>\n",
       "      <td>Justin Wilson</td>\n",
       "      <td>2018185557</td>\n",
       "      <td>38450</td>\n",
       "      <td>3</td>\n",
       "      <td>mil</td>\n",
       "      <td>-6.170893</td>\n",
       "      <td>25.255007</td>\n",
       "      <td>-31.843685</td>\n",
       "      <td>0.0</td>\n",
       "      <td>...</td>\n",
       "      <td>-125.614577</td>\n",
       "      <td>-3.126293</td>\n",
       "      <td>65 degrees, overcast</td>\n",
       "      <td>6 mph, R to L</td>\n",
       "      <td>147.28</td>\n",
       "      <td>1.117079</td>\n",
       "      <td>170.71</td>\n",
       "      <td>50.0</td>\n",
       "      <td>6.369741</td>\n",
       "      <td>11.0</td>\n",
       "    </tr>\n",
       "    <tr>\n",
       "      <th>2867078</th>\n",
       "      <td>Domingo Santana</td>\n",
       "      <td>Justin Wilson</td>\n",
       "      <td>2018185558</td>\n",
       "      <td>38450</td>\n",
       "      <td>3</td>\n",
       "      <td>mil</td>\n",
       "      <td>6.951534</td>\n",
       "      <td>26.860740</td>\n",
       "      <td>-12.519379</td>\n",
       "      <td>3.0</td>\n",
       "      <td>...</td>\n",
       "      <td>-138.328077</td>\n",
       "      <td>-8.678545</td>\n",
       "      <td>65 degrees, overcast</td>\n",
       "      <td>6 mph, R to L</td>\n",
       "      <td>149.91</td>\n",
       "      <td>0.916104</td>\n",
       "      <td>178.50</td>\n",
       "      <td>50.0</td>\n",
       "      <td>6.222688</td>\n",
       "      <td>13.0</td>\n",
       "    </tr>\n",
       "    <tr>\n",
       "      <th>2867122</th>\n",
       "      <td>Mike Moustakas</td>\n",
       "      <td>Jaime Garcia</td>\n",
       "      <td>2018185567</td>\n",
       "      <td>38450</td>\n",
       "      <td>3</td>\n",
       "      <td>mil</td>\n",
       "      <td>13.225230</td>\n",
       "      <td>23.252879</td>\n",
       "      <td>-23.728870</td>\n",
       "      <td>0.0</td>\n",
       "      <td>...</td>\n",
       "      <td>-130.996248</td>\n",
       "      <td>-4.354509</td>\n",
       "      <td>65 degrees, overcast</td>\n",
       "      <td>6 mph, R to L</td>\n",
       "      <td>124.74</td>\n",
       "      <td>1.410579</td>\n",
       "      <td>169.85</td>\n",
       "      <td>50.0</td>\n",
       "      <td>5.974768</td>\n",
       "      <td>5.0</td>\n",
       "    </tr>\n",
       "    <tr>\n",
       "      <th>2867129</th>\n",
       "      <td>Orlando Arcia</td>\n",
       "      <td>Jaime Garcia</td>\n",
       "      <td>2018185569</td>\n",
       "      <td>38450</td>\n",
       "      <td>3</td>\n",
       "      <td>mil</td>\n",
       "      <td>0.132773</td>\n",
       "      <td>25.351803</td>\n",
       "      <td>-20.492487</td>\n",
       "      <td>1.0</td>\n",
       "      <td>...</td>\n",
       "      <td>-130.743784</td>\n",
       "      <td>-4.477787</td>\n",
       "      <td>65 degrees, overcast</td>\n",
       "      <td>6 mph, R to L</td>\n",
       "      <td>159.45</td>\n",
       "      <td>1.179678</td>\n",
       "      <td>165.73</td>\n",
       "      <td>50.0</td>\n",
       "      <td>5.963071</td>\n",
       "      <td>11.0</td>\n",
       "    </tr>\n",
       "    <tr>\n",
       "      <th>2867149</th>\n",
       "      <td>Javier Baez</td>\n",
       "      <td>Josh Hader</td>\n",
       "      <td>2018185573</td>\n",
       "      <td>38450</td>\n",
       "      <td>3</td>\n",
       "      <td>mil</td>\n",
       "      <td>-5.097492</td>\n",
       "      <td>20.344010</td>\n",
       "      <td>-32.691751</td>\n",
       "      <td>3.0</td>\n",
       "      <td>...</td>\n",
       "      <td>-122.140540</td>\n",
       "      <td>-0.859601</td>\n",
       "      <td>65 degrees, overcast</td>\n",
       "      <td>6 mph, R to L</td>\n",
       "      <td>108.22</td>\n",
       "      <td>3.502933</td>\n",
       "      <td>190.58</td>\n",
       "      <td>50.0</td>\n",
       "      <td>4.912177</td>\n",
       "      <td>8.0</td>\n",
       "    </tr>\n",
       "  </tbody>\n",
       "</table>\n",
       "<p>117123 rows × 68 columns</p>\n",
       "</div>"
      ],
      "text/plain": [
       "              Batters Name       Pitcher_name       ab_id  attendance  \\\n",
       "7            Jason Heyward         Jon Lester  2015000002       35055   \n",
       "20           Dexter Fowler    Adam Wainwright  2015000006       35055   \n",
       "47                 Jon Jay         Jon Lester  2015000012       35055   \n",
       "58           Chris Coghlan    Adam Wainwright  2015000016       35055   \n",
       "71           Jason Heyward         Jon Lester  2015000020       35055   \n",
       "92         Tommy La Stella    Adam Wainwright  2015000024       35055   \n",
       "144         Matt Carpenter         Jon Lester  2015000035       35055   \n",
       "150          Jason Heyward         Jon Lester  2015000036       35055   \n",
       "170             David Ross    Adam Wainwright  2015000042       35055   \n",
       "211         Starlin Castro    Adam Wainwright  2015000051       35055   \n",
       "222         Jhonny Peralta       Neil Ramirez  2015000055       35055   \n",
       "254                Jon Jay        Pedro Strop  2015000063       35055   \n",
       "342             Seth Smith       Jered Weaver  2015000081       45909   \n",
       "391         Austin Jackson       Jered Weaver  2015000095       45909   \n",
       "437            Erick Aybar    Felix Hernandez  2015000106       45909   \n",
       "454            Brad Miller       Jered Weaver  2015000111       45909   \n",
       "489         Logan Morrison       Jered Weaver  2015000120       45909   \n",
       "509            Brad Miller        Cesar Ramos  2015000126       45909   \n",
       "526         Chris Iannetta     Danny Farquhar  2015000131       45909   \n",
       "531      Johnny Giavotella     Danny Farquhar  2015000132       45909   \n",
       "570          Jace Peterson  Henderson Alvarez  2015000142       36969   \n",
       "631      Henderson Alvarez      Julio Teheran  2015000160       36969   \n",
       "644        Freddie Freeman  Henderson Alvarez  2015000164       36969   \n",
       "656      Giancarlo Stanton      Julio Teheran  2015000168       36969   \n",
       "676          Marcell Ozuna      Julio Teheran  2015000174       36969   \n",
       "686         Eric Young Jr.  Henderson Alvarez  2015000177       36969   \n",
       "725       Alberto Callaspo  Henderson Alvarez  2015000187       36969   \n",
       "728          Julio Teheran  Henderson Alvarez  2015000189       36969   \n",
       "737          Michael Morse      Julio Teheran  2015000191       36969   \n",
       "741           Martin Prado      Julio Teheran  2015000192       36969   \n",
       "...                    ...                ...         ...         ...   \n",
       "2866348      Victor Robles     Tyler Anderson  2018185363       47833   \n",
       "2866350        Trea Turner     Tyler Anderson  2018185364       47833   \n",
       "2866353   Charlie Blackmon        Erick Fedde  2018185366       47833   \n",
       "2866417     Tyler Anderson        Erick Fedde  2018185381       47833   \n",
       "2866437       Bryce Harper     Tyler Anderson  2018185387       47833   \n",
       "2866449    Carlos Gonzalez        Erick Fedde  2018185391       47833   \n",
       "2866475   Charlie Blackmon        Tim Collins  2018185398       47833   \n",
       "2866477        DJ LeMahieu        Tim Collins  2018185399       47833   \n",
       "2866572     Adrian Sanchez     Tyler Anderson  2018185421       47833   \n",
       "2866584     Chris Iannetta       Kyle McGowin  2018185425       47833   \n",
       "2866615       Bryce Harper        Chris Rusin  2018185434       47833   \n",
       "2866657      Manny Machado     German Marquez  2018185446       47816   \n",
       "2866740        Yasiel Puig     German Marquez  2018185467       47816   \n",
       "2866761       Joc Pederson     German Marquez  2018185473       47816   \n",
       "2866791   Charlie Blackmon     Walker Buehler  2018185479       47816   \n",
       "2866803  Enrique Hernandez  Harrison Musgrave  2018185484       47816   \n",
       "2866829      Justin Turner        Scott Oberg  2018185492       47816   \n",
       "2866831          Max Muncy        Scott Oberg  2018185493       47816   \n",
       "2866850   Charlie Blackmon    Scott Alexander  2018185497       47816   \n",
       "2866896   Christian Yelich      Jose Quintana  2018185509       38450   \n",
       "2866914      Jesus Aguilar      Jose Quintana  2018185514       38450   \n",
       "2866944      Orlando Arcia      Jose Quintana  2018185521       38450   \n",
       "2866998      Orlando Arcia      Jose Quintana  2018185536       38450   \n",
       "2867022   Christian Yelich      Jose Quintana  2018185543       38450   \n",
       "2867044      Daniel Murphy      Xavier Cedeno  2018185548       38450   \n",
       "2867073      Orlando Arcia      Justin Wilson  2018185557       38450   \n",
       "2867078    Domingo Santana      Justin Wilson  2018185558       38450   \n",
       "2867122     Mike Moustakas       Jaime Garcia  2018185567       38450   \n",
       "2867129      Orlando Arcia       Jaime Garcia  2018185569       38450   \n",
       "2867149        Javier Baez         Josh Hader  2018185573       38450   \n",
       "\n",
       "         away_final_score away_team         ax         ay         az  b_count  \\\n",
       "7                       3       sln  -1.339000  27.421000 -19.326000      1.0   \n",
       "20                      3       sln   2.592000  26.888000 -20.916000      1.0   \n",
       "47                      3       sln   1.235000  23.762000 -22.788000      0.0   \n",
       "58                      3       sln   4.629000  25.508000 -19.943000      2.0   \n",
       "71                      3       sln  15.342000  30.581000 -13.362000      0.0   \n",
       "92                      3       sln   1.929000  23.119000 -22.023000      3.0   \n",
       "144                     3       sln  -2.871000  25.210000 -23.255000      3.0   \n",
       "150                     3       sln  13.997000  27.793000 -16.988000      3.0   \n",
       "170                     3       sln   1.458000  25.719000 -24.348000      2.0   \n",
       "211                     3       sln  -3.515000  30.276000 -18.578000      1.0   \n",
       "222                     3       sln  -8.517000  31.002000 -14.818000      1.0   \n",
       "254                     3       sln -17.036000  32.494000 -20.696000      0.0   \n",
       "342                     1       ana  -6.310000  25.940000 -28.460000      3.0   \n",
       "391                     1       ana   8.020000  17.500000 -41.770000      1.0   \n",
       "437                     1       ana  -1.840000  28.730000 -37.610000      2.0   \n",
       "454                     1       ana  -5.520000  23.210000 -25.830000      2.0   \n",
       "489                     1       ana   5.730000  19.090000 -39.540000      2.0   \n",
       "509                     1       ana  -6.930000  22.060000 -47.750000      0.0   \n",
       "526                     1       ana -12.100000  32.440000 -27.970000      1.0   \n",
       "531                     1       ana -13.340000  33.240000 -23.410000      2.0   \n",
       "570                     2       atl -18.044000  32.648000 -20.561000      0.0   \n",
       "631                     2       atl   4.896000  22.201000 -36.953000      0.0   \n",
       "644                     2       atl  -7.743000  25.470000 -28.547000      3.0   \n",
       "656                     2       atl   6.233000  24.053000 -39.512000      1.0   \n",
       "676                     2       atl -11.882000  32.637000 -22.373000      1.0   \n",
       "686                     2       atl -15.992000  27.938000 -22.221000      1.0   \n",
       "725                     2       atl  -5.165000  27.564000 -25.671000      1.0   \n",
       "728                     2       atl  -9.169000  29.703000 -16.818000      0.0   \n",
       "737                     2       atl -12.540000  29.334000 -25.736000      1.0   \n",
       "741                     2       atl  -8.686000  23.439000 -23.595000      2.0   \n",
       "...                   ...       ...        ...        ...        ...      ...   \n",
       "2866348                 0       was  11.061850  24.081148 -17.723762      0.0   \n",
       "2866350                 0       was   6.952005  17.208169 -25.452089      0.0   \n",
       "2866353                 0       was  -8.582672  23.488357 -24.535700      1.0   \n",
       "2866417                 0       was  -7.970546  25.311193 -27.453875      0.0   \n",
       "2866437                 0       was  -1.362266  21.858257 -19.806944      0.0   \n",
       "2866449                 0       was -11.014830  25.704703 -24.647898      2.0   \n",
       "2866475                 0       was  -4.212676  20.693513 -23.346386      0.0   \n",
       "2866477                 0       was   5.979646  20.212739 -19.739847      0.0   \n",
       "2866572                 0       was   2.445868  21.601406 -18.007959      0.0   \n",
       "2866584                 0       was -12.293049  22.983476 -24.483705      1.0   \n",
       "2866615                 0       was  -2.146426  19.360841 -31.335427      2.0   \n",
       "2866657                 2       col   0.853018  20.890198 -28.629614      1.0   \n",
       "2866740                 2       col -13.472312  30.468234 -13.965026      1.0   \n",
       "2866761                 2       col   3.292980  19.839230 -37.604870      0.0   \n",
       "2866791                 2       col -10.905806  23.552147 -24.394702      1.0   \n",
       "2866803                 2       col   9.952251  26.346336 -17.712968      1.0   \n",
       "2866829                 2       col  -5.020962  27.139490 -14.602738      0.0   \n",
       "2866831                 2       col   4.414491  22.864644 -29.700019      0.0   \n",
       "2866850                 2       col  14.730055  25.771292 -28.009783      3.0   \n",
       "2866896                 3       mil  14.943507  29.306857 -15.121567      1.0   \n",
       "2866914                 3       mil   7.344066  23.456663 -27.163238      2.0   \n",
       "2866944                 3       mil   6.811456  28.159882 -13.888566      3.0   \n",
       "2866998                 3       mil  -4.208885  19.457593 -39.342123      1.0   \n",
       "2867022                 3       mil  17.778034  27.448548 -16.896707      3.0   \n",
       "2867044                 3       mil  -6.129985  21.189303 -29.457079      2.0   \n",
       "2867073                 3       mil  -6.170893  25.255007 -31.843685      0.0   \n",
       "2867078                 3       mil   6.951534  26.860740 -12.519379      3.0   \n",
       "2867122                 3       mil  13.225230  23.252879 -23.728870      0.0   \n",
       "2867129                 3       mil   0.132773  25.351803 -20.492487      1.0   \n",
       "2867149                 3       mil  -5.097492  20.344010 -32.691751      3.0   \n",
       "\n",
       "         ...         vy0       vz0                    weather  \\\n",
       "7        ... -130.711000 -4.611000          44 degrees, clear   \n",
       "20       ... -128.166000 -4.912000          44 degrees, clear   \n",
       "47       ... -127.079000 -2.680000          44 degrees, clear   \n",
       "58       ... -127.671000 -6.276000          44 degrees, clear   \n",
       "71       ... -133.273000 -5.018000          44 degrees, clear   \n",
       "92       ... -126.698000 -4.410000          44 degrees, clear   \n",
       "144      ... -124.153000 -2.467000          44 degrees, clear   \n",
       "150      ... -130.908000 -4.845000          44 degrees, clear   \n",
       "170      ... -124.814000 -3.738000          44 degrees, clear   \n",
       "211      ... -131.180000 -6.385000          44 degrees, clear   \n",
       "222      ... -135.262000 -4.831000          44 degrees, clear   \n",
       "254      ... -136.204000 -6.941000          44 degrees, clear   \n",
       "342      ... -120.300000 -3.480000         54 degrees, cloudy   \n",
       "391      ...  -94.500000  4.080000         54 degrees, cloudy   \n",
       "437      ... -125.720000  0.010000         54 degrees, cloudy   \n",
       "454      ... -107.790000  0.500000         54 degrees, cloudy   \n",
       "489      ...  -96.930000  1.930000         54 degrees, cloudy   \n",
       "509      ... -100.940000  3.870000         54 degrees, cloudy   \n",
       "526      ... -134.220000 -5.250000         54 degrees, cloudy   \n",
       "531      ... -136.060000 -1.210000         54 degrees, cloudy   \n",
       "570      ... -135.081000 -6.134000  80 degrees, partly cloudy   \n",
       "631      ... -114.581000  2.888000  80 degrees, partly cloudy   \n",
       "644      ... -127.380000 -5.068000  80 degrees, partly cloudy   \n",
       "656      ... -116.280000  2.297000  80 degrees, partly cloudy   \n",
       "676      ... -135.856000 -0.212000  80 degrees, partly cloudy   \n",
       "686      ... -128.905000 -6.713000  80 degrees, partly cloudy   \n",
       "725      ... -130.213000 -4.743000  80 degrees, partly cloudy   \n",
       "728      ... -131.132000 -6.074000  80 degrees, partly cloudy   \n",
       "737      ... -131.176000 -3.541000  80 degrees, partly cloudy   \n",
       "741      ... -118.297000 -3.385000  80 degrees, partly cloudy   \n",
       "...      ...         ...       ...                        ...   \n",
       "2866348  ... -132.406097 -5.120980  52 degrees, partly cloudy   \n",
       "2866350  ... -116.976857 -3.161824  52 degrees, partly cloudy   \n",
       "2866353  ... -134.998872 -6.958232  52 degrees, partly cloudy   \n",
       "2866417  ... -135.150228 -3.585598  52 degrees, partly cloudy   \n",
       "2866437  ... -130.024429 -4.928044  52 degrees, partly cloudy   \n",
       "2866449  ... -136.541321 -3.123854  52 degrees, partly cloudy   \n",
       "2866475  ... -128.616652 -4.698478  52 degrees, partly cloudy   \n",
       "2866477  ... -123.824165 -6.033114  52 degrees, partly cloudy   \n",
       "2866572  ... -128.771650 -3.928983  52 degrees, partly cloudy   \n",
       "2866584  ... -131.234268 -3.246719  52 degrees, partly cloudy   \n",
       "2866615  ... -119.599916 -2.773451  52 degrees, partly cloudy   \n",
       "2866657  ... -126.538869 -2.183733          90 degrees, sunny   \n",
       "2866740  ... -142.835431 -6.532361          90 degrees, sunny   \n",
       "2866761  ... -115.750575 -0.887599          90 degrees, sunny   \n",
       "2866791  ... -129.986457 -2.589269          90 degrees, sunny   \n",
       "2866803  ... -133.440048 -5.482916          90 degrees, sunny   \n",
       "2866829  ... -140.396489 -7.523296          90 degrees, sunny   \n",
       "2866831  ... -128.532360 -2.150931          90 degrees, sunny   \n",
       "2866850  ... -135.607204 -2.133506          90 degrees, sunny   \n",
       "2866896  ... -136.163419 -5.681964       65 degrees, overcast   \n",
       "2866914  ... -126.641910 -5.286825       65 degrees, overcast   \n",
       "2866944  ... -134.271834 -6.604621       65 degrees, overcast   \n",
       "2866998  ... -111.480500 -0.721734       65 degrees, overcast   \n",
       "2867022  ... -134.291271 -5.706779       65 degrees, overcast   \n",
       "2867044  ... -126.490200 -2.859129       65 degrees, overcast   \n",
       "2867073  ... -125.614577 -3.126293       65 degrees, overcast   \n",
       "2867078  ... -138.328077 -8.678545       65 degrees, overcast   \n",
       "2867122  ... -130.996248 -4.354509       65 degrees, overcast   \n",
       "2867129  ... -130.743784 -4.477787       65 degrees, overcast   \n",
       "2867149  ... -122.140540 -0.859601       65 degrees, overcast   \n",
       "\n",
       "                       wind       x        x0       y    y0        z0  zone  \n",
       "7         7 mph, In from CF  186.41  2.298000  182.54  50.0  5.284000   7.0  \n",
       "20        7 mph, In from CF  116.70 -1.264000  168.53  50.0  6.180000   5.0  \n",
       "47        7 mph, In from CF  133.47  2.216000  172.79  50.0  5.305000   4.0  \n",
       "58        7 mph, In from CF  125.39 -1.179000  182.67  50.0  6.130000   5.0  \n",
       "71        7 mph, In from CF  113.65  2.140000  172.14  50.0  5.351000   5.0  \n",
       "92        7 mph, In from CF  106.67 -1.138000  164.64  50.0  6.244000   6.0  \n",
       "144       7 mph, In from CF  105.49  2.396000  172.74  50.0  5.391000   6.0  \n",
       "150       7 mph, In from CF  151.76  2.038000  182.70  50.0  5.225000  13.0  \n",
       "170       7 mph, In from CF  101.75 -1.165000  165.56  50.0  6.240000   6.0  \n",
       "211       7 mph, In from CF  106.29 -0.906000  179.38  50.0  6.071000   6.0  \n",
       "222       7 mph, In from CF   87.57 -0.886000  157.65  50.0  5.862000  12.0  \n",
       "254       7 mph, In from CF  124.20 -0.767000  192.77  50.0  5.737000   8.0  \n",
       "342           1 mph, Varies  116.66 -2.500000  186.18  50.0  5.970000   8.0  \n",
       "391           1 mph, Varies  113.87 -2.860000  179.43  50.0  6.110000   5.0  \n",
       "437           1 mph, Varies  115.78 -2.180000  163.77  50.0  5.860000   2.0  \n",
       "454           1 mph, Varies  136.78 -2.970000  147.84  50.0  6.050000  11.0  \n",
       "489           1 mph, Varies  134.08 -2.980000  195.09  50.0  6.120000   7.0  \n",
       "509           1 mph, Varies   98.67  1.850000  179.60  50.0  6.420000   6.0  \n",
       "526           1 mph, Varies  107.89 -2.660000  200.31  50.0  5.430000  14.0  \n",
       "531           1 mph, Varies  132.67 -2.900000  145.58  50.0  5.540000  11.0  \n",
       "570      16 mph, In from CF  149.06 -2.176000  170.20  50.0  6.311000  11.0  \n",
       "631      16 mph, In from CF  154.89 -2.872000  157.08  50.0  5.373000  11.0  \n",
       "644      16 mph, In from CF  134.50 -2.036000  188.32  50.0  6.134000   7.0  \n",
       "656      16 mph, In from CF  125.23 -2.820000  169.74  50.0  5.335000   5.0  \n",
       "676      16 mph, In from CF  117.76 -2.794000  142.26  50.0  5.223000  11.0  \n",
       "686      16 mph, In from CF  118.22 -1.919000  186.10  50.0  6.315000   8.0  \n",
       "725      16 mph, In from CF  145.59 -1.841000  170.33  50.0  6.324000  11.0  \n",
       "728      16 mph, In from CF  129.08 -1.605000  161.16  50.0  6.491000   1.0  \n",
       "737      16 mph, In from CF  134.53 -2.818000  189.75  50.0  5.115000   7.0  \n",
       "741      16 mph, In from CF  125.65 -2.695000  197.55  50.0  5.149000   8.0  \n",
       "...                     ...     ...       ...     ...   ...       ...   ...  \n",
       "2866348       6 mph, R to L   95.07  1.807472  167.97  50.0  5.848484   6.0  \n",
       "2866350       6 mph, R to L  110.94  1.681800  172.25  50.0  6.160572   5.0  \n",
       "2866353       6 mph, R to L  103.61 -1.361273  201.20  50.0  5.676618  14.0  \n",
       "2866417       6 mph, R to L  154.58 -1.487321  166.74  50.0  5.909269  11.0  \n",
       "2866437       6 mph, R to L   98.08  2.332314  184.47  50.0  5.391455   9.0  \n",
       "2866449       6 mph, R to L   85.83 -0.954559  157.85  50.0  5.823530  12.0  \n",
       "2866475       6 mph, R to L  143.54  0.392077  188.15  50.0  5.482791   7.0  \n",
       "2866477       6 mph, R to L  109.85  0.198907  199.03  50.0  5.546354  14.0  \n",
       "2866572       6 mph, R to L  141.73  2.209153  172.48  50.0  5.356959   4.0  \n",
       "2866584       6 mph, R to L  135.86 -3.461387  162.28  50.0  5.873074   1.0  \n",
       "2866615       6 mph, R to L  110.93  1.644683  191.97  50.0  5.670636   8.0  \n",
       "2866657    6 mph, Out to CF  111.41 -2.220900  166.91  50.0  5.783251   5.0  \n",
       "2866740    6 mph, Out to CF  102.53 -1.815981  168.69  50.0  5.777316   6.0  \n",
       "2866761    6 mph, Out to CF  142.24 -2.255038  178.27  50.0  6.202592   4.0  \n",
       "2866791    6 mph, Out to CF  161.60 -1.271958  159.84  50.0  5.756916  11.0  \n",
       "2866803    6 mph, Out to CF  104.91  1.682791  167.93  50.0  5.964684   6.0  \n",
       "2866829    6 mph, Out to CF   85.28 -1.043745  183.95  50.0  5.666560  14.0  \n",
       "2866831    6 mph, Out to CF  121.19 -1.356417  168.85  50.0  5.710061   5.0  \n",
       "2866850    6 mph, Out to CF   96.78  0.680131  161.41  50.0  5.590826   3.0  \n",
       "2866896       6 mph, R to L  116.51  1.849511  166.16  50.0  5.845715   5.0  \n",
       "2866914       6 mph, R to L  117.93  2.101078  196.60  50.0  5.835317  13.0  \n",
       "2866944       6 mph, R to L  115.87  1.968958  175.60  50.0  5.813216   5.0  \n",
       "2866998       6 mph, R to L  116.45  2.153001  196.52  50.0  5.941252   8.0  \n",
       "2867022       6 mph, R to L  151.06  1.903379  173.16  50.0  5.773399  13.0  \n",
       "2867044       6 mph, R to L  122.77  1.701125  154.22  50.0  6.593177   2.0  \n",
       "2867073       6 mph, R to L  147.28  1.117079  170.71  50.0  6.369741  11.0  \n",
       "2867078       6 mph, R to L  149.91  0.916104  178.50  50.0  6.222688  13.0  \n",
       "2867122       6 mph, R to L  124.74  1.410579  169.85  50.0  5.974768   5.0  \n",
       "2867129       6 mph, R to L  159.45  1.179678  165.73  50.0  5.963071  11.0  \n",
       "2867149       6 mph, R to L  108.22  3.502933  190.58  50.0  4.912177   8.0  \n",
       "\n",
       "[117123 rows x 68 columns]"
      ]
     },
     "execution_count": 132,
     "metadata": {},
     "output_type": "execute_result"
    }
   ],
   "source": [
    "hit_event_df"
   ]
  },
  {
   "cell_type": "code",
   "execution_count": null,
   "metadata": {},
   "outputs": [],
   "source": []
  }
 ],
 "metadata": {
  "kernelspec": {
   "display_name": "Python 3",
   "language": "python",
   "name": "python3"
  },
  "language_info": {
   "codemirror_mode": {
    "name": "ipython",
    "version": 3
   },
   "file_extension": ".py",
   "mimetype": "text/x-python",
   "name": "python",
   "nbconvert_exporter": "python",
   "pygments_lexer": "ipython3",
   "version": "3.7.3"
  }
 },
 "nbformat": 4,
 "nbformat_minor": 2
}
