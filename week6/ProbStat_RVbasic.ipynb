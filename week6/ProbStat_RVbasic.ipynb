{
 "cells": [
  {
   "cell_type": "code",
   "execution_count": 0,
   "metadata": {
    "colab": {},
    "colab_type": "code",
    "id": "hBdb0FUzse2C"
   },
   "outputs": [],
   "source": []
  },
  {
   "cell_type": "markdown",
   "metadata": {
    "colab_type": "text",
    "id": "-wSShEjatf94"
   },
   "source": [
    "# Probability\n",
    "\n",
    "*“Probability is the most\n",
    "important concept in modern science, especially as nobody has the slightest\n",
    "notion what it means.”*         --1929, Bertrand Russel \n",
    "\n",
    "*“We use probability when we want to make an armation, but are not quite\n",
    "sure,”*                -- Mathematical Philosopher, Jhon R. Lucas.\n",
    "\n",
    "\n",
    "Situation gets a little better after Kolmogorov.\n",
    "(Foundations of the Theory of Probability, 1956)\n",
    "\n"
   ]
  },
  {
   "cell_type": "markdown",
   "metadata": {
    "colab_type": "text",
    "id": "XJr4uEtt6w2O"
   },
   "source": [
    "**Definition 1.3. Sample space**\n",
    "* A **sample space** of a **random experiment** is the collection of\n",
    "all possible outcomes.\n",
    "\n",
    "**Definition 1.4. Sample point**\n",
    "* Each element of the sample space is called a sample point.\n",
    "\n",
    "**Comment:**\n",
    "* A sample space is not necessary a set of numbers. \n",
    "  * It can be set of {H, T} is the random experiment is throwing a coin.\n",
    "  * It can be set of {\"john\", \"peter\", \"mary\"} is the random experiment is drawing a name card from a jar...\n",
    "\n",
    "**Definition 1.5. Countable sample space**\n",
    "* If the sample space consists of a countable number of sample\n",
    "points, then the sample space is said to be a countable sample space.\n",
    "\n",
    "**Definition 1.6. Uncountable sample space**\n",
    "* If a sample space contains an uncountable number of sample\n",
    "points, then it is called a continuous sample space.\n",
    "\n",
    "**Definition 1.7. Event** \n",
    "* A subset A of the sample space S is said to be an **event** if it\n",
    "belongs to a **collection F** of **subsets of S** satisfying the following three rules:\n",
    "  1. $S \\in \\mathcal{F}$\n",
    "  2. if $A \\in \\mathcal{F}$ then $A^c \\in \\mathcal{F}$\n",
    "  3. if $A_j \\in \\mathcal{F}$ for $j \\ge 1$, then $\\cup_{j=1}^\\infty A_j \\in \\mathcal{F}$. \n",
    "* The collection F is called an **event space** or a $\\sigma$-field.  \n",
    "* If A is the outcome of an experiment, then we say that the **event A has occurred**.\n",
    "\n",
    "**Definition 1.8. Probability measure**\n",
    "* Let S be the sample space of a random experiment. A probability measure $P : \\mathcal{F} \\rightarrow [0, 1]$ is a set function which assigns real numbers\n",
    "to the various events of $S$ satisfying\n",
    "  * (P1) $P(A) \\ge 0$ for all event $A \\in \\mathcal{F}$,\n",
    "  * (P2) $P(S) = 1$,\n",
    "  * (P3) $$P\\left( \\bigcup_{k=1}^\\infty A_k \\right) \n",
    "  = \\sum_{k=1}^\\infty P(A_k)$$\n",
    "if $A_1, A_2, A_3, ..., A_k, .....$ are mutually disjoint events of $S$.\n",
    "\n",
    "Any set function with the above three properties is a probability measure for S. For a given sample space S, there may be more than one probability measure. The probability of an event A is the value of the probability measure at A, that is\n",
    "$Prob(A) = P(A)$.\n",
    "\n",
    "**Comment:**\n",
    "To fully appreciate the essence of the definition of probability measure, understanding of **measure theory** is helpful.\n",
    "\n",
    "**Theorem 1.5.**\n",
    "* If $phi$ is a empty set (that is an impossible event), then\n",
    "$$P(\\phi) = 0$$\n",
    "\n",
    "**Proof:**\n",
    "* Omitted.\n",
    "\n",
    "What's important is that a statement as simplet as $P(\\phi) = 0$ need not be in the definition of probability measure, but can be derived from the three basic assumption.\n",
    "\n",
    "**Theorem 1.8.**\n",
    "* If $A$ be any event of the sample space $S$, then\n",
    "$P(A^c) = 1 - P(A)$\n",
    "where $A^c$ denotes the complement of $A$ with respect to $S$.\n",
    "\n",
    "**Theorem 1.9.**\n",
    "* If $A \\subseteq B \\subseteq S$, then $P(A) \\le P(B)$.\n",
    "\n",
    "**Proof:**\n",
    "* Note that $B = A \\cup (B - A)$ where $B - A$ denotes all the elements $x$ that are in $B$ but not in $A$. Further, $A \\cap (B - A) = \\phi $. Hence by (P3), we get\n",
    "$$P(B) = P(A \\cup (B - A)) = P(A) + P(B - A)$$\n",
    "By axiom (P1), we know that $P(B - A) \\ge 0$. Thus, from the above, we get $$P(B) \\ge P(A)$$ \n",
    "and the proof is complete.\n",
    "\n",
    "**Theorem 1.10.**\n",
    "* If A is any event in S, then\n",
    "$$0 \\le P(A) \\le 1$$\n",
    "\n",
    "**Theorem 1.10.a**\n",
    "* If A and B are any two events, then\n",
    "$$P(A \\cup B) = P(A) + P(B) - P(A \\cap B)$$.\n",
    "\n",
    "**Theorem 1.11.**\n",
    "* If $A_1$ and $A_2$ are two events such that $A_1 \\subseteq A_2$, then\n",
    "$$P(A2 - A1) = P(A2) - P(A1)$$\n",
    "\n",
    "**Theorem 1.12.**\n",
    "* If $A_1, A_2, ..., A_n, ...$ is a sequence of events in sample space\n",
    "$S$ such that $A1 \\subseteq A2 \\subseteq ··· \\subseteq An \\subseteq ···$, then\n",
    "$$P\\left(\\bigcup_{n=1}^\\infty A_n \\right)= \\lim_{n \\rightarrow \\infty} P(A_n)$$\n"
   ]
  },
  {
   "cell_type": "markdown",
   "metadata": {
    "colab_type": "text",
    "id": "sDaOoC1b0SAm"
   },
   "source": [
    "# Random Variables\n",
    "\n",
    "**Definition 3.1. Random Variable**\n",
    "* Consider a random experiment whose sample space is $S$. A\n",
    "random variable $X$ \n",
    "  1. is a **function** from the sample space $S$ into the set of real numbers $\\mathbb{R}$ \n",
    "  2. such that for each interval $I$ in $\\mathbb{R}$ , the set $\\{s \\in S | X(s) \\in I\\}$ is an\n",
    "event in $S$.\n",
    "\n",
    "## So what is a random variable?\n",
    "\"A random variable is like the Holy Roman Empire!\"\n",
    "\n",
    "The Holy Roman Empire:\n",
    "* It is not holy.\n",
    "* It is not Roman.\n",
    "* It is not an empire.\n",
    "\n",
    "A random variable:\n",
    "* It is not random!\n",
    "* It is not a variable!\n",
    "\n",
    "A random variable is \n",
    "1. a function from the sample space to the set of real number!\n",
    "2. This function has the additional property that\n",
    "  * For each interval $I$ in the real number line, you can find a subset of the sample space $s \\in S$, such as the set of images for all the points in $s$ is this inteval $I$\n",
    "\n",
    "**Definition 3.2. space of random variable**\n",
    "* The set $\\{x \\in \\mathbb{R} | x = X(s), s \\in S\\}$ is called the **space of the random variable X**.\n",
    "\n",
    "**Definition 3.3. Discrete random variable**\n",
    "* If the space of random variable X is countable, then X is called a **discrete random variable**.\n",
    "\n",
    "**Definition 3.4. pdf**\n",
    "* Let $R_X$ be the space of the random variable $X$. The\n",
    "function $f : R_X \\rightarrow \\mathbb{R}$ defined by\n",
    "$f(x) = P(X = x)$\n",
    "is called the probability density function (pdf) of $X$.\n",
    "\n",
    "**Comment:**\n",
    "A pdf is actually just a $R_x \\rightarrow R$ function.\n",
    "\n",
    "**Theorem 3.1.**\n",
    "* If X is a discrete random variable with space $R_X$ and probability density function f(x), then\n",
    "  * (a) $f(x) \\ge 0$ for all $x \\in R_X$, and\n",
    "  * (b) $\\sum_{x \\in R_X} f(x) = 1.$\n",
    "\n",
    "**Definition 3.5. cdf**\n",
    "* The cumulative distribution function $F(x)$ of a random variable $X$ is defined as\n",
    "$$F(x) = P(X \\le x)$$\n",
    "for all real numbers x.\n",
    "\n",
    "**Definition 3.6. Continous ranodm variable**\n",
    "* A random variable X is said to be a continuous random\n",
    "variable if there exists a continuous function $f : \\mathbb{R} \\rightarrow [0,\\infty)$ such that for every set of real numbers $A$\n",
    "$P(X \\in A) = \\int_A f(x) dx$"
   ]
  },
  {
   "cell_type": "markdown",
   "metadata": {
    "colab_type": "text",
    "id": "FqksJlurB_b6"
   },
   "source": [
    "# Important Thoughts about Random Variable\n",
    "\n",
    "Concepts:\n",
    "* Random experiment, has experiment output\n",
    "* Sample point: outcome of random experiment\n",
    "  * Sample space: set of all possible sample point\n",
    "* Event: subset of sample space\n",
    "  * It's a set of possible sample point.\n",
    "  * Thus it is a set of possible outcome of randome experiment.\n",
    "* Random variable: a function from sample point to real number, such that for each inteval in real number, we can find an event which maps to that inteval.\n",
    "  * Note: we did not say each event can map to an interval. We only say each interval has an event mapping to it. These are the events we are interested.  \n",
    "\n",
    "\n",
    "random experiment $\\xrightarrow{\\text{choose attention}}$\n",
    "sample point $\\xrightarrow{design}$\n",
    "event $\\xrightarrow{design}$\n",
    "random variable $\\rightarrow$ pdf/cdf\n",
    "\n",
    "**Example:**\n",
    "Shooting a dart to a target: by area or by radius?\n",
    "* Assume a person shoots a dart to the target dart board.  The dart is equally likely to be shot onto any location on the board.\n",
    "* How to choose/design event that we want to pay attention to?\n",
    "* How to choose/design the definition of the random variable?\n",
    "\n",
    "It's a design process!!\n",
    "\n"
   ]
  },
  {
   "cell_type": "markdown",
   "metadata": {
    "colab_type": "text",
    "id": "XEsQbXYkVIIH"
   },
   "source": [
    "## Function/transformation of random variable\n",
    "\n",
    "What is a function of a random variable, or functions of random variables?\n",
    "\n",
    "Suppose we have:\n",
    "1. a random variable $X: S \\rightarrow \\mathbb{R}$.  \n",
    "2. a function $g: \\mathbb{R} \\rightarrow \\mathbb{R}$.\n",
    "\n",
    "What is $Y = g(X)$?\n",
    "* From the above definition, we have $Y: S \\rightarrow \\mathbb{R}$.\n",
    "\n",
    "So $Y$ is also just a random variable.  Any function of a random variable is another random variable?\n",
    "\n"
   ]
  },
  {
   "cell_type": "markdown",
   "metadata": {
    "colab_type": "text",
    "id": "TAhCe4JnT3Cp"
   },
   "source": [
    "## What is a random sample?\n",
    "\n",
    "Two interpretation of random samples in probability/statistics:\n",
    "When we talk about a random sample of size $n$, we can be talking about:\n",
    "* The specific outcome when we have done the experiment: the outcome of doing an experiment n times, or outcome of $n$ experiments with the same probability distribution.  In this case, we are talking about data.\n",
    "* The outcome we may obtain if we perform related experiments.  In this case, we are talking about random variables.\n",
    "\n",
    "In the second sense, a random sample of size $n$ is simple a set of $n$ random variables with identical probability distribution functon."
   ]
  },
  {
   "cell_type": "markdown",
   "metadata": {
    "colab_type": "text",
    "id": "UkG_ESB8skAE"
   },
   "source": [
    "## What is a statistic?\n",
    "\n",
    "Given a random sample $X_1, ..., X_n$, a **statistic** is a function \n",
    "$$ T=T(X_1, ..., X_n) $$\n",
    "\n",
    "The statistic $T$ is just another random variable."
   ]
  },
  {
   "cell_type": "markdown",
   "metadata": {
    "colab_type": "text",
    "id": "7cSw4DiiY1cK"
   },
   "source": [
    "* What is the nature of an estimate?\n",
    "* What is the nature of hypothesis testing?"
   ]
  }
 ],
 "metadata": {
  "colab": {
   "collapsed_sections": [],
   "name": "ProbStat_RVbasic.ipynb",
   "provenance": []
  },
  "kernelspec": {
   "display_name": "Python 3",
   "language": "python",
   "name": "python3"
  },
  "language_info": {
   "codemirror_mode": {
    "name": "ipython",
    "version": 3
   },
   "file_extension": ".py",
   "mimetype": "text/x-python",
   "name": "python",
   "nbconvert_exporter": "python",
   "pygments_lexer": "ipython3",
   "version": "3.7.3"
  }
 },
 "nbformat": 4,
 "nbformat_minor": 1
}
