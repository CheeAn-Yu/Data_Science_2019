{
 "cells": [
  {
   "cell_type": "markdown",
   "metadata": {},
   "source": [
    "# Code Format\n",
    "## Problem 1  \n",
    "### Part A  \n",
    "- Version 1 & Version 2:  \n",
    "```python\n",
    "la = [1, 2, 3, 4, 5]  \n",
    "lb = [6, 7, 8, 9, 10]  \n",
    "lc = ...some code...\n",
    "print(lc)\n",
    "``` \n",
    "\n",
    "### Part B\n",
    "- Version 1 & Version 2:  \n",
    "```python\n",
    "l = [1, 2, \"3\", 11, \"13\", 15, \"17\"]\n",
    "lc = ....some code...\n",
    "print(lc)\n",
    "```    \n",
    "\n",
    "## Problem 2  \n",
    "```python\n",
    "...Some class or function...\n",
    "\n",
    "for i in random_iter(1, 5, 4):\n",
    "    print(i)\n",
    "```\n",
    "**此題implement方式不只一種, 只要能包好並成功使用for loop印出即可**\n",
    "\n",
    "## Problem 3\n",
    "### Part A & Part B\n",
    "```python\n",
    "class Vector():\n",
    "    ...some code...\n",
    "    def total_points():\n",
    "        ...some code...\n",
    "\n",
    "p1 = Vector(1,2)\n",
    "p3 = p1 + (5, 6)\n",
    "p4 = p1 + [7, 8]\n",
    "p5 = p1 + (7, 8, 9)\n",
    "\n",
    "print(p3)\n",
    "print(p4)\n",
    "print(p5)\n",
    "\n",
    "p6 = Vector(3, 4)\n",
    "n7 = p1 * p6\n",
    "n8 = p1 * (5, 6)\n",
    "print(n7)\n",
    "print(n8)\n",
    "print(Vector.total_points())\n",
    "```"
   ]
  },
  {
   "cell_type": "markdown",
   "metadata": {},
   "source": [
    "# Rules\n",
    "## Submission Format\n",
    "```\n",
    "學號(小寫).zip/\n",
    "        學號(小寫)_hw1.ipynb\n",
    "```\n",
    "- 請壓縮成zip檔\n",
    "- 格式不對, 命名錯誤等, 扣10%\n",
    "\n",
    "## Deadline\n",
    "\n",
    "- 截止日期: **2019/10/09 09:00 a.m.**  \n",
    "- 遲交期限: **2019/10/11 09:00 a.m.** (遲交一天扣20%)"
   ]
  },
  {
   "cell_type": "markdown",
   "metadata": {},
   "source": []
  }
 ],
 "metadata": {
  "kernelspec": {
   "display_name": "Python 3",
   "language": "python",
   "name": "python3"
  },
  "language_info": {
   "codemirror_mode": {
    "name": "ipython",
    "version": 3
   },
   "file_extension": ".py",
   "mimetype": "text/x-python",
   "name": "python",
   "nbconvert_exporter": "python",
   "pygments_lexer": "ipython3",
   "version": "3.7.1"
  }
 },
 "nbformat": 4,
 "nbformat_minor": 2
}
