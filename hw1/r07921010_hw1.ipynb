{
 "cells": [
  {
   "cell_type": "markdown",
   "metadata": {},
   "source": [
    "## Problem1: Lambda functions and list comprehension\n",
    "\n",
    "### Part A "
   ]
  },
  {
   "cell_type": "code",
   "execution_count": 6,
   "metadata": {},
   "outputs": [
    {
     "name": "stdout",
     "output_type": "stream",
     "text": [
      "[6, 14, 24, 36, 50]\n"
     ]
    }
   ],
   "source": [
    "# Version 1\n",
    "la = [1, 2, 3, 4, 5]\n",
    "lb = [6, 7, 8, 9, 10]\n",
    "lc = list(map(lambda x,y:x*y, la, lb))\n",
    "print(lc)"
   ]
  },
  {
   "cell_type": "code",
   "execution_count": 7,
   "metadata": {},
   "outputs": [
    {
     "name": "stdout",
     "output_type": "stream",
     "text": [
      "[6, 14, 24, 36, 50]\n"
     ]
    }
   ],
   "source": [
    "# Version 2\n",
    "lc = [la[i]*lb[i] for i in range(len(la))] # lc = [a*b for a,b in zip(la,lb)]\n",
    "print(lc)"
   ]
  },
  {
   "cell_type": "markdown",
   "metadata": {},
   "source": [
    "## Part B"
   ]
  },
  {
   "cell_type": "code",
   "execution_count": 8,
   "metadata": {},
   "outputs": [
    {
     "name": "stdout",
     "output_type": "stream",
     "text": [
      "[1, 2, 3, 11, 13, 15, 17]\n"
     ]
    }
   ],
   "source": [
    "# Verison 1\n",
    "l = [1, 2, \"3\", 11, \"13\", 15, \"17\"]\n",
    "lc = list(map(lambda x:int(x), l))\n",
    "print(lc)"
   ]
  },
  {
   "cell_type": "code",
   "execution_count": 9,
   "metadata": {},
   "outputs": [
    {
     "name": "stdout",
     "output_type": "stream",
     "text": [
      "[1, 2, 3, 11, 13, 15, 17]\n"
     ]
    }
   ],
   "source": [
    "# Version 2\n",
    "lc = [int(x) for x in l]\n",
    "print(lc)"
   ]
  },
  {
   "cell_type": "markdown",
   "metadata": {},
   "source": [
    "##  Problem 2: Iterator (30%)\n",
    "Implement an Interator `rand_iter(low, high, target)` that generate random numbers uniformly between low and high (inclusive).  When the random number hits the target, the Iterator will stop. If target > high, or target < low, the iterator will iterate zero times and terminate immediately.  (The key point is that this a loop using this iterator will execute random number of times.)\n",
    "\n",
    "For example, if we execute the following loop:\n",
    "```\n",
    "for i in random_iter(1, 5, 4):\n",
    "    print(i)\n",
    "```\n",
    "The output may be \n",
    "```\n",
    "3, 3, 2, 5, 1, 5\n",
    "```"
   ]
  },
  {
   "cell_type": "code",
   "execution_count": 1,
   "metadata": {},
   "outputs": [],
   "source": [
    "import random\n",
    "class random_iter:\n",
    "    \"\"\"\n",
    "    Implement an Interator rand_iter(low, high, target) that generate random numbers uniformly between low and high (inclusive).\n",
    "    When the random number hits the target, the Iterator will stop.\n",
    "    If target > high, or target < low, \n",
    "    the iterator will iterate zero times and terminate immediately. \n",
    "    \"\"\"\n",
    "    def __init__(self, low, high, target):\n",
    "        self.low = low\n",
    "        self.high = high\n",
    "        self.target = target\n",
    "        self.rand = random.randint(low, high)\n",
    "    \n",
    "    def __iter__(self):\n",
    "        return self\n",
    "    \n",
    "    def __next__(self):\n",
    "        if self.rand != self.target and self.target <= self.high and self.low <= self.target:\n",
    "            rand_num = self.rand\n",
    "            self.rand = random.randint(self.low, self.high)\n",
    "            return rand_num\n",
    "        else:\n",
    "#             print(\"Reach\", self.rand)\n",
    "            raise StopIteration\n",
    "        "
   ]
  },
  {
   "cell_type": "code",
   "execution_count": 4,
   "metadata": {},
   "outputs": [
    {
     "name": "stdout",
     "output_type": "stream",
     "text": [
      "1\n",
      "3\n",
      "3\n",
      "3\n"
     ]
    }
   ],
   "source": [
    "for i in random_iter(1,5,4):\n",
    "    print(i)"
   ]
  },
  {
   "cell_type": "markdown",
   "metadata": {},
   "source": [
    "## Problem 3: Operator overloading\n",
    "### Part A (20%)\n",
    "Write a Vector class so that now it implement vector addition, and vector inner product.  In addition, a tuple or a list representing a vector can also be added to a Vector or multipled to a Vector.  Note if the input tuple or list has more than two elements, you can simply ignore the elements beyond the 2nd one.\n",
    "\n",
    "For example:\n",
    "```\n",
    "p1 = Vector(1,2)\n",
    "p3 = p1 + (5, 6)\n",
    "p4 = p1 + [7, 8]\n",
    "p5 = p1 + (7, 8, 9)\n",
    "\n",
    "print(p3)  # You should get v(6, 8)\n",
    "print(p4)  # You should get v(8, 10)\n",
    "print(p5)  # you shuold also get v(8, 10)\n",
    "\n",
    "p6 = Vector(3, 4)\n",
    "n7 = p1 * p6\n",
    "n8 = p1 * (5, 6)\n",
    "print(n7)  # You should get 11\n",
    "print(n8)  # You should get 17\n",
    "```\n",
    "\n",
    "###Part B (10%)\n",
    "Implement a class method `total_points()` that return the number of Vectors created using this class so far.  Notice that the total number of Vectors created include the ones you created explictely and the ones the system creates for you when you perform Vector mathematics."
   ]
  },
  {
   "cell_type": "code",
   "execution_count": 6,
   "metadata": {},
   "outputs": [],
   "source": [
    "# Part A\n",
    "class Vector:\n",
    "    \n",
    "    number = 0\n",
    "    def __init__(self, x=0, y=0):\n",
    "        self.x = x\n",
    "        self.y = y\n",
    "        Vector.number += 1\n",
    "        \n",
    "    def __str__(self):\n",
    "        return \"v({}, {})\".format(self.x, self.y)\n",
    "    \n",
    "    def __add__(self, other):\n",
    "        if type(other) == Vector:\n",
    "            x = self.x + other.x\n",
    "            y = self.x + other.y\n",
    "            return Vector(x,y)\n",
    "        elif type(other) == list or type(other) == tuple:\n",
    "            x = self.x + other[0]\n",
    "            y = self.y + other[1]\n",
    "            return Vector(x,y)\n",
    "    \n",
    "    def __mul__(self, other):\n",
    "        if type(other) == Vector:\n",
    "            return self.x * other.x + self.y * other.y\n",
    "        elif type(other) == list or type(other) == tuple:\n",
    "            return self.x * other[0] + self.y * other[1]\n",
    "        \n",
    "    def total_points():\n",
    "        return Vector.number\n"
   ]
  },
  {
   "cell_type": "code",
   "execution_count": 7,
   "metadata": {},
   "outputs": [
    {
     "name": "stdout",
     "output_type": "stream",
     "text": [
      "v(6, 8)\n",
      "v(8, 10)\n",
      "v(8, 10)\n",
      "11\n",
      "17\n",
      "5\n"
     ]
    }
   ],
   "source": [
    "p1 = Vector(1,2)\n",
    "p3 = p1 + (5, 6)\n",
    "p4 = p1 + [7, 8]\n",
    "p5 = p1 + (7, 8, 9)\n",
    "\n",
    "print(p3)\n",
    "print(p4)\n",
    "print(p5)\n",
    "\n",
    "p6 = Vector(3, 4)\n",
    "n7 = p1 * p6\n",
    "n8 = p1 * (5, 6)\n",
    "print(n7)\n",
    "print(n8)\n",
    "print(Vector.total_points())"
   ]
  },
  {
   "cell_type": "code",
   "execution_count": null,
   "metadata": {},
   "outputs": [],
   "source": []
  },
  {
   "cell_type": "code",
   "execution_count": null,
   "metadata": {},
   "outputs": [],
   "source": []
  }
 ],
 "metadata": {
  "kernelspec": {
   "display_name": "Python 3",
   "language": "python",
   "name": "python3"
  },
  "language_info": {
   "codemirror_mode": {
    "name": "ipython",
    "version": 3
   },
   "file_extension": ".py",
   "mimetype": "text/x-python",
   "name": "python",
   "nbconvert_exporter": "python",
   "pygments_lexer": "ipython3",
   "version": "3.7.3"
  }
 },
 "nbformat": 4,
 "nbformat_minor": 2
}
