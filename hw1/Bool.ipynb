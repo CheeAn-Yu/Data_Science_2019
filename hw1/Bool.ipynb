{
 "cells": [
  {
   "cell_type": "markdown",
   "metadata": {
    "colab_type": "text",
    "id": "txtUIoa9gW_I"
   },
   "source": [
    "## Boolean, Controls and Functions\n",
    "\n",
    "###Boolean value: True and False\n",
    "\n",
    "Logic operations\n",
    "* ==, !=\n",
    "* \\>, >=\n",
    "* <, <=\n",
    "* and, or\n"
   ]
  },
  {
   "cell_type": "code",
   "execution_count": 1,
   "metadata": {
    "colab": {
     "base_uri": "https://localhost:8080/",
     "height": 104
    },
    "colab_type": "code",
    "executionInfo": {
     "elapsed": 887,
     "status": "ok",
     "timestamp": 1568775987676,
     "user": {
      "displayName": "ML Lo",
      "photoUrl": "",
      "userId": "11511065297651515564"
     },
     "user_tz": -480
    },
    "id": "nHX_ffb4gFBv",
    "outputId": "a241e173-ee4e-4ea7-cae2-8cccc904ba6d"
   },
   "outputs": [
    {
     "name": "stdout",
     "output_type": "stream",
     "text": [
      "True\n",
      "False\n",
      "False\n",
      "True\n"
     ]
    },
    {
     "data": {
      "text/plain": [
       "False"
      ]
     },
     "execution_count": 1,
     "metadata": {
      "tags": []
     },
     "output_type": "execute_result"
    }
   ],
   "source": [
    "print(10>5)\n",
    "\n",
    "print(10>20)\n",
    "\n",
    "x = 7\n",
    "y = 8\n",
    "print( x >= y)\n",
    "\n",
    "print(x > 0 and y > 0)\n",
    "\n",
    "x == y  # Notice t test equality, there are two '=' sign"
   ]
  },
  {
   "cell_type": "markdown",
   "metadata": {
    "colab_type": "text",
    "id": "2uu3_04OiKiz"
   },
   "source": [
    "## If-then-else\n",
    "**Python uses indentation and `\":\"` to designate code structures.**\n",
    "\n",
    "If controls:\n",
    "* If then:\n",
    "* else:\n",
    "* elif:\n",
    "\n"
   ]
  },
  {
   "cell_type": "code",
   "execution_count": 1,
   "metadata": {
    "colab": {
     "base_uri": "https://localhost:8080/",
     "height": 34
    },
    "colab_type": "code",
    "executionInfo": {
     "elapsed": 823,
     "status": "ok",
     "timestamp": 1568776070007,
     "user": {
      "displayName": "ML Lo",
      "photoUrl": "",
      "userId": "11511065297651515564"
     },
     "user_tz": -480
    },
    "id": "BnaUNYKUOrpK",
    "outputId": "2a64e0a2-5857-4bff-e860-30a95fb6740b"
   },
   "outputs": [
    {
     "name": "stdout",
     "output_type": "stream",
     "text": [
      "Already exited the if statement\n"
     ]
    }
   ],
   "source": [
    "x = 8\n",
    "if x == 10:\n",
    "  print(\"x equals 10\")\n",
    "  print(\"Still in the if statement\")\n",
    "print(\"Already exited the if statement\")\n"
   ]
  },
  {
   "cell_type": "code",
   "execution_count": 5,
   "metadata": {
    "colab": {
     "base_uri": "https://localhost:8080/",
     "height": 34
    },
    "colab_type": "code",
    "executionInfo": {
     "elapsed": 725,
     "status": "ok",
     "timestamp": 1568776084747,
     "user": {
      "displayName": "ML Lo",
      "photoUrl": "",
      "userId": "11511065297651515564"
     },
     "user_tz": -480
    },
    "id": "6eoMRtpPidGO",
    "outputId": "4509fccd-32a7-460c-80b9-c5c1c4031270"
   },
   "outputs": [
    {
     "name": "stdout",
     "output_type": "stream",
     "text": [
      " x does not equal 10\n"
     ]
    }
   ],
   "source": [
    "x = 8\n",
    "if x == 10:\n",
    "    print(\"x equals 10\")\n",
    "else:\n",
    "    print(\" x does not equal 10\")\n",
    "  \n"
   ]
  },
  {
   "cell_type": "code",
   "execution_count": 6,
   "metadata": {
    "colab": {
     "base_uri": "https://localhost:8080/",
     "height": 34
    },
    "colab_type": "code",
    "executionInfo": {
     "elapsed": 733,
     "status": "ok",
     "timestamp": 1568776119196,
     "user": {
      "displayName": "ML Lo",
      "photoUrl": "",
      "userId": "11511065297651515564"
     },
     "user_tz": -480
    },
    "id": "--aezrzhjEac",
    "outputId": "51d3a2cb-060c-4575-e7ee-5d97d3a0ab3d"
   },
   "outputs": [
    {
     "name": "stdout",
     "output_type": "stream",
     "text": [
      " x does not equal 9 or 10\n"
     ]
    }
   ],
   "source": [
    "x = 910\n",
    "if x == 10:\n",
    "  print(\"x equals 10\")\n",
    "elif x == 9:\n",
    "  print(\"x equals 9\")\n",
    "else:\n",
    "  print(\" x does not equal 9 or 10\")"
   ]
  },
  {
   "cell_type": "markdown",
   "metadata": {
    "colab_type": "text",
    "id": "LQXXtEtojVgJ"
   },
   "source": [
    "### For loop\n",
    "For var in **iterable**\n"
   ]
  },
  {
   "cell_type": "code",
   "execution_count": 5,
   "metadata": {
    "colab": {
     "base_uri": "https://localhost:8080/",
     "height": 242
    },
    "colab_type": "code",
    "executionInfo": {
     "elapsed": 716,
     "status": "ok",
     "timestamp": 1568776284754,
     "user": {
      "displayName": "ML Lo",
      "photoUrl": "",
      "userId": "11511065297651515564"
     },
     "user_tz": -480
    },
    "id": "XovI361njeps",
    "outputId": "a5902bff-dbb9-4ea3-d0fd-371a7bca1739"
   },
   "outputs": [
    {
     "name": "stdout",
     "output_type": "stream",
     "text": [
      "a\n",
      "b\n",
      "d\n",
      "1\n",
      "2\n",
      "5\n",
      "apple\n",
      "banana\n",
      "orange\n",
      "0\n",
      "1\n",
      "2\n",
      "3\n"
     ]
    }
   ],
   "source": [
    "# You can use either a tuple or a list as the range of a for loop\n",
    "tuple = (\"a\", \"b\", \"d\")\n",
    "for i in tuple:\n",
    "  print(i)\n",
    "\n",
    "list = [1, 2, 5]\n",
    "for i in list:\n",
    "  print(i)\n",
    "\n",
    "for i in \"apple\", \"banana\", \"orange\":\n",
    "  print(i)\n",
    "\n",
    "for i in range(4):\n",
    "  print(i)"
   ]
  },
  {
   "cell_type": "code",
   "execution_count": 6,
   "metadata": {
    "colab": {
     "base_uri": "https://localhost:8080/",
     "height": 242
    },
    "colab_type": "code",
    "executionInfo": {
     "elapsed": 841,
     "status": "ok",
     "timestamp": 1568776459055,
     "user": {
      "displayName": "ML Lo",
      "photoUrl": "",
      "userId": "11511065297651515564"
     },
     "user_tz": -480
    },
    "id": "PkDjQHExkRRM",
    "outputId": "dbda683b-2ec7-4338-8979-115b2dea4b27"
   },
   "outputs": [
    {
     "name": "stdout",
     "output_type": "stream",
     "text": [
      "1\n",
      "3\n",
      "5\n",
      "7\n",
      "9\n",
      "-------\n",
      "3\n",
      "5\n",
      "7\n",
      "-------\n",
      "27\n",
      "216\n",
      "729\n"
     ]
    }
   ],
   "source": [
    "# Since you can use a list as the range of a for loop, you can apply the list manipulation techniques here\n",
    "list = [1, 2, 3, 4, 5, 6, 7, 8, 9, 10]\n",
    "for i in list[::2]:\n",
    "  print(i)\n",
    "  \n",
    "print(\"-------\")\n",
    "for i in list[2:-2:2]:\n",
    "  print(i)\n",
    "\n",
    "print(\"-------\")\n",
    "for i in [i**3 for i in list if i%3 == 0]:\n",
    "  print(i)\n"
   ]
  },
  {
   "cell_type": "markdown",
   "metadata": {
    "colab_type": "text",
    "id": "6c9qyg9plv3e"
   },
   "source": [
    "### Continue and break\n",
    "You can use \"continue\" with the for loop.\n",
    "And you can use both \"continue\" and \"break\" with the while loop."
   ]
  },
  {
   "cell_type": "code",
   "execution_count": 7,
   "metadata": {
    "colab": {
     "base_uri": "https://localhost:8080/",
     "height": 312
    },
    "colab_type": "code",
    "executionInfo": {
     "elapsed": 1032,
     "status": "ok",
     "timestamp": 1568776532850,
     "user": {
      "displayName": "ML Lo",
      "photoUrl": "",
      "userId": "11511065297651515564"
     },
     "user_tz": -480
    },
    "id": "CRg3S3V7lyic",
    "outputId": "7a57482c-4c15-46e8-ef71-f06e5f31003c"
   },
   "outputs": [
    {
     "name": "stdout",
     "output_type": "stream",
     "text": [
      "i is:  1\n",
      "sum is:  1\n",
      "i is:  2\n",
      "sum is:  3\n",
      "i is:  3\n",
      "i is:  4\n",
      "sum is:  7\n",
      "i is:  5\n",
      "sum is:  12\n",
      "i is:  6\n",
      "i is:  7\n",
      "sum is:  19\n",
      "i is:  8\n",
      "sum is:  27\n",
      "i is:  9\n",
      "i is:  10\n",
      "sum is:  37\n"
     ]
    }
   ],
   "source": [
    "list = [1, 2, 3, 4, 5, 6, 7, 8, 9, 10]\n",
    "sum = 0\n",
    "for i in list:\n",
    "  print(\"i is: \", i)\n",
    "  if i%3 == 0:\n",
    "    continue\n",
    "  sum += i\n",
    "  print(\"sum is: \", sum)\n",
    "\n",
    "    "
   ]
  },
  {
   "cell_type": "code",
   "execution_count": 7,
   "metadata": {
    "colab": {
     "base_uri": "https://localhost:8080/",
     "height": 242
    },
    "colab_type": "code",
    "executionInfo": {
     "elapsed": 876,
     "status": "ok",
     "timestamp": 1568508609469,
     "user": {
      "displayName": "ML Lo",
      "photoUrl": "",
      "userId": "11511065297651515564"
     },
     "user_tz": -480
    },
    "id": "pIW8WYyiZbZ0",
    "outputId": "1e4b8435-4e3c-4e0d-94e8-ac926f941b4e"
   },
   "outputs": [
    {
     "name": "stdout",
     "output_type": "stream",
     "text": [
      "i is:  1\n",
      "sum is:  1\n",
      "i is:  2\n",
      "sum is:  3\n",
      "i is:  3\n",
      "sum is:  6\n",
      "i is:  4\n",
      "sum is:  10\n",
      "i is:  5\n",
      "sum is:  15\n",
      "i is:  6\n",
      "sum is:  21\n",
      "i is:  7\n"
     ]
    }
   ],
   "source": [
    "list = [1, 2, 3, 4, 5, 6, 7, 8, 9, 10]\n",
    "sum = 0\n",
    "for i in list:\n",
    "  print(\"i is: \", i)\n",
    "  if i%7 == 0:\n",
    "    break\n",
    "  sum += i\n",
    "  print(\"sum is: \", sum)"
   ]
  },
  {
   "cell_type": "markdown",
   "metadata": {
    "colab_type": "text",
    "id": "14Xv4540ZOIy"
   },
   "source": [
    "### While loop"
   ]
  },
  {
   "cell_type": "code",
   "execution_count": 8,
   "metadata": {
    "colab": {
     "base_uri": "https://localhost:8080/",
     "height": 277
    },
    "colab_type": "code",
    "executionInfo": {
     "elapsed": 826,
     "status": "ok",
     "timestamp": 1568776614056,
     "user": {
      "displayName": "ML Lo",
      "photoUrl": "",
      "userId": "11511065297651515564"
     },
     "user_tz": -480
    },
    "id": "za6GZccVnVdU",
    "outputId": "d0d10103-8e1e-4f96-f35b-d83c17df0d0a"
   },
   "outputs": [
    {
     "name": "stdout",
     "output_type": "stream",
     "text": [
      "x, sum =  0 0\n",
      "x, sum =  1 1\n",
      "x, sum =  2 3\n",
      "x, sum =  3 6\n",
      "x, sum =  4 10\n",
      "x, sum =  5 15\n",
      "x, sum =  6 21\n",
      "x, sum =  7 28\n",
      "x, sum =  8 36\n",
      "x, sum =  9 45\n",
      "x, sum =  10 55\n",
      "x, sum =  11 66\n",
      "x, sum =  12 78\n",
      "x, sum =  13 91\n",
      "x, sum =  14 105\n"
     ]
    }
   ],
   "source": [
    "x, sum = 0, 0\n",
    "while sum <= 100:\n",
    "  sum += x\n",
    "  print(\"x, sum = \", x, sum)\n",
    "  x += 1\n"
   ]
  },
  {
   "cell_type": "code",
   "execution_count": 9,
   "metadata": {
    "colab": {
     "base_uri": "https://localhost:8080/",
     "height": 260
    },
    "colab_type": "code",
    "executionInfo": {
     "elapsed": 1650,
     "status": "ok",
     "timestamp": 1568776643690,
     "user": {
      "displayName": "ML Lo",
      "photoUrl": "",
      "userId": "11511065297651515564"
     },
     "user_tz": -480
    },
    "id": "qsNfJcznn5qF",
    "outputId": "7ee3f0d2-f0f4-4fdd-f963-4cd69d3348c7"
   },
   "outputs": [
    {
     "name": "stdout",
     "output_type": "stream",
     "text": [
      "x, sum =  0 0\n",
      "x, sum =  1 1\n",
      "x, sum =  2 3\n",
      "x, sum =  3 6\n",
      "x, sum =  4 10\n",
      "x, sum =  5 15\n",
      "x, sum =  6 21\n",
      "x, sum =  7 28\n",
      "x, sum =  8 36\n",
      "x, sum =  9 45\n",
      "x, sum =  10 55\n",
      "x, sum =  11 66\n",
      "x, sum =  12 78\n",
      "x, sum =  13 91\n"
     ]
    }
   ],
   "source": [
    "x, sum = 0, 0\n",
    "while sum <= 100:\n",
    "  if sum + x > 100:\n",
    "    break\n",
    "  sum += x\n",
    "  print(\"x, sum = \", x, sum)\n",
    "  x += 1\n",
    "  "
   ]
  },
  {
   "cell_type": "code",
   "execution_count": 10,
   "metadata": {
    "colab": {},
    "colab_type": "code",
    "id": "kSBJPo0IoUT6"
   },
   "outputs": [
    {
     "name": "stdout",
     "output_type": "stream",
     "text": [
      "x, sum =  1 1\n",
      "x, sum =  2 3\n",
      "x, sum =  4 7\n",
      "x, sum =  5 12\n",
      "x, sum =  7 19\n",
      "x, sum =  8 27\n",
      "x, sum =  10 37\n",
      "x, sum =  11 48\n",
      "x, sum =  13 61\n",
      "x, sum =  14 75\n",
      "x, sum =  16 91\n",
      "x, sum =  17 108\n",
      "x, sum =  19 127\n",
      "x, sum =  20 147\n",
      "x, sum =  22 169\n",
      "x, sum =  23 192\n",
      "x, sum =  25 217\n",
      "x, sum =  26 243\n",
      "x, sum =  28 271\n",
      "x, sum =  29 300\n"
     ]
    }
   ],
   "source": [
    "# add up all the number between 1 and 30 which is not a multiple of 3\n",
    "x, sum = 0, 0\n",
    "while x <= 29:\n",
    "  x += 1\n",
    "  if x%3 == 0:\n",
    "     continue\n",
    "  sum += x\n",
    "  print(\"x, sum = \", x, sum)\n",
    " "
   ]
  },
  {
   "cell_type": "code",
   "execution_count": null,
   "metadata": {},
   "outputs": [],
   "source": []
  }
 ],
 "metadata": {
  "colab": {
   "name": "PyBasics3_Boolean_control.ipynb",
   "provenance": []
  },
  "kernelspec": {
   "display_name": "Python 3",
   "language": "python",
   "name": "python3"
  },
  "language_info": {
   "codemirror_mode": {
    "name": "ipython",
    "version": 3
   },
   "file_extension": ".py",
   "mimetype": "text/x-python",
   "name": "python",
   "nbconvert_exporter": "python",
   "pygments_lexer": "ipython3",
   "version": "3.7.1"
  }
 },
 "nbformat": 4,
 "nbformat_minor": 1
}
