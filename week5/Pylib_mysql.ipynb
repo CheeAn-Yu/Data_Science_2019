{
 "cells": [
  {
   "cell_type": "markdown",
   "metadata": {},
   "source": [
    "# Access database from Python mysql-connector\n",
    "\n",
    "* (if you haven't donce so: ) install jupyter and learn how to use jupyter\n",
    "* install mysql learn how to user mysql\n",
    "    * install mysql\n",
    "    * start mysql server\n",
    "    * create root account (and other account if necessary)\n",
    "    * create a database\n",
    "    * create tables inside database\n",
    "* install python SQL access modules\n",
    "    * to access mysql: pip install mysql-connector\n",
    "    * other module: pip install sqlalchemy\n",
    "    * other module: pip install pyodbc\n",
    "    * there are many other such modules\n",
    "    \n"
   ]
  },
  {
   "cell_type": "code",
   "execution_count": 21,
   "metadata": {},
   "outputs": [],
   "source": []
  },
  {
   "cell_type": "code",
   "execution_count": 13,
   "metadata": {
    "scrolled": false
   },
   "outputs": [
    {
     "name": "stdout",
     "output_type": "stream",
     "text": [
      "Before show databases\n",
      "('information_schema',)\n",
      "('mysql',)\n",
      "('performance_schema',)\n",
      "('sakila',)\n",
      "('sys',)\n",
      "('test',)\n",
      "('world',)\n",
      "Before show tables\n",
      "('student',)\n"
     ]
    }
   ],
   "source": [
    "# Usage I: Connect to mySQL without using specific databases\n",
    "import pandas as pd\n",
    "import mysql.connector\n",
    "\n",
    "\n",
    "mydb = mysql.connector.connect(user='root',passwd='cayu4686')\n",
    "\n",
    "mycursor = mydb.cursor()\n",
    "\n",
    "print(\"Before show databases\")\n",
    "mycursor.execute(\"show databases\")\n",
    "for i in mycursor:\n",
    "    print(i)\n",
    "    \n",
    "print(\"Before show tables\")\n",
    "mycursor.execute(\"use test\")\n",
    "mycursor.execute(\"show tables\")\n",
    "for i in mycursor:\n",
    "    print(i)"
   ]
  },
  {
   "cell_type": "code",
   "execution_count": 8,
   "metadata": {},
   "outputs": [
    {
     "name": "stdout",
     "output_type": "stream",
     "text": [
      "(1, 'john', 'smith', 'physics', 'u', 2)\n",
      "(3, 'peter', 'chen', 'chemistry', 'p', 4)\n",
      "(4, 'mary', 'lin', 'ee', 'e', 3)\n",
      "(5, 'jack', 'huang', 'ee', 'e', 3)\n"
     ]
    }
   ],
   "source": [
    "mycursor.execute(\"use test\")\n",
    "mycursor.execute(\"select * from student\")\n",
    "for i in mycursor:\n",
    "    print(i)"
   ]
  },
  {
   "cell_type": "code",
   "execution_count": 10,
   "metadata": {},
   "outputs": [
    {
     "name": "stdout",
     "output_type": "stream",
     "text": [
      "Before mysql\n",
      "(1, 'john', 'smith', 'physics', 'u', 2)\n",
      "(3, 'peter', 'chen', 'chemistry', 'p', 4)\n",
      "(4, 'mary', 'lin', 'ee', 'e', 3)\n",
      "(5, 'jack', 'huang', 'ee', 'e', 3)\n"
     ]
    }
   ],
   "source": [
    "# Usage II: connect to mySQL and use a specific database directly \n",
    "import pandas as pd\n",
    "import mysql.connector\n",
    "\n",
    "print(\"Before mysql\")\n",
    "mydbcon = mysql.connector.connect(host=\"localhost\", user=\"root\", passwd=\"cayu4686\", database=\"test\" )\n",
    "\n",
    "mycursor = mydbcon.cursor()\n",
    "mycursor.execute(\"select * from student\")\n",
    "\n",
    "# Then you can consume your data in a for loop\n",
    "for i in mycursor:\n",
    "    print(i)\n",
    "    \n"
   ]
  },
  {
   "cell_type": "code",
   "execution_count": 11,
   "metadata": {},
   "outputs": [
    {
     "name": "stdout",
     "output_type": "stream",
     "text": [
      "(1, 'john', 'smith', 'physics', 'u', 2)\n"
     ]
    }
   ],
   "source": [
    "# you can also fetch the rows one by one by yourself\n",
    "mycursor.execute(\"select * from student\")\n",
    "one_row = mycursor.fetchone()\n",
    "print(one_row)"
   ]
  },
  {
   "cell_type": "code",
   "execution_count": 12,
   "metadata": {},
   "outputs": [
    {
     "name": "stdout",
     "output_type": "stream",
     "text": [
      "[(1, 'john', 'smith', 'physics', 'u', 2), (3, 'peter', 'chen', 'chemistry', 'p', 4), (4, 'mary', 'lin', 'ee', 'e', 3), (5, 'jack', 'huang', 'ee', 'e', 3)]\n"
     ]
    }
   ],
   "source": [
    "# you can also put all your results into a big data area, and do the processing your self.\n",
    "# However, this may results in the copying of large amount of data, and waste of large \n",
    "# memory area if the data you retrieve from database is big.  \n",
    "# So use this very careful, only if you do what you are doing\n",
    "\n",
    "# clean up all data in the cursor, if any left\n",
    "for _ in mycursor:\n",
    "    pass;\n",
    "\n",
    "mycursor.execute(\"select * from student\")\n",
    "result = mycursor.fetchall()\n",
    "print(result)\n"
   ]
  },
  {
   "cell_type": "code",
   "execution_count": null,
   "metadata": {},
   "outputs": [],
   "source": []
  }
 ],
 "metadata": {
  "kernelspec": {
   "display_name": "Python 3",
   "language": "python",
   "name": "python3"
  },
  "language_info": {
   "codemirror_mode": {
    "name": "ipython",
    "version": 3
   },
   "file_extension": ".py",
   "mimetype": "text/x-python",
   "name": "python",
   "nbconvert_exporter": "python",
   "pygments_lexer": "ipython3",
   "version": "3.7.3"
  }
 },
 "nbformat": 4,
 "nbformat_minor": 2
}
