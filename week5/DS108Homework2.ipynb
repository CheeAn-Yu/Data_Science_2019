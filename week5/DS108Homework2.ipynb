{
 "cells": [
  {
   "cell_type": "code",
   "execution_count": 0,
   "metadata": {
    "colab": {},
    "colab_type": "code",
    "id": "Etzlu5uii7Ia"
   },
   "outputs": [],
   "source": []
  },
  {
   "cell_type": "code",
   "execution_count": 0,
   "metadata": {
    "colab": {},
    "colab_type": "code",
    "id": "3z-SNnYC9VnS"
   },
   "outputs": [],
   "source": []
  },
  {
   "cell_type": "markdown",
   "metadata": {
    "colab_type": "text",
    "id": "OgtRvZIu9cAN"
   },
   "source": [
    "# Homework 2\n",
    "\n",
    "* Data processing and analysis using Pandas (and Numpy)\n",
    "* Download stockdata into CSV file and perform analysis.\n",
    "  * Example link:\n",
    "https://www.twse.com.tw/exchangeReport/STOCK_DAY?response=json&date=20180801&stockNo=2330\n",
    "\n",
    "\n",
    "## Problem 1: (Extract data and handling of CSV files and RDB) 20%\n",
    "* Download data from 2019.06.01 to 20190.10.09 for stock number 2330 from Taiwan Stock Exchange website, into CSV file(s).\n",
    "* Read data from CSV into Pandas Data Frame.\n",
    "* Print out the basic statistics of the dataset using dataFrame's describe() functin.  \n",
    "* Store your dataset into MySQL database.\n",
    "  * Note: you can create your database beforehand.\n",
    "\n",
    "Note1.1: Important! Please read!!\n",
    "在股票交易中, 有所謂的\"停止交易日\". 在這一天, 這一支股票停止交易, 因此也不會有交易資料。在我們的數據中, 如果有遇到股票\"停止交易日\" 請同學們拿前一天的數據補進去。例如, 如果7月15日和七月16日是停止交易日, 在做相關運算時, 就拿7月14日的資料填進7月15日和七月16日的對應欄位。\n",
    "類似這樣子的處理, 在data science 中稱為data cleansing (或data cleaning), 它也是 data science 裡重要的一部分。\n",
    "Note1.2: 有同學下課來討論時, 我曾經說把停止交易日從序列中拿掉。但在權衡後, 覺得Note1.1的方法較為簡單。\n",
    "\n",
    "\n",
    "## Problem 2: (Basic calculation) 20%\n",
    "* 2.A: From your python program issue SQL statement to find out:\n",
    "  * Total and average trade amount in this time period(成交總金額)\n",
    "  * Total and average trade volume in this period (交易總股數)\n",
    "* 2.B: Use pandas to calculate\n",
    "  * 5-day moving average of daily closing price.\n",
    "  * 5-day moving average of daily trading volume.\n",
    "  \n",
    "Note: For moving average, we will ignore your answers for day 1, 2, 3 and 4 when grading this homework.  However, you are encouraged to think about in reality, what's the best ways to handle the boundary condition.  \n",
    "Note: You can actually use SQL to calculate moving average, too, if you know how to use the window functions in SQL.  So you are also allowed use SQL to answer 2.B if you prefer to.\n",
    "\n",
    "## Problem 3: (Simple vector calculation) 20%\n",
    "Find the biggest daily change.  Print out the date and quantity for each of the following:\n",
    "* By absolute amount:\n",
    "    * Highest daily price\n",
    "    \n",
    "    * Daily trade volume\n",
    "* By percentage:\n",
    "  * Highest daily price\n",
    "  * Daily trade volume\n",
    "\n",
    "\n",
    "## Problem 4: (outliner) 20%\n",
    "Special days:\n",
    "Compared to average, what days are most unusual?\n",
    "* Use [daily volumne], [closing price - opening price], [highest price - lowest price]as your three axis, normalized by their average.\n",
    "* Find the top five days that are most far away from the average.\n",
    "\n",
    "## Problem 5: (Most profit) 20%\n",
    "Find pairs of days A and B, so that if you buy on day A and sell on day B in this period, you would have make the most profit.\n",
    "* Use daily closing price for your calculation\n",
    "* Find and print out the top 5 set of triples: (buy day, sell day, price-diff)\n",
    "Note: Just to remind: day A must come before day B.\n"
   ]
  },
  {
   "cell_type": "code",
   "execution_count": null,
   "metadata": {},
   "outputs": [],
   "source": []
  }
 ],
 "metadata": {
  "colab": {
   "name": "DS108Homework2.ipynb",
   "provenance": []
  },
  "kernelspec": {
   "display_name": "Python 3",
   "language": "python",
   "name": "python3"
  },
  "language_info": {
   "codemirror_mode": {
    "name": "ipython",
    "version": 3
   },
   "file_extension": ".py",
   "mimetype": "text/x-python",
   "name": "python",
   "nbconvert_exporter": "python",
   "pygments_lexer": "ipython3",
   "version": "3.7.3"
  }
 },
 "nbformat": 4,
 "nbformat_minor": 1
}
