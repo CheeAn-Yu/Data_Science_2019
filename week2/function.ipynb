{
 "cells": [
  {
   "cell_type": "code",
   "execution_count": 0,
   "metadata": {
    "colab": {},
    "colab_type": "code",
    "id": "PaknwcdKf1p_"
   },
   "outputs": [],
   "source": []
  },
  {
   "cell_type": "markdown",
   "metadata": {
    "colab_type": "text",
    "id": "hznoxY3pf5es"
   },
   "source": [
    "# Python Functions\n",
    "\n"
   ]
  },
  {
   "cell_type": "markdown",
   "metadata": {
    "colab_type": "text",
    "id": "n29g0wjSphrr"
   },
   "source": [
    "## Defining functions\n",
    "\n",
    "A function is a group of related statements that perform a specific task.\n",
    "\n",
    "Syntax of FUnction:\n",
    "```\n",
    "def function_name(function_arguments):\n",
    "  function_body\n",
    "  ......\n",
    "```\n",
    "or\n",
    "```\n",
    "def function_name(function_arguments):\n",
    "  function_body\n",
    "  ......\n",
    "  return [value]\n",
    "```"
   ]
  },
  {
   "cell_type": "code",
   "execution_count": 1,
   "metadata": {
    "colab": {
     "base_uri": "https://localhost:8080/",
     "height": 34
    },
    "colab_type": "code",
    "executionInfo": {
     "elapsed": 2156,
     "status": "ok",
     "timestamp": 1568776753145,
     "user": {
      "displayName": "ML Lo",
      "photoUrl": "",
      "userId": "11511065297651515564"
     },
     "user_tz": -480
    },
    "id": "1y_RMoRup_W7",
    "outputId": "776612ae-fabe-4a1e-cfa1-6db21f92301e"
   },
   "outputs": [
    {
     "name": "stdout",
     "output_type": "stream",
     "text": [
      "Hello world!\n"
     ]
    }
   ],
   "source": [
    "# Simplest function\n",
    "# note that this function does not return anything\n",
    "def say_hello():\n",
    "  print(\"Hello world!\")\n",
    "\n",
    "say_hello()"
   ]
  },
  {
   "cell_type": "markdown",
   "metadata": {
    "colab_type": "text",
    "id": "a9j50IlplrLJ"
   },
   "source": [
    "A function may have a return statement that returns a value to the caller.\n",
    "\n",
    "A function may return one, two, three, or more input parameters (a.k.a arguments or input arguments.)"
   ]
  },
  {
   "cell_type": "code",
   "execution_count": 0,
   "metadata": {
    "colab": {
     "base_uri": "https://localhost:8080/",
     "height": 52
    },
    "colab_type": "code",
    "executionInfo": {
     "elapsed": 718,
     "status": "ok",
     "timestamp": 1568510946257,
     "user": {
      "displayName": "ML Lo",
      "photoUrl": "",
      "userId": "11511065297651515564"
     },
     "user_tz": -480
    },
    "id": "MgRS_TBEq-E-",
    "outputId": "a7ccf34f-6689-4abc-ef85-176318faeb49"
   },
   "outputs": [
    {
     "name": "stdout",
     "output_type": "stream",
     "text": [
      "36.316811075498\n",
      "30\n"
     ]
    }
   ],
   "source": [
    "# define some useful functions\n",
    "\n",
    "import math\n",
    "# calculates the area of a cicle given radius\n",
    "def circle_area(radius):\n",
    "  area = (radius**2) * math.pi\n",
    "  return area\n",
    "\n",
    "# calculates the area of a rectangle\n",
    "def rec_area(length, width):\n",
    "  return length * width\n",
    "\n",
    "print(circle_area(3.4))\n",
    "\n",
    "print(rec_area(5, 6))"
   ]
  },
  {
   "cell_type": "code",
   "execution_count": 0,
   "metadata": {
    "colab": {},
    "colab_type": "code",
    "id": "dVgblIZiqg34"
   },
   "outputs": [],
   "source": [
    "#  a function that calculates the volumne of a 3D rectangle\n",
    "def volume(length, width, height):\n",
    "  vol = length * width * height\n",
    "  return vol\n",
    "\n",
    "volume(2.7, 3.6, 4.2)"
   ]
  },
  {
   "cell_type": "markdown",
   "metadata": {
    "colab_type": "text",
    "id": "CPc6qzRPiOjJ"
   },
   "source": [
    "\n",
    "## Default values for input arguments\n",
    "\n",
    "A function may have N input arguments defined, but called with less than N input arguments.  \n",
    "\n",
    "This can be achieved by supplying default values to some of the arguments during function definition.  When the function is called without specifying values for an argument with a default value, the default value is used as the value of the input argument.\n",
    "\n",
    "We provide a default value to an argument by using the assignment operator (=). Below is an example.\n",
    "\n",
    "Any number of arguments in a function can have a default value.  Once we have a default value for an argument, all the arguments to its right must also have default values."
   ]
  },
  {
   "cell_type": "code",
   "execution_count": 2,
   "metadata": {
    "colab": {
     "base_uri": "https://localhost:8080/",
     "height": 69
    },
    "colab_type": "code",
    "executionInfo": {
     "elapsed": 1188,
     "status": "ok",
     "timestamp": 1568776897748,
     "user": {
      "displayName": "ML Lo",
      "photoUrl": "",
      "userId": "11511065297651515564"
     },
     "user_tz": -480
    },
    "id": "n76alpQAixq9",
    "outputId": "7d2ef93c-7522-41c3-aacc-554f8c355d98"
   },
   "outputs": [
    {
     "name": "stdout",
     "output_type": "stream",
     "text": [
      "Hello! My name is Paul\n",
      "Good morning! My name is Jane\n",
      "Nice to meet you! My name is Jack\n"
     ]
    }
   ],
   "source": [
    "# In the function below, the input argument \"msg\" has a default value \"Hello\"\n",
    "def greet(name, msg = \"Hello\"):\n",
    "  print(\"{}! My name is {}\".format(msg, name))\n",
    "  \n",
    "greet(\"Paul\")  # This is the same as greet(\"Paul\", \"Hello\")\n",
    "greet(\"Jane\", \"Good morning\")\n",
    "greet(\"Jack\", \"Nice to meet you\")"
   ]
  },
  {
   "cell_type": "markdown",
   "metadata": {
    "colab_type": "text",
    "id": "A3Te-7OhMqU0"
   },
   "source": [
    "## Assign by position and assign by keywords\n",
    "\n",
    "In the previous example.  we assign values to parameters using **assignment by position**.\n",
    "* When we call \"greet()\" by \"greet(\"Jane\", \"Good morning\")\", the first input \"Jane\" is assigned to the first argument \"name\", and the 2nd input \"Good morning\" is assigned to the second argument \"msg\".\n",
    "\n",
    "Python allows functions to be called using **assignment by keyword arguments**.\n",
    "* That is, we can also explicitly specify what input to assign to what argument by using `\"=\"`.  \n",
    "* In such case, the input value can be given in any order.\n",
    "\n",
    "You can also mix \"assign by position\" with \"assign by keywords\".  But once an argument is inputed by keyword, all the argument after it must be input by keyword."
   ]
  },
  {
   "cell_type": "code",
   "execution_count": 3,
   "metadata": {
    "colab": {
     "base_uri": "https://localhost:8080/",
     "height": 86
    },
    "colab_type": "code",
    "executionInfo": {
     "elapsed": 1336,
     "status": "ok",
     "timestamp": 1568777083073,
     "user": {
      "displayName": "ML Lo",
      "photoUrl": "",
      "userId": "11511065297651515564"
     },
     "user_tz": -480
    },
    "id": "5JCH3DoUNnFT",
    "outputId": "fd3494a9-588d-4325-abd1-0fa35155bdca"
   },
   "outputs": [
    {
     "name": "stdout",
     "output_type": "stream",
     "text": [
      "Good evening! My name is Jane\n",
      "Good evening! My name is Jane\n",
      "Good evening! My name is Jane\n",
      "Good evening! My name is Jane\n"
     ]
    }
   ],
   "source": [
    "# 2 positional arguments\n",
    "greet (\"Jane\", \"Good evening\")\n",
    "# 2 keyword arguments\n",
    "greet(name = \"Jane\", msg = \"Good evening\")\n",
    "\n",
    "# 2 keyword arguments (out of order)\n",
    "greet(msg = \"Good evening\",name = \"Jane\") \n",
    "\n",
    "# 1 positional, 1 keyword argument\n",
    "greet(\"Jane\", msg = \"Good evening\") "
   ]
  },
  {
   "cell_type": "markdown",
   "metadata": {
    "colab_type": "text",
    "id": "RRKOVpmVOSA7"
   },
   "source": [
    "Note that when we mix the two mode, \"assign by position\" must always go first.\n",
    "The following example will produce an error\n"
   ]
  },
  {
   "cell_type": "code",
   "execution_count": 4,
   "metadata": {
    "colab": {
     "base_uri": "https://localhost:8080/",
     "height": 131
    },
    "colab_type": "code",
    "executionInfo": {
     "elapsed": 1506,
     "status": "error",
     "timestamp": 1568777102901,
     "user": {
      "displayName": "ML Lo",
      "photoUrl": "",
      "userId": "11511065297651515564"
     },
     "user_tz": -480
    },
    "id": "yCsc6_LbOaU9",
    "outputId": "2afeb848-5292-4369-e7f4-69f02e364480"
   },
   "outputs": [
    {
     "ename": "SyntaxError",
     "evalue": "ignored",
     "output_type": "error",
     "traceback": [
      "\u001b[0;36m  File \u001b[0;32m\"<ipython-input-4-4385195cfed7>\"\u001b[0;36m, line \u001b[0;32m1\u001b[0m\n\u001b[0;31m    greet(msg = \"Good evening\", Jane)\u001b[0m\n\u001b[0m                               ^\u001b[0m\n\u001b[0;31mSyntaxError\u001b[0m\u001b[0;31m:\u001b[0m positional argument follows keyword argument\n"
     ]
    }
   ],
   "source": [
    "# The following call will produce an error\n",
    "greet(msg = \"Good evening\", Jane)"
   ]
  },
  {
   "cell_type": "markdown",
   "metadata": {
    "colab_type": "text",
    "id": "A4SPzKKcO3hg"
   },
   "source": [
    "## Arbitrary number of arguments\n",
    "\n",
    "Sometimes, we do not want to fix in advance the number of arguments that will be passed into a function.  \n",
    "\n",
    "Python allows this kind of situation through function calls with arbitrary number of arguments.  In the function definition we use an asterisk (*) before the parameter name to denote this kind of argument. \n",
    "\n"
   ]
  },
  {
   "cell_type": "code",
   "execution_count": 2,
   "metadata": {
    "colab": {
     "base_uri": "https://localhost:8080/",
     "height": 173
    },
    "colab_type": "code",
    "executionInfo": {
     "elapsed": 1496,
     "status": "ok",
     "timestamp": 1568777185180,
     "user": {
      "displayName": "ML Lo",
      "photoUrl": "",
      "userId": "11511065297651515564"
     },
     "user_tz": -480
    },
    "id": "4JSLfK2CPThQ",
    "outputId": "23e13c0c-2f1c-47d7-9b39-82c12f7acd19"
   },
   "outputs": [
    {
     "name": "stdout",
     "output_type": "stream",
     "text": [
      "Good morning!\n",
      "My name is John\n",
      "My name is aa\n",
      "My name is bb\n",
      "My name is nn\n",
      "My name is aaaaaa\n"
     ]
    }
   ],
   "source": [
    "def greet_by_many(*names, msg = \"Hello\"):\n",
    "  \"\"\"the argument names is actually a tuple of input names\"\"\"\n",
    "  print(\"{}!\".format(msg))\n",
    "  for i in names:\n",
    "    print(\"My name is {}\".format(i))\n",
    "    \n",
    "# greet_by_many(\"John\", \"aa\")    \n",
    "greet_by_many(\"John\", \"aa\", \"bb\", \"nn\", \"aaaaaa\", msg=\"Good morning\")"
   ]
  },
  {
   "cell_type": "markdown",
   "metadata": {
    "colab_type": "text",
    "id": "lJtlNcSVQ0AJ"
   },
   "source": [
    "## Fucntion recursions\n",
    "\n",
    "Similar to other programming language."
   ]
  },
  {
   "cell_type": "markdown",
   "metadata": {
    "colab_type": "text",
    "id": "zhjS0MNcSGPP"
   },
   "source": [
    "## Anonymous functions (a.k.a Lambda functions)\n",
    "\n",
    "Python supports functions without a name.  These are called **anonymous functions**.\n",
    "\n",
    "While normal functions are defined using the **def** keyword, in Python anonymous functions are defined using the **lambda** keyword.  Hence, anonymous functions are also called **lambda functions**.\n",
    "\n",
    "\n",
    "* Lambda functions can have any number of arguments but only one expression. \n",
    "* The expression is evaluated and returned. \n",
    "* Lambda functions can be used wherever function objects are required.\n",
    "\n",
    "\n"
   ]
  },
  {
   "cell_type": "code",
   "execution_count": 7,
   "metadata": {
    "colab": {
     "base_uri": "https://localhost:8080/",
     "height": 86
    },
    "colab_type": "code",
    "executionInfo": {
     "elapsed": 1340,
     "status": "ok",
     "timestamp": 1568777938563,
     "user": {
      "displayName": "ML Lo",
      "photoUrl": "",
      "userId": "11511065297651515564"
     },
     "user_tz": -480
    },
    "id": "7ctbySQzS2AK",
    "outputId": "6ff4ed42-e972-4e84-c9d8-4ae08449da8c"
   },
   "outputs": [
    {
     "name": "stdout",
     "output_type": "stream",
     "text": [
      "25\n",
      "289\n",
      "25\n",
      "289\n"
     ]
    }
   ],
   "source": [
    "# use of lambda function\n",
    "# powertwo here is a function object created by the lambda expression\n",
    "powertwo = lambda x: x**2\n",
    "\n",
    "print(powertwo(5))\n",
    "print(powertwo(17))\n",
    "\n",
    "# a lambda function can be assignd to different names\n",
    "ptwo = powertwo\n",
    "print(ptwo(5))\n",
    "print(ptwo(17))"
   ]
  },
  {
   "cell_type": "markdown",
   "metadata": {
    "colab_type": "text",
    "id": "QpcVXSJ5T4ke"
   },
   "source": [
    "Why do we need lambda functions?  \n",
    "* We mainly use them in situation when we need to pass a function as an argument into another function.\n",
    "* Lambda functions make your code shorter and easier to read (when you become familiar with Python).\n",
    "* We frequently use lambda with functions that take a function as one of their arguments.\n",
    "  * Such as sort(), filter() or map()"
   ]
  },
  {
   "cell_type": "code",
   "execution_count": 8,
   "metadata": {
    "colab": {
     "base_uri": "https://localhost:8080/",
     "height": 34
    },
    "colab_type": "code",
    "executionInfo": {
     "elapsed": 770,
     "status": "ok",
     "timestamp": 1568778259327,
     "user": {
      "displayName": "ML Lo",
      "photoUrl": "",
      "userId": "11511065297651515564"
     },
     "user_tz": -480
    },
    "id": "ct67VQvKT5Z1",
    "outputId": "24eb629b-7b58-4d4c-ec3b-e552b8bf0f64"
   },
   "outputs": [
    {
     "name": "stdout",
     "output_type": "stream",
     "text": [
      "[15, 21, 27, 33, 39]\n"
     ]
    }
   ],
   "source": [
    "# In the following list, filter out the numbers which can be divided by 3\n",
    "# The function filter() is called with 2 arguments, a function and a list \n",
    "# It returns a new list which contains items for which the function evaluates to True.\n",
    "the_list = [15, 17, 19, 21, 23, 25, 27, 29, 31, 33, 35, 39]\n",
    "\n",
    "f = lambda x: (x%3==0)\n",
    "new_list = list(filter(f, the_list))\n",
    "print(new_list)"
   ]
  },
  {
   "cell_type": "code",
   "execution_count": 0,
   "metadata": {
    "colab": {
     "base_uri": "https://localhost:8080/",
     "height": 34
    },
    "colab_type": "code",
    "executionInfo": {
     "elapsed": 1684,
     "status": "ok",
     "timestamp": 1568513027990,
     "user": {
      "displayName": "ML Lo",
      "photoUrl": "",
      "userId": "11511065297651515564"
     },
     "user_tz": -480
    },
    "id": "daswuSNPVSHZ",
    "outputId": "d42eebf6-2e29-4835-c84e-e660506f5a98"
   },
   "outputs": [
    {
     "name": "stdout",
     "output_type": "stream",
     "text": [
      "[15, 21, 27, 33, 39]\n"
     ]
    }
   ],
   "source": [
    "# In real-life python code, we often see the following:\n",
    "new_list = list(filter(lambda x: (x%3==0), the_list))\n",
    "print(new_list)"
   ]
  },
  {
   "cell_type": "code",
   "execution_count": 11,
   "metadata": {
    "colab": {
     "base_uri": "https://localhost:8080/",
     "height": 34
    },
    "colab_type": "code",
    "executionInfo": {
     "elapsed": 929,
     "status": "ok",
     "timestamp": 1568778501487,
     "user": {
      "displayName": "ML Lo",
      "photoUrl": "",
      "userId": "11511065297651515564"
     },
     "user_tz": -480
    },
    "id": "zP8jHodDVnaz",
    "outputId": "16886083-8bb3-4977-93da-2deb519c7254"
   },
   "outputs": [
    {
     "name": "stdout",
     "output_type": "stream",
     "text": [
      "[1.0, 55.90169943749474, 32.0, 88.18163074019441]\n"
     ]
    }
   ],
   "source": [
    "# The map() function in Python takes in a function and a list.\n",
    "# map() returns a list which contains items returned by that function for each item.\n",
    "\n",
    "# Double all the numbers\n",
    "my_list = [1, 5, 4, 6]\n",
    "\n",
    "new_list = list(map(lambda x: x**2.5 , my_list))\n",
    "print(new_list)\n"
   ]
  },
  {
   "cell_type": "markdown",
   "metadata": {
    "colab_type": "text",
    "id": "2bg0E_3EtiRU"
   },
   "source": [
    "## Create variables in a function\n",
    "\n",
    "Variables can be create inside a function simply by assign to them directly, just as in ordinary code.\n",
    "* The effect of such definition of variables exist only inside the function\n",
    "* Such variables are called **local variables**"
   ]
  },
  {
   "cell_type": "code",
   "execution_count": 12,
   "metadata": {
    "colab": {
     "base_uri": "https://localhost:8080/",
     "height": 51
    },
    "colab_type": "code",
    "executionInfo": {
     "elapsed": 687,
     "status": "ok",
     "timestamp": 1568778563719,
     "user": {
      "displayName": "ML Lo",
      "photoUrl": "",
      "userId": "11511065297651515564"
     },
     "user_tz": -480
    },
    "id": "_nerIa0SuFuy",
    "outputId": "87e92951-8337-4708-c341-eb23a465f096"
   },
   "outputs": [
    {
     "name": "stdout",
     "output_type": "stream",
     "text": [
      "from inside the function x+y: 8\n",
      "from outside the function x+y: 3\n"
     ]
    }
   ],
   "source": [
    "x , y = 1, 2\n",
    "def func():\n",
    "  x, y = 3, 5\n",
    "  print(\"from inside the function x+y:\", x+y)\n",
    "\n",
    "func()\n",
    "print(\"from outside the function x+y:\", x+y)"
   ]
  },
  {
   "cell_type": "code",
   "execution_count": 0,
   "metadata": {
    "colab": {},
    "colab_type": "code",
    "id": "Jn13KBuzu8Sc"
   },
   "outputs": [],
   "source": [
    "# What happened if x and y are originally not defined outside of the function\n",
    "del x\n",
    "del y\n",
    "def func():\n",
    "  x, y = 3, 5\n",
    "  print(\"from inside the function x+y:\", x+y)\n",
    "\n",
    "func()\n",
    "print(\"from outside the function x+y:\", x+y)"
   ]
  },
  {
   "cell_type": "markdown",
   "metadata": {
    "colab_type": "text",
    "id": "s1QolsyLl-NU"
   },
   "source": [
    "## Local, nonlocal and global variables\n",
    "\n",
    "* Each variable has a **scope**, the extent to which the variable can be accessed.\n",
    "* Variables in different scopes can have the same name but are still different variables.\n",
    "* A variable declared outside of the function or in global scope is a **global variable**.\n",
    "* A variable declared inside a function is a **local variable**.\n",
    "\n"
   ]
  },
  {
   "cell_type": "code",
   "execution_count": 0,
   "metadata": {
    "colab": {
     "base_uri": "https://localhost:8080/",
     "height": 69
    },
    "colab_type": "code",
    "executionInfo": {
     "elapsed": 743,
     "status": "ok",
     "timestamp": 1568514421390,
     "user": {
      "displayName": "ML Lo",
      "photoUrl": "",
      "userId": "11511065297651515564"
     },
     "user_tz": -480
    },
    "id": "WEHBwDwhmnHu",
    "outputId": "7848a98b-0124-47de-9346-910eb2394d1b"
   },
   "outputs": [
    {
     "name": "stdout",
     "output_type": "stream",
     "text": [
      "Outside of any function, x is: 3\n",
      "In f1, x is: 3\n",
      "In f2, x is: 2\n"
     ]
    }
   ],
   "source": [
    "## Global and local variables\n",
    "\n",
    "# if we use a variable inside a function without defining it, \n",
    "# Python will search the global scope for the definition\n",
    "x = 3\n",
    "\n",
    "def f1():\n",
    "  print(\"In f1, x is:\", x)  # x here will refer to the global variable\n",
    "  \n",
    "def f2():\n",
    "  x = 2  # x will be re-defined as a local variable if it appears in the left side of \"=\"\n",
    "  print(\"In f2, x is:\", x)  # x here will refere to the local variable, becuase it is re-defined inside the fucntion f2().\n",
    "  \n",
    "print(\"Outside of any function, x is:\", x) \n",
    "f1()\n",
    "f2()\n"
   ]
  },
  {
   "cell_type": "code",
   "execution_count": 14,
   "metadata": {
    "colab": {
     "base_uri": "https://localhost:8080/",
     "height": 34
    },
    "colab_type": "code",
    "executionInfo": {
     "elapsed": 717,
     "status": "ok",
     "timestamp": 1568778683028,
     "user": {
      "displayName": "ML Lo",
      "photoUrl": "",
      "userId": "11511065297651515564"
     },
     "user_tz": -480
    },
    "id": "TKURHnyav7bB",
    "outputId": "953e6cb3-de5e-4304-cf0b-c62e60788f27"
   },
   "outputs": [
    {
     "name": "stdout",
     "output_type": "stream",
     "text": [
      "y is: 5\n"
     ]
    }
   ],
   "source": [
    "x = 3\n",
    "def f3():\n",
    "  y = x + 2\n",
    "  print(\"y is:\", y)\n",
    "\n",
    "f3()"
   ]
  },
  {
   "cell_type": "markdown",
   "metadata": {
    "colab_type": "text",
    "id": "WTXJvJD2nu0w"
   },
   "source": [
    "What if we want to change the global variable from inside a function?\n",
    "\n",
    "We used the **global** keyword inside the function to tell the system we are talking about the global variable."
   ]
  },
  {
   "cell_type": "code",
   "execution_count": 15,
   "metadata": {
    "colab": {
     "base_uri": "https://localhost:8080/",
     "height": 322
    },
    "colab_type": "code",
    "executionInfo": {
     "elapsed": 1389,
     "status": "error",
     "timestamp": 1568778932889,
     "user": {
      "displayName": "ML Lo",
      "photoUrl": "",
      "userId": "11511065297651515564"
     },
     "user_tz": -480
    },
    "id": "sB2FRk5Ioppx",
    "outputId": "9109d504-d7c7-4c15-f44b-9f5ce0f77f86"
   },
   "outputs": [
    {
     "ename": "UnboundLocalError",
     "evalue": "ignored",
     "output_type": "error",
     "traceback": [
      "\u001b[0;31m---------------------------------------------------------------------------\u001b[0m",
      "\u001b[0;31mUnboundLocalError\u001b[0m                         Traceback (most recent call last)",
      "\u001b[0;32m<ipython-input-15-5431a47ef352>\u001b[0m in \u001b[0;36m<module>\u001b[0;34m()\u001b[0m\n\u001b[1;32m      6\u001b[0m   \u001b[0mx\u001b[0m \u001b[0;34m=\u001b[0m \u001b[0mx\u001b[0m \u001b[0;34m+\u001b[0m \u001b[0;36m1\u001b[0m\u001b[0;34m\u001b[0m\u001b[0;34m\u001b[0m\u001b[0m\n\u001b[1;32m      7\u001b[0m \u001b[0;34m\u001b[0m\u001b[0m\n\u001b[0;32m----> 8\u001b[0;31m \u001b[0mincrement_global_x\u001b[0m\u001b[0;34m(\u001b[0m\u001b[0;34m)\u001b[0m\u001b[0;34m\u001b[0m\u001b[0;34m\u001b[0m\u001b[0m\n\u001b[0m",
      "\u001b[0;32m<ipython-input-15-5431a47ef352>\u001b[0m in \u001b[0;36mincrement_global_x\u001b[0;34m()\u001b[0m\n\u001b[1;32m      4\u001b[0m   \u001b[0mBut\u001b[0m \u001b[0mthe\u001b[0m \u001b[0mx\u001b[0m \u001b[0mon\u001b[0m \u001b[0mthe\u001b[0m \u001b[0mrighthand\u001b[0m \u001b[0mside\u001b[0m \u001b[0mof\u001b[0m \u001b[0;34m=\u001b[0m \u001b[0;32mis\u001b[0m \u001b[0mused\u001b[0m \u001b[0mit\u001b[0m \u001b[0;32mis\u001b[0m \u001b[0mgiven\u001b[0m \u001b[0many\u001b[0m \u001b[0mvalue\u001b[0m\u001b[0;34m.\u001b[0m\u001b[0;34m\u001b[0m\u001b[0;34m\u001b[0m\u001b[0m\n\u001b[1;32m      5\u001b[0m   \"\"\"\n\u001b[0;32m----> 6\u001b[0;31m   \u001b[0mx\u001b[0m \u001b[0;34m=\u001b[0m \u001b[0mx\u001b[0m \u001b[0;34m+\u001b[0m \u001b[0;36m1\u001b[0m\u001b[0;34m\u001b[0m\u001b[0;34m\u001b[0m\u001b[0m\n\u001b[0m\u001b[1;32m      7\u001b[0m \u001b[0;34m\u001b[0m\u001b[0m\n\u001b[1;32m      8\u001b[0m \u001b[0mincrement_global_x\u001b[0m\u001b[0;34m(\u001b[0m\u001b[0;34m)\u001b[0m\u001b[0;34m\u001b[0m\u001b[0;34m\u001b[0m\u001b[0m\n",
      "\u001b[0;31mUnboundLocalError\u001b[0m: local variable 'x' referenced before assignment"
     ]
    }
   ],
   "source": [
    "# This version of funtion will cause an error\n",
    "x = 3\n",
    "def increment_global_x():\n",
    "  \"\"\"the system will consider x below a local variable.  \n",
    "  But the x on the righthand side of = is used it is given any value.\n",
    "  \"\"\"\n",
    "  x = x + 1  \n",
    "  \n",
    "increment_global_x()"
   ]
  },
  {
   "cell_type": "code",
   "execution_count": 16,
   "metadata": {
    "colab": {
     "base_uri": "https://localhost:8080/",
     "height": 69
    },
    "colab_type": "code",
    "executionInfo": {
     "elapsed": 1527,
     "status": "ok",
     "timestamp": 1568779009444,
     "user": {
      "displayName": "ML Lo",
      "photoUrl": "",
      "userId": "11511065297651515564"
     },
     "user_tz": -480
    },
    "id": "8M3lVTk4oDbS",
    "outputId": "b6ae4d12-8eee-4946-b13c-48b246b9ddd9"
   },
   "outputs": [
    {
     "name": "stdout",
     "output_type": "stream",
     "text": [
      "Before the inc_global call, the global x is: 3\n",
      "From inside increment_global_x(), x is: 4\n",
      "After the inc_global call, the global x is: 4\n"
     ]
    }
   ],
   "source": [
    "# global keyword\n",
    "\n",
    "x = 3\n",
    "def inc_global_x():\n",
    "  global x\n",
    "  x = x + 1\n",
    "  print(\"From inside increment_global_x(), x is:\", x)\n",
    "\n",
    "print(\"Before the inc_global call, the global x is:\", x)\n",
    "inc_global_x()\n",
    "print(\"After the inc_global call, the global x is:\", x)"
   ]
  },
  {
   "cell_type": "markdown",
   "metadata": {
    "colab_type": "text",
    "id": "_lnxEzedpyOm"
   },
   "source": [
    "### Nonlocal variable\n",
    "\n",
    "When we have a function inside another fucntion (called **nested functions**), if the inner function wants to refer to a variable defined in the outer function, it needs to use the **nonlocal** keyword."
   ]
  },
  {
   "cell_type": "code",
   "execution_count": 0,
   "metadata": {
    "colab": {
     "base_uri": "https://localhost:8080/",
     "height": 104
    },
    "colab_type": "code",
    "executionInfo": {
     "elapsed": 890,
     "status": "ok",
     "timestamp": 1568514824397,
     "user": {
      "displayName": "ML Lo",
      "photoUrl": "",
      "userId": "11511065297651515564"
     },
     "user_tz": -480
    },
    "id": "0rz8SwLVqCPb",
    "outputId": "ee556cd5-e709-4749-ec2f-dae171494b3c"
   },
   "outputs": [
    {
     "name": "stdout",
     "output_type": "stream",
     "text": [
      "From outside, before calling outer(), x=3, y=3, z=3\n",
      "From outer(), before calling inner(), x=2, y=2, z=2\n",
      "From inner(), x=1, y=1, z=1\n",
      "From outer(), after calling inner(), x=2, y=1, z=2\n",
      "From outside, after calling outer(), x=3, y=3, z=1\n"
     ]
    }
   ],
   "source": [
    "# the outer() function will call the inner() function.\n",
    "\n",
    "x = 3\n",
    "y = 3\n",
    "z = 3\n",
    "def outer():\n",
    "    x = 2\n",
    "    y = 2\n",
    "    z = 2\n",
    "    print(\"From outer(), before calling inner(), x={}, y={}, z={}\".format(x,y,z))\n",
    "    def inner():\n",
    "        x = 1\n",
    "        nonlocal y\n",
    "        y = 1\n",
    "        global z\n",
    "        z = 1\n",
    "        print(\"From inner(), x={}, y={}, z={}\".format(x,y,z))\n",
    "    \n",
    "    inner()\n",
    "    print(\"From outer(), after calling inner(), x={}, y={}, z={}\".format(x,y,z))\n",
    "\n",
    "    \n",
    "print(\"From outside, before calling outer(), x={}, y={}, z={}\".format(x,y,z))\n",
    "outer()\n",
    "print(\"From outside, after calling outer(), x={}, y={}, z={}\".format(x,y,z))"
   ]
  },
  {
   "cell_type": "markdown",
   "metadata": {
    "colab_type": "text",
    "id": "KGEWgCDbb_F7"
   },
   "source": [
    "### Additional info: Global variables across python modules\n",
    "\n",
    "In Python, we create a single module **config.py** to hold global variables and share information across Python modules within the same program.\n",
    "\n",
    "\n",
    "Create a **config.py** file, to store global variables\n",
    "\n",
    "```\n",
    "a = 0\n",
    "b = \"empty\"\n",
    "```\n",
    "Create a **update.py** file, to change global variables\n",
    "\n",
    "```\n",
    "import config\n",
    "config.a = 10\n",
    "config.b = \"alphabet\"\n",
    "```\n",
    "Create a **main.py** file, to test changes in value\n",
    "```\n",
    "import config\n",
    "import update\n",
    "\n",
    "print(config.a)\n",
    "print(config.b)\n",
    "```\n",
    "When we run the main.py file, the output will be\n",
    "```\n",
    "10\n",
    "alphabet\n",
    "```\n"
   ]
  },
  {
   "cell_type": "markdown",
   "metadata": {
    "colab_type": "text",
    "id": "NfCM9SsUwxZl"
   },
   "source": [
    "### Additional info: Make your own library\n",
    "Make your own library in Python is easy\n",
    "\n",
    "For example, we can save the above code in a file, called \"area.py\"\n",
    "\n",
    "We can either\n",
    "* import the whole file by using: \"import area\", or\n",
    "* import just one function by using \"from area import rec_area\"\n",
    "\n",
    "If you import the whole file, you should refer to each function as\n",
    "* area.circle_area() and area.rec_area()\n",
    "\n",
    "If you import just one function using \"from area import rec_area\", you can refer to that function as\n",
    "* rec_area()\n",
    "\n",
    "Note: when you import the file, you must make sure the library file is reachable by Python"
   ]
  }
 ],
 "metadata": {
  "colab": {
   "collapsed_sections": [],
   "name": "PyBasics3_Function.ipynb",
   "provenance": []
  },
  "kernelspec": {
   "display_name": "Python 3",
   "language": "python",
   "name": "python3"
  },
  "language_info": {
   "codemirror_mode": {
    "name": "ipython",
    "version": 3
   },
   "file_extension": ".py",
   "mimetype": "text/x-python",
   "name": "python",
   "nbconvert_exporter": "python",
   "pygments_lexer": "ipython3",
   "version": "3.7.3"
  }
 },
 "nbformat": 4,
 "nbformat_minor": 1
}
