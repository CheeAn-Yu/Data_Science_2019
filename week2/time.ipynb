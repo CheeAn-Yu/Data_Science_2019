{
 "cells": [
  {
   "cell_type": "markdown",
   "metadata": {
    "colab_type": "text",
    "id": "AP_5jJ0oDnRJ"
   },
   "source": [
    "# Time and Data in Python\n",
    "\n",
    "## Time: tick, time tuple, and string formats\n",
    "\n",
    "In Python, time can be extracted from the system in three different formats.  And they can converted between each other:\n",
    "* Tick format\n",
    "* String format\n",
    "* Time tuple format\n",
    "\n",
    "### Get current  time from Python system\n",
    "* Tick format:\n",
    "  * time.time(): get number of second since Epoch.  Epoch is usually 1970/1/1 00:00, but can be system dependent.\n",
    "* String format:\n",
    "  * time.ctime(), time.asctime(): get a string describing current time in local time zone.\n",
    "* Time tuple format:\n",
    "  * time.localtime(): get a time tuple describing current time at local time zone\n",
    "  * time.gmtime(): get a time tuple describing current time in Greenwich Mean Time"
   ]
  },
  {
   "cell_type": "code",
   "execution_count": 1,
   "metadata": {
    "colab": {
     "base_uri": "https://localhost:8080/",
     "height": 33
    },
    "colab_type": "code",
    "executionInfo": {
     "elapsed": 4496,
     "status": "ok",
     "timestamp": 1554211373870,
     "user": {
      "displayName": "ML Lo",
      "photoUrl": "",
      "userId": "11511065297651515564"
     },
     "user_tz": -480
    },
    "id": "tQ-gVpHhDdoC",
    "outputId": "32fc8925-6673-4082-b70c-36e34332d14a"
   },
   "outputs": [
    {
     "name": "stdout",
     "output_type": "stream",
     "text": [
      "1569316986.662398\n"
     ]
    }
   ],
   "source": [
    "# Import the time class\n",
    "import time\n",
    "\n",
    "# Tick format \n",
    "# time.time() returns the number of second since 1970/1/1 00:00\n",
    "tick = time.time()\n",
    "print(tick)\n",
    "\n"
   ]
  },
  {
   "cell_type": "code",
   "execution_count": 2,
   "metadata": {
    "colab": {
     "base_uri": "https://localhost:8080/",
     "height": 67
    },
    "colab_type": "code",
    "executionInfo": {
     "elapsed": 6505,
     "status": "ok",
     "timestamp": 1554211387454,
     "user": {
      "displayName": "ML Lo",
      "photoUrl": "",
      "userId": "11511065297651515564"
     },
     "user_tz": -480
    },
    "id": "CO4kJb5Gt1FO",
    "outputId": "34bf7d8a-d56d-4127-deb6-280840b664b6"
   },
   "outputs": [
    {
     "name": "stdout",
     "output_type": "stream",
     "text": [
      "Tue Sep 24 17:23:35 2019\n",
      "Tue Sep 24 17:23:35 2019\n"
     ]
    }
   ],
   "source": [
    "# String format\n",
    "# time.ctime() and time.asctime() returns a string representing the current time\n",
    "# Note: the machine of Google colab is located in Greenwich Mean Time timezone.  \n",
    "print(time.ctime())\n",
    "print(time.asctime())\n"
   ]
  },
  {
   "cell_type": "code",
   "execution_count": 3,
   "metadata": {
    "colab": {
     "base_uri": "https://localhost:8080/",
     "height": 84
    },
    "colab_type": "code",
    "executionInfo": {
     "elapsed": 1166,
     "status": "ok",
     "timestamp": 1554188726866,
     "user": {
      "displayName": "ML Lo",
      "photoUrl": "",
      "userId": "11511065297651515564"
     },
     "user_tz": -480
    },
    "id": "zUt5hNgwunNA",
    "outputId": "ebc1a0e9-bbfc-40de-c601-5c6b6a36d540"
   },
   "outputs": [
    {
     "name": "stdout",
     "output_type": "stream",
     "text": [
      "local time is:  time.struct_time(tm_year=2019, tm_mon=9, tm_mday=24, tm_hour=17, tm_min=24, tm_sec=31, tm_wday=1, tm_yday=267, tm_isdst=0)\n",
      "Greenwich mean time is:  time.struct_time(tm_year=2019, tm_mon=9, tm_mday=24, tm_hour=9, tm_min=24, tm_sec=31, tm_wday=1, tm_yday=267, tm_isdst=0)\n"
     ]
    }
   ],
   "source": [
    "# time tuple format\n",
    "# time.localtime() and time.gmtime() returns the current time in the time tuple format.\n",
    "    \n",
    "    \n",
    "tt  = time.localtime()   # returns the time in local time zone\n",
    "tt2 = time.gmtime()      # returns time the Greenwich Mean Time time zone\n",
    "print(\"local time is: \", tt)\n",
    "print(\"Greenwich mean time is: \", tt2)\n",
    "\n",
    "# Note: the Google Colab machine is located in Greenwich Mean Time.  So when you use Colab, time.localtime() and time.gmtime() usually returns the same thing.\n"
   ]
  },
  {
   "cell_type": "markdown",
   "metadata": {
    "colab_type": "text",
    "id": "pzbVmrgbv3oM"
   },
   "source": [
    "### Conversion between time formats"
   ]
  },
  {
   "cell_type": "code",
   "execution_count": 4,
   "metadata": {
    "colab": {
     "base_uri": "https://localhost:8080/",
     "height": 167
    },
    "colab_type": "code",
    "executionInfo": {
     "elapsed": 978,
     "status": "ok",
     "timestamp": 1554531497519,
     "user": {
      "displayName": "ML Lo",
      "photoUrl": "",
      "userId": "11511065297651515564"
     },
     "user_tz": -480
    },
    "id": "XMxqCipmv8qM",
    "outputId": "5a69616b-a8b4-4dd3-90e0-3722a8353f78"
   },
   "outputs": [
    {
     "name": "stdout",
     "output_type": "stream",
     "text": [
      "--- We start from this time string:  2019/4/2 14:36:50\n",
      "              and this time string:  2019-4-2 14:36:50\n",
      "time.struct_time(tm_year=2019, tm_mon=4, tm_mday=2, tm_hour=14, tm_min=36, tm_sec=50, tm_wday=1, tm_yday=92, tm_isdst=-1)\n",
      "time.struct_time(tm_year=2019, tm_mon=4, tm_mday=2, tm_hour=14, tm_min=36, tm_sec=50, tm_wday=1, tm_yday=92, tm_isdst=-1)\n",
      "--- If you do not specify the year in a time string, the system assume it's 1900 ---\n",
      "time.struct_time(tm_year=1900, tm_mon=1, tm_mday=1, tm_hour=14, tm_min=36, tm_sec=50, tm_wday=0, tm_yday=1, tm_isdst=-1)\n",
      "--- We can also start from standard system time string format Tue Sep 24 17:24:48 2019\n",
      "--- Convert time tuple to tick format:  1569317088.0\n",
      "--- Convert tick back to time string again, and print it out:  Tue Sep 24 17:24:48 2019\n"
     ]
    }
   ],
   "source": [
    "# Convert cycle: time string --> time tuple --> tick --> time string\n",
    "import time\n",
    "\n",
    "\n",
    "# 0. Define some time strings\n",
    "timestring1 = \"2019/4/2 14:36:50\"\n",
    "timestring2 = \"2019-4-2 14:36:50\"\n",
    "timestring3 = \"14:36:50\"\n",
    "print(\"--- We start from this time string: \", timestring1)\n",
    "print(\"              and this time string: \", timestring2)\n",
    "\n",
    "# 1. From time strings to time tuple\n",
    "ttuple1 = time.strptime( timestring1, \"%Y/%m/%d %H:%M:%S\")\n",
    "ttuple2 = time.strptime( timestring2, \"%Y-%m-%d %H:%M:%S\")\n",
    "ttuple3 = time.strptime( timestring3, \"%H:%M:%S\")\n",
    "print(ttuple1)\n",
    "print(ttuple2)\n",
    "print(\"--- If you do not specify the year in a time string, the system assume it's 1900 ---\")\n",
    "print(ttuple3)\n",
    "\n",
    "# Or, you can convert from standard system time string to time tuple\n",
    "standardstring = time.ctime()\n",
    "print(\"--- We can also start from standard system time string format\", standardstring)\n",
    "standardttuple = time.strptime( standardstring, \"%c\")\n",
    "\n",
    "# 2. From time tuple to tick format\n",
    "tick1 = time.mktime(standardttuple)\n",
    "print(\"--- Convert time tuple to tick format: \", tick1)\n",
    "\n",
    "\n",
    "# 3. From tick format to time string again, to verify the cycle is correct\n",
    "print(\"--- Convert tick back to time string again, and print it out: \", time.ctime(tick1))"
   ]
  },
  {
   "cell_type": "code",
   "execution_count": 0,
   "metadata": {
    "colab": {
     "base_uri": "https://localhost:8080/",
     "height": 84
    },
    "colab_type": "code",
    "executionInfo": {
     "elapsed": 801,
     "status": "ok",
     "timestamp": 1554269299503,
     "user": {
      "displayName": "ML Lo",
      "photoUrl": "",
      "userId": "11511065297651515564"
     },
     "user_tz": -480
    },
    "id": "bdfPINgJ3cXR",
    "outputId": "257361e2-aeb1-4c2b-a22d-ac65ab896347"
   },
   "outputs": [
    {
     "name": "stdout",
     "output_type": "stream",
     "text": [
      "Local time is:  time.struct_time(tm_year=2019, tm_mon=4, tm_mday=3, tm_hour=5, tm_min=28, tm_sec=18, tm_wday=2, tm_yday=93, tm_isdst=0)\n",
      "Greenwich mean time is:  time.struct_time(tm_year=2019, tm_mon=4, tm_mday=3, tm_hour=5, tm_min=28, tm_sec=18, tm_wday=2, tm_yday=93, tm_isdst=0)\n",
      "Standard time string format:  Wed Apr  3 05:28:18 2019\n",
      "Your own time string format:  2019-04-03 05:28:18\n"
     ]
    }
   ],
   "source": [
    "# Reverse cycle: tick --> time tuple --> time string\n",
    "import time\n",
    "\n",
    "# 0. Start by getting the current time\n",
    "tick = time.time()\n",
    "\n",
    "# 1. Convert tick format to time tuple format\n",
    "# If a tick format is supplied as argument to time.localtime() or time.gmtime(), they convert it into time tuples.\n",
    "localtime = time.localtime(tick)\n",
    "gmtime = time.gmtime(tick)\n",
    "print(\"Local time is: \", localtime)\n",
    "print(\"Greenwich mean time is: \", gmtime)\n",
    "\n",
    "# 2. Convert time tuple to time string\n",
    "# Use time.asctime() to convert to standard time string\n",
    "# Use time.strftime() to convert to user-defined string\n",
    "standardstring = time.asctime(localtime)\n",
    "yourstring = time.strftime(\"%Y-%m-%d %H:%M:%S\", localtime)\n",
    "print(\"Standard time string format: \", standardstring)\n",
    "print(\"Your own time string format: \", yourstring)"
   ]
  },
  {
   "cell_type": "code",
   "execution_count": 0,
   "metadata": {
    "colab": {},
    "colab_type": "code",
    "id": "ATxOLWwcxoof"
   },
   "outputs": [],
   "source": [
    "\n"
   ]
  },
  {
   "cell_type": "markdown",
   "metadata": {
    "colab_type": "text",
    "id": "ogoc_gAkmBt_"
   },
   "source": [
    "### Time manipulation"
   ]
  },
  {
   "cell_type": "code",
   "execution_count": 5,
   "metadata": {
    "colab": {
     "base_uri": "https://localhost:8080/",
     "height": 84
    },
    "colab_type": "code",
    "executionInfo": {
     "elapsed": 2759,
     "status": "ok",
     "timestamp": 1554529640290,
     "user": {
      "displayName": "ML Lo",
      "photoUrl": "",
      "userId": "11511065297651515564"
     },
     "user_tz": -480
    },
    "id": "11kg5HW50oqR",
    "outputId": "6615aa20-a9d3-4356-aa8b-40cfc9ff64e8"
   },
   "outputs": [
    {
     "name": "stdout",
     "output_type": "stream",
     "text": [
      "1569317095.4982915\n",
      "Delay for w seconds: \n",
      "1569317097.498411\n",
      "119.736059383 119.736277822 0.00021843900000817484\n"
     ]
    },
    {
     "name": "stderr",
     "output_type": "stream",
     "text": [
      "G:\\Anaconda\\lib\\site-packages\\ipykernel_launcher.py:12: DeprecationWarning: time.clock has been deprecated in Python 3.3 and will be removed from Python 3.8: use time.perf_counter or time.process_time instead\n",
      "  if sys.path[0] == '':\n",
      "G:\\Anaconda\\lib\\site-packages\\ipykernel_launcher.py:13: DeprecationWarning: time.clock has been deprecated in Python 3.3 and will be removed from Python 3.8: use time.perf_counter or time.process_time instead\n",
      "  del sys.path[0]\n"
     ]
    }
   ],
   "source": [
    "import time\n",
    "\n",
    "# Delay time\n",
    "print(time.time())\n",
    "time.sleep(2)\n",
    "print(\"Delay for w seconds: \")\n",
    "print(time.time())\n",
    "\n",
    "# Get time down to micro seconds\n",
    "# time.clock() returns the number of seconds since your system started.\n",
    "# It is mainly used to measure time differences.\n",
    "t1 = time.clock()\n",
    "t2 = time.clock()\n",
    "print(t1, t2, t2-t1)"
   ]
  },
  {
   "cell_type": "code",
   "execution_count": 0,
   "metadata": {
    "colab": {
     "base_uri": "https://localhost:8080/",
     "height": 100
    },
    "colab_type": "code",
    "executionInfo": {
     "elapsed": 919,
     "status": "ok",
     "timestamp": 1554530115840,
     "user": {
      "displayName": "ML Lo",
      "photoUrl": "",
      "userId": "11511065297651515564"
     },
     "user_tz": -480
    },
    "id": "tKPiyrWxMvOI",
    "outputId": "3fa1e9b9-42b7-4b7b-8300-bee3699a6f06"
   },
   "outputs": [
    {
     "name": "stdout",
     "output_type": "stream",
     "text": [
      "Year:  2019\n",
      "Month:  4\n",
      "Day:  6\n",
      "How many days has passed in this year:  96\n",
      "time.struct_time(tm_year=2019, tm_mon=4, tm_mday=6, tm_hour=5, tm_min=55, tm_sec=15, tm_wday=5, tm_yday=96, tm_isdst=0)\n"
     ]
    }
   ],
   "source": [
    "# Use of time tuple\n",
    "localtt = time.localtime()\n",
    "\n",
    "print(\"Year: \", localtt[0])\n",
    "print(\"Month: \", localtt[1])\n",
    "print(\"Day: \", time.localtime()[2])   # you can put tuple indexing directly after the call\n",
    "\n",
    "print(\"How many days has passed in this year: \", localtt[7])\n",
    "\n",
    "print(localtt)"
   ]
  },
  {
   "cell_type": "markdown",
   "metadata": {
    "colab_type": "text",
    "id": "1MHlQ_8oP5Xe"
   },
   "source": [
    "### More about time string format\n",
    "    Commonly used format codes:\n",
    "\n",
    "    %Y  Year with century as a decimal number.\n",
    "    %m  Month as a decimal number [01,12].\n",
    "    %d  Day of the month as a decimal number [01,31].\n",
    "    %H  Hour (24-hour clock) as a decimal number [00,23].\n",
    "    %M  Minute as a decimal number [00,59].\n",
    "    %S  Second as a decimal number [00,61].\n",
    "    %z  Time zone offset from UTC.\n",
    "    %a  Locale's abbreviated weekday name.\n",
    "    %A  Locale's full weekday name.\n",
    "    %b  Locale's abbreviated month name.\n",
    "    %B  Locale's full month name.\n",
    "    %c  Locale's appropriate date and time representation.\n",
    "    %I  Hour (12-hour clock) as a decimal number [01,12].\n",
    "    %p  Locale's equivalent of either AM or PM.\n",
    "    \n",
    "    \n",
    "Used by \n",
    "* time.strptime(timestring, format)\n",
    "* time.strftime(format, timestring)\n",
    "\n"
   ]
  },
  {
   "cell_type": "code",
   "execution_count": 6,
   "metadata": {
    "colab": {
     "base_uri": "https://localhost:8080/",
     "height": 50
    },
    "colab_type": "code",
    "executionInfo": {
     "elapsed": 922,
     "status": "ok",
     "timestamp": 1554530902135,
     "user": {
      "displayName": "ML Lo",
      "photoUrl": "",
      "userId": "11511065297651515564"
     },
     "user_tz": -480
    },
    "id": "E9nJauH0Qj1c",
    "outputId": "cefbc1e8-b31c-4f92-c7d4-5fb5f2075107"
   },
   "outputs": [
    {
     "name": "stdout",
     "output_type": "stream",
     "text": [
      "Tue Sep 24 17:25:08 2019\n",
      "time.struct_time(tm_year=2019, tm_mon=9, tm_mday=24, tm_hour=17, tm_min=25, tm_sec=8, tm_wday=1, tm_yday=267, tm_isdst=-1)\n"
     ]
    }
   ],
   "source": [
    "print(time.ctime())\n",
    "\n",
    "print( time.strptime(time.ctime(), \"%c\"))\n",
    "\n"
   ]
  },
  {
   "cell_type": "markdown",
   "metadata": {
    "colab_type": "text",
    "id": "trTYQFISTn7-"
   },
   "source": [
    "## Datetime class\n",
    "\n",
    "Another class to manipulate date and time\n",
    "Datetime support fine time granularity"
   ]
  },
  {
   "cell_type": "code",
   "execution_count": 7,
   "metadata": {
    "colab": {},
    "colab_type": "code",
    "id": "jBDGze8iTzwr"
   },
   "outputs": [],
   "source": [
    "#\n",
    "import datetime\n"
   ]
  },
  {
   "cell_type": "code",
   "execution_count": null,
   "metadata": {},
   "outputs": [],
   "source": []
  }
 ],
 "metadata": {
  "colab": {
   "name": "PythonBasics_time_date.ipynb",
   "provenance": [],
   "version": "0.3.2"
  },
  "kernelspec": {
   "display_name": "Python 3",
   "language": "python",
   "name": "python3"
  },
  "language_info": {
   "codemirror_mode": {
    "name": "ipython",
    "version": 3
   },
   "file_extension": ".py",
   "mimetype": "text/x-python",
   "name": "python",
   "nbconvert_exporter": "python",
   "pygments_lexer": "ipython3",
   "version": "3.7.3"
  }
 },
 "nbformat": 4,
 "nbformat_minor": 1
}
