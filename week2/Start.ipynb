{
 "cells": [
  {
   "cell_type": "markdown",
   "metadata": {
    "colab_type": "text",
    "id": "T5rhKjtTlWo5"
   },
   "source": [
    "# Getting Started with Python\n",
    "## Python history\n",
    "Invented by **Guido van Rossum**\n",
    "\n",
    "\n",
    "## Python basic concepts\n",
    "\n",
    "* Interpretive language\n",
    "* Is really an object-oriented language\n",
    "* Powerful, flexible, extensible\n",
    "* A lot of tools, API, libraries\n",
    "* Can be connected with C language\n",
    "\n",
    "\n",
    "## Python installation\n",
    "* Go to https://www.python.org\n",
    "* Select \"Download\"\n",
    "* Select Python 3.5 or Python 3.7 (If you will work TensorFlow, we suggest you select Python 3.5 at this time (2019.3))\n",
    "*   Remember to check \"Add python 3.X to PATH\"\n",
    "*   Press \"Install now\"\n",
    "* Wait for installation to be successful\n",
    "\n",
    "Check you are successful by typing \"pip -V\" at command prompt (CMD)"
   ]
  },
  {
   "cell_type": "markdown",
   "metadata": {
    "colab_type": "text",
    "id": "2_yQM3pGnlzL"
   },
   "source": [
    "## Starting up Python\n",
    "\n",
    "### Method 1: Python command prompt \n",
    "\n",
    "1. Starting up CMD (��见��: �𦶢隞斗�鞟內鞈���)\n",
    "2. At command prompt, type \"Python\", you can start typing python commands\n",
    "3. Exit Python by typing \"exit()\" or \"quit()\"\n",
    "\n",
    "\n",
    "### Method 2: Python GUI\n",
    "The name of Python GUI program is IDLE\n",
    "1. Press the Windows start menu\n",
    "\n",
    "\n",
    "### Google Colab\n",
    "[Add information here]\n",
    "\n"
   ]
  },
  {
   "cell_type": "markdown",
   "metadata": {
    "colab_type": "text",
    "id": "PNq35ovzt3N4"
   },
   "source": [
    "## Start using Python\n",
    "\n",
    "Use python in interpreter model:\n",
    "\n",
    "Start the Python shell, or Python shell GUI (such as IDLE), type the simplest command.\n",
    "Or you can use python in notebook software such as Google Colab. \n",
    "\n"
   ]
  },
  {
   "cell_type": "code",
   "execution_count": 1,
   "metadata": {
    "colab": {
     "base_uri": "https://localhost:8080/",
     "height": 34
    },
    "colab_type": "code",
    "executionInfo": {
     "elapsed": 2540,
     "status": "ok",
     "timestamp": 1568770803886,
     "user": {
      "displayName": "ML Lo",
      "photoUrl": "",
      "userId": "11511065297651515564"
     },
     "user_tz": -480
    },
    "id": "PmBkigWbuwla",
    "outputId": "09446e40-7802-4293-a927-87ba34217ab1"
   },
   "outputs": [
    {
     "name": "stdout",
     "output_type": "stream",
     "text": [
      "Hello, world!\n"
     ]
    }
   ],
   "source": [
    "print(\"Hello, world!\")"
   ]
  },
  {
   "cell_type": "markdown",
   "metadata": {
    "colab_type": "text",
    "id": "bVv-ydGplS57"
   },
   "source": [
    "#Python Basics 1 - the Fundamentals\n",
    "\n",
    "## Basic math\n",
    "\n",
    "You can use Python as a calculator!\n",
    "\n",
    "**Start a Python shell, and try the following:**\n",
    "\n",
    "3+5\n",
    "\n",
    "862 - 238\n",
    "\n",
    "123/3 (floating point division)\n",
    "\n",
    "124/3 (floating point division)\n",
    "\n",
    "124%3 (integer division, remainder)\n",
    "\n",
    "124//3 (integer division, quotient)\n",
    "\n",
    "\n",
    "**Using variables**\n",
    "Use variables directly, no need to declare variables first, or to declare the type of the variables\n",
    "\n",
    "x = 3\n",
    "\n",
    "y = 4\n",
    "\n",
    "x + y\n",
    "\n",
    "If you run this in a program, you have to write\n",
    "\n",
    "x = 3\n",
    "\n",
    "y = 4\n",
    "\n",
    "print(x+y)\n",
    "\n",
    "You can re-use a variable for value of different types\n",
    "\n",
    "x = 3\n",
    "x = 3.5\n",
    "\n",
    "### There are built-in functions\n",
    "\n",
    "**For example round(), abs()**\n",
    "\n",
    "round(3.14)\n",
    "\n",
    "round (3.44)\n",
    "\n",
    "round(3.54)\n",
    "\n",
    "round(3.64)\n",
    "\n",
    "abs(-3.14)\n",
    "\n",
    "\n",
    "\n",
    "\n",
    "\n",
    "\n",
    "\n",
    "\n"
   ]
  },
  {
   "cell_type": "markdown",
   "metadata": {
    "colab_type": "text",
    "id": "wtQo2DxDxiTC"
   },
   "source": [
    "## Strings in Python"
   ]
  },
  {
   "cell_type": "code",
   "execution_count": 3,
   "metadata": {
    "colab": {
     "base_uri": "https://localhost:8080/",
     "height": 86
    },
    "colab_type": "code",
    "executionInfo": {
     "elapsed": 849,
     "status": "ok",
     "timestamp": 1568770999706,
     "user": {
      "displayName": "ML Lo",
      "photoUrl": "",
      "userId": "11511065297651515564"
     },
     "user_tz": -480
    },
    "id": "fri1Wz15xx6P",
    "outputId": "f507ae4b-5492-46f0-a1bf-ae5b603d2b31"
   },
   "outputs": [
    {
     "name": "stdout",
     "output_type": "stream",
     "text": [
      "hello \n",
      "world!\n",
      "hello world!\n",
      "hello hello hello \n"
     ]
    }
   ],
   "source": [
    "x = \"hello \"\n",
    "\n",
    "y = \"world!\"\n",
    "\n",
    "print(x)\n",
    "print(y)\n",
    "print(x + y)\n",
    "print(x*3)"
   ]
  },
  {
   "cell_type": "markdown",
   "metadata": {
    "colab_type": "text",
    "id": "xOt-osw4fNzP"
   },
   "source": [
    "## Type conversion\n",
    "\n",
    "You can change the type of a variable by casting it dynamically\n",
    "\n",
    "x = 3.1\n",
    "\n",
    "int(x): cast x to integer\n",
    "\n",
    "y = 4\n",
    "\n",
    "float(y): cast integer y to floating point\n",
    "\n",
    "z = \"6.7\"\n",
    "\n",
    "float(z): cast string z to a floating point number\n"
   ]
  },
  {
   "cell_type": "code",
   "execution_count": 4,
   "metadata": {
    "colab": {
     "base_uri": "https://localhost:8080/",
     "height": 34
    },
    "colab_type": "code",
    "executionInfo": {
     "elapsed": 926,
     "status": "ok",
     "timestamp": 1568771048616,
     "user": {
      "displayName": "ML Lo",
      "photoUrl": "",
      "userId": "11511065297651515564"
     },
     "user_tz": -480
    },
    "id": "z8Jvvz3f3nD0",
    "outputId": "28205a76-ef44-41ee-a4a7-4256e4cb3965"
   },
   "outputs": [
    {
     "name": "stdout",
     "output_type": "stream",
     "text": [
      "x+y =  Hello 6.7\n"
     ]
    }
   ],
   "source": [
    "x = \"Hello \"  # x is a string\n",
    "y = \"6.7\"     # y is a string\n",
    "z = 3.3       # z is a string\n",
    "\n",
    "# add two string together is OK\n",
    "print(\"x+y = \", x+y)\n"
   ]
  },
  {
   "cell_type": "code",
   "execution_count": 5,
   "metadata": {
    "colab": {
     "base_uri": "https://localhost:8080/",
     "height": 166
    },
    "colab_type": "code",
    "executionInfo": {
     "elapsed": 925,
     "status": "error",
     "timestamp": 1568771059137,
     "user": {
      "displayName": "ML Lo",
      "photoUrl": "",
      "userId": "11511065297651515564"
     },
     "user_tz": -480
    },
    "id": "9k2UpuOT07zx",
    "outputId": "e06d6c08-ef61-462f-a668-64ba3cd6762a"
   },
   "outputs": [
    {
     "ename": "TypeError",
     "evalue": "ignored",
     "output_type": "error",
     "traceback": [
      "\u001b[0;31m---------------------------------------------------------------------------\u001b[0m",
      "\u001b[0;31mTypeError\u001b[0m                                 Traceback (most recent call last)",
      "\u001b[0;32m<ipython-input-5-12167c3a35b8>\u001b[0m in \u001b[0;36m<module>\u001b[0;34m()\u001b[0m\n\u001b[0;32m----> 1\u001b[0;31m \u001b[0mprint\u001b[0m\u001b[0;34m(\u001b[0m\u001b[0;34m\"y+z = \"\u001b[0m\u001b[0;34m,\u001b[0m \u001b[0my\u001b[0m\u001b[0;34m+\u001b[0m\u001b[0mz\u001b[0m\u001b[0;34m)\u001b[0m\u001b[0;34m\u001b[0m\u001b[0;34m\u001b[0m\u001b[0m\n\u001b[0m",
      "\u001b[0;31mTypeError\u001b[0m: must be str, not float"
     ]
    }
   ],
   "source": [
    "# adding a string and a number directly will cause a type error\n",
    "print(\"y+z = \", y+z)"
   ]
  },
  {
   "cell_type": "code",
   "execution_count": 6,
   "metadata": {
    "colab": {
     "base_uri": "https://localhost:8080/",
     "height": 34
    },
    "colab_type": "code",
    "executionInfo": {
     "elapsed": 1291,
     "status": "ok",
     "timestamp": 1568771111780,
     "user": {
      "displayName": "ML Lo",
      "photoUrl": "",
      "userId": "11511065297651515564"
     },
     "user_tz": -480
    },
    "id": "EeLaHJV04Kcp",
    "outputId": "aa023c9d-857a-44fd-a041-5a9744406725"
   },
   "outputs": [
    {
     "name": "stdout",
     "output_type": "stream",
     "text": [
      "float(y)+z =  10.0\n"
     ]
    }
   ],
   "source": [
    "# After type-cast y to a floating point number, it will be OK \n",
    "print(\"float(y)+z = \", float(y)+z)"
   ]
  },
  {
   "cell_type": "markdown",
   "metadata": {
    "colab_type": "text",
    "id": "VzQmzm0dPQR9"
   },
   "source": [
    "## Get help in Python\n",
    "\n",
    "help() and dir()\n",
    "\n",
    "Try them!"
   ]
  },
  {
   "cell_type": "code",
   "execution_count": 1,
   "metadata": {
    "colab": {},
    "colab_type": "code",
    "id": "6ljejW7a1sIc"
   },
   "outputs": [
    {
     "data": {
      "text/plain": [
       "['__abs__',\n",
       " '__add__',\n",
       " '__bool__',\n",
       " '__class__',\n",
       " '__delattr__',\n",
       " '__dir__',\n",
       " '__divmod__',\n",
       " '__doc__',\n",
       " '__eq__',\n",
       " '__float__',\n",
       " '__floordiv__',\n",
       " '__format__',\n",
       " '__ge__',\n",
       " '__getattribute__',\n",
       " '__getformat__',\n",
       " '__getnewargs__',\n",
       " '__gt__',\n",
       " '__hash__',\n",
       " '__init__',\n",
       " '__init_subclass__',\n",
       " '__int__',\n",
       " '__le__',\n",
       " '__lt__',\n",
       " '__mod__',\n",
       " '__mul__',\n",
       " '__ne__',\n",
       " '__neg__',\n",
       " '__new__',\n",
       " '__pos__',\n",
       " '__pow__',\n",
       " '__radd__',\n",
       " '__rdivmod__',\n",
       " '__reduce__',\n",
       " '__reduce_ex__',\n",
       " '__repr__',\n",
       " '__rfloordiv__',\n",
       " '__rmod__',\n",
       " '__rmul__',\n",
       " '__round__',\n",
       " '__rpow__',\n",
       " '__rsub__',\n",
       " '__rtruediv__',\n",
       " '__set_format__',\n",
       " '__setattr__',\n",
       " '__sizeof__',\n",
       " '__str__',\n",
       " '__sub__',\n",
       " '__subclasshook__',\n",
       " '__truediv__',\n",
       " '__trunc__',\n",
       " 'as_integer_ratio',\n",
       " 'conjugate',\n",
       " 'fromhex',\n",
       " 'hex',\n",
       " 'imag',\n",
       " 'is_integer',\n",
       " 'real']"
      ]
     },
     "execution_count": 1,
     "metadata": {},
     "output_type": "execute_result"
    }
   ],
   "source": [
    "x = 4.2\n",
    "dir(x)"
   ]
  },
  {
   "cell_type": "code",
   "execution_count": 8,
   "metadata": {
    "colab": {
     "base_uri": "https://localhost:8080/",
     "height": 1000
    },
    "colab_type": "code",
    "executionInfo": {
     "elapsed": 1125,
     "status": "ok",
     "timestamp": 1568771192702,
     "user": {
      "displayName": "ML Lo",
      "photoUrl": "",
      "userId": "11511065297651515564"
     },
     "user_tz": -480
    },
    "id": "XIJwvyHC2H6T",
    "outputId": "57dfaddd-26e1-4104-a9bf-d9cf499d6236"
   },
   "outputs": [
    {
     "name": "stdout",
     "output_type": "stream",
     "text": [
      "Help on float object:\n",
      "\n",
      "class float(object)\n",
      " |  float(x) -> floating point number\n",
      " |  \n",
      " |  Convert a string or number to a floating point number, if possible.\n",
      " |  \n",
      " |  Methods defined here:\n",
      " |  \n",
      " |  __abs__(self, /)\n",
      " |      abs(self)\n",
      " |  \n",
      " |  __add__(self, value, /)\n",
      " |      Return self+value.\n",
      " |  \n",
      " |  __bool__(self, /)\n",
      " |      self != 0\n",
      " |  \n",
      " |  __divmod__(self, value, /)\n",
      " |      Return divmod(self, value).\n",
      " |  \n",
      " |  __eq__(self, value, /)\n",
      " |      Return self==value.\n",
      " |  \n",
      " |  __float__(self, /)\n",
      " |      float(self)\n",
      " |  \n",
      " |  __floordiv__(self, value, /)\n",
      " |      Return self//value.\n",
      " |  \n",
      " |  __format__(...)\n",
      " |      float.__format__(format_spec) -> string\n",
      " |      \n",
      " |      Formats the float according to format_spec.\n",
      " |  \n",
      " |  __ge__(self, value, /)\n",
      " |      Return self>=value.\n",
      " |  \n",
      " |  __getattribute__(self, name, /)\n",
      " |      Return getattr(self, name).\n",
      " |  \n",
      " |  __getformat__(...) from builtins.type\n",
      " |      float.__getformat__(typestr) -> string\n",
      " |      \n",
      " |      You probably don't want to use this function.  It exists mainly to be\n",
      " |      used in Python's test suite.\n",
      " |      \n",
      " |      typestr must be 'double' or 'float'.  This function returns whichever of\n",
      " |      'unknown', 'IEEE, big-endian' or 'IEEE, little-endian' best describes the\n",
      " |      format of floating point numbers used by the C type named by typestr.\n",
      " |  \n",
      " |  __getnewargs__(...)\n",
      " |  \n",
      " |  __gt__(self, value, /)\n",
      " |      Return self>value.\n",
      " |  \n",
      " |  __hash__(self, /)\n",
      " |      Return hash(self).\n",
      " |  \n",
      " |  __int__(self, /)\n",
      " |      int(self)\n",
      " |  \n",
      " |  __le__(self, value, /)\n",
      " |      Return self<=value.\n",
      " |  \n",
      " |  __lt__(self, value, /)\n",
      " |      Return self<value.\n",
      " |  \n",
      " |  __mod__(self, value, /)\n",
      " |      Return self%value.\n",
      " |  \n",
      " |  __mul__(self, value, /)\n",
      " |      Return self*value.\n",
      " |  \n",
      " |  __ne__(self, value, /)\n",
      " |      Return self!=value.\n",
      " |  \n",
      " |  __neg__(self, /)\n",
      " |      -self\n",
      " |  \n",
      " |  __new__(*args, **kwargs) from builtins.type\n",
      " |      Create and return a new object.  See help(type) for accurate signature.\n",
      " |  \n",
      " |  __pos__(self, /)\n",
      " |      +self\n",
      " |  \n",
      " |  __pow__(self, value, mod=None, /)\n",
      " |      Return pow(self, value, mod).\n",
      " |  \n",
      " |  __radd__(self, value, /)\n",
      " |      Return value+self.\n",
      " |  \n",
      " |  __rdivmod__(self, value, /)\n",
      " |      Return divmod(value, self).\n",
      " |  \n",
      " |  __repr__(self, /)\n",
      " |      Return repr(self).\n",
      " |  \n",
      " |  __rfloordiv__(self, value, /)\n",
      " |      Return value//self.\n",
      " |  \n",
      " |  __rmod__(self, value, /)\n",
      " |      Return value%self.\n",
      " |  \n",
      " |  __rmul__(self, value, /)\n",
      " |      Return value*self.\n",
      " |  \n",
      " |  __round__(...)\n",
      " |      Return the Integral closest to x, rounding half toward even.\n",
      " |      When an argument is passed, work like built-in round(x, ndigits).\n",
      " |  \n",
      " |  __rpow__(self, value, mod=None, /)\n",
      " |      Return pow(value, self, mod).\n",
      " |  \n",
      " |  __rsub__(self, value, /)\n",
      " |      Return value-self.\n",
      " |  \n",
      " |  __rtruediv__(self, value, /)\n",
      " |      Return value/self.\n",
      " |  \n",
      " |  __setformat__(...) from builtins.type\n",
      " |      float.__setformat__(typestr, fmt) -> None\n",
      " |      \n",
      " |      You probably don't want to use this function.  It exists mainly to be\n",
      " |      used in Python's test suite.\n",
      " |      \n",
      " |      typestr must be 'double' or 'float'.  fmt must be one of 'unknown',\n",
      " |      'IEEE, big-endian' or 'IEEE, little-endian', and in addition can only be\n",
      " |      one of the latter two if it appears to match the underlying C reality.\n",
      " |      \n",
      " |      Override the automatic determination of C-level floating point type.\n",
      " |      This affects how floats are converted to and from binary strings.\n",
      " |  \n",
      " |  __str__(self, /)\n",
      " |      Return str(self).\n",
      " |  \n",
      " |  __sub__(self, value, /)\n",
      " |      Return self-value.\n",
      " |  \n",
      " |  __truediv__(self, value, /)\n",
      " |      Return self/value.\n",
      " |  \n",
      " |  __trunc__(...)\n",
      " |      Return the Integral closest to x between 0 and x.\n",
      " |  \n",
      " |  as_integer_ratio(...)\n",
      " |      float.as_integer_ratio() -> (int, int)\n",
      " |      \n",
      " |      Return a pair of integers, whose ratio is exactly equal to the original\n",
      " |      float and with a positive denominator.\n",
      " |      Raise OverflowError on infinities and a ValueError on NaNs.\n",
      " |      \n",
      " |      >>> (10.0).as_integer_ratio()\n",
      " |      (10, 1)\n",
      " |      >>> (0.0).as_integer_ratio()\n",
      " |      (0, 1)\n",
      " |      >>> (-.25).as_integer_ratio()\n",
      " |      (-1, 4)\n",
      " |  \n",
      " |  conjugate(...)\n",
      " |      Return self, the complex conjugate of any float.\n",
      " |  \n",
      " |  fromhex(...) from builtins.type\n",
      " |      float.fromhex(string) -> float\n",
      " |      \n",
      " |      Create a floating-point number from a hexadecimal string.\n",
      " |      >>> float.fromhex('0x1.ffffp10')\n",
      " |      2047.984375\n",
      " |      >>> float.fromhex('-0x1p-1074')\n",
      " |      -5e-324\n",
      " |  \n",
      " |  hex(...)\n",
      " |      float.hex() -> string\n",
      " |      \n",
      " |      Return a hexadecimal representation of a floating-point number.\n",
      " |      >>> (-0.1).hex()\n",
      " |      '-0x1.999999999999ap-4'\n",
      " |      >>> 3.14159.hex()\n",
      " |      '0x1.921f9f01b866ep+1'\n",
      " |  \n",
      " |  is_integer(...)\n",
      " |      Return True if the float is an integer.\n",
      " |  \n",
      " |  ----------------------------------------------------------------------\n",
      " |  Data descriptors defined here:\n",
      " |  \n",
      " |  imag\n",
      " |      the imaginary part of a complex number\n",
      " |  \n",
      " |  real\n",
      " |      the real part of a complex number\n",
      "\n"
     ]
    }
   ],
   "source": [
    "help(x)"
   ]
  },
  {
   "cell_type": "markdown",
   "metadata": {
    "colab_type": "text",
    "id": "56mAIfti3paj"
   },
   "source": [
    "## Import libraries\n",
    "\n",
    "As an example, let's import a library package called \"random\" by using the **import** command. Then we use two functions in the library package to generate two random numbers: \n",
    "\n",
    "random.randint()\n",
    "\n",
    "random.randrange()\n"
   ]
  },
  {
   "cell_type": "code",
   "execution_count": 10,
   "metadata": {
    "colab": {
     "base_uri": "https://localhost:8080/",
     "height": 34
    },
    "colab_type": "code",
    "executionInfo": {
     "elapsed": 828,
     "status": "ok",
     "timestamp": 1568771308286,
     "user": {
      "displayName": "ML Lo",
      "photoUrl": "",
      "userId": "11511065297651515564"
     },
     "user_tz": -480
    },
    "id": "CdvKOR8X4j4-",
    "outputId": "f2fdb818-fd5e-4a69-e634-9e3a8d21de91"
   },
   "outputs": [
    {
     "name": "stdout",
     "output_type": "stream",
     "text": [
      "11 130\n"
     ]
    }
   ],
   "source": [
    "import random\n",
    "\n",
    "print(random.randint(0, 99), random.randrange(100, 199, 3))\n"
   ]
  },
  {
   "cell_type": "markdown",
   "metadata": {
    "colab_type": "text",
    "id": "dEPoixFe4pRc"
   },
   "source": [
    "####Exercise:\n",
    "\n",
    "* What's the difference between `random.randint()` and `random.randrange()`?\n",
    "\n",
    "* What other functions are there in the package **random**?\n",
    "\n",
    "Find out using `dir()` and `help()`."
   ]
  },
  {
   "cell_type": "markdown",
   "metadata": {
    "colab_type": "text",
    "id": "IOYo5g4v5NjD"
   },
   "source": [
    "###Another useful library: math\n",
    "\n",
    "Contains many useful mathematica functions\n",
    "\n",
    "floor(), ceil(), sqrt(), abs(), exp(), log(), log10(), log2()\n",
    "\n",
    "sin(), cos(), tan(),\n",
    "\n",
    "min(), max()"
   ]
  },
  {
   "cell_type": "code",
   "execution_count": 11,
   "metadata": {
    "colab": {
     "base_uri": "https://localhost:8080/",
     "height": 69
    },
    "colab_type": "code",
    "executionInfo": {
     "elapsed": 857,
     "status": "ok",
     "timestamp": 1568771362614,
     "user": {
      "displayName": "ML Lo",
      "photoUrl": "",
      "userId": "11511065297651515564"
     },
     "user_tz": -480
    },
    "id": "CM5FgtrC8d_X",
    "outputId": "d00bfb05-2a45-4eaa-8310-d928d3a7eda4"
   },
   "outputs": [
    {
     "name": "stdout",
     "output_type": "stream",
     "text": [
      "1 2 3.0 4.3 5.4739473917272\n",
      "Let's make it look nice!\n",
      "1 2 3 4 5\n"
     ]
    }
   ],
   "source": [
    "import math\n",
    "print(math.floor(1.62), math.ceil(1.38), math.sqrt(9), abs(-4.3), math.exp(1.7))\n",
    "\n",
    "print(\"Let's make it look nice!\")\n",
    "print(math.floor(1.62), math.ceil(1.38), int(math.sqrt(9)), math.floor(abs(-4.3)), round(math.exp(1.7)))"
   ]
  },
  {
   "cell_type": "code",
   "execution_count": 2,
   "metadata": {
    "colab": {},
    "colab_type": "code",
    "id": "-jwR7UmChcjL"
   },
   "outputs": [
    {
     "name": "stdout",
     "output_type": "stream",
     "text": [
      "1.3862943611198906\n",
      "2.302585092994046\n",
      "1.0000066849139877\n",
      "3.0\n",
      "10.0\n"
     ]
    }
   ],
   "source": [
    "import math\n",
    "print( math.log(4))\n",
    "print( math.log(10))\n",
    "print( math.log(2.7183))\n",
    "print( math.log10(1000))\n",
    "print( math.log2(1024))"
   ]
  },
  {
   "cell_type": "code",
   "execution_count": 3,
   "metadata": {
    "colab": {},
    "colab_type": "code",
    "id": "RIZX0L8CiI-J"
   },
   "outputs": [
    {
     "name": "stdout",
     "output_type": "stream",
     "text": [
      "-0.5440211108893698\n",
      "0.9999999999859169\n",
      "0.6483608274590866\n"
     ]
    }
   ],
   "source": [
    "print( math.sin( 10))\n",
    "print( math.cos( 3.14159 * 2))\n",
    "print( math.tan( 10))"
   ]
  },
  {
   "cell_type": "code",
   "execution_count": 4,
   "metadata": {
    "colab": {
     "base_uri": "https://localhost:8080/",
     "height": 67
    },
    "colab_type": "code",
    "executionInfo": {
     "elapsed": 857,
     "status": "ok",
     "timestamp": 1554116210620,
     "user": {
      "displayName": "ML Lo",
      "photoUrl": "",
      "userId": "11511065297651515564"
     },
     "user_tz": -480
    },
    "id": "cS2YscwWim0A",
    "outputId": "9f2ba996-14a2-4066-fb25-1738b94368ee"
   },
   "outputs": [
    {
     "name": "stdout",
     "output_type": "stream",
     "text": [
      "4\n",
      "1009\n",
      "3\n"
     ]
    }
   ],
   "source": [
    "print( max(1, 2, 3, 4))\n",
    "print( max(1, 2, 3, 4, 5, 1009, 36))\n",
    "print( min(3, 6, 9))"
   ]
  },
  {
   "cell_type": "markdown",
   "metadata": {
    "colab_type": "text",
    "id": "2Gy3J2EEjLyu"
   },
   "source": [
    "##Variables\n",
    "\n",
    "* No need to declare variables beforing using\n",
    "* No need to declare the types of variables\n",
    "* Variable can be dynamically assigned to different types\n",
    "* You can find out about the current type of a variable by using the type() function\n",
    "* Variable definition can be deleted using **del** command (variable become undefined)\n"
   ]
  },
  {
   "cell_type": "code",
   "execution_count": 0,
   "metadata": {
    "colab": {
     "base_uri": "https://localhost:8080/",
     "height": 52
    },
    "colab_type": "code",
    "executionInfo": {
     "elapsed": 650,
     "status": "ok",
     "timestamp": 1568450178621,
     "user": {
      "displayName": "ML Lo",
      "photoUrl": "",
      "userId": "11511065297651515564"
     },
     "user_tz": -480
    },
    "id": "IvE8MtRb6fhp",
    "outputId": "da94e901-1db0-45d0-8738-aec64b0118f4"
   },
   "outputs": [
    {
     "name": "stdout",
     "output_type": "stream",
     "text": [
      "3\n",
      "<class 'int'>\n"
     ]
    }
   ],
   "source": [
    "x = 3\n",
    "print(x)\n",
    "print(type(x))"
   ]
  },
  {
   "cell_type": "code",
   "execution_count": 5,
   "metadata": {
    "colab": {},
    "colab_type": "code",
    "id": "XIvS00E2jh1T"
   },
   "outputs": [
    {
     "name": "stdout",
     "output_type": "stream",
     "text": [
      "(1, 2, 3)\n",
      "<class 'tuple'>\n",
      "[1, 2, 3]\n",
      "<class 'list'>\n"
     ]
    }
   ],
   "source": [
    "x = (1,2,3)  # this is a tuple\n",
    "print (x)\n",
    "print(type(x))\n",
    "\n",
    "x = [1, 2, 3]\n",
    "print(x)\n",
    "print(type(x))"
   ]
  },
  {
   "cell_type": "code",
   "execution_count": 6,
   "metadata": {
    "colab": {},
    "colab_type": "code",
    "id": "ypDCosmOj9wM"
   },
   "outputs": [
    {
     "ename": "NameError",
     "evalue": "name 'x' is not defined",
     "output_type": "error",
     "traceback": [
      "\u001b[1;31m---------------------------------------------------------------------------\u001b[0m",
      "\u001b[1;31mNameError\u001b[0m                                 Traceback (most recent call last)",
      "\u001b[1;32m<ipython-input-6-86ee7240cdf8>\u001b[0m in \u001b[0;36m<module>\u001b[1;34m\u001b[0m\n\u001b[0;32m      1\u001b[0m \u001b[1;32mdel\u001b[0m \u001b[0mx\u001b[0m\u001b[1;33m\u001b[0m\u001b[1;33m\u001b[0m\u001b[0m\n\u001b[1;32m----> 2\u001b[1;33m \u001b[0mprint\u001b[0m\u001b[1;33m(\u001b[0m\u001b[0mtype\u001b[0m\u001b[1;33m(\u001b[0m\u001b[0mx\u001b[0m\u001b[1;33m)\u001b[0m\u001b[1;33m)\u001b[0m\u001b[1;33m\u001b[0m\u001b[1;33m\u001b[0m\u001b[0m\n\u001b[0m",
      "\u001b[1;31mNameError\u001b[0m: name 'x' is not defined"
     ]
    }
   ],
   "source": [
    "del x\n",
    "print(type(x))"
   ]
  },
  {
   "cell_type": "markdown",
   "metadata": {
    "colab_type": "text",
    "id": "BF51IfBEkRlW"
   },
   "source": [
    "## Additional  Operations\n"
   ]
  },
  {
   "cell_type": "code",
   "execution_count": 7,
   "metadata": {
    "colab": {
     "base_uri": "https://localhost:8080/",
     "height": 34
    },
    "colab_type": "code",
    "executionInfo": {
     "elapsed": 1138,
     "status": "ok",
     "timestamp": 1568771455580,
     "user": {
      "displayName": "ML Lo",
      "photoUrl": "",
      "userId": "11511065297651515564"
     },
     "user_tz": -480
    },
    "id": "V71v6Xpukxlk",
    "outputId": "33734993-e2ac-4d45-cdbf-46b5e9083257"
   },
   "outputs": [
    {
     "name": "stdout",
     "output_type": "stream",
     "text": [
      "11 9 30 5.0 3 100 10 1\n"
     ]
    }
   ],
   "source": [
    "x, y, z, s, t, u, v, w = 10, 10, 10, 10, 10, 10, 10, 10\n",
    "\n",
    "x += 1     # same as x = x + 1\n",
    "y -= 1     # same as y = y - 1\n",
    "z *= 3     # same as z = z * 3\n",
    "s /= 2\n",
    "t //= 3\n",
    "u **= 2\n",
    "w %= 9\n",
    "\n",
    "print (x, y, z, s, t, u, v, w)"
   ]
  },
  {
   "cell_type": "markdown",
   "metadata": {
    "colab_type": "text",
    "id": "qwRMyZuWmpaN"
   },
   "source": [
    "## Current variable definitions\n",
    "* You can find out about your current variable definitions by using the dir(), globals(), and locals() functions.\n",
    "\n",
    "dir():  returns the names of the current scope\n",
    "\n",
    "globals(): returns (a dictionary containing the current scope's) global variables\n",
    "\n",
    "locals(): return (a dictionary containing the current scope's) local variables"
   ]
  },
  {
   "cell_type": "code",
   "execution_count": 13,
   "metadata": {
    "colab": {
     "base_uri": "https://localhost:8080/",
     "height": 816
    },
    "colab_type": "code",
    "executionInfo": {
     "elapsed": 869,
     "status": "ok",
     "timestamp": 1568771473115,
     "user": {
      "displayName": "ML Lo",
      "photoUrl": "",
      "userId": "11511065297651515564"
     },
     "user_tz": -480
    },
    "id": "sPfP1oSc7lus",
    "outputId": "43767bdd-bdb1-4d7c-ad00-af4c9cef4bf6"
   },
   "outputs": [
    {
     "data": {
      "text/plain": [
       "['In',\n",
       " 'Out',\n",
       " '_',\n",
       " '_7',\n",
       " '__',\n",
       " '___',\n",
       " '__builtin__',\n",
       " '__builtins__',\n",
       " '__doc__',\n",
       " '__loader__',\n",
       " '__name__',\n",
       " '__package__',\n",
       " '__spec__',\n",
       " '_dh',\n",
       " '_i',\n",
       " '_i1',\n",
       " '_i10',\n",
       " '_i11',\n",
       " '_i12',\n",
       " '_i13',\n",
       " '_i2',\n",
       " '_i3',\n",
       " '_i4',\n",
       " '_i5',\n",
       " '_i6',\n",
       " '_i7',\n",
       " '_i8',\n",
       " '_i9',\n",
       " '_ih',\n",
       " '_ii',\n",
       " '_iii',\n",
       " '_oh',\n",
       " '_sh',\n",
       " 'exit',\n",
       " 'get_ipython',\n",
       " 'math',\n",
       " 'quit',\n",
       " 'random',\n",
       " 's',\n",
       " 't',\n",
       " 'u',\n",
       " 'v',\n",
       " 'w',\n",
       " 'x',\n",
       " 'y',\n",
       " 'z']"
      ]
     },
     "execution_count": 13,
     "metadata": {
      "tags": []
     },
     "output_type": "execute_result"
    }
   ],
   "source": [
    "dir()"
   ]
  },
  {
   "cell_type": "code",
   "execution_count": 8,
   "metadata": {
    "colab": {},
    "colab_type": "code",
    "id": "3oZMNQhE7m5t"
   },
   "outputs": [
    {
     "data": {
      "text/plain": [
       "{'__name__': '__main__',\n",
       " '__doc__': 'Automatically created module for IPython interactive environment',\n",
       " '__package__': None,\n",
       " '__loader__': None,\n",
       " '__spec__': None,\n",
       " '__builtin__': <module 'builtins' (built-in)>,\n",
       " '__builtins__': <module 'builtins' (built-in)>,\n",
       " '_ih': ['',\n",
       "  'x = 4.2\\ndir(x)',\n",
       "  'import math\\nprint( math.log(4))\\nprint( math.log(10))\\nprint( math.log(2.7183))\\nprint( math.log10(1000))\\nprint( math.log2(1024))',\n",
       "  'print( math.sin( 10))\\nprint( math.cos( 3.14159 * 2))\\nprint( math.tan( 10))',\n",
       "  'print( max(1, 2, 3, 4))\\nprint( max(1, 2, 3, 4, 5, 1009, 36))\\nprint( min(3, 6, 9))',\n",
       "  'x = (1,2,3)  # this is a tuple\\nprint (x)\\nprint(type(x))\\n\\nx = [1, 2, 3]\\nprint(x)\\nprint(type(x))',\n",
       "  'del x\\nprint(type(x))',\n",
       "  'x, y, z, s, t, u, v, w = 10, 10, 10, 10, 10, 10, 10, 10\\n\\nx += 1     # same as x = x + 1\\ny -= 1     # same as y = y - 1\\nz *= 3     # same as z = z * 3\\ns /= 2\\nt //= 3\\nu **= 2\\nw %= 9\\n\\nprint (x, y, z, s, t, u, v, w)',\n",
       "  'globals()'],\n",
       " '_oh': {1: ['__abs__',\n",
       "   '__add__',\n",
       "   '__bool__',\n",
       "   '__class__',\n",
       "   '__delattr__',\n",
       "   '__dir__',\n",
       "   '__divmod__',\n",
       "   '__doc__',\n",
       "   '__eq__',\n",
       "   '__float__',\n",
       "   '__floordiv__',\n",
       "   '__format__',\n",
       "   '__ge__',\n",
       "   '__getattribute__',\n",
       "   '__getformat__',\n",
       "   '__getnewargs__',\n",
       "   '__gt__',\n",
       "   '__hash__',\n",
       "   '__init__',\n",
       "   '__init_subclass__',\n",
       "   '__int__',\n",
       "   '__le__',\n",
       "   '__lt__',\n",
       "   '__mod__',\n",
       "   '__mul__',\n",
       "   '__ne__',\n",
       "   '__neg__',\n",
       "   '__new__',\n",
       "   '__pos__',\n",
       "   '__pow__',\n",
       "   '__radd__',\n",
       "   '__rdivmod__',\n",
       "   '__reduce__',\n",
       "   '__reduce_ex__',\n",
       "   '__repr__',\n",
       "   '__rfloordiv__',\n",
       "   '__rmod__',\n",
       "   '__rmul__',\n",
       "   '__round__',\n",
       "   '__rpow__',\n",
       "   '__rsub__',\n",
       "   '__rtruediv__',\n",
       "   '__set_format__',\n",
       "   '__setattr__',\n",
       "   '__sizeof__',\n",
       "   '__str__',\n",
       "   '__sub__',\n",
       "   '__subclasshook__',\n",
       "   '__truediv__',\n",
       "   '__trunc__',\n",
       "   'as_integer_ratio',\n",
       "   'conjugate',\n",
       "   'fromhex',\n",
       "   'hex',\n",
       "   'imag',\n",
       "   'is_integer',\n",
       "   'real']},\n",
       " '_dh': ['C:\\\\Users\\\\cheean yu\\\\Desktop\\\\Data Science'],\n",
       " 'In': ['',\n",
       "  'x = 4.2\\ndir(x)',\n",
       "  'import math\\nprint( math.log(4))\\nprint( math.log(10))\\nprint( math.log(2.7183))\\nprint( math.log10(1000))\\nprint( math.log2(1024))',\n",
       "  'print( math.sin( 10))\\nprint( math.cos( 3.14159 * 2))\\nprint( math.tan( 10))',\n",
       "  'print( max(1, 2, 3, 4))\\nprint( max(1, 2, 3, 4, 5, 1009, 36))\\nprint( min(3, 6, 9))',\n",
       "  'x = (1,2,3)  # this is a tuple\\nprint (x)\\nprint(type(x))\\n\\nx = [1, 2, 3]\\nprint(x)\\nprint(type(x))',\n",
       "  'del x\\nprint(type(x))',\n",
       "  'x, y, z, s, t, u, v, w = 10, 10, 10, 10, 10, 10, 10, 10\\n\\nx += 1     # same as x = x + 1\\ny -= 1     # same as y = y - 1\\nz *= 3     # same as z = z * 3\\ns /= 2\\nt //= 3\\nu **= 2\\nw %= 9\\n\\nprint (x, y, z, s, t, u, v, w)',\n",
       "  'globals()'],\n",
       " 'Out': {1: ['__abs__',\n",
       "   '__add__',\n",
       "   '__bool__',\n",
       "   '__class__',\n",
       "   '__delattr__',\n",
       "   '__dir__',\n",
       "   '__divmod__',\n",
       "   '__doc__',\n",
       "   '__eq__',\n",
       "   '__float__',\n",
       "   '__floordiv__',\n",
       "   '__format__',\n",
       "   '__ge__',\n",
       "   '__getattribute__',\n",
       "   '__getformat__',\n",
       "   '__getnewargs__',\n",
       "   '__gt__',\n",
       "   '__hash__',\n",
       "   '__init__',\n",
       "   '__init_subclass__',\n",
       "   '__int__',\n",
       "   '__le__',\n",
       "   '__lt__',\n",
       "   '__mod__',\n",
       "   '__mul__',\n",
       "   '__ne__',\n",
       "   '__neg__',\n",
       "   '__new__',\n",
       "   '__pos__',\n",
       "   '__pow__',\n",
       "   '__radd__',\n",
       "   '__rdivmod__',\n",
       "   '__reduce__',\n",
       "   '__reduce_ex__',\n",
       "   '__repr__',\n",
       "   '__rfloordiv__',\n",
       "   '__rmod__',\n",
       "   '__rmul__',\n",
       "   '__round__',\n",
       "   '__rpow__',\n",
       "   '__rsub__',\n",
       "   '__rtruediv__',\n",
       "   '__set_format__',\n",
       "   '__setattr__',\n",
       "   '__sizeof__',\n",
       "   '__str__',\n",
       "   '__sub__',\n",
       "   '__subclasshook__',\n",
       "   '__truediv__',\n",
       "   '__trunc__',\n",
       "   'as_integer_ratio',\n",
       "   'conjugate',\n",
       "   'fromhex',\n",
       "   'hex',\n",
       "   'imag',\n",
       "   'is_integer',\n",
       "   'real']},\n",
       " 'get_ipython': <bound method InteractiveShell.get_ipython of <ipykernel.zmqshell.ZMQInteractiveShell object at 0x000001E5AE1C6A90>>,\n",
       " 'exit': <IPython.core.autocall.ZMQExitAutocall at 0x1e5aed29ef0>,\n",
       " 'quit': <IPython.core.autocall.ZMQExitAutocall at 0x1e5aed29ef0>,\n",
       " '_': ['__abs__',\n",
       "  '__add__',\n",
       "  '__bool__',\n",
       "  '__class__',\n",
       "  '__delattr__',\n",
       "  '__dir__',\n",
       "  '__divmod__',\n",
       "  '__doc__',\n",
       "  '__eq__',\n",
       "  '__float__',\n",
       "  '__floordiv__',\n",
       "  '__format__',\n",
       "  '__ge__',\n",
       "  '__getattribute__',\n",
       "  '__getformat__',\n",
       "  '__getnewargs__',\n",
       "  '__gt__',\n",
       "  '__hash__',\n",
       "  '__init__',\n",
       "  '__init_subclass__',\n",
       "  '__int__',\n",
       "  '__le__',\n",
       "  '__lt__',\n",
       "  '__mod__',\n",
       "  '__mul__',\n",
       "  '__ne__',\n",
       "  '__neg__',\n",
       "  '__new__',\n",
       "  '__pos__',\n",
       "  '__pow__',\n",
       "  '__radd__',\n",
       "  '__rdivmod__',\n",
       "  '__reduce__',\n",
       "  '__reduce_ex__',\n",
       "  '__repr__',\n",
       "  '__rfloordiv__',\n",
       "  '__rmod__',\n",
       "  '__rmul__',\n",
       "  '__round__',\n",
       "  '__rpow__',\n",
       "  '__rsub__',\n",
       "  '__rtruediv__',\n",
       "  '__set_format__',\n",
       "  '__setattr__',\n",
       "  '__sizeof__',\n",
       "  '__str__',\n",
       "  '__sub__',\n",
       "  '__subclasshook__',\n",
       "  '__truediv__',\n",
       "  '__trunc__',\n",
       "  'as_integer_ratio',\n",
       "  'conjugate',\n",
       "  'fromhex',\n",
       "  'hex',\n",
       "  'imag',\n",
       "  'is_integer',\n",
       "  'real'],\n",
       " '__': '',\n",
       " '___': '',\n",
       " '_i': 'x, y, z, s, t, u, v, w = 10, 10, 10, 10, 10, 10, 10, 10\\n\\nx += 1     # same as x = x + 1\\ny -= 1     # same as y = y - 1\\nz *= 3     # same as z = z * 3\\ns /= 2\\nt //= 3\\nu **= 2\\nw %= 9\\n\\nprint (x, y, z, s, t, u, v, w)',\n",
       " '_ii': 'del x\\nprint(type(x))',\n",
       " '_iii': 'x = (1,2,3)  # this is a tuple\\nprint (x)\\nprint(type(x))\\n\\nx = [1, 2, 3]\\nprint(x)\\nprint(type(x))',\n",
       " '_i1': 'x = 4.2\\ndir(x)',\n",
       " '_1': ['__abs__',\n",
       "  '__add__',\n",
       "  '__bool__',\n",
       "  '__class__',\n",
       "  '__delattr__',\n",
       "  '__dir__',\n",
       "  '__divmod__',\n",
       "  '__doc__',\n",
       "  '__eq__',\n",
       "  '__float__',\n",
       "  '__floordiv__',\n",
       "  '__format__',\n",
       "  '__ge__',\n",
       "  '__getattribute__',\n",
       "  '__getformat__',\n",
       "  '__getnewargs__',\n",
       "  '__gt__',\n",
       "  '__hash__',\n",
       "  '__init__',\n",
       "  '__init_subclass__',\n",
       "  '__int__',\n",
       "  '__le__',\n",
       "  '__lt__',\n",
       "  '__mod__',\n",
       "  '__mul__',\n",
       "  '__ne__',\n",
       "  '__neg__',\n",
       "  '__new__',\n",
       "  '__pos__',\n",
       "  '__pow__',\n",
       "  '__radd__',\n",
       "  '__rdivmod__',\n",
       "  '__reduce__',\n",
       "  '__reduce_ex__',\n",
       "  '__repr__',\n",
       "  '__rfloordiv__',\n",
       "  '__rmod__',\n",
       "  '__rmul__',\n",
       "  '__round__',\n",
       "  '__rpow__',\n",
       "  '__rsub__',\n",
       "  '__rtruediv__',\n",
       "  '__set_format__',\n",
       "  '__setattr__',\n",
       "  '__sizeof__',\n",
       "  '__str__',\n",
       "  '__sub__',\n",
       "  '__subclasshook__',\n",
       "  '__truediv__',\n",
       "  '__trunc__',\n",
       "  'as_integer_ratio',\n",
       "  'conjugate',\n",
       "  'fromhex',\n",
       "  'hex',\n",
       "  'imag',\n",
       "  'is_integer',\n",
       "  'real'],\n",
       " '_i2': 'import math\\nprint( math.log(4))\\nprint( math.log(10))\\nprint( math.log(2.7183))\\nprint( math.log10(1000))\\nprint( math.log2(1024))',\n",
       " 'math': <module 'math' (built-in)>,\n",
       " '_i3': 'print( math.sin( 10))\\nprint( math.cos( 3.14159 * 2))\\nprint( math.tan( 10))',\n",
       " '_i4': 'print( max(1, 2, 3, 4))\\nprint( max(1, 2, 3, 4, 5, 1009, 36))\\nprint( min(3, 6, 9))',\n",
       " '_i5': 'x = (1,2,3)  # this is a tuple\\nprint (x)\\nprint(type(x))\\n\\nx = [1, 2, 3]\\nprint(x)\\nprint(type(x))',\n",
       " '_i6': 'del x\\nprint(type(x))',\n",
       " '_i7': 'x, y, z, s, t, u, v, w = 10, 10, 10, 10, 10, 10, 10, 10\\n\\nx += 1     # same as x = x + 1\\ny -= 1     # same as y = y - 1\\nz *= 3     # same as z = z * 3\\ns /= 2\\nt //= 3\\nu **= 2\\nw %= 9\\n\\nprint (x, y, z, s, t, u, v, w)',\n",
       " 'x': 11,\n",
       " 'y': 9,\n",
       " 'z': 30,\n",
       " 's': 5.0,\n",
       " 't': 3,\n",
       " 'u': 100,\n",
       " 'v': 10,\n",
       " 'w': 1,\n",
       " '_i8': 'globals()'}"
      ]
     },
     "execution_count": 8,
     "metadata": {},
     "output_type": "execute_result"
    }
   ],
   "source": [
    "globals()"
   ]
  },
  {
   "cell_type": "code",
   "execution_count": 9,
   "metadata": {
    "colab": {},
    "colab_type": "code",
    "id": "kvZukzjcm16J"
   },
   "outputs": [
    {
     "data": {
      "text/plain": [
       "{'__name__': '__main__',\n",
       " '__doc__': 'Automatically created module for IPython interactive environment',\n",
       " '__package__': None,\n",
       " '__loader__': None,\n",
       " '__spec__': None,\n",
       " '__builtin__': <module 'builtins' (built-in)>,\n",
       " '__builtins__': <module 'builtins' (built-in)>,\n",
       " '_ih': ['',\n",
       "  'x = 4.2\\ndir(x)',\n",
       "  'import math\\nprint( math.log(4))\\nprint( math.log(10))\\nprint( math.log(2.7183))\\nprint( math.log10(1000))\\nprint( math.log2(1024))',\n",
       "  'print( math.sin( 10))\\nprint( math.cos( 3.14159 * 2))\\nprint( math.tan( 10))',\n",
       "  'print( max(1, 2, 3, 4))\\nprint( max(1, 2, 3, 4, 5, 1009, 36))\\nprint( min(3, 6, 9))',\n",
       "  'x = (1,2,3)  # this is a tuple\\nprint (x)\\nprint(type(x))\\n\\nx = [1, 2, 3]\\nprint(x)\\nprint(type(x))',\n",
       "  'del x\\nprint(type(x))',\n",
       "  'x, y, z, s, t, u, v, w = 10, 10, 10, 10, 10, 10, 10, 10\\n\\nx += 1     # same as x = x + 1\\ny -= 1     # same as y = y - 1\\nz *= 3     # same as z = z * 3\\ns /= 2\\nt //= 3\\nu **= 2\\nw %= 9\\n\\nprint (x, y, z, s, t, u, v, w)',\n",
       "  'globals()',\n",
       "  'locals()   '],\n",
       " '_oh': {1: ['__abs__',\n",
       "   '__add__',\n",
       "   '__bool__',\n",
       "   '__class__',\n",
       "   '__delattr__',\n",
       "   '__dir__',\n",
       "   '__divmod__',\n",
       "   '__doc__',\n",
       "   '__eq__',\n",
       "   '__float__',\n",
       "   '__floordiv__',\n",
       "   '__format__',\n",
       "   '__ge__',\n",
       "   '__getattribute__',\n",
       "   '__getformat__',\n",
       "   '__getnewargs__',\n",
       "   '__gt__',\n",
       "   '__hash__',\n",
       "   '__init__',\n",
       "   '__init_subclass__',\n",
       "   '__int__',\n",
       "   '__le__',\n",
       "   '__lt__',\n",
       "   '__mod__',\n",
       "   '__mul__',\n",
       "   '__ne__',\n",
       "   '__neg__',\n",
       "   '__new__',\n",
       "   '__pos__',\n",
       "   '__pow__',\n",
       "   '__radd__',\n",
       "   '__rdivmod__',\n",
       "   '__reduce__',\n",
       "   '__reduce_ex__',\n",
       "   '__repr__',\n",
       "   '__rfloordiv__',\n",
       "   '__rmod__',\n",
       "   '__rmul__',\n",
       "   '__round__',\n",
       "   '__rpow__',\n",
       "   '__rsub__',\n",
       "   '__rtruediv__',\n",
       "   '__set_format__',\n",
       "   '__setattr__',\n",
       "   '__sizeof__',\n",
       "   '__str__',\n",
       "   '__sub__',\n",
       "   '__subclasshook__',\n",
       "   '__truediv__',\n",
       "   '__trunc__',\n",
       "   'as_integer_ratio',\n",
       "   'conjugate',\n",
       "   'fromhex',\n",
       "   'hex',\n",
       "   'imag',\n",
       "   'is_integer',\n",
       "   'real'],\n",
       "  8: {...}},\n",
       " '_dh': ['C:\\\\Users\\\\cheean yu\\\\Desktop\\\\Data Science'],\n",
       " 'In': ['',\n",
       "  'x = 4.2\\ndir(x)',\n",
       "  'import math\\nprint( math.log(4))\\nprint( math.log(10))\\nprint( math.log(2.7183))\\nprint( math.log10(1000))\\nprint( math.log2(1024))',\n",
       "  'print( math.sin( 10))\\nprint( math.cos( 3.14159 * 2))\\nprint( math.tan( 10))',\n",
       "  'print( max(1, 2, 3, 4))\\nprint( max(1, 2, 3, 4, 5, 1009, 36))\\nprint( min(3, 6, 9))',\n",
       "  'x = (1,2,3)  # this is a tuple\\nprint (x)\\nprint(type(x))\\n\\nx = [1, 2, 3]\\nprint(x)\\nprint(type(x))',\n",
       "  'del x\\nprint(type(x))',\n",
       "  'x, y, z, s, t, u, v, w = 10, 10, 10, 10, 10, 10, 10, 10\\n\\nx += 1     # same as x = x + 1\\ny -= 1     # same as y = y - 1\\nz *= 3     # same as z = z * 3\\ns /= 2\\nt //= 3\\nu **= 2\\nw %= 9\\n\\nprint (x, y, z, s, t, u, v, w)',\n",
       "  'globals()',\n",
       "  'locals()   '],\n",
       " 'Out': {1: ['__abs__',\n",
       "   '__add__',\n",
       "   '__bool__',\n",
       "   '__class__',\n",
       "   '__delattr__',\n",
       "   '__dir__',\n",
       "   '__divmod__',\n",
       "   '__doc__',\n",
       "   '__eq__',\n",
       "   '__float__',\n",
       "   '__floordiv__',\n",
       "   '__format__',\n",
       "   '__ge__',\n",
       "   '__getattribute__',\n",
       "   '__getformat__',\n",
       "   '__getnewargs__',\n",
       "   '__gt__',\n",
       "   '__hash__',\n",
       "   '__init__',\n",
       "   '__init_subclass__',\n",
       "   '__int__',\n",
       "   '__le__',\n",
       "   '__lt__',\n",
       "   '__mod__',\n",
       "   '__mul__',\n",
       "   '__ne__',\n",
       "   '__neg__',\n",
       "   '__new__',\n",
       "   '__pos__',\n",
       "   '__pow__',\n",
       "   '__radd__',\n",
       "   '__rdivmod__',\n",
       "   '__reduce__',\n",
       "   '__reduce_ex__',\n",
       "   '__repr__',\n",
       "   '__rfloordiv__',\n",
       "   '__rmod__',\n",
       "   '__rmul__',\n",
       "   '__round__',\n",
       "   '__rpow__',\n",
       "   '__rsub__',\n",
       "   '__rtruediv__',\n",
       "   '__set_format__',\n",
       "   '__setattr__',\n",
       "   '__sizeof__',\n",
       "   '__str__',\n",
       "   '__sub__',\n",
       "   '__subclasshook__',\n",
       "   '__truediv__',\n",
       "   '__trunc__',\n",
       "   'as_integer_ratio',\n",
       "   'conjugate',\n",
       "   'fromhex',\n",
       "   'hex',\n",
       "   'imag',\n",
       "   'is_integer',\n",
       "   'real'],\n",
       "  8: {...}},\n",
       " 'get_ipython': <bound method InteractiveShell.get_ipython of <ipykernel.zmqshell.ZMQInteractiveShell object at 0x000001E5AE1C6A90>>,\n",
       " 'exit': <IPython.core.autocall.ZMQExitAutocall at 0x1e5aed29ef0>,\n",
       " 'quit': <IPython.core.autocall.ZMQExitAutocall at 0x1e5aed29ef0>,\n",
       " '_': {...},\n",
       " '__': ['__abs__',\n",
       "  '__add__',\n",
       "  '__bool__',\n",
       "  '__class__',\n",
       "  '__delattr__',\n",
       "  '__dir__',\n",
       "  '__divmod__',\n",
       "  '__doc__',\n",
       "  '__eq__',\n",
       "  '__float__',\n",
       "  '__floordiv__',\n",
       "  '__format__',\n",
       "  '__ge__',\n",
       "  '__getattribute__',\n",
       "  '__getformat__',\n",
       "  '__getnewargs__',\n",
       "  '__gt__',\n",
       "  '__hash__',\n",
       "  '__init__',\n",
       "  '__init_subclass__',\n",
       "  '__int__',\n",
       "  '__le__',\n",
       "  '__lt__',\n",
       "  '__mod__',\n",
       "  '__mul__',\n",
       "  '__ne__',\n",
       "  '__neg__',\n",
       "  '__new__',\n",
       "  '__pos__',\n",
       "  '__pow__',\n",
       "  '__radd__',\n",
       "  '__rdivmod__',\n",
       "  '__reduce__',\n",
       "  '__reduce_ex__',\n",
       "  '__repr__',\n",
       "  '__rfloordiv__',\n",
       "  '__rmod__',\n",
       "  '__rmul__',\n",
       "  '__round__',\n",
       "  '__rpow__',\n",
       "  '__rsub__',\n",
       "  '__rtruediv__',\n",
       "  '__set_format__',\n",
       "  '__setattr__',\n",
       "  '__sizeof__',\n",
       "  '__str__',\n",
       "  '__sub__',\n",
       "  '__subclasshook__',\n",
       "  '__truediv__',\n",
       "  '__trunc__',\n",
       "  'as_integer_ratio',\n",
       "  'conjugate',\n",
       "  'fromhex',\n",
       "  'hex',\n",
       "  'imag',\n",
       "  'is_integer',\n",
       "  'real'],\n",
       " '___': '',\n",
       " '_i': 'globals()',\n",
       " '_ii': 'x, y, z, s, t, u, v, w = 10, 10, 10, 10, 10, 10, 10, 10\\n\\nx += 1     # same as x = x + 1\\ny -= 1     # same as y = y - 1\\nz *= 3     # same as z = z * 3\\ns /= 2\\nt //= 3\\nu **= 2\\nw %= 9\\n\\nprint (x, y, z, s, t, u, v, w)',\n",
       " '_iii': 'del x\\nprint(type(x))',\n",
       " '_i1': 'x = 4.2\\ndir(x)',\n",
       " '_1': ['__abs__',\n",
       "  '__add__',\n",
       "  '__bool__',\n",
       "  '__class__',\n",
       "  '__delattr__',\n",
       "  '__dir__',\n",
       "  '__divmod__',\n",
       "  '__doc__',\n",
       "  '__eq__',\n",
       "  '__float__',\n",
       "  '__floordiv__',\n",
       "  '__format__',\n",
       "  '__ge__',\n",
       "  '__getattribute__',\n",
       "  '__getformat__',\n",
       "  '__getnewargs__',\n",
       "  '__gt__',\n",
       "  '__hash__',\n",
       "  '__init__',\n",
       "  '__init_subclass__',\n",
       "  '__int__',\n",
       "  '__le__',\n",
       "  '__lt__',\n",
       "  '__mod__',\n",
       "  '__mul__',\n",
       "  '__ne__',\n",
       "  '__neg__',\n",
       "  '__new__',\n",
       "  '__pos__',\n",
       "  '__pow__',\n",
       "  '__radd__',\n",
       "  '__rdivmod__',\n",
       "  '__reduce__',\n",
       "  '__reduce_ex__',\n",
       "  '__repr__',\n",
       "  '__rfloordiv__',\n",
       "  '__rmod__',\n",
       "  '__rmul__',\n",
       "  '__round__',\n",
       "  '__rpow__',\n",
       "  '__rsub__',\n",
       "  '__rtruediv__',\n",
       "  '__set_format__',\n",
       "  '__setattr__',\n",
       "  '__sizeof__',\n",
       "  '__str__',\n",
       "  '__sub__',\n",
       "  '__subclasshook__',\n",
       "  '__truediv__',\n",
       "  '__trunc__',\n",
       "  'as_integer_ratio',\n",
       "  'conjugate',\n",
       "  'fromhex',\n",
       "  'hex',\n",
       "  'imag',\n",
       "  'is_integer',\n",
       "  'real'],\n",
       " '_i2': 'import math\\nprint( math.log(4))\\nprint( math.log(10))\\nprint( math.log(2.7183))\\nprint( math.log10(1000))\\nprint( math.log2(1024))',\n",
       " 'math': <module 'math' (built-in)>,\n",
       " '_i3': 'print( math.sin( 10))\\nprint( math.cos( 3.14159 * 2))\\nprint( math.tan( 10))',\n",
       " '_i4': 'print( max(1, 2, 3, 4))\\nprint( max(1, 2, 3, 4, 5, 1009, 36))\\nprint( min(3, 6, 9))',\n",
       " '_i5': 'x = (1,2,3)  # this is a tuple\\nprint (x)\\nprint(type(x))\\n\\nx = [1, 2, 3]\\nprint(x)\\nprint(type(x))',\n",
       " '_i6': 'del x\\nprint(type(x))',\n",
       " '_i7': 'x, y, z, s, t, u, v, w = 10, 10, 10, 10, 10, 10, 10, 10\\n\\nx += 1     # same as x = x + 1\\ny -= 1     # same as y = y - 1\\nz *= 3     # same as z = z * 3\\ns /= 2\\nt //= 3\\nu **= 2\\nw %= 9\\n\\nprint (x, y, z, s, t, u, v, w)',\n",
       " 'x': 11,\n",
       " 'y': 9,\n",
       " 'z': 30,\n",
       " 's': 5.0,\n",
       " 't': 3,\n",
       " 'u': 100,\n",
       " 'v': 10,\n",
       " 'w': 1,\n",
       " '_i8': 'globals()',\n",
       " '_8': {...},\n",
       " '_i9': 'locals()   '}"
      ]
     },
     "execution_count": 9,
     "metadata": {},
     "output_type": "execute_result"
    }
   ],
   "source": [
    "locals()   \n"
   ]
  },
  {
   "cell_type": "code",
   "execution_count": null,
   "metadata": {},
   "outputs": [],
   "source": []
  }
 ],
 "metadata": {
  "colab": {
   "collapsed_sections": [],
   "name": "PyBasics1.ipynb",
   "provenance": []
  },
  "kernelspec": {
   "display_name": "Python 3",
   "language": "python",
   "name": "python3"
  },
  "language_info": {
   "codemirror_mode": {
    "name": "ipython",
    "version": 3
   },
   "file_extension": ".py",
   "mimetype": "text/x-python",
   "name": "python",
   "nbconvert_exporter": "python",
   "pygments_lexer": "ipython3",
   "version": "3.7.1"
  }
 },
 "nbformat": 4,
 "nbformat_minor": 1
}
