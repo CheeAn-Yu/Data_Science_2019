{
 "cells": [
  {
   "cell_type": "markdown",
   "metadata": {
    "colab_type": "text",
    "id": "A1uO7R46pFPm"
   },
   "source": [
    "# Python file I/P\n",
    "*   File I/O\n",
    "*   Installing Libraries\n",
    "\n",
    "## File I/O\n",
    "\n",
    "A file operation session usually takes place in the following order:\n",
    "\n",
    "1. Open a file\n",
    "  * There can be different modes of open\n",
    "2. Perform file operations:\n",
    "  * Read, write, or append\n",
    "3. Close the file\n",
    "\n",
    "\n",
    "### Open a file\n",
    "Python has a built-in function open() to open a file. \n",
    "* This function returns a file object, also called a handle.\n",
    "* File object is used to read or modify the file.\n",
    "\n",
    "```\n",
    ">>> f = open(\"test.txt\")    # open file in current directory\n",
    ">>> f = open(\"C:/Python33/README.txt\")  # specifying full path\n",
    "```\n",
    "\n",
    "### Mode of file open\n",
    "We can specify the **mode** while opening a file. \n",
    "* With mode\n",
    "    * we specify whether we want to read 'r', write 'w' or append 'a' to the file.\n",
    "    * We also specify if we want to open the file in text mode or binary mode.\n",
    "* In **text mode**, we get strings when reading from the file.\n",
    "* The **binary mode** returns bytes.\n",
    "    * This is the mode to be used when dealing with non-text files like image or exe files.\n",
    "*  The default is reading in text mode. \n",
    "\n",
    "\n",
    "Python File Modes\n",
    "\n",
    "Mode | Description\n",
    "--- | --- \n",
    "'r'\t| open for reading (default)\n",
    "'w'\t| open for writing, truncating the file first\n",
    "'x'\t| open for exclusive creation, failing if the file already exists\n",
    "'a'\t| open for writing, appending to the end of the file if it exists\n",
    "'b'\t| binary mode\n",
    "'t'\t| text mode (default)\n",
    "'+'\t| open a disk file for updating (reading and writing)\n",
    "'U'\t| universal newlines mode (deprecated)\n",
    "\n",
    "\n",
    "Example:\n",
    "```\n",
    "f = open(\"test.txt\")      # equivalent to 'r' or 'rt'\n",
    "f = open(\"test.txt\",'w')  # write in text mode\n",
    "f = open(\"img.bmp\", \"w+b\") # open for binary read/write with truncation\n",
    "f = open(\"img.bmp\",'r+b') # open for binary read/write without truncation\n",
    "```\n",
    "Also, when working with files in text mode, it is highly recommended to specify the encoding type.\n",
    "\n",
    "```\n",
    "f = open(\"test.txt\", mode='r',encoding='utf-8')\n",
    "```\n",
    "\n",
    "### Closing a file\n",
    "When we finished processing a file, we need to close it.\n",
    "* Closing a file frees up the resources tied with the file.  \n",
    "* This is done using Python close() method.\n",
    "\n",
    "Python has a garbage collector to clean up unreferenced objects.  However, we must not rely on it to close the file.\n",
    "\n",
    "```\n",
    "f = open(\"test.txt\", encoding = 'utf-8')\n",
    "# perform file operations\n",
    "f.close()\n",
    "```\n",
    "\n",
    "### Open a file using try and finally block\n",
    "\n",
    "The following way is a safer way to open, use and close a file.\n",
    "In case of exceptions during file access, and the execution gets interrupted, and the \"finally\" clause will still close the file properly.\n",
    "```\n",
    "try:\n",
    "    f = open(\"myfile.txt\")\n",
    "    # performe file operations\n",
    "    ...\n",
    "finally:\n",
    "    f.close()\n",
    "```\n",
    "\n",
    "### Open a file with `with` compound statement\n",
    "A even better way to use a file is using the \"with\" block.  \n",
    "* When exiting the \"with block\", the system will close the file automatically.\n",
    "* We don't have to close the file explicity.\n",
    "\n",
    "```\n",
    "with open(\"myfile.txt\") as f:\n",
    "    # perform file operations\n",
    "```\n",
    "\n",
    "  "
   ]
  },
  {
   "cell_type": "markdown",
   "metadata": {
    "colab_type": "text",
    "id": "AU96w8tnCCIK"
   },
   "source": [
    "### Information about a file and its current status\n",
    "\n",
    "Function | Description\n",
    "---|---\n",
    "closed | Is the file closed?\n",
    "encoding | Return the encoding of the file\n",
    "errors | error report mode\n",
    "fileno() | file descriptor number\n",
    "isatty() | Is the file an interactive stream?\n",
    "mode   | The mode of the file\n",
    "name   | The name of the name\n",
    "newlines | Newlines of the file\n",
    "readable() | Is the file readable?\n",
    "seekable() | Is the file seekable?\n",
    "tell()   | Return the current cursor position of the file\n",
    "writable() | Is the file writable?\n",
    "\n"
   ]
  },
  {
   "cell_type": "code",
   "execution_count": 1,
   "metadata": {
    "colab": {
     "base_uri": "https://localhost:8080/",
     "height": 121
    },
    "colab_type": "code",
    "executionInfo": {
     "elapsed": 2471,
     "status": "ok",
     "timestamp": 1568779646897,
     "user": {
      "displayName": "ML Lo",
      "photoUrl": "",
      "userId": "11511065297651515564"
     },
     "user_tz": -480
    },
    "id": "cduFx6a6pEOm",
    "outputId": "46b5b3ac-44b4-4200-eaa1-0d35600bf53a"
   },
   "outputs": [
    {
     "name": "stdout",
     "output_type": "stream",
     "text": [
      "<class '_io.TextIOWrapper'>\n",
      "The name of the file I just created is:  Test1.txt\n",
      "In what mode is this file opened:  w+\n",
      "Is the file writabe? True\n",
      "Is the file closed?  False\n",
      "Is the file closed?  True\n"
     ]
    }
   ],
   "source": [
    "# Open a file\n",
    "file = open('Test1.txt', \"w+\")\n",
    "print(type(file))\n",
    "\n",
    "print(\"The name of the file I just created is: \", file.name)\n",
    "print(\"In what mode is this file opened: \", file.mode)\n",
    "print(\"Is the file writabe?\", file.writable())\n",
    "print(\"Is the file closed? \", file.closed)\n",
    "file.close()\n",
    "print(\"Is the file closed? \", file.closed)"
   ]
  },
  {
   "cell_type": "markdown",
   "metadata": {
    "colab_type": "text",
    "id": "ZWiKNd2Z7SId"
   },
   "source": [
    "## Reading and writing to a file\n",
    "\n",
    "### Writing\n",
    "In order to write into a file in Python, we need to open it in write 'w', append 'a' or exclusive creation 'x' mode.\n",
    "\n",
    "We need to be careful with the 'w' mode as it will overwrite into the file if it already exists. All previous data are erased.\n",
    "\n",
    "Writing a string or sequence of bytes (for binary files) is done using write() method. This method returns the number of characters written to the file."
   ]
  },
  {
   "cell_type": "code",
   "execution_count": 1,
   "metadata": {
    "colab": {},
    "colab_type": "code",
    "id": "UWJCeMBvqsQo"
   },
   "outputs": [],
   "source": [
    "# Write to a file\n",
    "file = open('Test1.txt', 'w+')\n",
    "\n",
    "file.write('1234567890\\n')\n",
    "\n",
    "file.close()"
   ]
  },
  {
   "cell_type": "code",
   "execution_count": 0,
   "metadata": {
    "colab": {
     "base_uri": "https://localhost:8080/",
     "height": 34
    },
    "colab_type": "code",
    "executionInfo": {
     "elapsed": 738,
     "status": "ok",
     "timestamp": 1568542600094,
     "user": {
      "displayName": "ML Lo",
      "photoUrl": "",
      "userId": "11511065297651515564"
     },
     "user_tz": -480
    },
    "id": "cAJqeYZbq-tE",
    "outputId": "6b44315f-a083-43d7-90a8-1b7af9e509e5"
   },
   "outputs": [
    {
     "name": "stdout",
     "output_type": "stream",
     "text": [
      "['.config', 'Test1.txt', 'sample_data']\n"
     ]
    }
   ],
   "source": [
    "#!ls -l\n",
    "#!cat Test1.txt\n",
    "#!rm Test1.txt\n",
    "#!ls -l\n",
    "\n",
    "import os\n",
    "print(os.listdir())\n",
    "#os.remove('Test1.txt')\n",
    "#print(os.listdir())"
   ]
  },
  {
   "cell_type": "markdown",
   "metadata": {
    "colab_type": "text",
    "id": "fKDVbzkh8Kwm"
   },
   "source": [
    "### Reading\n",
    "\n",
    "To read a file in Python, we must open the file in reading mode.\n",
    "\n",
    "There are various methods available for this purpose. We can use the read(size) method to read in size number of data. If size parameter is not specified, it reads and returns up to the end of the file.\n"
   ]
  },
  {
   "cell_type": "code",
   "execution_count": 3,
   "metadata": {
    "colab": {
     "base_uri": "https://localhost:8080/",
     "height": 86
    },
    "colab_type": "code",
    "executionInfo": {
     "elapsed": 920,
     "status": "ok",
     "timestamp": 1568779758099,
     "user": {
      "displayName": "ML Lo",
      "photoUrl": "",
      "userId": "11511065297651515564"
     },
     "user_tz": -480
    },
    "id": "DVLhQXm6rUHQ",
    "outputId": "fd6e6689-d44f-4570-c221-cdda7ba6a54c"
   },
   "outputs": [
    {
     "name": "stdout",
     "output_type": "stream",
     "text": [
      "Type of x1 is:  <class 'str'>\n",
      "Content of x1 is:  123\n",
      "Content of x2 is:  4567890\n",
      "\n"
     ]
    }
   ],
   "source": [
    "# read the file\n",
    "file = open('Test1.txt', 'r')\n",
    "x1 = file.read(3)  # read 3 bytes\n",
    "x2 = file.read()   # read till the end of the file\n",
    "file.close()\n",
    "\n",
    "print(\"Type of x1 is: \", type(x1))\n",
    "print(\"Content of x1 is: \", x1)\n",
    "print(\"Content of x2 is: \", x2)"
   ]
  },
  {
   "cell_type": "markdown",
   "metadata": {
    "colab_type": "text",
    "id": "9VwLyVYg83d0"
   },
   "source": [
    "### Seek() and tell()\n",
    "\n",
    "We can see that, the read() method returns newline as '\\n'. Once the end of file is reached, we get empty string on further reading.\n",
    "\n",
    "* We can change our current file cursor (position) using the seek() method. \n",
    "* The tell() method returns the current cursor position in the file (in number of bytes)."
   ]
  },
  {
   "cell_type": "markdown",
   "metadata": {
    "colab_type": "text",
    "id": "5ZDlsCdS9S06"
   },
   "source": []
  },
  {
   "cell_type": "code",
   "execution_count": 4,
   "metadata": {
    "colab": {
     "base_uri": "https://localhost:8080/",
     "height": 156
    },
    "colab_type": "code",
    "executionInfo": {
     "elapsed": 1340,
     "status": "ok",
     "timestamp": 1568779846019,
     "user": {
      "displayName": "ML Lo",
      "photoUrl": "",
      "userId": "11511065297651515564"
     },
     "user_tz": -480
    },
    "id": "u7lhjDFc85G_",
    "outputId": "d8ce080e-9570-4682-e064-a4200b9f73e6"
   },
   "outputs": [
    {
     "name": "stdout",
     "output_type": "stream",
     "text": [
      "Read one line from the file:  1234567890\n",
      "\n",
      "The position of the file:  11\n",
      "Read again:  \n",
      "Change position to beginning:  0\n",
      "The position of the file:  0\n",
      "Read again:  1234567890\n",
      "\n"
     ]
    }
   ],
   "source": [
    "# read the file\n",
    "f = open('Test1.txt', 'r')\n",
    "print(\"Read one line from the file: \", f.read())\n",
    "print(\"The position of the file: \", f.tell())\n",
    "print(\"Read again: \", f.read())\n",
    "print(\"Change position to beginning: \", f.seek(0))\n",
    "print(\"The position of the file: \", f.tell())\n",
    "print(\"Read again: \", f.read())\n",
    "f.close()\n",
    "\n"
   ]
  },
  {
   "cell_type": "markdown",
   "metadata": {
    "colab_type": "text",
    "id": "RvB0Q1pa2Jro"
   },
   "source": [
    "### More about reading\n",
    "\n",
    "Different ways to read:\n",
    "\n",
    "* read()\n",
    "* readline()\n",
    "* readlines()\n",
    "* for line in file:\n"
   ]
  },
  {
   "cell_type": "code",
   "execution_count": 6,
   "metadata": {
    "colab": {
     "base_uri": "https://localhost:8080/",
     "height": 86
    },
    "colab_type": "code",
    "executionInfo": {
     "elapsed": 692,
     "status": "ok",
     "timestamp": 1568779948627,
     "user": {
      "displayName": "ML Lo",
      "photoUrl": "",
      "userId": "11511065297651515564"
     },
     "user_tz": -480
    },
    "id": "RUZNfwclsaoX",
    "outputId": "3a15c218-e64b-4c43-ebd2-9b2e152cd5dc"
   },
   "outputs": [
    {
     "name": "stdout",
     "output_type": "stream",
     "text": [
      "cursor position after write: 20\n",
      "cursor position after reopen: 0\n",
      "The first line of this file is: 1234\n",
      "\n"
     ]
    }
   ],
   "source": [
    "# readline() vs readlines()\n",
    "file  = open('Test2.txt', 'w+')\n",
    "file.write('1234\\n')\n",
    "file.write('2234\\n')\n",
    "file.write('3234\\n')\n",
    "file.write('4234\\n')\n",
    "print(\"cursor position after write:\", file.tell())\n",
    "\n",
    "file = open('Test2.txt') # open in read mode\n",
    "print(\"cursor position after reopen:\", file.tell())\n",
    "line = file.readline()\n",
    "print('The first line of this file is:', line)\n",
    "\n",
    "\n"
   ]
  },
  {
   "cell_type": "code",
   "execution_count": 7,
   "metadata": {
    "colab": {
     "base_uri": "https://localhost:8080/",
     "height": 121
    },
    "colab_type": "code",
    "executionInfo": {
     "elapsed": 657,
     "status": "ok",
     "timestamp": 1568779954021,
     "user": {
      "displayName": "ML Lo",
      "photoUrl": "",
      "userId": "11511065297651515564"
     },
     "user_tz": -480
    },
    "id": "AwhYjMENcVNY",
    "outputId": "7ff5381f-aeae-4546-a2be-67a85f7e4385"
   },
   "outputs": [
    {
     "name": "stdout",
     "output_type": "stream",
     "text": [
      "The result of readlines() operation is:  ['1234\\n', '2234\\n', '3234\\n', '4234\\n']\n",
      "The type of lines is:  <class 'list'>\n",
      "Line 0 is: 1234\n",
      "\n",
      "line 2 is: 3234\n",
      "\n"
     ]
    }
   ],
   "source": [
    "#Know we reset the file point\n",
    "file.seek(0)\n",
    "# Read all the lines\n",
    "lines = open('Test2.txt').readlines()\n",
    "print('The result of readlines() operation is: ', lines)\n",
    "print('The type of lines is: ', type(lines))\n",
    "\n",
    "# You also access individual lines\n",
    "print(\"Line 0 is:\", lines[0])\n",
    "print(\"line 2 is:\", lines[2])"
   ]
  },
  {
   "cell_type": "code",
   "execution_count": 9,
   "metadata": {
    "colab": {
     "base_uri": "https://localhost:8080/",
     "height": 86
    },
    "colab_type": "code",
    "executionInfo": {
     "elapsed": 1036,
     "status": "ok",
     "timestamp": 1568780053252,
     "user": {
      "displayName": "ML Lo",
      "photoUrl": "",
      "userId": "11511065297651515564"
     },
     "user_tz": -480
    },
    "id": "IYK5-yXW5x_B",
    "outputId": "838e0b1a-7aa5-4a63-dfbd-e6375ad72d2c"
   },
   "outputs": [
    {
     "name": "stdout",
     "output_type": "stream",
     "text": [
      "1234\n",
      "2234\n",
      "3234\n",
      "4234\n"
     ]
    }
   ],
   "source": [
    "# When you want to process every line sequentially, a for loop is even more convenient\n",
    "#file = open('Test2.txt') \n",
    "for line in open('Test2.txt'):\n",
    "    print(line, end = '')\n",
    "   "
   ]
  },
  {
   "cell_type": "code",
   "execution_count": 0,
   "metadata": {
    "colab": {
     "base_uri": "https://localhost:8080/",
     "height": 86
    },
    "colab_type": "code",
    "executionInfo": {
     "elapsed": 906,
     "status": "ok",
     "timestamp": 1568557467898,
     "user": {
      "displayName": "ML Lo",
      "photoUrl": "",
      "userId": "11511065297651515564"
     },
     "user_tz": -480
    },
    "id": "cXIScm9TTy-w",
    "outputId": "1c9e8ee9-35c7-4402-ed1a-f27d91d3476b"
   },
   "outputs": [
    {
     "name": "stdout",
     "output_type": "stream",
     "text": [
      "1234\n",
      "2234\n",
      "3234\n",
      "4234\n"
     ]
    }
   ],
   "source": [
    "# Or, even more succinctly:\n",
    "for line in open('Test2.txt'):\n",
    "    print(line, end = '')"
   ]
  },
  {
   "cell_type": "markdown",
   "metadata": {
    "colab_type": "text",
    "id": "VhyO16jI8b63"
   },
   "source": [
    "###Python File Methods\n",
    "\n",
    "We list all the Python file methods below:\n",
    "\n",
    "Method\t| Description\n",
    "--- | ---\n",
    "close()\t| Close an open file. It has no effect if the file is already closed.\n",
    "detach() |\tSeparate the underlying binary buffer from the TextIOBase and return it.\n",
    "fileno()\t| Return an integer number (file descriptor) of the file.\n",
    "flush()\t| Flush the write buffer of the file stream.\n",
    "isatty()\t| Return True if the file stream is interactive.\n",
    "read(n)\t| Read atmost n characters form the file. Reads till end of file if it is negative or None.\n",
    "readable()\t| Returns True if the file stream can be read from.\n",
    "readline(n=-1)\t| Read and return one line from the file. Reads in at most n bytes if specified.\n",
    "readlines(n=-1)\t| Read and return a list of lines from the file. Reads in at most n bytes/characters if specified.\n",
    "seek(offset,from=SEEK_SET)\t| Change the file position to offset bytes, in reference to from (start, current, end).\n",
    "seekable()\t| Returns True if the file stream supports random access.\n",
    "tell()\t| Returns the current file location.\n",
    "truncate(size=None)\t| Resize the file stream to size bytes. If size is not specified, resize to current location.\n",
    "writable()\t| Returns True if the file stream can be written to.\n",
    "write(s)\t| Write string s to the file and return the number of characters written.\n",
    "writelines(lines)\t| Write a list of lines to the file."
   ]
  },
  {
   "cell_type": "markdown",
   "metadata": {
    "colab_type": "text",
    "id": "KZvLdZxedEuO"
   },
   "source": [
    "## Manage directory and files\n",
    "\n",
    "To help with management of files and directories, we introduce a very important module call \"os\", which contain a lot of useful command to access the operating system."
   ]
  },
  {
   "cell_type": "code",
   "execution_count": 1,
   "metadata": {
    "colab": {
     "base_uri": "https://localhost:8080/",
     "height": 52
    },
    "colab_type": "code",
    "executionInfo": {
     "elapsed": 748,
     "status": "ok",
     "timestamp": 1568557808321,
     "user": {
      "displayName": "ML Lo",
      "photoUrl": "",
      "userId": "11511065297651515564"
     },
     "user_tz": -480
    },
    "id": "Y41TJd96dnw4",
    "outputId": "9affea5d-62bf-45ed-fc93-15fb157bdbbd"
   },
   "outputs": [
    {
     "name": "stdout",
     "output_type": "stream",
     "text": [
      "C:\\Users\\cheean yu\\Desktop\\Data Science\\week2\n",
      "b'C:\\\\Users\\\\cheean yu\\\\Desktop\\\\Data Science\\\\week2'\n"
     ]
    },
    {
     "name": "stderr",
     "output_type": "stream",
     "text": [
      "G:\\Anaconda\\lib\\site-packages\\ipykernel_launcher.py:8: DeprecationWarning: The Windows bytes API has been deprecated, use Unicode filenames instead\n",
      "  \n"
     ]
    }
   ],
   "source": [
    "import os\n",
    "# Get current working directory\n",
    "\n",
    "# Get the path of the current working directory\n",
    "print(os.getcwd())\n",
    "\n",
    "# get the path of the current working directory in binary format\n",
    "print(os.getcwdb())"
   ]
  },
  {
   "cell_type": "code",
   "execution_count": 0,
   "metadata": {
    "colab": {
     "base_uri": "https://localhost:8080/",
     "height": 52
    },
    "colab_type": "code",
    "executionInfo": {
     "elapsed": 730,
     "status": "ok",
     "timestamp": 1568557812068,
     "user": {
      "displayName": "ML Lo",
      "photoUrl": "",
      "userId": "11511065297651515564"
     },
     "user_tz": -480
    },
    "id": "jAvhrG-4gHQ5",
    "outputId": "f37df807-6530-4ea5-ca91-e92183e060c0"
   },
   "outputs": [
    {
     "name": "stdout",
     "output_type": "stream",
     "text": [
      "['.config', 'another_test', 'Test2.txt', 'sample_data']\n",
      "['anscombe.json', 'README.md', 'california_housing_train.csv', 'mnist_test.csv', 'mnist_train_small.csv', 'california_housing_test.csv']\n"
     ]
    }
   ],
   "source": [
    "# list current directory\n",
    "print(os.listdir())\n",
    "\n",
    "# list a particular directory\n",
    "print(os.listdir(\"/content/sample_data\"))"
   ]
  },
  {
   "cell_type": "code",
   "execution_count": 0,
   "metadata": {
    "colab": {
     "base_uri": "https://localhost:8080/",
     "height": 34
    },
    "colab_type": "code",
    "executionInfo": {
     "elapsed": 1031,
     "status": "ok",
     "timestamp": 1568557820743,
     "user": {
      "displayName": "ML Lo",
      "photoUrl": "",
      "userId": "11511065297651515564"
     },
     "user_tz": -480
    },
    "id": "nhJbzh9afl6D",
    "outputId": "100da1f9-4877-4317-a078-d3080799ee28"
   },
   "outputs": [
    {
     "name": "stdout",
     "output_type": "stream",
     "text": [
      "/content/sample_data\n"
     ]
    }
   ],
   "source": [
    "# change working directory\n",
    "os.chdir(\"/content/sample_data\")\n",
    "print(os.getcwd())"
   ]
  },
  {
   "cell_type": "code",
   "execution_count": 0,
   "metadata": {
    "colab": {
     "base_uri": "https://localhost:8080/",
     "height": 34
    },
    "colab_type": "code",
    "executionInfo": {
     "elapsed": 755,
     "status": "ok",
     "timestamp": 1568557829451,
     "user": {
      "displayName": "ML Lo",
      "photoUrl": "",
      "userId": "11511065297651515564"
     },
     "user_tz": -480
    },
    "id": "1Bfiwwzqgoc3",
    "outputId": "737fb3e0-1e5e-40f9-d46a-fee0688463c0"
   },
   "outputs": [
    {
     "name": "stdout",
     "output_type": "stream",
     "text": [
      "['.config', 'another_test', 'test.txt', 'Test2.txt', 'testdir', 'sample_data']\n"
     ]
    }
   ],
   "source": [
    "# Making a new directory\n",
    "os.chdir(\"/content\")\n",
    "os.mkdir('testdir')\n",
    "\n",
    "# create a file\n",
    "open(\"test.txt\", \"w\")\n",
    "\n",
    "print(os.listdir())"
   ]
  },
  {
   "cell_type": "code",
   "execution_count": 0,
   "metadata": {
    "colab": {
     "base_uri": "https://localhost:8080/",
     "height": 121
    },
    "colab_type": "code",
    "executionInfo": {
     "elapsed": 1684,
     "status": "ok",
     "timestamp": 1568557845962,
     "user": {
      "displayName": "ML Lo",
      "photoUrl": "",
      "userId": "11511065297651515564"
     },
     "user_tz": -480
    },
    "id": "0g-EjR5qgxlk",
    "outputId": "7f1b76a2-4edb-4a84-b6a1-a06041940956"
   },
   "outputs": [
    {
     "data": {
      "text/plain": [
       "['.config',\n",
       " 'another_test.txt',\n",
       " 'another_test',\n",
       " 'Test2.txt',\n",
       " 'another_testdir',\n",
       " 'sample_data']"
      ]
     },
     "execution_count": 18,
     "metadata": {
      "tags": []
     },
     "output_type": "execute_result"
    }
   ],
   "source": [
    "# rename a directory or a file\n",
    "os.rename('testdir', 'another_testdir')\n",
    "os.rename('test.txt', 'another_test.txt')\n",
    "print(os.listdir())"
   ]
  },
  {
   "cell_type": "code",
   "execution_count": 0,
   "metadata": {
    "colab": {
     "base_uri": "https://localhost:8080/",
     "height": 34
    },
    "colab_type": "code",
    "executionInfo": {
     "elapsed": 1059,
     "status": "ok",
     "timestamp": 1568557869988,
     "user": {
      "displayName": "ML Lo",
      "photoUrl": "",
      "userId": "11511065297651515564"
     },
     "user_tz": -480
    },
    "id": "kt7K6_Opg-a3",
    "outputId": "f2f7ba0e-2340-48a2-d980-52e850346950"
   },
   "outputs": [
    {
     "data": {
      "text/plain": [
       "['.config', 'another_test', 'Test2.txt', 'sample_data']"
      ]
     },
     "execution_count": 19,
     "metadata": {
      "tags": []
     },
     "output_type": "execute_result"
    }
   ],
   "source": [
    "#remove a directory\n",
    "os.rmdir('another_testdir')\n",
    "\n",
    "#remove a file\n",
    "os.remove('another_test.txt')\n",
    "os.listdir()"
   ]
  },
  {
   "cell_type": "code",
   "execution_count": 0,
   "metadata": {
    "colab": {},
    "colab_type": "code",
    "id": "Ptk-DvI6jc7P"
   },
   "outputs": [],
   "source": [
    "# How to remove the whole directory tree\n",
    "import shutil\n",
    "\n",
    "#shutil.rmtree('mytree')   # assume a directory tree 'mytree' exists.\n",
    "os.listdir()"
   ]
  },
  {
   "cell_type": "markdown",
   "metadata": {
    "colab_type": "text",
    "id": "VGutScLfjy85"
   },
   "source": [
    "You are encouraged to find out more about the 'os' and 'shutil' packages using dir() and help() commands."
   ]
  },
  {
   "cell_type": "markdown",
   "metadata": {
    "colab_type": "text",
    "id": "c6Od7UpyVg-P"
   },
   "source": [
    "Note: We have introduce a basic set of file IO functions. There are other sets of functions, you are welcomed to explore them whenever necessary."
   ]
  }
 ],
 "metadata": {
  "colab": {
   "collapsed_sections": [],
   "name": "PyBasics4_Files.ipynb",
   "provenance": []
  },
  "kernelspec": {
   "display_name": "Python 3",
   "language": "python",
   "name": "python3"
  },
  "language_info": {
   "codemirror_mode": {
    "name": "ipython",
    "version": 3
   },
   "file_extension": ".py",
   "mimetype": "text/x-python",
   "name": "python",
   "nbconvert_exporter": "python",
   "pygments_lexer": "ipython3",
   "version": "3.7.3"
  }
 },
 "nbformat": 4,
 "nbformat_minor": 1
}
