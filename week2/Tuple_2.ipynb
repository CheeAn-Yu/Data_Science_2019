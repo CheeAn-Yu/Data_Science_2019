{
 "cells": [
  {
   "cell_type": "code",
   "execution_count": 0,
   "metadata": {
    "colab": {},
    "colab_type": "code",
    "id": "DXyNjo3Xo9Ob"
   },
   "outputs": [],
   "source": []
  },
  {
   "cell_type": "markdown",
   "metadata": {
    "colab_type": "text",
    "id": "G5g8MatbpJay"
   },
   "source": [
    "# Python Basics 2 - Powerful Python objects\n",
    "\n",
    "## Four powerful built-in classes: tuples, lists, dictionaries and strings\n",
    "\n",
    "Tuples, lists, directionaries and strings are fundamental built-in Python types.  This is one of the main difference between Python and more traditional languages, such as C, C++.  \n",
    "\n",
    "These objects are very powerful.  \n",
    "\n",
    "\n",
    "## Tuples and lists\n",
    "Tuple and lists are similar, but cannot be modified once defined."
   ]
  },
  {
   "cell_type": "code",
   "execution_count": 1,
   "metadata": {
    "colab": {
     "base_uri": "https://localhost:8080/",
     "height": 121
    },
    "colab_type": "code",
    "executionInfo": {
     "elapsed": 969,
     "status": "ok",
     "timestamp": 1568771632111,
     "user": {
      "displayName": "ML Lo",
      "photoUrl": "",
      "userId": "11511065297651515564"
     },
     "user_tz": -480
    },
    "id": "7Qle28ahrGXz",
    "outputId": "162583e7-e522-46e4-9094-6383ca490505"
   },
   "outputs": [
    {
     "name": "stdout",
     "output_type": "stream",
     "text": [
      "x is:  (1, 2, 3)\n",
      "y is:  (4, 5, 6)\n",
      "z is:  (1, 2, 3, 4, 5, 6)\n",
      "The 2nd element of x:  2\n",
      "Type of x is:  <class 'tuple'>\n",
      "Type of x[1] is:  2\n"
     ]
    }
   ],
   "source": [
    "# tuples\n",
    "x = (1, 2, 3)\n",
    "y = (4, 5, 6)\n",
    "print(\"x is: \", x)\n",
    "print(\"y is: \", y)\n",
    "z = x+y\n",
    "print(\"z is: \", z)\n",
    "\n",
    "# indexing\n",
    "print(\"The 2nd element of x: \", x[1])\n",
    "\n",
    "print(\"Type of x is: \", type(x))\n",
    "print(\"Type of x[1] is: \", x[1])"
   ]
  },
  {
   "cell_type": "code",
   "execution_count": 2,
   "metadata": {
    "colab": {
     "base_uri": "https://localhost:8080/",
     "height": 166
    },
    "colab_type": "code",
    "executionInfo": {
     "elapsed": 979,
     "status": "error",
     "timestamp": 1568771732037,
     "user": {
      "displayName": "ML Lo",
      "photoUrl": "",
      "userId": "11511065297651515564"
     },
     "user_tz": -480
    },
    "id": "V-iZusHO826W",
    "outputId": "51ce727a-f92b-4fce-beb6-3aac5511f44e"
   },
   "outputs": [
    {
     "ename": "TypeError",
     "evalue": "ignored",
     "output_type": "error",
     "traceback": [
      "\u001b[0;31m---------------------------------------------------------------------------\u001b[0m",
      "\u001b[0;31mTypeError\u001b[0m                                 Traceback (most recent call last)",
      "\u001b[0;32m<ipython-input-2-9d9cf1eaa662>\u001b[0m in \u001b[0;36m<module>\u001b[0;34m()\u001b[0m\n\u001b[0;32m----> 1\u001b[0;31m \u001b[0mx\u001b[0m\u001b[0;34m[\u001b[0m\u001b[0;36m2\u001b[0m\u001b[0;34m]\u001b[0m \u001b[0;34m=\u001b[0m \u001b[0;36m9\u001b[0m\u001b[0;34m\u001b[0m\u001b[0;34m\u001b[0m\u001b[0m\n\u001b[0m",
      "\u001b[0;31mTypeError\u001b[0m: 'tuple' object does not support item assignment"
     ]
    }
   ],
   "source": [
    "# tuples are immutable (tuples cannot be modified)\n",
    "# following code will cause TypeError\n",
    "x[2] = 9"
   ]
  },
  {
   "cell_type": "code",
   "execution_count": 3,
   "metadata": {
    "colab": {
     "base_uri": "https://localhost:8080/",
     "height": 104
    },
    "colab_type": "code",
    "executionInfo": {
     "elapsed": 1271,
     "status": "ok",
     "timestamp": 1568771778857,
     "user": {
      "displayName": "ML Lo",
      "photoUrl": "",
      "userId": "11511065297651515564"
     },
     "user_tz": -480
    },
    "id": "dIkZhnZJsXA_",
    "outputId": "e0ed8116-ba2f-4c89-8af9-c9747c39df3f"
   },
   "outputs": [
    {
     "name": "stdout",
     "output_type": "stream",
     "text": [
      "((1, 2), (1, 2), (1, 2))\n",
      "((1, 2), (1, 2, 3), (1, 2))\n",
      "(1, 2)\n",
      "(1, 2, 3)\n",
      "3\n"
     ]
    }
   ],
   "source": [
    "# tuples can be multidimensional\n",
    "x = ((1,2),(1,2),(1,2))\n",
    "print(x)\n",
    "y = ((1,2),(1,2,3),(1,2))\n",
    "print(y)\n",
    "print(x[0])\n",
    "print(y[1])\n",
    "print(y[1][2])"
   ]
  },
  {
   "cell_type": "code",
   "execution_count": 4,
   "metadata": {
    "colab": {
     "base_uri": "https://localhost:8080/",
     "height": 166
    },
    "colab_type": "code",
    "executionInfo": {
     "elapsed": 859,
     "status": "error",
     "timestamp": 1568771863608,
     "user": {
      "displayName": "ML Lo",
      "photoUrl": "",
      "userId": "11511065297651515564"
     },
     "user_tz": -480
    },
    "id": "vmxc6ZkQ90dS",
    "outputId": "be6f6aea-a519-4ad8-fb7f-27967632cd32"
   },
   "outputs": [
    {
     "ename": "IndexError",
     "evalue": "ignored",
     "output_type": "error",
     "traceback": [
      "\u001b[0;31m---------------------------------------------------------------------------\u001b[0m",
      "\u001b[0;31mIndexError\u001b[0m                                Traceback (most recent call last)",
      "\u001b[0;32m<ipython-input-4-a3603b1b65dd>\u001b[0m in \u001b[0;36m<module>\u001b[0;34m()\u001b[0m\n\u001b[0;32m----> 1\u001b[0;31m \u001b[0mprint\u001b[0m\u001b[0;34m(\u001b[0m\u001b[0my\u001b[0m\u001b[0;34m[\u001b[0m\u001b[0;36m1\u001b[0m\u001b[0;34m]\u001b[0m\u001b[0;34m[\u001b[0m\u001b[0;36m3\u001b[0m\u001b[0;34m]\u001b[0m\u001b[0;34m)\u001b[0m  \u001b[0;31m# this will cause an IndexError\u001b[0m\u001b[0;34m\u001b[0m\u001b[0;34m\u001b[0m\u001b[0m\n\u001b[0m",
      "\u001b[0;31mIndexError\u001b[0m: tuple index out of range"
     ]
    }
   ],
   "source": [
    "# indexing out of range will cause error\n",
    "print(y[1][3])  # this will cause an IndexError"
   ]
  },
  {
   "cell_type": "code",
   "execution_count": 0,
   "metadata": {
    "colab": {
     "base_uri": "https://localhost:8080/",
     "height": 104
    },
    "colab_type": "code",
    "executionInfo": {
     "elapsed": 860,
     "status": "ok",
     "timestamp": 1568451259809,
     "user": {
      "displayName": "ML Lo",
      "photoUrl": "",
      "userId": "11511065297651515564"
     },
     "user_tz": -480
    },
    "id": "aHvbtoutqmc2",
    "outputId": "0e95a9cb-fb78-47f0-a104-1b908b46b28a"
   },
   "outputs": [
    {
     "name": "stdout",
     "output_type": "stream",
     "text": [
      "x is:  [1, 2, 3]\n",
      "y is:  [4, 5, 6]\n",
      "z is x+y:  [1, 2, 3, 4, 5, 6]\n",
      "After changing x[2], x is:  [1, 2, 9]\n",
      "After chaing x[2], will z be affected?  [1, 2, 3, 4, 5, 6]\n"
     ]
    }
   ],
   "source": [
    "# Lists\n",
    "# lists are similar to tuple, but are mutable (can be modified)\n",
    "x = [1, 2, 3]\n",
    "y = [4, 5, 6]\n",
    "print(\"x is: \", x)\n",
    "print(\"y is: \", y)\n",
    "z = x+y\n",
    "print(\"z is x+y: \", z)\n",
    "\n",
    "x[2] = 9\n",
    "print(\"After changing x[2], x is: \", x)\n",
    "\n",
    "# Will changing the content of x change z?\n",
    "# (Call \"deep copying\" in programming language terminoloty.)\n",
    "print(\"After chaing x[2], will z be affected? \", z)"
   ]
  },
  {
   "cell_type": "code",
   "execution_count": 0,
   "metadata": {
    "colab": {
     "base_uri": "https://localhost:8080/",
     "height": 50
    },
    "colab_type": "code",
    "executionInfo": {
     "elapsed": 1039,
     "status": "ok",
     "timestamp": 1554965347084,
     "user": {
      "displayName": "ML Lo",
      "photoUrl": "",
      "userId": "11511065297651515564"
     },
     "user_tz": -480
    },
    "id": "SSUeInbEriV4",
    "outputId": "aad68c8f-988f-4b58-c33d-129f5823aa2b"
   },
   "outputs": [
    {
     "name": "stdout",
     "output_type": "stream",
     "text": [
      "[[1, 2], [3, 4], [5, 6]]\n",
      "[[1, 2], [3, 4, 3, 4], [5, 6]]\n"
     ]
    }
   ],
   "source": [
    "# Lists within lists, similar to tuples within tuples\n",
    "x = [[1,2],[3,4],[5,6]]\n",
    "print(x)\n",
    "y = [[1,2],[3,4,3,4],[5,6]]\n",
    "print(y)"
   ]
  },
  {
   "cell_type": "code",
   "execution_count": 5,
   "metadata": {
    "colab": {
     "base_uri": "https://localhost:8080/",
     "height": 69
    },
    "colab_type": "code",
    "executionInfo": {
     "elapsed": 826,
     "status": "ok",
     "timestamp": 1568771987434,
     "user": {
      "displayName": "ML Lo",
      "photoUrl": "",
      "userId": "11511065297651515564"
     },
     "user_tz": -480
    },
    "id": "d9MWluUutZMw",
    "outputId": "756110b5-0f88-4d68-e10e-fcb7d9d699fd"
   },
   "outputs": [
    {
     "name": "stdout",
     "output_type": "stream",
     "text": [
      "max of the thre numbers 1, 2, 3 is: 3\n",
      "max of the tuple x1 is:  4\n",
      "max of the list y1 is:  5\n"
     ]
    }
   ],
   "source": [
    "# max and min functions for tuples and lists\n",
    "print(\"max of the thre numbers 1, 2, 3 is:\", max(1,2,3))\n",
    "x1 = (1,2,3,4)\n",
    "y1 = [1,2,3,4,5]\n",
    "print(\"max of the tuple x1 is: \", max(x1))\n",
    "print(\"max of the list y1 is: \", max(y1))"
   ]
  },
  {
   "cell_type": "code",
   "execution_count": 6,
   "metadata": {
    "colab": {
     "base_uri": "https://localhost:8080/",
     "height": 104
    },
    "colab_type": "code",
    "executionInfo": {
     "elapsed": 1097,
     "status": "ok",
     "timestamp": 1568772056505,
     "user": {
      "displayName": "ML Lo",
      "photoUrl": "",
      "userId": "11511065297651515564"
     },
     "user_tz": -480
    },
    "id": "O0fZHmNdv5jf",
    "outputId": "74d94973-fce6-4af7-cf30-eaa6a4f7a8ca"
   },
   "outputs": [
    {
     "name": "stdout",
     "output_type": "stream",
     "text": [
      "Is 3 in x1?  True\n",
      "Is 4 in x1?  True\n",
      "Is 5 in x1?  False\n",
      "Is 5 in y1?  True\n",
      "Is 6 in y1?  False\n"
     ]
    }
   ],
   "source": [
    "# the \"in\" operation for tuple and list\n",
    "\n",
    "x1 = (1,2,3,4)\n",
    "y1 = [1,2,3,4,5]\n",
    "\n",
    "\n",
    "print(\"Is 3 in x1? \", 3 in x1)\n",
    "print(\"Is 4 in x1? \", 4 in x1)\n",
    "print(\"Is 5 in x1? \", 5 in x1)\n",
    "print(\"Is 5 in y1? \", 5 in y1)\n",
    "print(\"Is 6 in y1? \", 6 in y1)\n",
    "\n"
   ]
  },
  {
   "cell_type": "markdown",
   "metadata": {
    "colab_type": "text",
    "id": "rDHxWZ9r_DP3"
   },
   "source": [
    "Can we have tuples and lists of elements with different types?"
   ]
  },
  {
   "cell_type": "code",
   "execution_count": 7,
   "metadata": {
    "colab": {
     "base_uri": "https://localhost:8080/",
     "height": 51
    },
    "colab_type": "code",
    "executionInfo": {
     "elapsed": 886,
     "status": "ok",
     "timestamp": 1568772117854,
     "user": {
      "displayName": "ML Lo",
      "photoUrl": "",
      "userId": "11511065297651515564"
     },
     "user_tz": -480
    },
    "id": "YRUiJx-o_JMI",
    "outputId": "87d6d499-4731-4bfc-d3b6-c6fe89504cf0"
   },
   "outputs": [
    {
     "name": "stdout",
     "output_type": "stream",
     "text": [
      "(3, 'apple', 4.2)\n",
      "Is apple in a?  True\n"
     ]
    }
   ],
   "source": [
    "a = (3, 'apple', 4.2)\n",
    "print(a)\n",
    "\n",
    "print(\"Is apple in a? \", \"apple\" in a)"
   ]
  },
  {
   "cell_type": "code",
   "execution_count": 8,
   "metadata": {
    "colab": {
     "base_uri": "https://localhost:8080/",
     "height": 166
    },
    "colab_type": "code",
    "executionInfo": {
     "elapsed": 869,
     "status": "error",
     "timestamp": 1568772150164,
     "user": {
      "displayName": "ML Lo",
      "photoUrl": "",
      "userId": "11511065297651515564"
     },
     "user_tz": -480
    },
    "id": "3ZtMrHw2_Pf9",
    "outputId": "22d9dd40-c52b-4827-854b-df9ebde7ca98"
   },
   "outputs": [
    {
     "ename": "TypeError",
     "evalue": "ignored",
     "output_type": "error",
     "traceback": [
      "\u001b[0;31m---------------------------------------------------------------------------\u001b[0m",
      "\u001b[0;31mTypeError\u001b[0m                                 Traceback (most recent call last)",
      "\u001b[0;32m<ipython-input-8-6cd88fa3ebf6>\u001b[0m in \u001b[0;36m<module>\u001b[0;34m()\u001b[0m\n\u001b[0;32m----> 1\u001b[0;31m \u001b[0mprint\u001b[0m\u001b[0;34m(\u001b[0m\u001b[0mmax\u001b[0m\u001b[0;34m(\u001b[0m\u001b[0ma\u001b[0m\u001b[0;34m)\u001b[0m\u001b[0;34m)\u001b[0m\u001b[0;34m\u001b[0m\u001b[0;34m\u001b[0m\u001b[0m\n\u001b[0m",
      "\u001b[0;31mTypeError\u001b[0m: '>' not supported between instances of 'str' and 'int'"
     ]
    }
   ],
   "source": [
    "# You need to have tuple and lists of same type elements if you want to use min(), max()\n",
    "print(max(a))"
   ]
  },
  {
   "cell_type": "markdown",
   "metadata": {
    "colab_type": "text",
    "id": "XzCSyLViwtkf"
   },
   "source": [
    "### Tuples and list are fundamental objects for the \"for loop\"\n",
    "\n",
    "Tuples and lists are fundamental for \"for loops\" in Python.  This is one of the key differeces between Python and other languages!\n",
    "\n"
   ]
  },
  {
   "cell_type": "code",
   "execution_count": 10,
   "metadata": {
    "colab": {
     "base_uri": "https://localhost:8080/",
     "height": 69
    },
    "colab_type": "code",
    "executionInfo": {
     "elapsed": 1362,
     "status": "ok",
     "timestamp": 1568772296800,
     "user": {
      "displayName": "ML Lo",
      "photoUrl": "",
      "userId": "11511065297651515564"
     },
     "user_tz": -480
    },
    "id": "asblhcoKxQlH",
    "outputId": "e42cd28d-0f89-49b3-cc5c-53615ad08a6d"
   },
   "outputs": [
    {
     "name": "stdout",
     "output_type": "stream",
     "text": [
      "1\n",
      "2\n",
      "5\n"
     ]
    }
   ],
   "source": [
    "x = (1, 2, 3)\n",
    "for i in x:\n",
    "  print(i)"
   ]
  },
  {
   "cell_type": "code",
   "execution_count": 13,
   "metadata": {
    "colab": {
     "base_uri": "https://localhost:8080/",
     "height": 138
    },
    "colab_type": "code",
    "executionInfo": {
     "elapsed": 861,
     "status": "ok",
     "timestamp": 1568772343168,
     "user": {
      "displayName": "ML Lo",
      "photoUrl": "",
      "userId": "11511065297651515564"
     },
     "user_tz": -480
    },
    "id": "NraHxV5wxaMc",
    "outputId": "10c51e1c-20a0-45a5-fb7e-33527cf2930f"
   },
   "outputs": [
    {
     "name": "stdout",
     "output_type": "stream",
     "text": [
      "2\n",
      "3\n",
      "5\n",
      "-7\n",
      "apple\n",
      "13\n",
      "17\n"
     ]
    }
   ],
   "source": [
    "# print all prime numbers less than 20 using one for loop\n",
    "# This will be more code in other languages, but is quite simple in Python\n",
    "x = (2,3,5,-7,'apple',13,17)\n",
    "for i in x:\n",
    "  print(i)\n",
    "\n"
   ]
  },
  {
   "cell_type": "code",
   "execution_count": 14,
   "metadata": {
    "colab": {
     "base_uri": "https://localhost:8080/",
     "height": 69
    },
    "colab_type": "code",
    "executionInfo": {
     "elapsed": 1248,
     "status": "ok",
     "timestamp": 1568772361353,
     "user": {
      "displayName": "ML Lo",
      "photoUrl": "",
      "userId": "11511065297651515564"
     },
     "user_tz": -480
    },
    "id": "2XrtR2CkyGWL",
    "outputId": "cd96da68-4c49-4424-e9f3-f0e574a365fd"
   },
   "outputs": [
    {
     "name": "stdout",
     "output_type": "stream",
     "text": [
      "apple\n",
      "banana\n",
      "orange\n"
     ]
    }
   ],
   "source": [
    "# you can use for loop with lists, too\n",
    "y = [\"apple\", \"banana\", \"orange\"]\n",
    "for i in y:\n",
    "  print(i)"
   ]
  },
  {
   "cell_type": "code",
   "execution_count": 15,
   "metadata": {
    "colab": {
     "base_uri": "https://localhost:8080/",
     "height": 69
    },
    "colab_type": "code",
    "executionInfo": {
     "elapsed": 1001,
     "status": "ok",
     "timestamp": 1568772373817,
     "user": {
      "displayName": "ML Lo",
      "photoUrl": "",
      "userId": "11511065297651515564"
     },
     "user_tz": -480
    },
    "id": "_b1yo-LR_t-o",
    "outputId": "790fe86f-1226-4ae2-fe85-175cf606cfdc"
   },
   "outputs": [
    {
     "name": "stdout",
     "output_type": "stream",
     "text": [
      "3\n",
      "apple\n",
      "4.2\n"
     ]
    }
   ],
   "source": [
    "a = (3, \"apple\", 4.2)\n",
    "for i in a:\n",
    "  print(i)"
   ]
  },
  {
   "cell_type": "code",
   "execution_count": 16,
   "metadata": {
    "colab": {
     "base_uri": "https://localhost:8080/",
     "height": 364
    },
    "colab_type": "code",
    "executionInfo": {
     "elapsed": 893,
     "status": "ok",
     "timestamp": 1568772404024,
     "user": {
      "displayName": "ML Lo",
      "photoUrl": "",
      "userId": "11511065297651515564"
     },
     "user_tz": -480
    },
    "id": "CcuOSxYv_5wp",
    "outputId": "c601f5fd-fd7d-43ab-d091-3e1723422164"
   },
   "outputs": [
    {
     "name": "stdout",
     "output_type": "stream",
     "text": [
      "0\n",
      "1\n",
      "2\n",
      "3\n",
      "4\n",
      "5\n",
      "6\n",
      "7\n",
      "8\n",
      "9\n",
      "10\n",
      "11\n",
      "12\n",
      "13\n",
      "14\n",
      "15\n",
      "16\n",
      "17\n",
      "18\n",
      "19\n"
     ]
    }
   ],
   "source": [
    "#How to create a loop with large number?\n",
    "#Use range function\n",
    "for i in range(20):\n",
    "  print(i)"
   ]
  },
  {
   "cell_type": "markdown",
   "metadata": {
    "colab_type": "text",
    "id": "W2INB9E7Aj37"
   },
   "source": [
    "#### Exercise:\n",
    "* What exactly is range()?\n",
    "* It's a function call that returns a range object.\n",
    " \n",
    "\n",
    "Find out:\n",
    "* What is a range object? \n",
    "* What operation can be performed on range object? (Do you remember how to find out?)"
   ]
  },
  {
   "cell_type": "code",
   "execution_count": 0,
   "metadata": {
    "colab": {
     "base_uri": "https://localhost:8080/",
     "height": 34
    },
    "colab_type": "code",
    "executionInfo": {
     "elapsed": 698,
     "status": "ok",
     "timestamp": 1568451655473,
     "user": {
      "displayName": "ML Lo",
      "photoUrl": "",
      "userId": "11511065297651515564"
     },
     "user_tz": -480
    },
    "id": "9LuqoViDANez",
    "outputId": "249564f7-311b-42e1-9e13-b1e00a8d0c08"
   },
   "outputs": [
    {
     "name": "stdout",
     "output_type": "stream",
     "text": [
      "range(0, 20)\n"
     ]
    }
   ],
   "source": [
    "print(range(20))"
   ]
  },
  {
   "cell_type": "markdown",
   "metadata": {
    "colab_type": "text",
    "id": "G65fVnN1yUKd"
   },
   "source": [
    "### More operations for lists"
   ]
  },
  {
   "cell_type": "code",
   "execution_count": 17,
   "metadata": {
    "colab": {
     "base_uri": "https://localhost:8080/",
     "height": 51
    },
    "colab_type": "code",
    "executionInfo": {
     "elapsed": 1206,
     "status": "ok",
     "timestamp": 1568772462684,
     "user": {
      "displayName": "ML Lo",
      "photoUrl": "",
      "userId": "11511065297651515564"
     },
     "user_tz": -480
    },
    "id": "vAtQmxslyXI2",
    "outputId": "71427758-6003-4f7c-af4d-01dc93b9dcf3"
   },
   "outputs": [
    {
     "name": "stdout",
     "output_type": "stream",
     "text": [
      "[1, 2, 3, 7, 7, 7, 8, 9]\n",
      "[1, 2, 3, 1, 2, 3, 7, 7, 7, 8, 9]\n"
     ]
    }
   ],
   "source": [
    "# Arithmetic-like operations for lists\n",
    "x, y = [1,2,3],[7,7,7,8,9]\n",
    "print(x+y)\n",
    "print(x*2+y)"
   ]
  },
  {
   "cell_type": "code",
   "execution_count": 20,
   "metadata": {
    "colab": {
     "base_uri": "https://localhost:8080/",
     "height": 208
    },
    "colab_type": "code",
    "executionInfo": {
     "elapsed": 1170,
     "status": "ok",
     "timestamp": 1568772691573,
     "user": {
      "displayName": "ML Lo",
      "photoUrl": "",
      "userId": "11511065297651515564"
     },
     "user_tz": -480
    },
    "id": "COZF1t5Kyp0N",
    "outputId": "612c7377-8b5b-4a78-f17a-9fb6b41f4b26"
   },
   "outputs": [
    {
     "name": "stdout",
     "output_type": "stream",
     "text": [
      "[1, 2, 3, 10, 10, 10, 10, 10, 10, 10, 10, 10]\n",
      "[1, 2, 3, 10, 10, 10, 10, 10, 10, 10, 10, 10, 10]\n",
      "How many 3 are there in x?  1\n",
      "How many 10 are there in x?  10\n",
      "How many 7 ar there in y?  3\n",
      "[1, 2, 3, 10, 10, 10, 10, 10, 10, 10, 10, 10, 10, 10, 10]\n",
      "Help on built-in function extend:\n",
      "\n",
      "extend(...) method of builtins.list instance\n",
      "    L.extend(iterable) -> None -- extend list by appending elements from the iterable\n",
      "\n"
     ]
    }
   ],
   "source": [
    "# append(), count()\n",
    "x.append(10)\n",
    "print(x)\n",
    "\n",
    "x.append(10)\n",
    "print(x)\n",
    "print(\"How many 3 are there in x? \", x.count(3))\n",
    "print(\"How many 10 are there in x? \", x.count(10))\n",
    "print(\"How many 7 ar there in y? \", y.count(7))\n",
    "\n",
    "# combine two lists\n",
    "x.extend([10, 10])\n",
    "print(x)\n",
    "\n",
    "dir([1,2])\n",
    "help([1,2].extend)"
   ]
  },
  {
   "cell_type": "code",
   "execution_count": 21,
   "metadata": {
    "colab": {
     "base_uri": "https://localhost:8080/",
     "height": 86
    },
    "colab_type": "code",
    "executionInfo": {
     "elapsed": 1685,
     "status": "ok",
     "timestamp": 1568772763878,
     "user": {
      "displayName": "ML Lo",
      "photoUrl": "",
      "userId": "11511065297651515564"
     },
     "user_tz": -480
    },
    "id": "qUZukC1ozpXE",
    "outputId": "d9bb5d02-38fc-404b-d304-f773decba6f5"
   },
   "outputs": [
    {
     "name": "stdout",
     "output_type": "stream",
     "text": [
      "[3, 7, 21, 4, 9, 36]\n",
      "After reversing x, it become:  [36, 9, 4, 21, 7, 3]\n",
      "After removing the element 3, it becomes:  [36, 9, 4, 21, 7]\n",
      "After sorting, x becomes:  [4, 7, 9, 21, 36]\n"
     ]
    }
   ],
   "source": [
    "#remove(), reverse(), sort()\n",
    "x = [3, 7, 21, 4, 9, 36]\n",
    "print(x)\n",
    "\n",
    "x.reverse()\n",
    "print(\"After reversing x, it become: \", x)\n",
    "\n",
    "x.remove(3)\n",
    "print(\"After removing the element 3, it becomes: \", x)\n",
    "\n",
    "x.sort()\n",
    "print(\"After sorting, x becomes: \", x)"
   ]
  },
  {
   "cell_type": "code",
   "execution_count": 22,
   "metadata": {
    "colab": {
     "base_uri": "https://localhost:8080/",
     "height": 34
    },
    "colab_type": "code",
    "executionInfo": {
     "elapsed": 864,
     "status": "ok",
     "timestamp": 1568772787975,
     "user": {
      "displayName": "ML Lo",
      "photoUrl": "",
      "userId": "11511065297651515564"
     },
     "user_tz": -480
    },
    "id": "eb7fabznBtQu",
    "outputId": "2ca26a31-4e00-4d66-dc73-a6c799d0a55b"
   },
   "outputs": [
    {
     "name": "stdout",
     "output_type": "stream",
     "text": [
      "After remove(3) once, y is:  [1, 2, 3, 3, 6]\n"
     ]
    }
   ],
   "source": [
    "# How many elements are removed?\n",
    "y = [1, 2, 3, 3, 3, 6]\n",
    "y.remove(3)\n",
    "print(\"After remove(3) once, y is: \", y)"
   ]
  },
  {
   "cell_type": "code",
   "execution_count": 23,
   "metadata": {
    "colab": {
     "base_uri": "https://localhost:8080/",
     "height": 34
    },
    "colab_type": "code",
    "executionInfo": {
     "elapsed": 1114,
     "status": "ok",
     "timestamp": 1568772865406,
     "user": {
      "displayName": "ML Lo",
      "photoUrl": "",
      "userId": "11511065297651515564"
     },
     "user_tz": -480
    },
    "id": "PkFv8mB50wt0",
    "outputId": "2cdf9daa-df78-4663-ecb8-4454b93f954a"
   },
   "outputs": [
    {
     "name": "stdout",
     "output_type": "stream",
     "text": [
      "The total is:  394097\n"
     ]
    }
   ],
   "source": [
    "#How to add up a list of numbers quickly?\n",
    "\n",
    "x = [37456, 2342, 19886, 236775, 97638]\n",
    "\n",
    "\n",
    "total = 0\n",
    "for i in x:\n",
    "  total += i\n",
    "\n",
    "print(\"The total is: \", total)\n",
    "  \n",
    " "
   ]
  },
  {
   "cell_type": "code",
   "execution_count": 24,
   "metadata": {
    "colab": {
     "base_uri": "https://localhost:8080/",
     "height": 34
    },
    "colab_type": "code",
    "executionInfo": {
     "elapsed": 1318,
     "status": "ok",
     "timestamp": 1568772888154,
     "user": {
      "displayName": "ML Lo",
      "photoUrl": "",
      "userId": "11511065297651515564"
     },
     "user_tz": -480
    },
    "id": "2QQlbWxnCKx5",
    "outputId": "363ca803-3e3e-44f1-9390-aea2b87f488a"
   },
   "outputs": [
    {
     "name": "stdout",
     "output_type": "stream",
     "text": [
      "394097\n"
     ]
    }
   ],
   "source": [
    "# even faster way\n",
    "total = sum(x)\n",
    "print(total)"
   ]
  },
  {
   "cell_type": "code",
   "execution_count": 6,
   "metadata": {},
   "outputs": [
    {
     "data": {
      "text/plain": [
       "['__call__',\n",
       " '__class__',\n",
       " '__delattr__',\n",
       " '__dir__',\n",
       " '__doc__',\n",
       " '__eq__',\n",
       " '__format__',\n",
       " '__ge__',\n",
       " '__getattribute__',\n",
       " '__gt__',\n",
       " '__hash__',\n",
       " '__init__',\n",
       " '__init_subclass__',\n",
       " '__le__',\n",
       " '__lt__',\n",
       " '__module__',\n",
       " '__name__',\n",
       " '__ne__',\n",
       " '__new__',\n",
       " '__qualname__',\n",
       " '__reduce__',\n",
       " '__reduce_ex__',\n",
       " '__repr__',\n",
       " '__self__',\n",
       " '__setattr__',\n",
       " '__sizeof__',\n",
       " '__str__',\n",
       " '__subclasshook__',\n",
       " '__text_signature__']"
      ]
     },
     "execution_count": 6,
     "metadata": {},
     "output_type": "execute_result"
    }
   ],
   "source": [
    "a = (1,2,3)\n",
    "dir(sum)"
   ]
  },
  {
   "cell_type": "markdown",
   "metadata": {
    "colab_type": "text",
    "id": "vD_o_JvbDiNE"
   },
   "source": [
    "#### Exercise\n",
    "\n",
    "* What is this sum() function?\n",
    "* Besides list, can sum() works on tupel?\n",
    "* Can sum() work on range object?\n",
    "* What's the result of sum(range(20))?\n",
    "\n",
    "Find out"
   ]
  },
  {
   "cell_type": "markdown",
   "metadata": {
    "colab_type": "text",
    "id": "NGG6Su9OVVq1"
   },
   "source": [
    "## Indexing and slicing\n",
    "\n",
    "Python supports poweful manipulation of tuples and lists\n",
    "\n",
    "### Indexing\n",
    "Tip: `list[x]` means:\n",
    "* The xth element\n",
    "* Counting starts from 0\n",
    "* Negative number means counting from the back\n",
    "* Negative number starts from -1\n",
    "\n"
   ]
  },
  {
   "cell_type": "code",
   "execution_count": 25,
   "metadata": {
    "colab": {
     "base_uri": "https://localhost:8080/",
     "height": 86
    },
    "colab_type": "code",
    "executionInfo": {
     "elapsed": 2432,
     "status": "ok",
     "timestamp": 1568773054679,
     "user": {
      "displayName": "ML Lo",
      "photoUrl": "",
      "userId": "11511065297651515564"
     },
     "user_tz": -480
    },
    "id": "ob0Ev8kvVpGM",
    "outputId": "86aef2c1-94b9-4fdf-e8df-9df947d91365"
   },
   "outputs": [
    {
     "name": "stdout",
     "output_type": "stream",
     "text": [
      "1\n",
      "2\n",
      "7\n",
      "6\n"
     ]
    }
   ],
   "source": [
    "# Indexing of tuple\n",
    "ta = (1, 2, 3, 4, 5, 6, 7)\n",
    "print(ta[0])\n",
    "print(ta[1])\n",
    "print(ta[-1])\n",
    "print(ta[-2])"
   ]
  },
  {
   "cell_type": "code",
   "execution_count": 0,
   "metadata": {
    "colab": {
     "base_uri": "https://localhost:8080/",
     "height": 86
    },
    "colab_type": "code",
    "executionInfo": {
     "elapsed": 742,
     "status": "ok",
     "timestamp": 1568500417458,
     "user": {
      "displayName": "ML Lo",
      "photoUrl": "",
      "userId": "11511065297651515564"
     },
     "user_tz": -480
    },
    "id": "g4HOuHTeWFjQ",
    "outputId": "0e0aac75-5519-4b71-a449-757eb7fe9028"
   },
   "outputs": [
    {
     "name": "stdout",
     "output_type": "stream",
     "text": [
      "1\n",
      "2\n",
      "7\n",
      "6\n"
     ]
    }
   ],
   "source": [
    "# Indexing of list is the same\n",
    "la = [1, 2, 3, 4, 5, 6, 7]\n",
    "print(la[0])\n",
    "print(la[1])\n",
    "print(la[-1])\n",
    "print(la[-2])"
   ]
  },
  {
   "cell_type": "markdown",
   "metadata": {
    "colab_type": "text",
    "id": "jJ8eaOstamFy"
   },
   "source": [
    "### Slicing: specify many elements at once\n",
    "Tip: `list[x:y]` means:\n",
    "* Starts from the xth, to the element in front of the yth (not including yth) \n",
    "* The counting starts from 0\n",
    "* Negative numbers means counting from the end.\n",
    "* Negative number starts from -1 \n",
    "* If x is left blank, it means starting from the beginning; if y is left blank, it means continuing till the end \n"
   ]
  },
  {
   "cell_type": "code",
   "execution_count": 26,
   "metadata": {
    "colab": {
     "base_uri": "https://localhost:8080/",
     "height": 138
    },
    "colab_type": "code",
    "executionInfo": {
     "elapsed": 1745,
     "status": "ok",
     "timestamp": 1568773143180,
     "user": {
      "displayName": "ML Lo",
      "photoUrl": "",
      "userId": "11511065297651515564"
     },
     "user_tz": -480
    },
    "id": "1tWd57_pW1eu",
    "outputId": "16a75b0f-9848-4b90-e4d1-078cdb55329f"
   },
   "outputs": [
    {
     "name": "stdout",
     "output_type": "stream",
     "text": [
      "[1, 2, 3]\n",
      "[1, 2, 3, 4, 5, 6]\n",
      "[4, 5, 6, 7]\n",
      "[6, 7]\n",
      "[3, 4]\n",
      "[1, 2, 3, 4, 5, 6, 7]\n",
      "[1, 2, 3, 4, 5, 6, 7]\n"
     ]
    }
   ],
   "source": [
    "la = [1, 2, 3, 4, 5, 6, 7]\n",
    "\n",
    "# from the beginning to the position before index 3, that is: element 0, 1, 2\n",
    "print(la[:3])\n",
    "\n",
    "print(la[:-1])\n",
    "\n",
    "# from element at index 3 to the end\n",
    "print(la[3:])\n",
    "\n",
    "# from \"2nd from the end\", to the end\n",
    "print(la[-2:])\n",
    "\n",
    "# Some other example\n",
    "print(la[2:-3])\n",
    "\n",
    "# This means everything\n",
    "print(la[:])\n",
    "print(la)"
   ]
  },
  {
   "cell_type": "markdown",
   "metadata": {
    "colab_type": "text",
    "id": "s10YUWzmbnK3"
   },
   "source": [
    "When there are two colon, the 3rd number means step size\n"
   ]
  },
  {
   "cell_type": "code",
   "execution_count": 0,
   "metadata": {
    "colab": {
     "base_uri": "https://localhost:8080/",
     "height": 69
    },
    "colab_type": "code",
    "executionInfo": {
     "elapsed": 700,
     "status": "ok",
     "timestamp": 1568500620153,
     "user": {
      "displayName": "ML Lo",
      "photoUrl": "",
      "userId": "11511065297651515564"
     },
     "user_tz": -480
    },
    "id": "-iQfWvoWbl42",
    "outputId": "befda6c6-58b6-4dc6-cae3-2d226cbe32a4"
   },
   "outputs": [
    {
     "name": "stdout",
     "output_type": "stream",
     "text": [
      "[1, 3, 5, 7]\n",
      "[2, 4, 6]\n",
      "[1, 3, 5]\n"
     ]
    }
   ],
   "source": [
    "la = [1, 2, 3, 4, 5, 6, 7]\n",
    "print(la[::2])\n",
    "print(la[1::2])\n",
    "print(la[:-1:2])\n"
   ]
  },
  {
   "cell_type": "markdown",
   "metadata": {
    "colab_type": "text",
    "id": "7Tq9Nchn7kWY"
   },
   "source": [
    "You can get the sizes of tuples and lists by len()"
   ]
  },
  {
   "cell_type": "code",
   "execution_count": 0,
   "metadata": {
    "colab": {
     "base_uri": "https://localhost:8080/",
     "height": 52
    },
    "colab_type": "code",
    "executionInfo": {
     "elapsed": 719,
     "status": "ok",
     "timestamp": 1568500922958,
     "user": {
      "displayName": "ML Lo",
      "photoUrl": "",
      "userId": "11511065297651515564"
     },
     "user_tz": -480
    },
    "id": "F_czlH_-7uTY",
    "outputId": "2efc9958-7e6a-4c28-9c63-84839c5c04ca"
   },
   "outputs": [
    {
     "name": "stdout",
     "output_type": "stream",
     "text": [
      "7\n",
      "7\n"
     ]
    }
   ],
   "source": [
    "tx = (2,3,5,7,11,13,17)\n",
    "lx = [2,3,5,7,11,13,17]\n",
    "print(len(tx))\n",
    "print(len(lx))"
   ]
  },
  {
   "cell_type": "markdown",
   "metadata": {
    "colab_type": "text",
    "id": "EFaXVW0awxMi"
   },
   "source": [
    "##Strings\n",
    "\n",
    "* Python strings are created by quoting a character string with ' or \"\n",
    "* Strings behave similarly as tuples and lists many ways, including indexing and slicing.\n"
   ]
  },
  {
   "cell_type": "markdown",
   "metadata": {
    "colab_type": "text",
    "id": "MCIqtj8v-lRT"
   },
   "source": [
    "###Operations similar to tuples and lists\n",
    "\n",
    "* len()\n",
    "* min(), max()\n",
    "* joining strings"
   ]
  },
  {
   "cell_type": "code",
   "execution_count": 27,
   "metadata": {
    "colab": {
     "base_uri": "https://localhost:8080/",
     "height": 51
    },
    "colab_type": "code",
    "executionInfo": {
     "elapsed": 1284,
     "status": "ok",
     "timestamp": 1568773500588,
     "user": {
      "displayName": "ML Lo",
      "photoUrl": "",
      "userId": "11511065297651515564"
     },
     "user_tz": -480
    },
    "id": "pcWP53fJx3X0",
    "outputId": "28975ea7-9c7b-4fd6-a72a-45726d084eb8"
   },
   "outputs": [
    {
     "name": "stdout",
     "output_type": "stream",
     "text": [
      "This is a string I created\n",
      "The length of the string is:  26\n"
     ]
    }
   ],
   "source": [
    "mystring = \"This is a string I created\"\n",
    "\n",
    "print(mystring)\n",
    "\n",
    "print(\"The length of the string is: \", len(mystring))"
   ]
  },
  {
   "cell_type": "code",
   "execution_count": 28,
   "metadata": {
    "colab": {
     "base_uri": "https://localhost:8080/",
     "height": 51
    },
    "colab_type": "code",
    "executionInfo": {
     "elapsed": 860,
     "status": "ok",
     "timestamp": 1568773526949,
     "user": {
      "displayName": "ML Lo",
      "photoUrl": "",
      "userId": "11511065297651515564"
     },
     "user_tz": -480
    },
    "id": "yFOUTenG30Pb",
    "outputId": "a6b3e867-d7fc-43fe-e1fa-2b711bb87ddf"
   },
   "outputs": [
    {
     "name": "stdout",
     "output_type": "stream",
     "text": [
      "max is:  t\n",
      "min is:   \n"
     ]
    }
   ],
   "source": [
    "mystring = \"This is a string I created\"\n",
    "print(\"max is: \", max(mystring))\n",
    "print(\"min is: \", min(mystring))"
   ]
  },
  {
   "cell_type": "markdown",
   "metadata": {
    "colab_type": "text",
    "id": "8YYP0lCD80iJ"
   },
   "source": [
    "Strings can be joined using `+`"
   ]
  },
  {
   "cell_type": "code",
   "execution_count": 29,
   "metadata": {
    "colab": {
     "base_uri": "https://localhost:8080/",
     "height": 34
    },
    "colab_type": "code",
    "executionInfo": {
     "elapsed": 1299,
     "status": "ok",
     "timestamp": 1568773557990,
     "user": {
      "displayName": "ML Lo",
      "photoUrl": "",
      "userId": "11511065297651515564"
     },
     "user_tz": -480
    },
    "id": "PvgjFWhw84ra",
    "outputId": "f7776125-e93c-4404-f59b-76b5619bd21c"
   },
   "outputs": [
    {
     "name": "stdout",
     "output_type": "stream",
     "text": [
      "This is great!\n"
     ]
    }
   ],
   "source": [
    "a = \"This is \"\n",
    "b = \"great!\"\n",
    "c = a + b\n",
    "print(c)"
   ]
  },
  {
   "cell_type": "markdown",
   "metadata": {
    "colab_type": "text",
    "id": "e0fN9Jsk9P9b"
   },
   "source": [
    "A tuple of strings can be joined using the join() method.\n",
    "A list of strings can be joined similarly."
   ]
  },
  {
   "cell_type": "code",
   "execution_count": 31,
   "metadata": {
    "colab": {
     "base_uri": "https://localhost:8080/",
     "height": 86
    },
    "colab_type": "code",
    "executionInfo": {
     "elapsed": 1017,
     "status": "ok",
     "timestamp": 1568773677540,
     "user": {
      "displayName": "ML Lo",
      "photoUrl": "",
      "userId": "11511065297651515564"
     },
     "user_tz": -480
    },
    "id": "CCIVxFNcyhtG",
    "outputId": "266aa4bc-54e0-4ec5-8962-affc5a21cef0"
   },
   "outputs": [
    {
     "name": "stdout",
     "output_type": "stream",
     "text": [
      "apple AND banana AND orange\n",
      "dog AND cat AND pig AND bird AND fish\n",
      "apple\tbanana\torange\n",
      "dog===cat===pig===bird===fish\n"
     ]
    }
   ],
   "source": [
    "#The join() function for combining strings\n",
    "\n",
    "fruittuple = ('apple', 'banana', 'orange')\n",
    "animallist = ['dog','cat','pig','bird','fish']\n",
    "\n",
    "middle = ' AND '\n",
    "print(middle.join(fruittuple))\n",
    "print(middle.join(animallist))\n",
    "\n",
    "middle = '\\t'\n",
    "print(middle.join(fruittuple))\n",
    "\n",
    "middle = '==='\n",
    "print(middle.join(animallist))"
   ]
  },
  {
   "cell_type": "markdown",
   "metadata": {
    "colab_type": "text",
    "id": "Rm0ufxMs97Z9"
   },
   "source": [
    "### Operations unique to strings\n",
    "\n",
    "Removing leadning and trailing characters"
   ]
  },
  {
   "cell_type": "code",
   "execution_count": 32,
   "metadata": {
    "colab": {
     "base_uri": "https://localhost:8080/",
     "height": 121
    },
    "colab_type": "code",
    "executionInfo": {
     "elapsed": 2237,
     "status": "ok",
     "timestamp": 1568773882362,
     "user": {
      "displayName": "ML Lo",
      "photoUrl": "",
      "userId": "11511065297651515564"
     },
     "user_tz": -480
    },
    "id": "aIXzrAC4ztbh",
    "outputId": "baa2a0d6-a754-470c-c9fb-08a9d4c43478"
   },
   "outputs": [
    {
     "name": "stdout",
     "output_type": "stream",
     "text": [
      "***creative===\n",
      "creative===\n",
      "***creative\n",
      "creative\n",
      "\n",
      "These function are very useful for data processing in the future!!!\n"
     ]
    }
   ],
   "source": [
    "# lstrip() function removes the leading characters\n",
    "mystring = \"***creative===\"\n",
    "print( mystring )\n",
    "\n",
    "newstring = mystring.lstrip(\"*\")\n",
    "print( newstring )\n",
    "\n",
    "# rstrip() function removes the trailing characters\n",
    "newstring = mystring.rstrip(\"=\")\n",
    "print( newstring )\n",
    "\n",
    "# remove both sides with one line\n",
    "\n",
    "newstring = mystring.lstrip(\"*\").rstrip(\"=\")\n",
    "print( newstring )\n",
    "\n",
    "print(\"\\nThese function are very useful for data processing in the future!!!\")"
   ]
  },
  {
   "cell_type": "code",
   "execution_count": 33,
   "metadata": {
    "colab": {
     "base_uri": "https://localhost:8080/",
     "height": 86
    },
    "colab_type": "code",
    "executionInfo": {
     "elapsed": 1610,
     "status": "ok",
     "timestamp": 1568773989219,
     "user": {
      "displayName": "ML Lo",
      "photoUrl": "",
      "userId": "11511065297651515564"
     },
     "user_tz": -480
    },
    "id": "mQaAI9d3Az0R",
    "outputId": "1c21d7f0-cf85-45f0-833e-1149a66d0d42"
   },
   "outputs": [
    {
     "name": "stdout",
     "output_type": "stream",
     "text": [
      "===       This is another string      ===\n",
      "===This is another string===\n",
      "===******This is another string******===\n",
      "===This is another string===\n"
     ]
    }
   ],
   "source": [
    "mystring = '       This is another string      '\n",
    "mystring2 = '******This is another string******'\n",
    "a = '==='\n",
    "print(a + mystring + a)\n",
    "print(a + mystring.strip() + a)\n",
    "print(a + mystring2 + a)\n",
    "print(a + mystring2.strip('*') + a)"
   ]
  },
  {
   "cell_type": "code",
   "execution_count": 34,
   "metadata": {
    "colab": {
     "base_uri": "https://localhost:8080/",
     "height": 86
    },
    "colab_type": "code",
    "executionInfo": {
     "elapsed": 970,
     "status": "ok",
     "timestamp": 1568774020153,
     "user": {
      "displayName": "ML Lo",
      "photoUrl": "",
      "userId": "11511065297651515564"
     },
     "user_tz": -480
    },
    "id": "RNap7ncV2hFl",
    "outputId": "0d4b576f-c0bc-4204-8ad3-67a1caba3777"
   },
   "outputs": [
    {
     "name": "stdout",
     "output_type": "stream",
     "text": [
      "The original string is:\t\t\t This is a string I created\n",
      "Swap upper case and lower case:\t\t tHIS IS A STRING i CREATED\n",
      "Convert every character to lower case:\t this is a string i created\n",
      "Convert the whole string to upper case:\t THIS IS A STRING I CREATED\n"
     ]
    }
   ],
   "source": [
    "# Manipulating cases of string\n",
    "mystring = \"This is a string I created\"\n",
    "\n",
    "print(\"The original string is:\\t\\t\\t\", mystring)\n",
    "\n",
    "print(\"Swap upper case and lower case:\\t\\t\", mystring.swapcase())\n",
    "\n",
    "print(\"Convert every character to lower case:\\t\", mystring.lower())\n",
    "\n",
    "print(\"Convert the whole string to upper case:\\t\", mystring.upper())"
   ]
  },
  {
   "cell_type": "code",
   "execution_count": 35,
   "metadata": {
    "colab": {
     "base_uri": "https://localhost:8080/",
     "height": 260
    },
    "colab_type": "code",
    "executionInfo": {
     "elapsed": 872,
     "status": "ok",
     "timestamp": 1568774048433,
     "user": {
      "displayName": "ML Lo",
      "photoUrl": "",
      "userId": "11511065297651515564"
     },
     "user_tz": -480
    },
    "id": "NsaOmalr4f8G",
    "outputId": "97ee88ae-954d-416f-ba3f-1efd6ede5b8c"
   },
   "outputs": [
    {
     "name": "stdout",
     "output_type": "stream",
     "text": [
      "369\n",
      "0000000369\n",
      "All the numbers are -----------\n",
      "369\n",
      "2468\n",
      "156743\n",
      "45636098\n",
      "245\n",
      "All the numbers are -----------\n",
      "0000000369\n",
      "0000002468\n",
      "0000156743\n",
      "0045636098\n",
      "0000000245\n"
     ]
    }
   ],
   "source": [
    "# zfill() is useful in formatting numbers\n",
    "str = '369'\n",
    "print(str)\n",
    "print(str.zfill(10))\n",
    "\n",
    "strs = ['369','2468', '156743','45636098', '245']\n",
    "print(\"All the numbers are -----------\")\n",
    "for i in strs:\n",
    "  print(i)\n",
    "\n",
    "print(\"All the numbers are -----------\")\n",
    "for i in strs:\n",
    "  print(i.zfill(10))\n",
    "        \n",
    "\n"
   ]
  },
  {
   "cell_type": "code",
   "execution_count": 37,
   "metadata": {
    "colab": {
     "base_uri": "https://localhost:8080/",
     "height": 34
    },
    "colab_type": "code",
    "executionInfo": {
     "elapsed": 1275,
     "status": "ok",
     "timestamp": 1568774105523,
     "user": {
      "displayName": "ML Lo",
      "photoUrl": "",
      "userId": "11511065297651515564"
     },
     "user_tz": -480
    },
    "id": "bSk0ylgX7Abm",
    "outputId": "1e4857ee-2200-4fa1-f48b-c9363b4cbb5a"
   },
   "outputs": [
    {
     "name": "stdout",
     "output_type": "stream",
     "text": [
      "DDDCreativeDDD\n"
     ]
    }
   ],
   "source": [
    "# replace() function\n",
    "mystring = \"***Creative***\"\n",
    "newstring = mystring.replace('*', '-')\n",
    "print(newstring)"
   ]
  },
  {
   "cell_type": "code",
   "execution_count": 38,
   "metadata": {
    "colab": {
     "base_uri": "https://localhost:8080/",
     "height": 51
    },
    "colab_type": "code",
    "executionInfo": {
     "elapsed": 1510,
     "status": "ok",
     "timestamp": 1568774199944,
     "user": {
      "displayName": "ML Lo",
      "photoUrl": "",
      "userId": "11511065297651515564"
     },
     "user_tz": -480
    },
    "id": "JWCeX-eK7gKN",
    "outputId": "e13a86ae-c4db-41df-dee3-e876160a6495"
   },
   "outputs": [
    {
     "name": "stdout",
     "output_type": "stream",
     "text": [
      "['This', 'is', 'a', 'string', 'I', 'created']\n",
      "['111', '222', '333', '444', '555']\n"
     ]
    }
   ],
   "source": [
    "# split() splits a string.\n",
    "# This is very useful!\n",
    "\n",
    "mystring = \"This is a string I created\"\n",
    "after = mystring.split(' ')\n",
    "print(after)\n",
    "\n",
    "string2 = \"111,222,333,444,555\"\n",
    "after = string2.split(',')\n",
    "print(after)"
   ]
  },
  {
   "cell_type": "markdown",
   "metadata": {
    "colab_type": "text",
    "id": "SwtKcyb8C16z"
   },
   "source": [
    "## Set\n"
   ]
  },
  {
   "cell_type": "code",
   "execution_count": 39,
   "metadata": {
    "colab": {
     "base_uri": "https://localhost:8080/",
     "height": 121
    },
    "colab_type": "code",
    "executionInfo": {
     "elapsed": 845,
     "status": "ok",
     "timestamp": 1568774349580,
     "user": {
      "displayName": "ML Lo",
      "photoUrl": "",
      "userId": "11511065297651515564"
     },
     "user_tz": -480
    },
    "id": "4KNGsVVbIsYR",
    "outputId": "9e5ec168-ec2b-45f7-d5b2-4256bfd9716f"
   },
   "outputs": [
    {
     "name": "stdout",
     "output_type": "stream",
     "text": [
      "Intersection a&b:  {2, 3}\n",
      "Union a|b:  {1, 2, 3, 4}\n",
      "Difference a-b:  {1}\n",
      "{2, 3}\n",
      "{1, 2, 3, 4}\n",
      "{1}\n"
     ]
    }
   ],
   "source": [
    "a = {1, 2, 3}\n",
    "b = {2, 3, 4}\n",
    "c = {3, 4, 5}\n",
    "print(\"Intersection a&b: \", a&b)\n",
    "print(\"Union a|b: \", a|b)\n",
    "print(\"Difference a-b: \", a-b)\n",
    "\n",
    "print(a.intersection(b))\n",
    "print(a.union(b))\n",
    "print(a.difference(b))\n"
   ]
  },
  {
   "cell_type": "markdown",
   "metadata": {
    "colab_type": "text",
    "id": "ASo9OM8g1Z43"
   },
   "source": [
    "## Dictionary\n",
    "A dictionary in Python is a collection of (key, value) pairs"
   ]
  },
  {
   "cell_type": "code",
   "execution_count": 40,
   "metadata": {
    "colab": {
     "base_uri": "https://localhost:8080/",
     "height": 69
    },
    "colab_type": "code",
    "executionInfo": {
     "elapsed": 2791,
     "status": "ok",
     "timestamp": 1568774485775,
     "user": {
      "displayName": "ML Lo",
      "photoUrl": "",
      "userId": "11511065297651515564"
     },
     "user_tz": -480
    },
    "id": "TwYNeIif1pk2",
    "outputId": "5ab0e603-f649-4f14-a829-d0004c2b939f"
   },
   "outputs": [
    {
     "name": "stdout",
     "output_type": "stream",
     "text": [
      "The age of kate is:  5\n",
      "The age of Peter is: 69\n",
      "How many people are recorded in the Agelist:  5\n"
     ]
    }
   ],
   "source": [
    "#Dictionary indexing and length\n",
    "\n",
    "Agelist = {'John':36, 'Mary': 38, 'Peter':69, \"Kate\":5, \"Jane\":19}\n",
    "print(\"The age of kate is: \", Agelist['Kate'])\n",
    "print(\"The age of Peter is:\", Agelist[\"Peter\"])\n",
    "\n",
    "print(\"How many people are recorded in the Agelist: \", len(Agelist))"
   ]
  },
  {
   "cell_type": "code",
   "execution_count": 43,
   "metadata": {
    "colab": {
     "base_uri": "https://localhost:8080/",
     "height": 138
    },
    "colab_type": "code",
    "executionInfo": {
     "elapsed": 1219,
     "status": "ok",
     "timestamp": 1568774671563,
     "user": {
      "displayName": "ML Lo",
      "photoUrl": "",
      "userId": "11511065297651515564"
     },
     "user_tz": -480
    },
    "id": "qhfQlH2Y3Nxy",
    "outputId": "40be7230-48c5-4ae5-eca0-8b6c684ee493"
   },
   "outputs": [
    {
     "name": "stdout",
     "output_type": "stream",
     "text": [
      "dict_items([('John', 36), ('Mary', 38), ('Peter', 69), ('Kate', 5), ('Jane', 19)])\n",
      "<class 'dict_items'>\n",
      "('John', 36)\n",
      "('Mary', 38)\n",
      "('Peter', 69)\n",
      "('Kate', 5)\n",
      "('Jane', 19)\n"
     ]
    }
   ],
   "source": [
    "#items() turns a dictionary into a list\n",
    "print( Agelist.items())\n",
    "a = Agelist.items()\n",
    "print(type(a))\n",
    "\n",
    "for i in Agelist.items():\n",
    "  print (i)\n",
    "\n"
   ]
  },
  {
   "cell_type": "code",
   "execution_count": 44,
   "metadata": {
    "colab": {
     "base_uri": "https://localhost:8080/",
     "height": 138
    },
    "colab_type": "code",
    "executionInfo": {
     "elapsed": 1133,
     "status": "ok",
     "timestamp": 1568774694547,
     "user": {
      "displayName": "ML Lo",
      "photoUrl": "",
      "userId": "11511065297651515564"
     },
     "user_tz": -480
    },
    "id": "DAleCT0fLe5e",
    "outputId": "6b5418b9-b67a-4eec-f62c-fee71f20a9a6"
   },
   "outputs": [
    {
     "name": "stdout",
     "output_type": "stream",
     "text": [
      "dict_keys(['John', 'Mary', 'Peter', 'Kate', 'Jane'])\n",
      "<class 'dict_keys'>\n",
      "John\n",
      "Mary\n",
      "Peter\n",
      "Kate\n",
      "Jane\n"
     ]
    }
   ],
   "source": [
    "#keys() extract all the keys in a dictionary\n",
    "print( Agelist.keys())\n",
    "b = Agelist.keys()\n",
    "print(type(b))\n",
    "\n",
    "for i in b:\n",
    "  print(i)"
   ]
  },
  {
   "cell_type": "code",
   "execution_count": 45,
   "metadata": {
    "colab": {
     "base_uri": "https://localhost:8080/",
     "height": 138
    },
    "colab_type": "code",
    "executionInfo": {
     "elapsed": 906,
     "status": "ok",
     "timestamp": 1568774704900,
     "user": {
      "displayName": "ML Lo",
      "photoUrl": "",
      "userId": "11511065297651515564"
     },
     "user_tz": -480
    },
    "id": "5U4_sQOOLlF-",
    "outputId": "6e600765-8357-4b5c-aac7-ae6b0ff1fa03"
   },
   "outputs": [
    {
     "name": "stdout",
     "output_type": "stream",
     "text": [
      "dict_values([36, 38, 69, 5, 19])\n",
      "<class 'dict_values'>\n",
      "36\n",
      "38\n",
      "69\n",
      "5\n",
      "19\n"
     ]
    }
   ],
   "source": [
    "#keys() extract all values in a dictionary\n",
    "print( Agelist.values())\n",
    "c = Agelist.values()\n",
    "print(type(c))\n",
    "\n",
    "for i in Agelist.values():\n",
    "  print(i)"
   ]
  },
  {
   "cell_type": "code",
   "execution_count": 46,
   "metadata": {
    "colab": {
     "base_uri": "https://localhost:8080/",
     "height": 51
    },
    "colab_type": "code",
    "executionInfo": {
     "elapsed": 1027,
     "status": "ok",
     "timestamp": 1568774755651,
     "user": {
      "displayName": "ML Lo",
      "photoUrl": "",
      "userId": "11511065297651515564"
     },
     "user_tz": -480
    },
    "id": "qkfUWHusMPul",
    "outputId": "a0f401d9-abd9-45fd-d0c2-9f1146ddf13b"
   },
   "outputs": [
    {
     "name": "stdout",
     "output_type": "stream",
     "text": [
      "36\n",
      "30\n"
     ]
    }
   ],
   "source": [
    "# Update\n",
    "print(Agelist['John'])\n",
    "Agelist['John'] = 30\n",
    "print(Agelist['John'])"
   ]
  },
  {
   "cell_type": "code",
   "execution_count": 47,
   "metadata": {
    "colab": {
     "base_uri": "https://localhost:8080/",
     "height": 34
    },
    "colab_type": "code",
    "executionInfo": {
     "elapsed": 1217,
     "status": "ok",
     "timestamp": 1568774777374,
     "user": {
      "displayName": "ML Lo",
      "photoUrl": "",
      "userId": "11511065297651515564"
     },
     "user_tz": -480
    },
    "id": "409VTa4UMmEz",
    "outputId": "9b61b60e-c234-435b-f99a-efbc70f29f72"
   },
   "outputs": [
    {
     "name": "stdout",
     "output_type": "stream",
     "text": [
      "{'John': 30, 'Mary': 38, 'Peter': 69, 'Kate': 5, 'Jane': 19, 'Thor': 15000}\n"
     ]
    }
   ],
   "source": [
    "# add dictionary items\n",
    "Agelist['Thor'] = 15000\n",
    "print(Agelist)"
   ]
  },
  {
   "cell_type": "code",
   "execution_count": 48,
   "metadata": {
    "colab": {
     "base_uri": "https://localhost:8080/",
     "height": 34
    },
    "colab_type": "code",
    "executionInfo": {
     "elapsed": 830,
     "status": "ok",
     "timestamp": 1568774789937,
     "user": {
      "displayName": "ML Lo",
      "photoUrl": "",
      "userId": "11511065297651515564"
     },
     "user_tz": -480
    },
    "id": "wo13pBPfM7Un",
    "outputId": "d2b8f321-4601-40de-e28b-2770924b4950"
   },
   "outputs": [
    {
     "name": "stdout",
     "output_type": "stream",
     "text": [
      "{'John': 30, 'Mary': 38, 'Peter': 69, 'Kate': 5, 'Jane': 19}\n"
     ]
    }
   ],
   "source": [
    "# Remove item\n",
    "Agelist.pop('Thor')\n",
    "print(Agelist)"
   ]
  }
 ],
 "metadata": {
  "colab": {
   "collapsed_sections": [],
   "name": "PyBasics2_Tuple_list_string_dict.ipynb",
   "provenance": []
  },
  "kernelspec": {
   "display_name": "Python 3",
   "language": "python",
   "name": "python3"
  },
  "language_info": {
   "codemirror_mode": {
    "name": "ipython",
    "version": 3
   },
   "file_extension": ".py",
   "mimetype": "text/x-python",
   "name": "python",
   "nbconvert_exporter": "python",
   "pygments_lexer": "ipython3",
   "version": "3.7.3"
  }
 },
 "nbformat": 4,
 "nbformat_minor": 1
}
