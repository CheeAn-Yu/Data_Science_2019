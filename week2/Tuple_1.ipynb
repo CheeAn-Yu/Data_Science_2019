{
 "cells": [
  {
   "cell_type": "markdown",
   "metadata": {
    "colab_type": "text",
    "id": "cz2Y7RxLQu8j"
   },
   "source": [
    "## Revisiting Tuples\n",
    "\n",
    "Tuples are very useful and powerful in Python, but are also a source of confusion for beginners, especially for beginners with experience in other traditional languages.\n",
    "\n",
    "Three features of tuples that causes confusion:\n",
    "* element-wise assignment for tuples and lists\n",
    "  * called \"unpacking\"\n",
    "  * In fact for all 'iterables' (which we have't covered)\n",
    "* omission of parentheses\n",
    "* automatic conversion (cast) between tuples and lists"
   ]
  },
  {
   "cell_type": "code",
   "execution_count": 1,
   "metadata": {
    "colab": {
     "base_uri": "https://localhost:8080/",
     "height": 69
    },
    "colab_type": "code",
    "executionInfo": {
     "elapsed": 2866,
     "status": "ok",
     "timestamp": 1568775818004,
     "user": {
      "displayName": "ML Lo",
      "photoUrl": "",
      "userId": "11511065297651515564"
     },
     "user_tz": -480
    },
    "id": "mAM3aux1SQo1",
    "outputId": "093e47f3-cd18-4107-f6f1-3501f957d687"
   },
   "outputs": [
    {
     "name": "stdout",
     "output_type": "stream",
     "text": [
      "1\n",
      "2\n",
      "3\n"
     ]
    }
   ],
   "source": [
    "y = (1, 2, 3)\n",
    "(a, b, c) = y\n",
    "print(a)\n",
    "print(b)\n",
    "print(c)"
   ]
  },
  {
   "cell_type": "code",
   "execution_count": 2,
   "metadata": {
    "colab": {
     "base_uri": "https://localhost:8080/",
     "height": 51
    },
    "colab_type": "code",
    "executionInfo": {
     "elapsed": 1153,
     "status": "ok",
     "timestamp": 1568775831015,
     "user": {
      "displayName": "ML Lo",
      "photoUrl": "",
      "userId": "11511065297651515564"
     },
     "user_tz": -480
    },
    "id": "SzRzcaywSdX9",
    "outputId": "ccb92bd2-cfbb-4b2d-daf6-4485199001e2"
   },
   "outputs": [
    {
     "name": "stdout",
     "output_type": "stream",
     "text": [
      "5\n",
      "6\n"
     ]
    }
   ],
   "source": [
    "z = (1, 2, (3, 4, (5, 6)))\n",
    "(a, b, (c, d, (e, f))) = z\n",
    "print(e)\n",
    "print(f)"
   ]
  },
  {
   "cell_type": "code",
   "execution_count": 0,
   "metadata": {
    "colab": {
     "base_uri": "https://localhost:8080/",
     "height": 69
    },
    "colab_type": "code",
    "executionInfo": {
     "elapsed": 704,
     "status": "ok",
     "timestamp": 1568506876364,
     "user": {
      "displayName": "ML Lo",
      "photoUrl": "",
      "userId": "11511065297651515564"
     },
     "user_tz": -480
    },
    "id": "70EmpLrzSxm_",
    "outputId": "d2179603-c6b4-4d0b-be95-a1094b2c3af1"
   },
   "outputs": [
    {
     "name": "stdout",
     "output_type": "stream",
     "text": [
      "1\n",
      "2\n",
      "3\n"
     ]
    }
   ],
   "source": [
    "# You can also do this:\n",
    "(a, b, c) = (1, 2, 3)\n",
    "print(a)\n",
    "print(b)\n",
    "print(c)"
   ]
  },
  {
   "cell_type": "code",
   "execution_count": 3,
   "metadata": {
    "colab": {
     "base_uri": "https://localhost:8080/",
     "height": 69
    },
    "colab_type": "code",
    "executionInfo": {
     "elapsed": 1735,
     "status": "ok",
     "timestamp": 1568775862091,
     "user": {
      "displayName": "ML Lo",
      "photoUrl": "",
      "userId": "11511065297651515564"
     },
     "user_tz": -480
    },
    "id": "EgJV5vQ8TNy3",
    "outputId": "c19f39cd-a0fb-4733-ef90-c9f87cb0b0ac"
   },
   "outputs": [
    {
     "name": "stdout",
     "output_type": "stream",
     "text": [
      "1\n",
      "2\n",
      "3\n"
     ]
    }
   ],
   "source": [
    "[a, b, c] = [1, 2, 3]\n",
    "print(a)\n",
    "print(b)\n",
    "print(c)"
   ]
  },
  {
   "cell_type": "code",
   "execution_count": 4,
   "metadata": {
    "colab": {
     "base_uri": "https://localhost:8080/",
     "height": 69
    },
    "colab_type": "code",
    "executionInfo": {
     "elapsed": 830,
     "status": "ok",
     "timestamp": 1568775869837,
     "user": {
      "displayName": "ML Lo",
      "photoUrl": "",
      "userId": "11511065297651515564"
     },
     "user_tz": -480
    },
    "id": "kTjrjl2dS_pg",
    "outputId": "c088e9ee-6c18-4e33-a9e7-f1ed74f2feda"
   },
   "outputs": [
    {
     "name": "stdout",
     "output_type": "stream",
     "text": [
      "1\n",
      "2\n",
      "3\n"
     ]
    }
   ],
   "source": [
    "# Python automatically converts list to tuple whenever necessary (and vice versa)\n",
    "(a, b, c) = [1, 2, 3]\n",
    "print(a)\n",
    "print(b)\n",
    "print(c)"
   ]
  },
  {
   "cell_type": "code",
   "execution_count": 5,
   "metadata": {
    "colab": {
     "base_uri": "https://localhost:8080/",
     "height": 51
    },
    "colab_type": "code",
    "executionInfo": {
     "elapsed": 1206,
     "status": "ok",
     "timestamp": 1568775892739,
     "user": {
      "displayName": "ML Lo",
      "photoUrl": "",
      "userId": "11511065297651515564"
     },
     "user_tz": -480
    },
    "id": "JwmY8vcfUlBG",
    "outputId": "61a6cd64-b262-44aa-85f0-2e80d17cc7f1"
   },
   "outputs": [
    {
     "name": "stdout",
     "output_type": "stream",
     "text": [
      "type of x is: <class 'tuple'>\n",
      "x is: (1, 2, 3)\n"
     ]
    }
   ],
   "source": [
    "# The parentheses of tuples can be omitted\n",
    "x = 1, 2, 3\n",
    "print(\"type of x is:\", type(x))\n",
    "print(\"x is:\", x)"
   ]
  },
  {
   "cell_type": "code",
   "execution_count": 0,
   "metadata": {
    "colab": {
     "base_uri": "https://localhost:8080/",
     "height": 52
    },
    "colab_type": "code",
    "executionInfo": {
     "elapsed": 762,
     "status": "ok",
     "timestamp": 1568507471901,
     "user": {
      "displayName": "ML Lo",
      "photoUrl": "",
      "userId": "11511065297651515564"
     },
     "user_tz": -480
    },
    "id": "38UU7bY9U3S8",
    "outputId": "9fbb0d7e-3d30-48ce-d826-3f09e4f987a8"
   },
   "outputs": [
    {
     "name": "stdout",
     "output_type": "stream",
     "text": [
      "a is:  1\n",
      "f is:  7\n"
     ]
    }
   ],
   "source": [
    "# omission of parentheses works during unpacking as well\n",
    "# Often a source of confusion for beginners\n",
    "a, b, c = x\n",
    "\n",
    "d, e, f = 5, 6, 7\n",
    "\n",
    "print(\"a is:\", a)\n",
    "print(\"f is:\", f)\n"
   ]
  }
 ],
 "metadata": {
  "colab": {
   "name": "PyBasics2_TupleUnpacking.ipynb",
   "provenance": []
  },
  "kernelspec": {
   "display_name": "Python 3",
   "language": "python",
   "name": "python3"
  },
  "language_info": {
   "codemirror_mode": {
    "name": "ipython",
    "version": 3
   },
   "file_extension": ".py",
   "mimetype": "text/x-python",
   "name": "python",
   "nbconvert_exporter": "python",
   "pygments_lexer": "ipython3",
   "version": "3.7.3"
  }
 },
 "nbformat": 4,
 "nbformat_minor": 1
}
